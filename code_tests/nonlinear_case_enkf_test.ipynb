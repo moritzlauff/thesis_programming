{
 "cells": [
  {
   "cell_type": "code",
   "execution_count": 1,
   "metadata": {},
   "outputs": [],
   "source": [
    "import numpy as np\n",
    "import matplotlib.pyplot as plt"
   ]
  },
  {
   "cell_type": "code",
   "execution_count": 2,
   "metadata": {},
   "outputs": [],
   "source": [
    "np.random.seed(42)"
   ]
  },
  {
   "cell_type": "markdown",
   "metadata": {},
   "source": [
    "## Modell:\n",
    "$sin(x)=y$\n",
    "\n",
    "$x$ wird gesucht."
   ]
  },
  {
   "cell_type": "raw",
   "metadata": {},
   "source": [
    "x = np.random.randint(1, 6, size = (100, ))"
   ]
  },
  {
   "cell_type": "code",
   "execution_count": 3,
   "metadata": {},
   "outputs": [],
   "source": [
    "x = np.random.random(size = (100, ))"
   ]
  },
  {
   "cell_type": "code",
   "execution_count": 4,
   "metadata": {},
   "outputs": [],
   "source": [
    "y = np.sin(x)"
   ]
  },
  {
   "cell_type": "markdown",
   "metadata": {},
   "source": [
    "Verlustfunktion: quadratischer Fehler $\\frac{1}{n}\\Vert y - \\hat{y}\\Vert^2$"
   ]
  },
  {
   "cell_type": "code",
   "execution_count": 5,
   "metadata": {},
   "outputs": [],
   "source": [
    "from sklearn.metrics import mean_squared_error"
   ]
  },
  {
   "cell_type": "markdown",
   "metadata": {},
   "source": [
    "Ableitung der Verlustfunktion nach den predictions $\\hat{y}$ ist für ein $\\hat{y}_i$: \n",
    "\n",
    "$-\\frac{2}{n}(y_i-\\hat{y}_i)$"
   ]
  },
  {
   "cell_type": "code",
   "execution_count": 6,
   "metadata": {},
   "outputs": [],
   "source": [
    "def grad_loss(y_true, y_pred):\n",
    "    return (-2) * (y_true - y_pred)"
   ]
  },
  {
   "cell_type": "markdown",
   "metadata": {},
   "source": [
    "Loss, wenn der Mittelwert aller $y_i$ stets als prediction verwendet wird:"
   ]
  },
  {
   "cell_type": "code",
   "execution_count": 7,
   "metadata": {},
   "outputs": [
    {
     "data": {
      "text/plain": [
       "0.06540926448542572"
      ]
     },
     "execution_count": 7,
     "metadata": {},
     "output_type": "execute_result"
    }
   ],
   "source": [
    "mean_squared_error(y, np.ones(y.shape[0])*np.mean(y))"
   ]
  },
  {
   "cell_type": "markdown",
   "metadata": {},
   "source": [
    "## EnKF-Algorithmus, wie ich ihn auch sonst implementiert habe"
   ]
  },
  {
   "cell_type": "code",
   "execution_count": 8,
   "metadata": {},
   "outputs": [],
   "source": [
    "iterations = 100\n",
    "particles = 1000\n",
    "randomization = False"
   ]
  },
  {
   "cell_type": "code",
   "execution_count": 9,
   "metadata": {},
   "outputs": [],
   "source": [
    "h_0 = 2\n",
    "epsilon = 0.5"
   ]
  },
  {
   "cell_type": "code",
   "execution_count": 10,
   "metadata": {},
   "outputs": [],
   "source": [
    "# Dictionary, in das die Partikel (Vektoren, Schätzungen für x) geschrieben werden\n",
    "param_dict = {}\n",
    "# Dictionary, in das für alle Partikel die predictions für y geschrieben werden\n",
    "y_pred_dict = {}\n",
    "# Dictionary, in das für alle Partikel die Ableitungen der Verlustfunktion nach den predictions geschrieben werden\n",
    "jacobian_dict = {}\n",
    "# Dictionary, das für alle Partikel die Werte der Verlustfunktion enthält\n",
    "loss_dict = {}"
   ]
  },
  {
   "cell_type": "markdown",
   "metadata": {},
   "source": [
    "Initialisierung durch eine Normalverteilung und erste Auswertung:"
   ]
  },
  {
   "cell_type": "code",
   "execution_count": 11,
   "metadata": {},
   "outputs": [],
   "source": [
    "for i in range(particles):\n",
    "    param_dict[\"particle_{}\".format(i+1)] = np.random.normal(loc = 0, scale = 1, size = x.shape)\n",
    "    y_pred_dict[\"particle_{}\".format(i+1)] = np.sin(param_dict[\"particle_{}\".format(i+1)])\n",
    "    jacobian_dict[\"particle_{}\".format(i+1)] = grad_loss(y, y_pred_dict[\"particle_{}\".format(i+1)])\n",
    "    loss_dict[\"particle_{}\".format(i+1)] = mean_squared_error(y, y_pred_dict[\"particle_{}\".format(i+1)])"
   ]
  },
  {
   "cell_type": "markdown",
   "metadata": {},
   "source": [
    "Mittelwerte aller Parameter der Partikel für die endgültige Schätzung von x:"
   ]
  },
  {
   "cell_type": "code",
   "execution_count": 12,
   "metadata": {},
   "outputs": [],
   "source": [
    "param_mean = np.mean(list(param_dict.values()), axis = 0)"
   ]
  },
  {
   "cell_type": "markdown",
   "metadata": {},
   "source": [
    "Loss für die gemittelten Parameter fortlaufend notieren:"
   ]
  },
  {
   "cell_type": "code",
   "execution_count": 13,
   "metadata": {},
   "outputs": [],
   "source": [
    "loss_evolution = []\n",
    "loss_evolution.append(mean_squared_error(y, np.sin(param_mean)))"
   ]
  },
  {
   "cell_type": "code",
   "execution_count": 14,
   "metadata": {},
   "outputs": [],
   "source": [
    "# zum Testen der einzelnen Partikel\n",
    "loss_evolution_single_dict = {}\n",
    "for i in range(particles):\n",
    "    loss_evolution_single_dict[\"particle_{}\".format(i+1)] = [mean_squared_error(y, np.sin(param_dict[\"particle_{}\".format(i+1)]))]"
   ]
  },
  {
   "cell_type": "markdown",
   "metadata": {},
   "source": [
    "### EnKF"
   ]
  },
  {
   "cell_type": "code",
   "execution_count": 15,
   "metadata": {},
   "outputs": [],
   "source": [
    "for iteration in range(iterations):\n",
    "    \n",
    "    # update the predictions, jacobian and loss for the new parameters\n",
    "    for i in range(particles):\n",
    "        y_pred_dict[\"particle_{}\".format(i+1)] = np.sin(param_dict[\"particle_{}\".format(i+1)])\n",
    "        jacobian_dict[\"particle_{}\".format(i+1)] = grad_loss(y, y_pred_dict[\"particle_{}\".format(i+1)])\n",
    "        loss_dict[\"particle_{}\".format(i+1)] = mean_squared_error(y, y_pred_dict[\"particle_{}\".format(i+1)])\n",
    "    \n",
    "    # compute the mean of the predictions\n",
    "    y_pred_mean = np.mean(list(y_pred_dict.values()), axis = 0)\n",
    "    \n",
    "    # compute the matrix D elementwise\n",
    "    d = np.zeros(shape = (particles, particles))\n",
    "    for k in range(particles):\n",
    "        y_pred_centered = y_pred_dict[\"particle_{}\".format(str(k+1))] - y_pred_mean\n",
    "        for j in range(particles):\n",
    "            d[k][j] = np.dot(y_pred_centered, jacobian_dict[\"particle_{}\".format(str(j+1))])\n",
    "    d = np.transpose(d)\n",
    "           \n",
    "    # compute the scalar h_t\n",
    "    h_t = h_0 / (np.sqrt(np.sum(d**2)) + epsilon)\n",
    "        \n",
    "    # matrix with particle parameters as row vectors\n",
    "    params_all_ptcls = np.array(list(param_dict.values()))\n",
    "    \n",
    "    # compute the matrix with the updates for each particle\n",
    "    params_all_ptcls = params_all_ptcls - h_t * np.dot(d, params_all_ptcls)\n",
    "    \n",
    "    # write the updates back into the dictionary\n",
    "    for i in range(particles):\n",
    "        param_dict[\"particle_{}\".format(str(i+1))] = params_all_ptcls[i]\n",
    "        if randomization:\n",
    "            # add randomization/ noise to each particle\n",
    "            stddev = 0.1\n",
    "            noise = np.random.normal(loc = 0.0,\n",
    "                                     scale = stddev,\n",
    "                                     size = param_dict[\"particle_{}\".format(str(i+1))].shape)\n",
    "            new_param = param_dict[\"particle_{}\".format(str(i+1))] + noise\n",
    "            param_dict[\"particle_{}\".format(str(i+1))] = new_param\n",
    "    if randomization:\n",
    "        # randomize particles around their mean\n",
    "        param_dict_mean = list(np.mean(list(param_dict.values()), axis = 0))\n",
    "        for i in range(particles):\n",
    "            stddev = 0.1\n",
    "            noise = np.random.normal(loc = 0.0,\n",
    "                                     scale = stddev,\n",
    "                                     size = param_dict[\"particle_{}\".format(str(i+1))].shape)\n",
    "            new_params = param_dict_mean + noise\n",
    "            param_dict[\"particle_{}\".format(str(i+1))] = new_params\n",
    "    \n",
    "    # compute loss for the parameter means\n",
    "    param_mean = np.mean(params_all_ptcls, axis = 0)\n",
    "    loss_evolution.append(mean_squared_error(y, np.sin(param_mean)))\n",
    "    \n",
    "    # zum Testen der einzelnen Partikel\n",
    "    for i in range(particles):\n",
    "        loss_evolution_single_dict[\"particle_{}\".format(i+1)].append(mean_squared_error(y, np.sin(param_dict[\"particle_{}\".format(i+1)])))"
   ]
  },
  {
   "cell_type": "code",
   "execution_count": 18,
   "metadata": {},
   "outputs": [
    {
     "data": {
      "text/plain": [
       "[0.0016104292013406918,\n",
       " 0.0016101553018160145,\n",
       " 0.0016098981028595648,\n",
       " 0.001609656924432916,\n",
       " 0.0016094311131329754,\n",
       " 0.0016092200409188765,\n",
       " 0.0016090231039271347,\n",
       " 0.0016088397213659769,\n",
       " 0.0016086693344795643,\n",
       " 0.001608511405576037]"
      ]
     },
     "execution_count": 18,
     "metadata": {},
     "output_type": "execute_result"
    }
   ],
   "source": [
    "loss_evolution[-10:]"
   ]
  },
  {
   "cell_type": "code",
   "execution_count": 16,
   "metadata": {},
   "outputs": [
    {
     "data": {
      "image/png": "[encoded data removed]",
      "text/plain": [
       "<Figure size 432x288 with 1 Axes>"
      ]
     },
     "metadata": {
      "needs_background": "light"
     },
     "output_type": "display_data"
    }
   ],
   "source": [
    "plt.plot(np.arange(len(loss_evolution))+1, loss_evolution)\n",
    "plt.grid()\n",
    "plt.xlabel(\"Iteration\")\n",
    "plt.ylabel(\"Loss\")\n",
    "plt.title(\"Loss für die Parameter aus den gemittelten Partikeln\")\n",
    "plt.show()"
   ]
  },
  {
   "cell_type": "code",
   "execution_count": 17,
   "metadata": {},
   "outputs": [
    {
     "data": {
      "image/png": "[encoded data removed]",
      "text/plain": [
       "<Figure size 432x288 with 1 Axes>"
      ]
     },
     "metadata": {
      "needs_background": "light"
     },
     "output_type": "display_data"
    }
   ],
   "source": [
    "plt.plot(np.arange(len(loss_evolution_single_dict[\"particle_1\"]))+1, loss_evolution_single_dict[\"particle_1\"])\n",
    "plt.grid()\n",
    "plt.xlabel(\"Iteration\")\n",
    "plt.ylabel(\"Loss\")\n",
    "plt.title(\"Loss für ein Partikel\")\n",
    "plt.show()"
   ]
  },
  {
   "cell_type": "markdown",
   "metadata": {},
   "source": [
    "## EnKF wie für inverse Probleme"
   ]
  },
  {
   "cell_type": "markdown",
   "metadata": {},
   "source": [
    "Noise führt bei zu großer Zahl an Iterationen (z.B. 200) zu Error: ``SVD did not converge``. \n",
    "\n",
    "Für eine geringe Zahl an Epochen (z.B. 100) gibt es keinen Error, aber dann gibt es auch keine Verminderung beim Loss."
   ]
  },
  {
   "cell_type": "code",
   "execution_count": 28,
   "metadata": {},
   "outputs": [],
   "source": [
    "noise = False\n",
    "y = np.sin(x)\n",
    "stddev_noise = np.ones(shape = y.shape) * 0.1\n",
    "if noise:\n",
    "    noises = np.random.normal(loc = 0, scale = stddev_noise, size = y.shape)\n",
    "    y = y + noises\n",
    "    gamma = np.diag(stddev_noise**2)"
   ]
  },
  {
   "cell_type": "code",
   "execution_count": 29,
   "metadata": {},
   "outputs": [],
   "source": [
    "particles = 1000\n",
    "epochs = 300    "
   ]
  },
  {
   "cell_type": "code",
   "execution_count": 30,
   "metadata": {},
   "outputs": [],
   "source": [
    "# Dictionary, in das die Partikel (Vektoren, Schätzungen für x) geschrieben werden\n",
    "param_dict = {}\n",
    "# Dictionary, in das für alle Partikel die predictions für y geschrieben werden\n",
    "y_pred_dict = {}\n",
    "# Dictionary, das für alle Partikel die Werte der Verlustfunktion enthält\n",
    "loss_dict = {}"
   ]
  },
  {
   "cell_type": "code",
   "execution_count": 31,
   "metadata": {},
   "outputs": [],
   "source": [
    "for i in range(particles):\n",
    "    param_dict[\"particle_{}\".format(i+1)] = np.random.normal(loc = 0, scale = 1, size = x.shape)\n",
    "    y_pred_dict[\"particle_{}\".format(i+1)] = np.sin(param_dict[\"particle_{}\".format(i+1)])\n",
    "    loss_dict[\"particle_{}\".format(i+1)] = mean_squared_error(y, y_pred_dict[\"particle_{}\".format(i+1)])"
   ]
  },
  {
   "cell_type": "code",
   "execution_count": 32,
   "metadata": {},
   "outputs": [],
   "source": [
    "param_mean = np.mean(list(param_dict.values()), axis = 0)"
   ]
  },
  {
   "cell_type": "code",
   "execution_count": 33,
   "metadata": {},
   "outputs": [],
   "source": [
    "loss_evolution = []\n",
    "loss_evolution.append(mean_squared_error(y, np.sin(param_mean)))"
   ]
  },
  {
   "cell_type": "code",
   "execution_count": 34,
   "metadata": {},
   "outputs": [],
   "source": [
    "# zum Testen der einzelnen Partikel\n",
    "loss_evolution_single_dict = {}\n",
    "for i in range(particles):\n",
    "    loss_evolution_single_dict[\"particle_{}\".format(i+1)] = [mean_squared_error(y, np.sin(param_dict[\"particle_{}\".format(i+1)]))]"
   ]
  },
  {
   "cell_type": "code",
   "execution_count": 35,
   "metadata": {},
   "outputs": [],
   "source": [
    "for epoch in range(epochs):\n",
    "\n",
    "    # update the predictions and the loss for the new parameters\n",
    "    for i in range(particles):\n",
    "        y_pred_dict[\"particle_{}\".format(i+1)] = np.sin(param_dict[\"particle_{}\".format(i+1)])\n",
    "        loss_dict[\"particle_{}\".format(i+1)] = mean_squared_error(y, y_pred_dict[\"particle_{}\".format(i+1)])\n",
    "\n",
    "    # compute the mean of the predictions\n",
    "    y_pred_mean = np.mean(list(y_pred_dict.values()), axis = 0)\n",
    "\n",
    "    # compute the matrices C\n",
    "    param_diff_dict = {}\n",
    "    pred_diff_param_dict = {}\n",
    "    pred_diff_w_dict = {}\n",
    "    c_param_w_dict = {}\n",
    "    c_w_w_dict = {}\n",
    "\n",
    "    for i in range(particles):\n",
    "        param_diff_dict[\"particle_{}\".format(str(i+1))] = param_dict[\"particle_{}\".format(str(i+1))] - param_mean\n",
    "        pred_diff_param_dict[\"particle_{}\".format(str(i+1))] = y_pred_dict[\"particle_{}\".format(str(i+1))] - y_pred_mean\n",
    "        pred_diff_w_dict[\"particle_{}\".format(str(i+1))] = y_pred_dict[\"particle_{}\".format(str(i+1))] - y_pred_mean\n",
    "    for i in range(particles):\n",
    "        param_diff_dict[\"particle_{}\".format(str(i+1))] = np.transpose(np.tile(param_diff_dict[\"particle_{}\".format(str(i+1))], (pred_diff_param_dict[\"particle_{}\".format(str(i+1))].shape[0], 1)))\n",
    "        pred_diff_param_dict[\"particle_{}\".format(str(i+1))] = np.tile(pred_diff_param_dict[\"particle_{}\".format(str(i+1))], (param_diff_dict[\"particle_{}\".format(str(i+1))].shape[0], 1))\n",
    "        pred_diff_w_dict[\"particle_{}\".format(str(i+1))] = np.tile(pred_diff_w_dict[\"particle_{}\".format(str(i+1))], (pred_diff_w_dict[\"particle_{}\".format(str(i+1))].shape[0], 1))\n",
    "        c_param_w_dict[\"particle_{}\".format(str(i+1))] = param_diff_dict[\"particle_{}\".format(str(i+1))] * pred_diff_param_dict[\"particle_{}\".format(str(i+1))]\n",
    "        c_w_w_dict[\"particle_{}\".format(str(i+1))] = pred_diff_w_dict[\"particle_{}\".format(str(i+1))] * pred_diff_w_dict[\"particle_{}\".format(str(i+1))]\n",
    "    c_param_w = np.mean(list(c_param_w_dict.values()), axis = 0)\n",
    "    c_w_w = np.mean(list(c_w_w_dict.values()), axis = 0)\n",
    "\n",
    "    # write the updates back into the dictionary\n",
    "    for i in range(particles):\n",
    "        if noise:\n",
    "            param_dict[\"particle_{}\".format(str(i+1))] = param_dict[\"particle_{}\".format(str(i+1))] + np.dot(np.dot(c_param_w, np.linalg.pinv(c_w_w + gamma)), y - y_pred_dict[\"particle_{}\".format(str(i+1))])\n",
    "        else:\n",
    "            param_dict[\"particle_{}\".format(str(i+1))] = param_dict[\"particle_{}\".format(str(i+1))] + np.dot(np.dot(c_param_w, np.linalg.pinv(c_w_w)), y - y_pred_dict[\"particle_{}\".format(str(i+1))])\n",
    "\n",
    "    # compute loss for the parameter means\n",
    "    param_mean = np.mean(list(param_dict.values()), axis = 0)\n",
    "    loss_evolution.append(mean_squared_error(y, np.sin(param_mean)))\n",
    "\n",
    "    # zum Testen der einzelnen Partikel\n",
    "    for i in range(particles):\n",
    "        loss_evolution_single_dict[\"particle_{}\".format(i+1)].append(mean_squared_error(y, np.sin(param_dict[\"particle_{}\".format(i+1)])))"
   ]
  },
  {
   "cell_type": "code",
   "execution_count": 36,
   "metadata": {},
   "outputs": [
    {
     "data": {
      "image/png": "[encoded data removed]",
      "text/plain": [
       "<Figure size 432x288 with 1 Axes>"
      ]
     },
     "metadata": {
      "needs_background": "light"
     },
     "output_type": "display_data"
    }
   ],
   "source": [
    "plt.hlines(y = mean_squared_error(y, np.ones(y.shape[0])*np.mean(y)), xmin = 1, xmax = len(loss_evolution)+1, color = \"black\", label = \"error with mean(y)\")\n",
    "plt.plot(np.arange(len(loss_evolution))+1, loss_evolution)\n",
    "plt.grid()\n",
    "plt.legend()\n",
    "plt.xlabel(\"Iteration\")\n",
    "plt.ylabel(\"Loss\")\n",
    "plt.title(\"Loss für die Parameter aus den gemittelten Partikeln\")\n",
    "plt.show()"
   ]
  },
  {
   "cell_type": "code",
   "execution_count": 37,
   "metadata": {},
   "outputs": [
    {
     "data": {
      "image/png": "[encoded data removed]",
      "text/plain": [
       "<Figure size 432x288 with 1 Axes>"
      ]
     },
     "metadata": {
      "needs_background": "light"
     },
     "output_type": "display_data"
    }
   ],
   "source": [
    "# ohne den initialen Guess\n",
    "plt.hlines(y = mean_squared_error(y, np.ones(y.shape[0])*np.mean(y)), xmin = 2, xmax = len(loss_evolution)+1, color = \"black\", label = \"error with mean(y)\")\n",
    "plt.plot(np.arange(len(loss_evolution))[1:]+1, loss_evolution[1:])\n",
    "plt.grid()\n",
    "plt.legend()\n",
    "plt.xlabel(\"Iteration\")\n",
    "plt.ylabel(\"Loss\")\n",
    "plt.title(\"Loss für die Parameter aus den gemittelten Partikeln\")\n",
    "plt.show()"
   ]
  },
  {
   "cell_type": "code",
   "execution_count": 46,
   "metadata": {},
   "outputs": [
    {
     "data": {
      "image/png": "[encoded data removed]",
      "text/plain": [
       "<Figure size 432x288 with 1 Axes>"
      ]
     },
     "metadata": {
      "needs_background": "light"
     },
     "output_type": "display_data"
    }
   ],
   "source": [
    "# ohne den initialen Guess\n",
    "plt.hlines(y = mean_squared_error(y, np.ones(y.shape[0])*np.mean(y)), xmin = 2, xmax = len(loss_evolution)+1, color = \"black\", label = \"error with mean(y)\")\n",
    "plt.plot(np.arange(len(loss_evolution_single_dict[\"particle_1\"]))[1:]+1, loss_evolution_single_dict[\"particle_1\"][1:])\n",
    "plt.grid()\n",
    "plt.legend()\n",
    "plt.xlabel(\"Iteration\")\n",
    "plt.ylabel(\"Loss\")\n",
    "plt.title(\"Loss für ein Partikel\")\n",
    "plt.show()"
   ]
  },
  {
   "cell_type": "code",
   "execution_count": 39,
   "metadata": {},
   "outputs": [
    {
     "data": {
      "text/plain": [
       "array([0.42299286, 0.38689945, 0.30957278, 0.42801006, 0.53508905,\n",
       "       0.36466395, 0.35811176, 0.26076255, 0.45450001, 0.26292105,\n",
       "       0.31228087, 0.46030419, 0.31174041, 0.14483784, 0.24637745,\n",
       "       0.40637314, 0.19085063, 0.47249909, 0.54061395, 0.35133465,\n",
       "       0.39555695, 0.31147944, 0.55346433, 0.30919844, 0.40609136,\n",
       "       0.46185833, 0.32472139, 0.44993526, 0.46628212, 0.45449219,\n",
       "       0.38156699, 0.48364897, 0.54415902, 0.40303413, 0.4578182 ,\n",
       "       0.51614559, 0.47836186, 0.31260462, 0.27892888, 0.40335967,\n",
       "       0.36652942, 0.41222612, 0.36237348, 0.49522848, 0.33432547,\n",
       "       0.36285181, 0.35615857, 0.52981878, 0.44940429, 0.43631192,\n",
       "       0.40502482, 0.37354359, 0.32584817, 0.37370054, 0.51128693,\n",
       "       0.42546631, 0.39280318, 0.23194715, 0.38094162, 0.29174244,\n",
       "       0.42073256, 0.48177914, 0.46927714, 0.1349369 , 0.37861945,\n",
       "       0.31037479, 0.48026007, 0.4618792 , 0.47193714, 0.44489102,\n",
       "       0.33298865, 0.44155612, 0.39918405, 0.4345148 , 0.37847562,\n",
       "       0.3130013 , 0.37274516, 0.47220111, 0.37702548, 0.13214878,\n",
       "       0.40949392, 0.30850035, 0.35555434, 0.4813049 , 0.25961234,\n",
       "       0.2742877 , 0.28094615, 0.1768132 , 0.47448278, 0.53683699,\n",
       "       0.38577881, 0.46557027, 0.54192479, 0.23932232, 0.50901687,\n",
       "       0.27895849, 0.37551856, 0.20596801, 0.2848866 , 0.32055924])"
      ]
     },
     "execution_count": 39,
     "metadata": {},
     "output_type": "execute_result"
    }
   ],
   "source": [
    "np.sin(param_mean)"
   ]
  },
  {
   "cell_type": "code",
   "execution_count": 40,
   "metadata": {},
   "outputs": [
    {
     "data": {
      "text/plain": [
       "array([0.36584457, 0.8138308 , 0.66835414, 0.56353476, 0.15538645,\n",
       "       0.15536262, 0.05805096, 0.76185763, 0.56556238, 0.65037088,\n",
       "       0.02058304, 0.82483475, 0.73957765, 0.21074705, 0.18082476,\n",
       "       0.18237803, 0.2995703 , 0.50100222, 0.41863797, 0.28712982,\n",
       "       0.5743852 , 0.13904191, 0.28800666, 0.35822109, 0.44042319,\n",
       "       0.70694964, 0.19834961, 0.49186844, 0.55836576, 0.04643371,\n",
       "       0.57085338, 0.16969889, 0.06500572, 0.81276674, 0.82240864,\n",
       "       0.72318122, 0.29992475, 0.09751689, 0.63207887, 0.42607743,\n",
       "       0.12173553, 0.47518732, 0.03438174, 0.78908646, 0.25590135,\n",
       "       0.61510748, 0.3066877 , 0.49693917, 0.51987984, 0.18380347,\n",
       "       0.82465083, 0.69981096, 0.80726248, 0.78010107, 0.56290801,\n",
       "       0.79673567, 0.08837705, 0.19473068, 0.04521187, 0.31962181,\n",
       "       0.3789647 , 0.26803135, 0.73707876, 0.34923383, 0.27725364,\n",
       "       0.51644657, 0.14045824, 0.71888501, 0.07448161, 0.83431382,\n",
       "       0.69774503, 0.19741045, 0.00552209, 0.728042  , 0.64944729,\n",
       "       0.66612947, 0.69704667, 0.07397701, 0.3508379 , 0.11560996,\n",
       "       0.7598637 , 0.58371627, 0.32489247, 0.06351557, 0.30599399,\n",
       "       0.31948251, 0.66657612, 0.59523452, 0.7753144 , 0.45485993,\n",
       "       0.11930936, 0.65429106, 0.68949026, 0.53226788, 0.69682926,\n",
       "       0.47397147, 0.49924988, 0.41463441, 0.02541639, 0.10768223])"
      ]
     },
     "execution_count": 40,
     "metadata": {},
     "output_type": "execute_result"
    }
   ],
   "source": [
    "y"
   ]
  },
  {
   "cell_type": "code",
   "execution_count": 41,
   "metadata": {},
   "outputs": [
    {
     "name": "stdout",
     "output_type": "stream",
     "text": [
      "Error mit Mittelwert als prediction: 0.06540926448542572\n",
      "Final model error: 0.07106343583147953\n"
     ]
    }
   ],
   "source": [
    "print(\"Error mit Mittelwert als prediction: {}\".format(mean_squared_error(y, np.ones(y.shape[0])*np.mean(y))))\n",
    "print(\"Final model error: {}\".format(loss_evolution[-1]))"
   ]
  }
 ],
 "metadata": {
  "kernelspec": {
   "display_name": "master_thesis",
   "language": "python",
   "name": "master_thesis"
  },
  "language_info": {
   "codemirror_mode": {
    "name": "ipython",
    "version": 3
   },
   "file_extension": ".py",
   "mimetype": "text/x-python",
   "name": "python",
   "nbconvert_exporter": "python",
   "pygments_lexer": "ipython3",
   "version": "3.7.7"
  }
 },
 "nbformat": 4,
 "nbformat_minor": 4
}
