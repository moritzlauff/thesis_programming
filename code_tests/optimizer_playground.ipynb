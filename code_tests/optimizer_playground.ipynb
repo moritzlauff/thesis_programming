{
 "cells": [
  {
   "cell_type": "code",
   "execution_count": 1,
   "metadata": {},
   "outputs": [],
   "source": [
    "import warnings\n",
    "warnings.filterwarnings(\"ignore\")"
   ]
  },
  {
   "cell_type": "code",
   "execution_count": 2,
   "metadata": {},
   "outputs": [],
   "source": [
    "import sys\n",
    "sys.path.insert(1, \"../python/functions\")\n",
    "sys.path.insert(2, \"../python/architecture\")"
   ]
  },
  {
   "cell_type": "code",
   "execution_count": 3,
   "metadata": {},
   "outputs": [
    {
     "name": "stdout",
     "output_type": "stream",
     "text": [
      "WARNING:tensorflow:From ../python/architecture\\reproducible.py:14: The name tf.keras.backend.set_session is deprecated. Please use tf.compat.v1.keras.backend.set_session instead.\n",
      "\n"
     ]
    }
   ],
   "source": [
    "from data_prep_functions import mnist_prep\n",
    "from model_functions import *\n",
    "from plotting_functions import *\n",
    "import no_gpu\n",
    "import reproducible"
   ]
  },
  {
   "cell_type": "code",
   "execution_count": 4,
   "metadata": {
    "scrolled": false
   },
   "outputs": [],
   "source": [
    "import time"
   ]
  },
  {
   "cell_type": "code",
   "execution_count": 5,
   "metadata": {},
   "outputs": [],
   "source": [
    "X_train, X_val, y_train, y_val = mnist_prep()"
   ]
  },
  {
   "cell_type": "code",
   "execution_count": 6,
   "metadata": {},
   "outputs": [],
   "source": [
    "# use samller dataset for increased speed\n",
    "X_train_small = X_train[:1000, :]\n",
    "X_val_small = X_val[:500, :]\n",
    "y_train_small = y_train[:1000]\n",
    "y_val_small = y_val[:500]\n",
    "\n",
    "n_cols = X_train_small.shape[1]"
   ]
  },
  {
   "cell_type": "code",
   "execution_count": 146,
   "metadata": {},
   "outputs": [],
   "source": [
    "class SGD_test(Optimizer):\n",
    "  \"\"\"Stochastic gradient descent optimizer.\n",
    "\n",
    "  Includes support for momentum,\n",
    "  learning rate decay, and Nesterov momentum.\n",
    "\n",
    "  Arguments:\n",
    "      lr: float >= 0. Learning rate.\n",
    "      momentum: float >= 0. Parameter that accelerates SGD in the relevant\n",
    "        direction and dampens oscillations.\n",
    "      decay: float >= 0. Learning rate decay over each update.\n",
    "      nesterov: boolean. Whether to apply Nesterov momentum.\n",
    "  \"\"\"\n",
    "\n",
    "  def __init__(self, lr=0.01, momentum=0., decay=0., nesterov=False, **kwargs):\n",
    "    super(SGD_test, self).__init__(**kwargs) # für alle Optimizer gleich, SGD vom Namen der Klasse\n",
    "    with K.name_scope(self.__class__.__name__): # Prefix self.__class__.__name__\n",
    "      self.iterations = K.variable(0, dtype='int64', name='iterations')\n",
    "      self.lr = K.variable(lr, name='lr')\n",
    "      self.momentum = K.variable(momentum, name='momentum')\n",
    "      self.decay = K.variable(decay, name='decay')\n",
    "    self.initial_decay = decay\n",
    "    self.nesterov = nesterov # hier werden nur lauter Attribute definiert\n",
    "\n",
    "  def _create_all_weights(self, params): # Gewichte mit der richtigen Shape\n",
    "    shapes = [K.int_shape(p) for p in params]\n",
    "    moments = [K.zeros(shape) for shape in shapes]\n",
    "    self.weights = [self.iterations] + moments\n",
    "    return moments\n",
    "\n",
    "  def get_updates(self, loss, params):\n",
    "    grads = self.get_gradients(loss, params)\n",
    "    #print(grads[1][127])\n",
    "    self.updates = [state_ops.assign_add(self.iterations, 1)] # das immer\n",
    "    #print(self.iterations)\n",
    "    #print(self.updates)\n",
    "\n",
    "    lr = self.lr\n",
    "    if self.initial_decay > 0:\n",
    "      lr = lr * (  # pylint: disable=g-no-augmented-assignment\n",
    "          1. /\n",
    "          (1. +\n",
    "           self.decay * math_ops.cast(self.iterations, K.dtype(self.decay))))\n",
    "    # momentum\n",
    "    moments = self._create_all_weights(params)\n",
    "    #print(moments)\n",
    "    for p, g, m in zip(params, grads, moments):\n",
    "    \n",
    "      v = self.momentum * m - lr * g  # velocity    # Gradient Descent Updates\n",
    "      #print(v)  \n",
    "      self.updates.append(state_ops.assign(m, v))  # das immer\n",
    "\n",
    "      if self.nesterov:\n",
    "        new_p = p + self.momentum * v - lr * g\n",
    "      else:\n",
    "        new_p = p + v\n",
    "       \n",
    "      #print(new_p)\n",
    "      #print(p)\n",
    "      #print(self.iterations)\n",
    "      #print(self.updates)\n",
    "\n",
    "      # Apply constraints.\n",
    "      if getattr(p, 'constraint', None) is not None:\n",
    "        new_p = p.constraint(new_p)\n",
    "        \n",
    "      self.updates.append(state_ops.assign(p, new_p))    # das immer\n",
    "    return self.updates\n",
    "\n",
    "  def get_config(self):      # das immer auf diese Art\n",
    "    config = {\n",
    "        'lr': float(K.get_value(self.lr)),\n",
    "        'momentum': float(K.get_value(self.momentum)),\n",
    "        'decay': float(K.get_value(self.decay)),\n",
    "        'nesterov': self.nesterov\n",
    "    }\n",
    "    base_config = super(SGD_test, self).get_config()     # das immer\n",
    "    return dict(list(base_config.items()) + list(config.items()))  # das immer"
   ]
  },
  {
   "cell_type": "code",
   "execution_count": 147,
   "metadata": {},
   "outputs": [
    {
     "name": "stdout",
     "output_type": "stream",
     "text": [
      "Train on 1000 samples, validate on 500 samples\n",
      "Epoch 1/5\n",
      "1000/1000 [==============================] - 0s 169us/sample - loss: 2.1335 - accuracy: 0.2660 - val_loss: 1.8328 - val_accuracy: 0.4620\n",
      "Epoch 2/5\n",
      "1000/1000 [==============================] - 0s 169us/sample - loss: 1.4683 - accuracy: 0.6140 - val_loss: 1.2332 - val_accuracy: 0.6600\n",
      "Epoch 3/5\n",
      "1000/1000 [==============================] - 0s 232us/sample - loss: 0.8960 - accuracy: 0.7630 - val_loss: 0.8089 - val_accuracy: 0.7940\n",
      "Epoch 4/5\n",
      "1000/1000 [==============================] - 0s 216us/sample - loss: 0.5302 - accuracy: 0.8740 - val_loss: 0.6210 - val_accuracy: 0.8200\n",
      "Epoch 5/5\n",
      "1000/1000 [==============================] - 0s 169us/sample - loss: 0.3229 - accuracy: 0.9210 - val_loss: 0.5040 - val_accuracy: 0.8560\n",
      "Overall calculation took 1.1716406345367432 seconds.\n",
      "Model: \"sequential\"\n",
      "_________________________________________________________________\n",
      "Layer (type)                 Output Shape              Param #   \n",
      "=================================================================\n",
      "dense (Dense)                (None, 128)               100480    \n",
      "_________________________________________________________________\n",
      "dense_1 (Dense)              (None, 128)               16512     \n",
      "_________________________________________________________________\n",
      "dense_2 (Dense)              (None, 64)                8256      \n",
      "_________________________________________________________________\n",
      "dense_3 (Dense)              (None, 32)                2080      \n",
      "_________________________________________________________________\n",
      "dense_4 (Dense)              (None, 10)                330       \n",
      "=================================================================\n",
      "Total params: 127,658\n",
      "Trainable params: 127,658\n",
      "Non-trainable params: 0\n",
      "_________________________________________________________________\n"
     ]
    },
    {
     "data": {
      "image/png": "[encoded data removed]",
      "text/plain": [
       "<Figure size 432x288 with 1 Axes>"
      ]
     },
     "metadata": {
      "needs_background": "light"
     },
     "output_type": "display_data"
    }
   ],
   "source": [
    "model = nn_model_structure(layers = 5,\n",
    "                           neurons = [128, 128, 64, 32, 10],\n",
    "                           n_cols = X_train_small.shape[1])\n",
    "model = nn_model_compile(model,\n",
    "                        optimizer = SGD_test())\n",
    "start_time = time.time()\n",
    "model = nn_model_fit(model,\n",
    "                     X_train = X_train_small,\n",
    "                     y_train = y_train_small,\n",
    "                     X_val = X_val_small,\n",
    "                     y_val = y_val_small,\n",
    "                     batch_size = 10,\n",
    "                     epochs = 5)\n",
    "end_time = time.time()\n",
    "print(\"Overall calculation took {} seconds.\".format(end_time - start_time))\n",
    "model.summary()\n",
    "nn_plot_acc(model)\n",
    "# nn_save(model, \"../models/model_test_small.h5\")"
   ]
  },
  {
   "cell_type": "code",
   "execution_count": 125,
   "metadata": {},
   "outputs": [],
   "source": [
    "class SGD_EnKF(Optimizer):\n",
    "  \"\"\"Stochastic gradient descent optimizer.\n",
    "\n",
    "  Includes support for momentum,\n",
    "  learning rate decay, and Nesterov momentum.\n",
    "\n",
    "  Arguments:\n",
    "      lr: float >= 0. Learning rate.\n",
    "      momentum: float >= 0. Parameter that accelerates SGD in the relevant\n",
    "        direction and dampens oscillations.\n",
    "      decay: float >= 0. Learning rate decay over each update.\n",
    "      nesterov: boolean. Whether to apply Nesterov momentum.\n",
    "  \"\"\"\n",
    "\n",
    "  def __init__(self, h_0 = 2, **kwargs):\n",
    "    super(SGD_EnKF, self).__init__(**kwargs) # für alle Optimizer gleich, SGD vom Namen der Klasse\n",
    "    with K.name_scope(self.__class__.__name__): # Prefix self.__class__.__name__\n",
    "      self.iterations = K.variable(0, dtype='int64', name='iterations')\n",
    "      self.h_0 = K.variable(h_0, name = \"h_0\")  \n",
    "        \n",
    "  def _create_all_weights(self, params): # Gewichte mit der richtigen Shape\n",
    "    shapes = [K.int_shape(p) for p in params]\n",
    "    moments = [K.zeros(shape) for shape in shapes]\n",
    "    self.weights = [self.iterations] + moments\n",
    "    return moments\n",
    "\n",
    "  def get_updates(self, loss, params):\n",
    "    grads = self.get_gradients(loss, params)\n",
    "    self.updates = [state_ops.assign_add(self.iterations, 1)] # das immer\n",
    "\n",
    "    h_0 = self.h_0\n",
    "    \n",
    "    # momentum\n",
    "    moments = self._create_all_weights(params)\n",
    "    for p, g, m in zip(params, grads, moments):\n",
    "      v = m - h_0 * g  # velocity    # Gradient Descent Updates\n",
    "      self.updates.append(state_ops.assign(m, v))  # das immer\n",
    "        \n",
    "      new_p = p + v\n",
    "\n",
    "      # Apply constraints.\n",
    "      if getattr(p, 'constraint', None) is not None:\n",
    "        new_p = p.constraint(new_p)\n",
    "\n",
    "      self.updates.append(state_ops.assign(p, new_p))    # das immer\n",
    "    return self.updates\n",
    "\n",
    "  def get_config(self):      # das immer auf diese Art\n",
    "    config = {\n",
    "        \"h_0\": float(K.get_value(self.h_0)),\n",
    "    }\n",
    "    base_config = super(SGD_EnKF, self).get_config()     # das immer\n",
    "    return dict(list(base_config.items()) + list(config.items()))  # das immer"
   ]
  },
  {
   "cell_type": "code",
   "execution_count": 44,
   "metadata": {},
   "outputs": [
    {
     "name": "stdout",
     "output_type": "stream",
     "text": [
      "Train on 1000 samples, validate on 500 samples\n",
      "Epoch 1/5\n",
      "1000/1000 [==============================] - 1s 521us/sample - loss: nan - accuracy: 0.1130 - val_loss: nan - val_accuracy: 0.1120\n",
      "Epoch 2/5\n",
      "1000/1000 [==============================] - 0s 423us/sample - loss: nan - accuracy: 0.1110 - val_loss: nan - val_accuracy: 0.1120\n",
      "Epoch 3/5\n",
      "1000/1000 [==============================] - 0s 398us/sample - loss: nan - accuracy: 0.1110 - val_loss: nan - val_accuracy: 0.1120\n",
      "Epoch 4/5\n",
      "1000/1000 [==============================] - 0s 383us/sample - loss: nan - accuracy: 0.1110 - val_loss: nan - val_accuracy: 0.1120\n",
      "Epoch 5/5\n",
      "1000/1000 [==============================] - 0s 444us/sample - loss: nan - accuracy: 0.1110 - val_loss: nan - val_accuracy: 0.1120\n",
      "Overall calculation took 2.7660717964172363 seconds.\n",
      "Model: \"sequential\"\n",
      "_________________________________________________________________\n",
      "Layer (type)                 Output Shape              Param #   \n",
      "=================================================================\n",
      "dense (Dense)                (None, 128)               100480    \n",
      "_________________________________________________________________\n",
      "dense_1 (Dense)              (None, 128)               16512     \n",
      "_________________________________________________________________\n",
      "dense_2 (Dense)              (None, 64)                8256      \n",
      "_________________________________________________________________\n",
      "dense_3 (Dense)              (None, 32)                2080      \n",
      "_________________________________________________________________\n",
      "dense_4 (Dense)              (None, 10)                330       \n",
      "=================================================================\n",
      "Total params: 127,658\n",
      "Trainable params: 127,658\n",
      "Non-trainable params: 0\n",
      "_________________________________________________________________\n"
     ]
    },
    {
     "data": {
      "image/png": "[encoded data removed]",
      "text/plain": [
       "<Figure size 432x288 with 1 Axes>"
      ]
     },
     "metadata": {
      "needs_background": "light"
     },
     "output_type": "display_data"
    }
   ],
   "source": [
    "model = nn_model_structure(layers = 5,\n",
    "                           neurons = [128, 128, 64, 32, 10],\n",
    "                           n_cols = X_train_small.shape[1])\n",
    "model = nn_model_compile(model,\n",
    "                        optimizer = SGD_EnKF())\n",
    "start_time = time.time()\n",
    "model = nn_model_fit(model,\n",
    "                     X_train = X_train_small,\n",
    "                     y_train = y_train_small,\n",
    "                     X_val = X_val_small,\n",
    "                     y_val = y_val_small,\n",
    "                     batch_size = 10,\n",
    "                     epochs = 5)\n",
    "end_time = time.time()\n",
    "print(\"Overall calculation took {} seconds.\".format(end_time - start_time))\n",
    "model.summary()\n",
    "nn_plot_acc(model)\n",
    "# nn_save(model, \"../models/model_test_small.h5\")"
   ]
  },
  {
   "cell_type": "code",
   "execution_count": 45,
   "metadata": {},
   "outputs": [],
   "source": [
    "class COCOB(Optimizer):\n",
    "    \"\"\"Coin Betting Optimizer from the paper:\n",
    "        https://arxiv.org/pdf/1705.07795.pdf\n",
    "    \"\"\"\n",
    "    def __init__(self, alpha=100, **kwargs):\n",
    "        \"\"\"\n",
    "        Initialize COCOB Optimizer\n",
    "        Args:\n",
    "            alpha: Refer to paper.\n",
    "        \"\"\"\n",
    "        super(COCOB, self).__init__(**kwargs)\n",
    "        self._alpha = alpha\n",
    "        with K.name_scope(self.__class__.__name__):\n",
    "            self.iterations = K.variable(0, dtype='int64', name='iterations')\n",
    "            \n",
    "    def get_updates(self, params, loss, contraints=None):\n",
    "        \n",
    "        self.updates = [K.update_add(self.iterations, 1)]\n",
    "        grads = self.get_gradients(loss, params)\n",
    "        shapes = [K.int_shape(p) for p in params]\n",
    "        L = [K.variable(np.full(fill_value=1e-8, shape=shape)) for shape in shapes]\n",
    "        reward = [K.zeros(shape) for shape in shapes]\n",
    "        tilde_w = [K.zeros(shape) for shape in shapes]\n",
    "        gradients_sum = [K.zeros(shape) for shape in shapes]\n",
    "        gradients_norm_sum = [K.zeros(shape) for shape in shapes]\n",
    "        \n",
    "        for p, g, li, ri, twi, gsi, gns in zip(params, grads, L, reward,\n",
    "                                             tilde_w,gradients_sum,\n",
    "                                               gradients_norm_sum):\n",
    "            grad_sum_update = gsi + g\n",
    "            grad_norm_sum_update = gns + K.abs(g)\n",
    "            l_update = K.maximum(li, K.abs(g))\n",
    "            reward_update = K.maximum(ri - g * twi, 0)\n",
    "            new_w = - grad_sum_update / (l_update * (K.maximum(grad_norm_sum_update + l_update, self._alpha * l_update))) * (reward_update + l_update)\n",
    "            param_update = p - twi + new_w\n",
    "            tilde_w_update = new_w            \n",
    "            \n",
    "            self.updates.append(K.update(gsi, grad_sum_update))\n",
    "            self.updates.append(K.update(gns, grad_norm_sum_update))\n",
    "            self.updates.append(K.update(li, l_update))\n",
    "            self.updates.append(K.update(ri, reward_update))\n",
    "            self.updates.append(K.update(p, param_update))\n",
    "            self.updates.append(K.update(twi, tilde_w_update))\n",
    "            \n",
    "            return self.updates\n",
    "        \n",
    "    def get_config(self):\n",
    "\n",
    "        config = {'alpha': float(K.get_value(self._alpha)) }\n",
    "        base_config = super(COCOB, self).get_config()\n",
    "        return dict(list(base_config.items()) + list(config.items()))"
   ]
  },
  {
   "cell_type": "code",
   "execution_count": 46,
   "metadata": {},
   "outputs": [
    {
     "name": "stdout",
     "output_type": "stream",
     "text": [
      "Train on 1000 samples, validate on 500 samples\n",
      "Epoch 1/5\n",
      "1000/1000 [==============================] - 1s 569us/sample - loss: 1.4419 - accuracy: 0.5480 - val_loss: 1.0290 - val_accuracy: 0.7200\n",
      "Epoch 2/5\n",
      "1000/1000 [==============================] - 1s 584us/sample - loss: 0.6516 - accuracy: 0.8170 - val_loss: 0.7731 - val_accuracy: 0.8240\n",
      "Epoch 3/5\n",
      "1000/1000 [==============================] - 1s 516us/sample - loss: 0.3688 - accuracy: 0.9210 - val_loss: 0.6527 - val_accuracy: 0.8320\n",
      "Epoch 4/5\n",
      "1000/1000 [==============================] - 0s 467us/sample - loss: 0.2216 - accuracy: 0.9680 - val_loss: 0.6057 - val_accuracy: 0.8420\n",
      "Epoch 5/5\n",
      "1000/1000 [==============================] - 0s 481us/sample - loss: 0.1518 - accuracy: 0.9800 - val_loss: 0.5833 - val_accuracy: 0.8440\n",
      "Overall calculation took 3.528202533721924 seconds.\n",
      "Model: \"sequential\"\n",
      "_________________________________________________________________\n",
      "Layer (type)                 Output Shape              Param #   \n",
      "=================================================================\n",
      "dense (Dense)                (None, 128)               100480    \n",
      "_________________________________________________________________\n",
      "dense_1 (Dense)              (None, 128)               16512     \n",
      "_________________________________________________________________\n",
      "dense_2 (Dense)              (None, 64)                8256      \n",
      "_________________________________________________________________\n",
      "dense_3 (Dense)              (None, 32)                2080      \n",
      "_________________________________________________________________\n",
      "dense_4 (Dense)              (None, 10)                330       \n",
      "=================================================================\n",
      "Total params: 127,658\n",
      "Trainable params: 127,658\n",
      "Non-trainable params: 0\n",
      "_________________________________________________________________\n"
     ]
    },
    {
     "data": {
      "image/png": "[encoded data removed]",
      "text/plain": [
       "<Figure size 432x288 with 1 Axes>"
      ]
     },
     "metadata": {
      "needs_background": "light"
     },
     "output_type": "display_data"
    }
   ],
   "source": [
    "model = nn_model_structure(layers = 5,\n",
    "                           neurons = [128, 128, 64, 32, 10],\n",
    "                           n_cols = X_train_small.shape[1])\n",
    "model = nn_model_compile(model,\n",
    "                        optimizer = COCOB())\n",
    "start_time = time.time()\n",
    "model = nn_model_fit(model,\n",
    "                     X_train = X_train_small,\n",
    "                     y_train = y_train_small,\n",
    "                     X_val = X_val_small,\n",
    "                     y_val = y_val_small,\n",
    "                     batch_size = 10,\n",
    "                     epochs = 5)\n",
    "end_time = time.time()\n",
    "print(\"Overall calculation took {} seconds.\".format(end_time - start_time))\n",
    "model.summary()\n",
    "nn_plot_acc(model)\n",
    "# nn_save(model, \"../models/model_test_small.h5\")"
   ]
  }
 ],
 "metadata": {
  "kernelspec": {
   "display_name": "Python 3",
   "language": "python",
   "name": "python3"
  },
  "language_info": {
   "codemirror_mode": {
    "name": "ipython",
    "version": 3
   },
   "file_extension": ".py",
   "mimetype": "text/x-python",
   "name": "python",
   "nbconvert_exporter": "python",
   "pygments_lexer": "ipython3",
   "version": "3.7.6"
  }
 },
 "nbformat": 4,
 "nbformat_minor": 4
}
