{
 "cells": [
  {
   "cell_type": "code",
   "execution_count": 1,
   "metadata": {},
   "outputs": [],
   "source": [
    "import warnings\n",
    "warnings.filterwarnings(\"ignore\")"
   ]
  },
  {
   "cell_type": "code",
   "execution_count": 2,
   "metadata": {},
   "outputs": [],
   "source": [
    "import sys\n",
    "sys.path.insert(1, \"../python/functions\")\n",
    "sys.path.insert(2, \"../python/architecture\")"
   ]
  },
  {
   "cell_type": "code",
   "execution_count": 3,
   "metadata": {},
   "outputs": [
    {
     "name": "stdout",
     "output_type": "stream",
     "text": [
      "WARNING:tensorflow:From ../python/architecture\\reproducible.py:14: The name tf.keras.backend.set_session is deprecated. Please use tf.compat.v1.keras.backend.set_session instead.\n",
      "\n"
     ]
    }
   ],
   "source": [
    "from data_prep_functions import mnist_prep\n",
    "from model_functions import *\n",
    "from plotting_functions import *\n",
    "# from new_Adam import *\n",
    "import no_gpu\n",
    "import reproducible"
   ]
  },
  {
   "cell_type": "code",
   "execution_count": 4,
   "metadata": {
    "scrolled": false
   },
   "outputs": [],
   "source": [
    "import time"
   ]
  },
  {
   "cell_type": "code",
   "execution_count": 5,
   "metadata": {},
   "outputs": [],
   "source": [
    "X_train, X_val, y_train, y_val = mnist_prep()"
   ]
  },
  {
   "cell_type": "code",
   "execution_count": 6,
   "metadata": {},
   "outputs": [],
   "source": [
    "# use samller dataset for increased speed\n",
    "X_train_small = X_train[:1000, :]\n",
    "X_val_small = X_val[:500, :]\n",
    "y_train_small = y_train[:1000]\n",
    "y_val_small = y_val[:500]\n",
    "\n",
    "n_cols = X_train_small.shape[1]"
   ]
  },
  {
   "cell_type": "code",
   "execution_count": 7,
   "metadata": {},
   "outputs": [],
   "source": [
    "model = nn_model_structure(layers = 5,\n",
    "                           neurons = [128, 128, 64, 32, 10],\n",
    "                           n_cols = X_train_small.shape[1])\n",
    "model = nn_model_compile(model,\n",
    "                         optimizer = \"adam\")"
   ]
  },
  {
   "cell_type": "code",
   "execution_count": 8,
   "metadata": {},
   "outputs": [
    {
     "name": "stdout",
     "output_type": "stream",
     "text": [
      "Epoch 1/10\n",
      "10/10 [==============================] - 0s 23ms/step - loss: 2.1584 - accuracy: 0.2450 - val_loss: 1.9529 - val_accuracy: 0.4460\n",
      "Epoch 2/10\n",
      "10/10 [==============================] - 0s 5ms/step - loss: 1.5613 - accuracy: 0.5980 - val_loss: 1.4080 - val_accuracy: 0.6080\n",
      "Epoch 3/10\n",
      "10/10 [==============================] - 0s 5ms/step - loss: 0.9704 - accuracy: 0.7450 - val_loss: 0.9410 - val_accuracy: 0.7340\n",
      "Epoch 4/10\n",
      "10/10 [==============================] - 0s 5ms/step - loss: 0.5888 - accuracy: 0.8460 - val_loss: 0.7272 - val_accuracy: 0.7880\n",
      "Epoch 5/10\n",
      "10/10 [==============================] - 0s 6ms/step - loss: 0.4111 - accuracy: 0.8900 - val_loss: 0.6052 - val_accuracy: 0.8200\n",
      "Epoch 6/10\n",
      "10/10 [==============================] - 0s 5ms/step - loss: 0.2966 - accuracy: 0.9230 - val_loss: 0.5334 - val_accuracy: 0.8340\n",
      "Epoch 7/10\n",
      "10/10 [==============================] - 0s 6ms/step - loss: 0.2261 - accuracy: 0.9420 - val_loss: 0.5090 - val_accuracy: 0.8460\n",
      "Epoch 8/10\n",
      "10/10 [==============================] - 0s 5ms/step - loss: 0.1769 - accuracy: 0.9530 - val_loss: 0.4704 - val_accuracy: 0.8520\n",
      "Epoch 9/10\n",
      "10/10 [==============================] - 0s 5ms/step - loss: 0.1451 - accuracy: 0.9680 - val_loss: 0.4586 - val_accuracy: 0.8500\n",
      "Epoch 10/10\n",
      "10/10 [==============================] - 0s 6ms/step - loss: 0.1121 - accuracy: 0.9760 - val_loss: 0.4496 - val_accuracy: 0.8580\n",
      "Overall calculation took 1.1343369483947754 seconds.\n",
      "Model: \"sequential\"\n",
      "_________________________________________________________________\n",
      "Layer (type)                 Output Shape              Param #   \n",
      "=================================================================\n",
      "dense (Dense)                (None, 128)               100480    \n",
      "_________________________________________________________________\n",
      "dense_1 (Dense)              (None, 128)               16512     \n",
      "_________________________________________________________________\n",
      "dense_2 (Dense)              (None, 64)                8256      \n",
      "_________________________________________________________________\n",
      "dense_3 (Dense)              (None, 32)                2080      \n",
      "_________________________________________________________________\n",
      "dense_4 (Dense)              (None, 10)                330       \n",
      "=================================================================\n",
      "Total params: 127,658\n",
      "Trainable params: 127,658\n",
      "Non-trainable params: 0\n",
      "_________________________________________________________________\n"
     ]
    },
    {
     "data": {
      "image/png": "[encoded data removed]",
      "text/plain": [
       "<Figure size 432x288 with 1 Axes>"
      ]
     },
     "metadata": {
      "needs_background": "light"
     },
     "output_type": "display_data"
    }
   ],
   "source": [
    "start_time = time.time()\n",
    "model = nn_model_fit(model,\n",
    "                     X_train = X_train_small,\n",
    "                     y_train = y_train_small,\n",
    "                     X_val = X_val_small,\n",
    "                     y_val = y_val_small,\n",
    "                     batch_size = 100,\n",
    "                     epochs = 10)\n",
    "end_time = time.time()\n",
    "print(\"Overall calculation took {} seconds.\".format(end_time - start_time))\n",
    "model.summary()\n",
    "nn_plot_acc(model)\n",
    "# nn_save(model, \"../models/model_test_small.h5\")"
   ]
  },
  {
   "cell_type": "code",
   "execution_count": 9,
   "metadata": {},
   "outputs": [
    {
     "name": "stdout",
     "output_type": "stream",
     "text": [
      "16/16 [==============================] - 0s 977us/step - loss: 0.4496 - accuracy: 0.8580\n",
      "0.8579999804496765\n",
      "(784, 128)\n",
      "[array([[-0.9825663 , -1.0448595 , -0.9829941 , ..., -1.081005  ,\n",
      "        -1.039437  , -1.0173888 ],\n",
      "       [-1.059742  , -1.0050594 , -0.9819378 , ..., -1.0406951 ,\n",
      "        -0.95030135, -0.9664014 ],\n",
      "       [-1.0499504 , -0.93690425, -1.0077294 , ..., -1.0569363 ,\n",
      "        -0.9651943 , -1.0480372 ],\n",
      "       ...,\n",
      "       [-0.9385758 , -1.009917  , -0.9512942 , ..., -1.0546863 ,\n",
      "        -0.93100244, -0.9971716 ],\n",
      "       [-1.0451013 , -0.95852774, -1.0559828 , ..., -0.98283786,\n",
      "        -1.0297642 , -0.90140915],\n",
      "       [-1.0990843 , -0.99812406, -0.9116216 , ..., -0.9515942 ,\n",
      "        -0.9846809 , -0.9902688 ]], dtype=float32)]\n",
      "(784, 128)\n",
      "16/16 [==============================] - 0s 974us/step - loss: 2.3433 - accuracy: 0.1340\n",
      "0.1340000033378601\n",
      "16/16 [==============================] - 0s 1ms/step - loss: 0.4496 - accuracy: 0.8580\n",
      "0.8579999804496765\n"
     ]
    }
   ],
   "source": [
    "true_acc = model.evaluate(X_val_small, y_val_small)[1]\n",
    "print(true_acc)\n",
    "\n",
    "shape_0 = model.get_weights()[0].shape\n",
    "print(shape_0)\n",
    "\n",
    "old_first_weights = model.get_weights()[0]\n",
    "\n",
    "# first_weights = [np.random.normal(size = shape_0)]\n",
    "first_weights = [model.get_weights()[0]-1]\n",
    "print(first_weights)\n",
    "print(first_weights[0].shape)\n",
    "\n",
    "all_weights = first_weights + model.get_weights()[1:]\n",
    "# print(all_weights)\n",
    "\n",
    "model.set_weights(all_weights)\n",
    "\n",
    "fake_acc = model.evaluate(X_val_small, y_val_small)[1]\n",
    "print(fake_acc)\n",
    "\n",
    "old_weights = [old_first_weights] + model.get_weights()[1:]\n",
    "\n",
    "model.set_weights(old_weights)\n",
    "\n",
    "old_true_acc = model.evaluate(X_val_small, y_val_small)[1]\n",
    "print(old_true_acc)"
   ]
  },
  {
   "cell_type": "markdown",
   "metadata": {},
   "source": [
    "# EnKF"
   ]
  },
  {
   "cell_type": "code",
   "execution_count": null,
   "metadata": {},
   "outputs": [],
   "source": [
    "init_model = nn_model_structure(layers = layers,\n",
    "                                neurons = neurons,\n",
    "                                n_cols = n_cols)\n",
    "model = nn_model_compile(init_model,\n",
    "                         optimizer = \"sgd\")"
   ]
  },
  {
   "cell_type": "code",
   "execution_count": null,
   "metadata": {},
   "outputs": [],
   "source": [
    "for params in model.get_weights():\n",
    "    print(params.shape)"
   ]
  },
  {
   "cell_type": "code",
   "execution_count": null,
   "metadata": {},
   "outputs": [],
   "source": [
    "weights = model.get_weights()"
   ]
  },
  {
   "cell_type": "code",
   "execution_count": null,
   "metadata": {},
   "outputs": [],
   "source": [
    "np.append(np.array(weights[1].shape),0)"
   ]
  },
  {
   "cell_type": "code",
   "execution_count": null,
   "metadata": {},
   "outputs": [],
   "source": [
    "shapes = [np.array(params.shape) for params in weights]\n",
    "shape_elements = [np.prod(shape) for shape in shapes]"
   ]
  },
  {
   "cell_type": "code",
   "execution_count": null,
   "metadata": {},
   "outputs": [],
   "source": [
    "shapes"
   ]
  },
  {
   "cell_type": "code",
   "execution_count": null,
   "metadata": {},
   "outputs": [],
   "source": [
    "shape_elements"
   ]
  },
  {
   "cell_type": "code",
   "execution_count": null,
   "metadata": {},
   "outputs": [],
   "source": [
    "X_train_b1 = X_train[0:250] \n",
    "y_train_b1 = y_train[0:250] \n",
    "X_train_b2 = X_train[250:500] \n",
    "y_train_b2 = y_train[250:500]\n",
    "X_train_b3 = X_train[500:750] \n",
    "y_train_b3 = y_train[500:750] \n",
    "X_train_b4 = X_train[750:1000] \n",
    "y_train_b4 = y_train[750:1000]\n",
    "# batch_size * 0, ..., n/batch_size"
   ]
  },
  {
   "cell_type": "code",
   "execution_count": null,
   "metadata": {},
   "outputs": [],
   "source": [
    "len(X_train_b1)"
   ]
  },
  {
   "cell_type": "code",
   "execution_count": null,
   "metadata": {},
   "outputs": [],
   "source": [
    "y_pred = model.predict(X_train_b1)"
   ]
  },
  {
   "cell_type": "code",
   "execution_count": null,
   "metadata": {},
   "outputs": [],
   "source": [
    "y_pred"
   ]
  },
  {
   "cell_type": "code",
   "execution_count": null,
   "metadata": {},
   "outputs": [],
   "source": [
    "y_pred.shape"
   ]
  },
  {
   "cell_type": "code",
   "execution_count": null,
   "metadata": {},
   "outputs": [],
   "source": [
    "np.array(y_train_b1).shape"
   ]
  },
  {
   "cell_type": "code",
   "execution_count": null,
   "metadata": {},
   "outputs": [],
   "source": [
    "np.multiply(np.array([[1, 2],[3, 4]]),np.array([[5, 6],[7, 8]]))"
   ]
  },
  {
   "cell_type": "code",
   "execution_count": null,
   "metadata": {},
   "outputs": [],
   "source": [
    "np.log([[1, np.e],[np.e**2, 0]])"
   ]
  },
  {
   "cell_type": "code",
   "execution_count": null,
   "metadata": {},
   "outputs": [],
   "source": [
    "np.sum(np.multiply(np.array(y_train_b1), np.log(y_pred))) # Frobenius-Skalarprodukt"
   ]
  },
  {
   "cell_type": "code",
   "execution_count": null,
   "metadata": {},
   "outputs": [],
   "source": [
    "import tensorflow as tf\n",
    "\n",
    "loss_fct = tf.keras.losses.CategoricalCrossentropy(reduction = \"none\")\n",
    "\n",
    "y_train_b1_tf = tf.constant(y_train_b1)\n",
    "y_pred_tf = tf.Variable(y_pred)\n",
    "with tf.GradientTape() as tape:\n",
    "    loss_value = loss_fct(y_train_b1_tf, y_pred_tf)\n",
    "    \n",
    "jacobian_tf = tape.gradient(loss_value, y_pred_tf)"
   ]
  },
  {
   "cell_type": "code",
   "execution_count": null,
   "metadata": {},
   "outputs": [],
   "source": [
    "jacobian_tf.numpy()[0]"
   ]
  },
  {
   "cell_type": "markdown",
   "metadata": {},
   "source": [
    "#### Das stimmt aber nicht wirklich. In meiner Arbeit habe ich da analog zum Paper andere Werte!!!"
   ]
  },
  {
   "cell_type": "code",
   "execution_count": null,
   "metadata": {},
   "outputs": [],
   "source": [
    "np.array(y_train_b1)"
   ]
  },
  {
   "cell_type": "code",
   "execution_count": null,
   "metadata": {},
   "outputs": [],
   "source": [
    "(1/y_pred)[0]"
   ]
  },
  {
   "cell_type": "code",
   "execution_count": null,
   "metadata": {},
   "outputs": [],
   "source": [
    "for i in y_pred[0]:\n",
    "    print(1/i)"
   ]
  },
  {
   "cell_type": "code",
   "execution_count": null,
   "metadata": {},
   "outputs": [],
   "source": [
    "jacobian = (-1) * np.multiply(np.array(y_train_b1), np.array(1 / (y_pred + delta)))"
   ]
  },
  {
   "cell_type": "code",
   "execution_count": null,
   "metadata": {},
   "outputs": [],
   "source": [
    "jacobian[0]"
   ]
  },
  {
   "cell_type": "code",
   "execution_count": null,
   "metadata": {},
   "outputs": [],
   "source": [
    "jacobian.shape"
   ]
  },
  {
   "cell_type": "markdown",
   "metadata": {},
   "source": [
    "#### Das sieht schon eher nach der Jacobi-Matrix aus."
   ]
  },
  {
   "cell_type": "markdown",
   "metadata": {},
   "source": [
    "## Für mehrere Partikel"
   ]
  },
  {
   "cell_type": "code",
   "execution_count": null,
   "metadata": {},
   "outputs": [],
   "source": [
    "np.mean(list(y_pred_dict.values()), axis = 0) # shape is again (250, 10)"
   ]
  },
  {
   "cell_type": "code",
   "execution_count": null,
   "metadata": {},
   "outputs": [],
   "source": [
    "y_pred_mean = np.mean(list(y_pred_dict.values()), axis = 0)"
   ]
  },
  {
   "cell_type": "code",
   "execution_count": null,
   "metadata": {},
   "outputs": [],
   "source": [
    "k=j=1"
   ]
  },
  {
   "cell_type": "code",
   "execution_count": null,
   "metadata": {},
   "outputs": [],
   "source": [
    "y_pred_centered = y_pred_dict[\"model_{}\".format(str(k+1))] - y_pred_mean"
   ]
  },
  {
   "cell_type": "code",
   "execution_count": null,
   "metadata": {},
   "outputs": [],
   "source": [
    "y_pred_centered.shape"
   ]
  },
  {
   "cell_type": "code",
   "execution_count": null,
   "metadata": {},
   "outputs": [],
   "source": [
    "jacobian_dict[\"model_{}\".format(str(j+1))].shape"
   ]
  },
  {
   "cell_type": "code",
   "execution_count": null,
   "metadata": {},
   "outputs": [],
   "source": [
    "np.sum(np.multiply(y_pred_centered, jacobian_dict[\"model_{}\".format(str(j+1))]))"
   ]
  },
  {
   "cell_type": "code",
   "execution_count": null,
   "metadata": {},
   "outputs": [],
   "source": [
    "d = np.zeros(shape = (particles, particles))\n",
    "for k in range(particles):\n",
    "    y_pred_centered = y_pred_dict[\"model_{}\".format(str(k+1))] - y_pred_mean\n",
    "    for j in range(particles):\n",
    "        d[k][j] = np.sum(np.multiply(y_pred_centered, jacobian_dict[\"model_{}\".format(str(j+1))]))"
   ]
  },
  {
   "cell_type": "code",
   "execution_count": null,
   "metadata": {},
   "outputs": [],
   "source": [
    "d.shape"
   ]
  },
  {
   "cell_type": "code",
   "execution_count": null,
   "metadata": {},
   "outputs": [],
   "source": [
    "d"
   ]
  },
  {
   "cell_type": "code",
   "execution_count": null,
   "metadata": {},
   "outputs": [],
   "source": [
    "h_t = h_0 / (np.sqrt(np.sum(d**2)) + epsilon)"
   ]
  },
  {
   "cell_type": "code",
   "execution_count": null,
   "metadata": {},
   "outputs": [],
   "source": [
    "h_t"
   ]
  },
  {
   "cell_type": "code",
   "execution_count": null,
   "metadata": {},
   "outputs": [],
   "source": [
    "weights_dict[\"model_1\"]"
   ]
  },
  {
   "cell_type": "code",
   "execution_count": null,
   "metadata": {},
   "outputs": [],
   "source": [
    "for i, w_b in enumerate(weights_dict[\"model_1\"]):\n",
    "    weights_dict[\"model_1\"][i] = np.reshape(w_b, (1, -1))\n",
    "    print(i)\n",
    "    print(w_b)"
   ]
  },
  {
   "cell_type": "code",
   "execution_count": null,
   "metadata": {},
   "outputs": [],
   "source": [
    "for w_b in weights_dict[\"model_1\"]:\n",
    "    print(w_b.shape)"
   ]
  },
  {
   "cell_type": "code",
   "execution_count": null,
   "metadata": {},
   "outputs": [],
   "source": [
    "type(weights_dict[\"model_1\"])"
   ]
  },
  {
   "cell_type": "code",
   "execution_count": null,
   "metadata": {},
   "outputs": [],
   "source": [
    "weights_vector = np.concatenate(weights_dict[\"model_1\"], axis = 1)"
   ]
  },
  {
   "cell_type": "code",
   "execution_count": null,
   "metadata": {},
   "outputs": [],
   "source": [
    "weights_vector"
   ]
  },
  {
   "cell_type": "code",
   "execution_count": null,
   "metadata": {},
   "outputs": [],
   "source": [
    "weights_vector.shape"
   ]
  },
  {
   "cell_type": "code",
   "execution_count": null,
   "metadata": {},
   "outputs": [],
   "source": [
    "shape_elements"
   ]
  },
  {
   "cell_type": "code",
   "execution_count": null,
   "metadata": {},
   "outputs": [],
   "source": [
    "shapes"
   ]
  },
  {
   "cell_type": "code",
   "execution_count": null,
   "metadata": {},
   "outputs": [],
   "source": [
    "tuple(shapes[0])"
   ]
  },
  {
   "cell_type": "code",
   "execution_count": null,
   "metadata": {},
   "outputs": [],
   "source": [
    "for i in range(len(shape_elements)-1):\n",
    "    print(np.reshape(weights_vector[0][shape_elements[i]:shape_elements[i+1]], tuple(shapes[i])).shape)"
   ]
  },
  {
   "cell_type": "code",
   "execution_count": null,
   "metadata": {},
   "outputs": [],
   "source": [
    "i=0\n",
    "weights_vector[(shape_elements[i]):(shape_elements[i+1])].shape"
   ]
  },
  {
   "cell_type": "code",
   "execution_count": null,
   "metadata": {},
   "outputs": [],
   "source": [
    "shape_elements[1]"
   ]
  },
  {
   "cell_type": "code",
   "execution_count": null,
   "metadata": {},
   "outputs": [],
   "source": [
    "i=0\n",
    "start = shape_elements[i]\n",
    "end = shape_elements[i+1]\n",
    "\n",
    "weights_vector[start:end].shape"
   ]
  },
  {
   "cell_type": "code",
   "execution_count": null,
   "metadata": {},
   "outputs": [],
   "source": [
    "weights_vector[0]"
   ]
  },
  {
   "cell_type": "code",
   "execution_count": null,
   "metadata": {},
   "outputs": [],
   "source": [
    "for f in range(len(weights_dict[\"model_1\"])):\n",
    "    print(weights_dict[\"model_1\"][f].shape)"
   ]
  },
  {
   "cell_type": "code",
   "execution_count": null,
   "metadata": {},
   "outputs": [],
   "source": [
    "len(shape_elements)-1"
   ]
  },
  {
   "cell_type": "code",
   "execution_count": null,
   "metadata": {},
   "outputs": [],
   "source": [
    "l=0\n",
    "start = shape_elements[l]\n",
    "end = shape_elements[l+1]"
   ]
  },
  {
   "cell_type": "code",
   "execution_count": null,
   "metadata": {},
   "outputs": [],
   "source": [
    "start, end"
   ]
  },
  {
   "cell_type": "code",
   "execution_count": null,
   "metadata": {},
   "outputs": [],
   "source": [
    "i=0\n",
    "weights_vector_dict[\"model_{}\".format(str(i+1))][start:end].shape"
   ]
  },
  {
   "cell_type": "code",
   "execution_count": null,
   "metadata": {},
   "outputs": [],
   "source": [
    "len(weights_dict[\"model_{}\".format(str(i+1))])"
   ]
  },
  {
   "cell_type": "code",
   "execution_count": null,
   "metadata": {},
   "outputs": [],
   "source": [
    "np.array(list(weights_vector_dict.values())[0]).ravel()"
   ]
  },
  {
   "cell_type": "code",
   "execution_count": null,
   "metadata": {},
   "outputs": [],
   "source": [
    "np.array(list(weights_vector_dict.values())).shape"
   ]
  },
  {
   "cell_type": "code",
   "execution_count": null,
   "metadata": {},
   "outputs": [],
   "source": [
    "np.reshape(np.array([2,2]), (1, 2))"
   ]
  },
  {
   "cell_type": "code",
   "execution_count": null,
   "metadata": {},
   "outputs": [],
   "source": [
    "weights_all_ptcls = np.array(list(weights_vector_dict.values()))"
   ]
  },
  {
   "cell_type": "code",
   "execution_count": null,
   "metadata": {},
   "outputs": [],
   "source": [
    "weights_all_ptcls"
   ]
  },
  {
   "cell_type": "code",
   "execution_count": null,
   "metadata": {},
   "outputs": [],
   "source": [
    "np.reshape(weights_all_ptcls, (5, 127658)).shape"
   ]
  },
  {
   "cell_type": "code",
   "execution_count": null,
   "metadata": {},
   "outputs": [],
   "source": [
    "type(weights_vector_dict[\"model_1\"])"
   ]
  },
  {
   "cell_type": "code",
   "execution_count": null,
   "metadata": {},
   "outputs": [],
   "source": [
    "np.array([np.array([1,2]),np.array([3,4])])"
   ]
  },
  {
   "cell_type": "code",
   "execution_count": null,
   "metadata": {},
   "outputs": [],
   "source": [
    "d[0:2,0:2]"
   ]
  },
  {
   "cell_type": "code",
   "execution_count": null,
   "metadata": {},
   "outputs": [],
   "source": [
    "np.matmul(d[:2,:2], np.array([np.array([1,2]),np.array([3,4])])) # richtige Matrixmultiplikation"
   ]
  },
  {
   "cell_type": "code",
   "execution_count": null,
   "metadata": {},
   "outputs": [],
   "source": [
    "weights_all_ptcls.shape"
   ]
  },
  {
   "cell_type": "markdown",
   "metadata": {},
   "source": [
    "### Batches bestimmen"
   ]
  },
  {
   "cell_type": "code",
   "execution_count": null,
   "metadata": {},
   "outputs": [],
   "source": [
    "batch_size = 99"
   ]
  },
  {
   "cell_type": "code",
   "execution_count": null,
   "metadata": {},
   "outputs": [],
   "source": [
    "n = len(X_train)\n",
    "num_batches = int(np.ceil(n / batch_size))\n",
    "batch_indices = np.cumsum([0] + list(np.ones(num_batches) * batch_size))\n",
    "batch_indices[-1] = n"
   ]
  },
  {
   "cell_type": "code",
   "execution_count": null,
   "metadata": {},
   "outputs": [],
   "source": [
    "batch_indices"
   ]
  },
  {
   "cell_type": "code",
   "execution_count": null,
   "metadata": {},
   "outputs": [],
   "source": [
    "X_batches = [X_train[int(batch_indices[i]):int(batch_indices[i+1])] for i in range(len(batch_indices)-1)]\n",
    "y_batches = [y_train[int(batch_indices[i]):int(batch_indices[i+1])] for i in range(len(batch_indices)-1)]"
   ]
  },
  {
   "cell_type": "code",
   "execution_count": null,
   "metadata": {},
   "outputs": [],
   "source": [
    "for batch in y_batches:\n",
    "    print(batch.shape)"
   ]
  },
  {
   "cell_type": "code",
   "execution_count": null,
   "metadata": {},
   "outputs": [],
   "source": [
    "len(X_batches)"
   ]
  },
  {
   "cell_type": "markdown",
   "metadata": {},
   "source": [
    "# Ab hier wird es spannend"
   ]
  },
  {
   "cell_type": "code",
   "execution_count": 10,
   "metadata": {},
   "outputs": [],
   "source": [
    "X_train = X_train_small\n",
    "X_test = X_val_small\n",
    "y_train = y_train_small\n",
    "y_test = y_val_small"
   ]
  },
  {
   "cell_type": "code",
   "execution_count": 11,
   "metadata": {},
   "outputs": [],
   "source": [
    "batch_size = 250\n",
    "epochs = 3\n",
    "particles = 5\n",
    "early_stopping = 0.001\n",
    "batch_normal = False"
   ]
  },
  {
   "cell_type": "code",
   "execution_count": 12,
   "metadata": {},
   "outputs": [],
   "source": [
    "layers = 5\n",
    "neurons = [128, 128, 64, 32, 10]\n",
    "n_cols = X_train.shape[1]"
   ]
  },
  {
   "cell_type": "code",
   "execution_count": 13,
   "metadata": {},
   "outputs": [],
   "source": [
    "delta = 0.005\n",
    "h_0 = 300\n",
    "epsilon = 0.005"
   ]
  },
  {
   "cell_type": "code",
   "execution_count": 14,
   "metadata": {},
   "outputs": [],
   "source": [
    "n = len(X_train)\n",
    "num_batches = int(np.ceil(n / batch_size))\n",
    "batch_indices = np.cumsum([0] + list(np.ones(num_batches) * batch_size))\n",
    "batch_indices[-1] = n"
   ]
  },
  {
   "cell_type": "code",
   "execution_count": 15,
   "metadata": {},
   "outputs": [],
   "source": [
    "X_batches = [X_train[int(batch_indices[i]):int(batch_indices[i+1])] for i in range(len(batch_indices)-1)]\n",
    "y_batches = [y_train[int(batch_indices[i]):int(batch_indices[i+1])] for i in range(len(batch_indices)-1)]"
   ]
  },
  {
   "cell_type": "code",
   "execution_count": null,
   "metadata": {},
   "outputs": [],
   "source": [
    "# start_time = time.time()"
   ]
  },
  {
   "cell_type": "code",
   "execution_count": 16,
   "metadata": {},
   "outputs": [],
   "source": [
    "model_dict = {}\n",
    "weights_dict = {}\n",
    "y_pred_dict = {}\n",
    "jacobian_dict = {}\n",
    "weights_vector_dict = {}\n",
    "\n",
    "init_model = nn_model_structure(layers = layers,\n",
    "                                neurons = neurons,\n",
    "                                n_cols = n_cols)\n",
    "init_model = nn_model_compile(init_model,\n",
    "                              optimizer = \"sgd\")\n",
    "weights = init_model.get_weights()\n",
    "shapes = [np.array(params.shape) for params in weights]\n",
    "shape_elements = np.cumsum([0] + [np.prod(shape) for shape in shapes])"
   ]
  },
  {
   "cell_type": "code",
   "execution_count": 17,
   "metadata": {},
   "outputs": [],
   "source": [
    "for i in range(particles):\n",
    "    # just an initial model with the correct structure regarding neurons, layers, activation functions, Glorot initialization\n",
    "    model = nn_model_structure(layers = layers,\n",
    "                               neurons = neurons,\n",
    "                               n_cols = n_cols)\n",
    "    model = nn_model_compile(model,\n",
    "                             optimizer = \"sgd\")\n",
    "    # for every particle write the model in a dictionary\n",
    "    model_dict[\"model_{}\".format(str(i+1))] = model\n",
    "    \n",
    "    # for every particles write the weights and biases in a dictionary\n",
    "    weights_dict[\"model_{}\".format(str(i+1))] = model_dict[\"model_{}\".format(str(i+1))]\\\n",
    "                                                    .get_weights()"
   ]
  },
  {
   "cell_type": "code",
   "execution_count": 18,
   "metadata": {},
   "outputs": [
    {
     "name": "stdout",
     "output_type": "stream",
     "text": [
      "16/16 [==============================] - 0s 1ms/step - loss: 2.3586 - accuracy: 0.0960\n",
      "0.09600000083446503\n",
      "16/16 [==============================] - 0s 974us/step - loss: 2.3362 - accuracy: 0.0900\n",
      "0.09000000357627869\n",
      "16/16 [==============================] - 0s 974us/step - loss: 2.3503 - accuracy: 0.1080\n",
      "0.1080000028014183\n",
      "16/16 [==============================] - 0s 0s/step - loss: 2.4043 - accuracy: 0.0880\n",
      "0.08799999952316284\n",
      "16/16 [==============================] - 0s 974us/step - loss: 2.3688 - accuracy: 0.0780\n",
      "0.07800000160932541\n"
     ]
    }
   ],
   "source": [
    "for i in range(particles):\n",
    "    print(model_dict[\"model_{}\".format(str(i+1))].evaluate(X_val_small, y_val_small)[1])"
   ]
  },
  {
   "cell_type": "code",
   "execution_count": 19,
   "metadata": {},
   "outputs": [],
   "source": [
    "# loop over all epochs\n",
    "for epoch in range(epochs):\n",
    "    # loop over all batches\n",
    "    for b in range(len(X_batches)):\n",
    "        for i in range(particles):\n",
    "            # for every particle write the predictions on the training batches in a dictionary\n",
    "            y_pred_dict[\"model_{}\".format(str(i+1))] = model_dict[\"model_{}\".format(str(i+1))]\\\n",
    "                                                            .predict(X_batches[b])\n",
    "            \n",
    "            # for every particle write the Jacobian in a dictionary\n",
    "            jacobian_dict[\"model_{}\".format(str(i+1))] = (-1) * np.multiply(np.array(y_batches[b]), \n",
    "                                                                            np.array(1 / (y_pred_dict[\"model_{}\".format(str(i+1))] + delta)))\n",
    "        \n",
    "        # compute the mean of the predictions\n",
    "        y_pred_mean = np.mean(list(y_pred_dict.values()), axis = 0)\n",
    "\n",
    "        # compute the matrix D elementwise\n",
    "        d = np.zeros(shape = (particles, particles))\n",
    "        for k in range(particles):\n",
    "            y_pred_centered = y_pred_dict[\"model_{}\".format(str(k+1))] - y_pred_mean\n",
    "            for j in range(particles):\n",
    "                d[k][j] = np.sum(np.multiply(y_pred_centered, jacobian_dict[\"model_{}\".format(str(j+1))]))\n",
    "\n",
    "        # compute the scalar h_t\n",
    "        h_t = h_0 / (np.sqrt(np.sum(d**2)) + epsilon)\n",
    "\n",
    "        # Reshape the weights and biases so that they are no longer matrices and vectores, but now one single vector\n",
    "        for i in range(particles):\n",
    "            for j, w_b in enumerate(weights_dict[\"model_{}\".format(str(i+1))]):\n",
    "                weights_dict[\"model_{}\".format(str(i+1))][j] = np.reshape(w_b, (1, -1))\n",
    "            weights_vector_dict[\"model_{}\".format(str(i+1))] = np.concatenate(weights_dict[\"model_{}\".format(str(i+1))], axis = 1).ravel()\n",
    "        \n",
    "        # matrix with particle parameters as row vectors\n",
    "        weights_all_ptcls = np.array(list(weights_vector_dict.values()))\n",
    "\n",
    "        # compute the matrix with the updates for each particle\n",
    "        weights_all_ptcls = weights_all_ptcls - h_t * np.matmul(d, weights_all_ptcls)\n",
    "\n",
    "        for i in range(particles):\n",
    "            # write the updates back into the dictionary\n",
    "            weights_vector_dict[\"model_{}\".format(str(i+1))] = weights_all_ptcls[i]\n",
    "            # reshape the updates, so that they are of the original matrx and vector shape\n",
    "            for l in range(len(shape_elements)-1):\n",
    "                start = shape_elements[l]\n",
    "                end = shape_elements[l+1]\n",
    "                weights_dict[\"model_{}\".format(str(i+1))][l] = np.reshape(weights_vector_dict[\"model_{}\".format(str(i+1))][start:end], tuple(shapes[l]))\n",
    "            # set new weights for model\n",
    "            model_dict[\"model_{}\".format(str(i+1))].set_weights(weights_dict[\"model_{}\".format(str(i+1))])"
   ]
  },
  {
   "cell_type": "code",
   "execution_count": 20,
   "metadata": {},
   "outputs": [
    {
     "name": "stdout",
     "output_type": "stream",
     "text": [
      "16/16 [==============================] - 0s 976us/step - loss: nan - accuracy: 0.0840\n",
      "0.08399999886751175\n",
      "16/16 [==============================] - 0s 407us/step - loss: nan - accuracy: 0.0840\n",
      "0.08399999886751175\n",
      "16/16 [==============================] - 0s 978us/step - loss: nan - accuracy: 0.0840\n",
      "0.08399999886751175\n",
      "16/16 [==============================] - 0s 1ms/step - loss: nan - accuracy: 0.0840\n",
      "0.08399999886751175\n",
      "16/16 [==============================] - 0s 975us/step - loss: nan - accuracy: 0.0840\n",
      "0.08399999886751175\n"
     ]
    }
   ],
   "source": [
    "for i in range(particles):\n",
    "    print(model_dict[\"model_{}\".format(str(i+1))].evaluate(X_val_small, y_val_small)[1])"
   ]
  },
  {
   "cell_type": "code",
   "execution_count": null,
   "metadata": {},
   "outputs": [],
   "source": [
    "# end_time = time.time()\n",
    "# print(\"Overall calculation took {} seconds.\".format(end_time - start_time))"
   ]
  }
 ],
 "metadata": {
  "kernelspec": {
   "display_name": "Python 3",
   "language": "python",
   "name": "python3"
  },
  "language_info": {
   "codemirror_mode": {
    "name": "ipython",
    "version": 3
   },
   "file_extension": ".py",
   "mimetype": "text/x-python",
   "name": "python",
   "nbconvert_exporter": "python",
   "pygments_lexer": "ipython3",
   "version": "3.7.6"
  }
 },
 "nbformat": 4,
 "nbformat_minor": 4
}
