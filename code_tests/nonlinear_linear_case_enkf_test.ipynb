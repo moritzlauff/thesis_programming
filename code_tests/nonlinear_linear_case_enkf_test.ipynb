{
 "cells": [
  {
   "cell_type": "code",
   "execution_count": 1,
   "metadata": {},
   "outputs": [],
   "source": [
    "import numpy as np\n",
    "import matplotlib.pyplot as plt"
   ]
  },
  {
   "cell_type": "code",
   "execution_count": 2,
   "metadata": {},
   "outputs": [],
   "source": [
    "np.random.seed(42)"
   ]
  },
  {
   "cell_type": "markdown",
   "metadata": {},
   "source": [
    "## Modell:\n",
    "$\\sin(Ax)=y$ mit $A$ $m\\times n$-Matrix, $m$, $n$ beliebig ($A$ also insbesondere nicht zwingend quadratisch)\n",
    "\n",
    "$x$ wird gesucht."
   ]
  },
  {
   "cell_type": "raw",
   "metadata": {},
   "source": [
    "A = np.random.randint(1, 11, size = (100, 100))\n",
    "x = np.random.randint(1, 6, size = (100, ))"
   ]
  },
  {
   "cell_type": "code",
   "execution_count": 3,
   "metadata": {},
   "outputs": [],
   "source": [
    "A = np.random.random(size = (100, 100))\n",
    "x = np.random.random(size = (100, ))"
   ]
  },
  {
   "cell_type": "code",
   "execution_count": 4,
   "metadata": {},
   "outputs": [],
   "source": [
    "y = np.sin(np.dot(A, x))"
   ]
  },
  {
   "cell_type": "markdown",
   "metadata": {},
   "source": [
    "$A$ ist invertierbar:"
   ]
  },
  {
   "cell_type": "code",
   "execution_count": 5,
   "metadata": {},
   "outputs": [
    {
     "name": "stdout",
     "output_type": "stream",
     "text": [
      "[[ 0.58611217  0.22754722  0.22079958 ... -0.35934623  0.66178901\n",
      "   0.19085717]\n",
      " [-0.86053578  0.35823913 -0.05086583 ... -0.28753986  0.01246512\n",
      "  -1.48921599]\n",
      " [ 0.26764428 -0.13717687 -0.92694754 ...  0.09591585 -1.22390556\n",
      "   2.1684163 ]\n",
      " ...\n",
      " [ 0.66359634 -0.39434052  0.53305901 ...  0.12365094  0.66198343\n",
      "   0.04954313]\n",
      " [-0.06110287  0.01871632 -0.28590078 ...  0.03731371 -0.48258655\n",
      "   0.91014539]\n",
      " [-1.43651032  0.47662975 -0.21419412 ... -0.01676364  0.36827009\n",
      "  -2.7539353 ]]\n"
     ]
    }
   ],
   "source": [
    "if A.shape[0] == A.shape[1]:\n",
    "    print(np.linalg.inv(A))"
   ]
  },
  {
   "cell_type": "markdown",
   "metadata": {},
   "source": [
    "Verlustfunktion: mittlerer quadratischer Fehler $\\frac{1}{n}\\Vert y - \\hat{y}\\Vert^2$"
   ]
  },
  {
   "cell_type": "code",
   "execution_count": 6,
   "metadata": {},
   "outputs": [],
   "source": [
    "from sklearn.metrics import mean_squared_error"
   ]
  },
  {
   "cell_type": "markdown",
   "metadata": {},
   "source": [
    "Ableitung der Verlustfunktion nach den predictions $\\hat{y}$ ist für ein $\\hat{y}_i$: \n",
    "\n",
    "$-\\frac{2}{n}(y_i-\\hat{y}_i)$"
   ]
  },
  {
   "cell_type": "code",
   "execution_count": 7,
   "metadata": {},
   "outputs": [],
   "source": [
    "def grad_loss(y_true, y_pred):\n",
    "    return (-2) / y_true.shape[0] * (y_true - y_pred)"
   ]
  },
  {
   "cell_type": "markdown",
   "metadata": {},
   "source": [
    "Loss, wenn der Mittelwert aller $y_i$ stets als prediction verwendet wird:"
   ]
  },
  {
   "cell_type": "code",
   "execution_count": 8,
   "metadata": {},
   "outputs": [
    {
     "data": {
      "text/plain": [
       "0.5114195407413349"
      ]
     },
     "execution_count": 8,
     "metadata": {},
     "output_type": "execute_result"
    }
   ],
   "source": [
    "mean_squared_error(y, np.ones(y.shape[0])*np.mean(y))"
   ]
  },
  {
   "cell_type": "markdown",
   "metadata": {},
   "source": [
    "## EnKF-Algorithmus, wie ich ihn auch sonst implementiert habe"
   ]
  },
  {
   "cell_type": "code",
   "execution_count": 9,
   "metadata": {},
   "outputs": [],
   "source": [
    "iterations = 100\n",
    "particles = 1000\n",
    "randomization = False"
   ]
  },
  {
   "cell_type": "code",
   "execution_count": 10,
   "metadata": {},
   "outputs": [],
   "source": [
    "h_0 = 2\n",
    "epsilon = 0.5"
   ]
  },
  {
   "cell_type": "code",
   "execution_count": 11,
   "metadata": {},
   "outputs": [],
   "source": [
    "# Dictionary, in das die Partikel (Vektoren, Schätzungen für x) geschrieben werden\n",
    "param_dict = {}\n",
    "# Dictionary, in das für alle Partikel die predictions für y geschrieben werden\n",
    "y_pred_dict = {}\n",
    "# Dictionary, in das für alle Partikel die Ableitungen der Verlustfunktion nach den predictions geschrieben werden\n",
    "jacobian_dict = {}\n",
    "# Dictionary, das für alle Partikel die Werte der Verlustfunktion enthält\n",
    "loss_dict = {}"
   ]
  },
  {
   "cell_type": "markdown",
   "metadata": {},
   "source": [
    "Initialisierung durch eine Normalverteilung und erste Auswertung:"
   ]
  },
  {
   "cell_type": "code",
   "execution_count": 12,
   "metadata": {},
   "outputs": [],
   "source": [
    "for i in range(particles):\n",
    "    param_dict[\"particle_{}\".format(i+1)] = np.random.normal(loc = 0, scale = 1, size = x.shape)\n",
    "    y_pred_dict[\"particle_{}\".format(i+1)] = np.sin(np.dot(A, param_dict[\"particle_{}\".format(i+1)]))\n",
    "    jacobian_dict[\"particle_{}\".format(i+1)] = grad_loss(y, y_pred_dict[\"particle_{}\".format(i+1)])\n",
    "    loss_dict[\"particle_{}\".format(i+1)] = mean_squared_error(y, y_pred_dict[\"particle_{}\".format(i+1)])"
   ]
  },
  {
   "cell_type": "markdown",
   "metadata": {},
   "source": [
    "Mittelwerte aller Parameter der Partikel für die endgültige Schätzung von x:"
   ]
  },
  {
   "cell_type": "code",
   "execution_count": 13,
   "metadata": {},
   "outputs": [],
   "source": [
    "param_mean = np.mean(list(param_dict.values()), axis = 0)"
   ]
  },
  {
   "cell_type": "markdown",
   "metadata": {},
   "source": [
    "Loss für die gemittelten Parameter fortlaufend notieren:"
   ]
  },
  {
   "cell_type": "code",
   "execution_count": 14,
   "metadata": {},
   "outputs": [],
   "source": [
    "loss_evolution = []\n",
    "loss_evolution.append(mean_squared_error(y, np.sin(np.dot(A, param_mean))))"
   ]
  },
  {
   "cell_type": "code",
   "execution_count": 15,
   "metadata": {},
   "outputs": [],
   "source": [
    "# zum Testen der einzelnen Partikel\n",
    "loss_evolution_single_dict = {}\n",
    "for i in range(particles):\n",
    "    loss_evolution_single_dict[\"particle_{}\".format(i+1)] = [mean_squared_error(y, np.sin(np.dot(A, param_dict[\"particle_{}\".format(i+1)])))]"
   ]
  },
  {
   "cell_type": "markdown",
   "metadata": {},
   "source": [
    "### EnKF"
   ]
  },
  {
   "cell_type": "code",
   "execution_count": 16,
   "metadata": {},
   "outputs": [],
   "source": [
    "for iteration in range(iterations):\n",
    "    \n",
    "    # update the predictions, jacobian and loss for the new parameters\n",
    "    for i in range(particles):\n",
    "        y_pred_dict[\"particle_{}\".format(i+1)] = np.sin(np.dot(A, param_dict[\"particle_{}\".format(i+1)]))\n",
    "        jacobian_dict[\"particle_{}\".format(i+1)] = grad_loss(y, y_pred_dict[\"particle_{}\".format(i+1)])\n",
    "        loss_dict[\"particle_{}\".format(i+1)] = mean_squared_error(y, y_pred_dict[\"particle_{}\".format(i+1)])\n",
    "    \n",
    "    # compute the mean of the predictions\n",
    "    y_pred_mean = np.mean(list(y_pred_dict.values()), axis = 0)\n",
    "    \n",
    "    # compute the matrix D elementwise\n",
    "    d = np.zeros(shape = (particles, particles))\n",
    "    for k in range(particles):\n",
    "        y_pred_centered = y_pred_dict[\"particle_{}\".format(str(k+1))] - y_pred_mean\n",
    "        for j in range(particles):\n",
    "            d[k][j] = np.dot(y_pred_centered, jacobian_dict[\"particle_{}\".format(str(j+1))])\n",
    "           \n",
    "    # compute the scalar h_t\n",
    "    h_t = h_0 / (np.sqrt(np.sum(d**2)) + epsilon)\n",
    "        \n",
    "    # matrix with particle parameters as row vectors\n",
    "    params_all_ptcls = np.array(list(param_dict.values()))\n",
    "    \n",
    "    # compute the matrix with the updates for each particle\n",
    "    params_all_ptcls = params_all_ptcls - h_t * np.dot(d, params_all_ptcls)\n",
    "    \n",
    "    # write the updates back into the dictionary\n",
    "    for i in range(particles):\n",
    "        param_dict[\"particle_{}\".format(str(i+1))] = params_all_ptcls[i]\n",
    "        if randomization:\n",
    "            # add randomization/ noise to each particle\n",
    "            stddev = 0.1\n",
    "            noise = np.random.normal(loc = 0.0,\n",
    "                                     scale = stddev,\n",
    "                                     size = param_dict[\"particle_{}\".format(str(i+1))].shape)\n",
    "            new_param = param_dict[\"particle_{}\".format(str(i+1))] + noise\n",
    "            param_dict[\"particle_{}\".format(str(i+1))] = new_param\n",
    "    if randomization:\n",
    "        # randomize particles around their mean\n",
    "        param_dict_mean = list(np.mean(list(param_dict.values()), axis = 0))\n",
    "        for i in range(particles):\n",
    "            stddev = 0.1\n",
    "            noise = np.random.normal(loc = 0.0,\n",
    "                                     scale = stddev,\n",
    "                                     size = param_dict[\"particle_{}\".format(str(i+1))].shape)\n",
    "            new_params = param_dict_mean + noise\n",
    "            param_dict[\"particle_{}\".format(str(i+1))] = new_params\n",
    "    \n",
    "    # compute loss for the parameter means\n",
    "    param_mean = np.mean(params_all_ptcls, axis = 0)\n",
    "    loss_evolution.append(mean_squared_error(y, np.sin(np.dot(A, param_mean))))\n",
    "    \n",
    "    # zum Testen der einzelnen Partikel\n",
    "    for i in range(particles):\n",
    "        loss_evolution_single_dict[\"particle_{}\".format(i+1)].append(mean_squared_error(y, np.sin(np.dot(A, param_dict[\"particle_{}\".format(i+1)]))))"
   ]
  },
  {
   "cell_type": "markdown",
   "metadata": {},
   "source": [
    "Mit Randomization: Loss schwankt ungleichmäßig.\n",
    "\n",
    "Ohne Randomization: Loss bleibt gleich ?!"
   ]
  },
  {
   "cell_type": "code",
   "execution_count": 17,
   "metadata": {},
   "outputs": [
    {
     "data": {
      "image/png": "[encoded data removed]",
      "text/plain": [
       "<Figure size 432x288 with 1 Axes>"
      ]
     },
     "metadata": {
      "needs_background": "light"
     },
     "output_type": "display_data"
    }
   ],
   "source": [
    "plt.plot(np.arange(len(loss_evolution))+1, loss_evolution)\n",
    "plt.grid()\n",
    "plt.xlabel(\"Iteration\")\n",
    "plt.ylabel(\"Loss\")\n",
    "plt.title(\"Loss für die Parameter aus den gemittelten Partikeln\")\n",
    "plt.show()"
   ]
  },
  {
   "cell_type": "code",
   "execution_count": 22,
   "metadata": {},
   "outputs": [
    {
     "data": {
      "image/png": "[encoded data removed]",
      "text/plain": [
       "<Figure size 432x288 with 1 Axes>"
      ]
     },
     "metadata": {
      "needs_background": "light"
     },
     "output_type": "display_data"
    }
   ],
   "source": [
    "plt.plot(np.arange(len(loss_evolution_single_dict[\"particle_1\"]))+1, loss_evolution_single_dict[\"particle_1\"])\n",
    "plt.grid()\n",
    "plt.xlabel(\"Iteration\")\n",
    "plt.ylabel(\"Loss\")\n",
    "plt.title(\"Loss für ein Partikel\")\n",
    "plt.show()"
   ]
  },
  {
   "cell_type": "markdown",
   "metadata": {},
   "source": [
    "## EnKF wie für inverse Probleme"
   ]
  },
  {
   "cell_type": "code",
   "execution_count": 23,
   "metadata": {},
   "outputs": [],
   "source": [
    "noise = False\n",
    "y = np.sin(np.dot(A, x))\n",
    "stddev_noise = np.ones(shape = y.shape)\n",
    "if noise:\n",
    "    noises = np.random.normal(loc = 0, scale = stddev_noise, size = y.shape)\n",
    "    y = y + noises\n",
    "    gamma = np.diag(stddev_noise**2)"
   ]
  },
  {
   "cell_type": "code",
   "execution_count": 24,
   "metadata": {},
   "outputs": [],
   "source": [
    "batch = True\n",
    "if batch:\n",
    "    epochs = 10\n",
    "    batch_size = int(np.floor(y.shape[0] / 10))         \n",
    "else:\n",
    "    epochs = 100\n",
    "    batch_size = y.shape[0]"
   ]
  },
  {
   "cell_type": "code",
   "execution_count": 25,
   "metadata": {},
   "outputs": [],
   "source": [
    "particles = 500\n",
    "epochs = 200\n",
    "batch_size = 10"
   ]
  },
  {
   "cell_type": "code",
   "execution_count": 26,
   "metadata": {},
   "outputs": [],
   "source": [
    "n = y.shape[0]\n",
    "num_batches = int(np.ceil(n / batch_size))\n",
    "batch_indices = np.cumsum([0] + list(np.ones(num_batches) * batch_size))\n",
    "batch_indices[-1] = n"
   ]
  },
  {
   "cell_type": "code",
   "execution_count": 27,
   "metadata": {},
   "outputs": [],
   "source": [
    "# Dictionary, in das die Partikel (Vektoren, Schätzungen für x) geschrieben werden\n",
    "param_dict = {}\n",
    "# Dictionary, in das für alle Partikel die predictions für y geschrieben werden\n",
    "y_pred_dict = {}\n",
    "# Dictionary, das für alle Partikel die Werte der Verlustfunktion enthält\n",
    "loss_dict = {}"
   ]
  },
  {
   "cell_type": "code",
   "execution_count": 28,
   "metadata": {},
   "outputs": [],
   "source": [
    "for i in range(particles):\n",
    "    param_dict[\"particle_{}\".format(i+1)] = np.random.normal(loc = 0, scale = 1, size = x.shape)\n",
    "    y_pred_dict[\"particle_{}\".format(i+1)] = np.sin(np.dot(A, param_dict[\"particle_{}\".format(i+1)]))\n",
    "    loss_dict[\"particle_{}\".format(i+1)] = mean_squared_error(y, y_pred_dict[\"particle_{}\".format(i+1)])"
   ]
  },
  {
   "cell_type": "code",
   "execution_count": 29,
   "metadata": {},
   "outputs": [],
   "source": [
    "param_mean = np.mean(list(param_dict.values()), axis = 0)"
   ]
  },
  {
   "cell_type": "code",
   "execution_count": 30,
   "metadata": {},
   "outputs": [],
   "source": [
    "loss_evolution = []\n",
    "loss_evolution.append(mean_squared_error(y, np.sin(np.dot(A, param_mean))))"
   ]
  },
  {
   "cell_type": "code",
   "execution_count": 31,
   "metadata": {},
   "outputs": [],
   "source": [
    "# zum Testen der einzelnen Partikel\n",
    "loss_evolution_single_dict = {}\n",
    "for i in range(particles):\n",
    "    loss_evolution_single_dict[\"particle_{}\".format(i+1)] = [mean_squared_error(y, np.sin(np.dot(A, param_dict[\"particle_{}\".format(i+1)])))]"
   ]
  },
  {
   "cell_type": "code",
   "execution_count": 32,
   "metadata": {},
   "outputs": [],
   "source": [
    "for epoch in range(epochs):\n",
    "\n",
    "    A_batches = [A[int(batch_indices[i]):int(batch_indices[i+1])] for i in range(num_batches)]\n",
    "    y_batches = [y[int(batch_indices[i]):int(batch_indices[i+1])] for i in range(num_batches)]\n",
    "    if noise:\n",
    "        gamma_batches = [gamma[int(batch_indices[i]):int(batch_indices[i+1]),int(batch_indices[i]):int(batch_indices[i+1])] for i in range(num_batches)]\n",
    "    \n",
    "    for b in range(num_batches):\n",
    "\n",
    "        # update the predictions and the loss for the new parameters\n",
    "        for i in range(particles):\n",
    "            y_pred_dict[\"particle_{}\".format(i+1)] = np.sin(np.dot(A_batches[b], param_dict[\"particle_{}\".format(i+1)]))\n",
    "            loss_dict[\"particle_{}\".format(i+1)] = mean_squared_error(y_batches[b], y_pred_dict[\"particle_{}\".format(i+1)])\n",
    "\n",
    "        # compute the mean of the predictions\n",
    "        y_pred_mean = np.mean(list(y_pred_dict.values()), axis = 0)\n",
    "\n",
    "        # compute the matrices C\n",
    "        param_diff_dict = {}\n",
    "        pred_diff_param_dict = {}\n",
    "        pred_diff_w_dict = {}\n",
    "        c_param_w_dict = {}\n",
    "        c_w_w_dict = {}\n",
    "\n",
    "        for i in range(particles):\n",
    "            param_diff_dict[\"particle_{}\".format(str(i+1))] = param_dict[\"particle_{}\".format(str(i+1))] - param_mean\n",
    "            pred_diff_param_dict[\"particle_{}\".format(str(i+1))] = y_pred_dict[\"particle_{}\".format(str(i+1))] - y_pred_mean\n",
    "            pred_diff_w_dict[\"particle_{}\".format(str(i+1))] = y_pred_dict[\"particle_{}\".format(str(i+1))] - y_pred_mean\n",
    "        for i in range(particles):\n",
    "            param_diff_dict[\"particle_{}\".format(str(i+1))] = np.transpose(np.tile(param_diff_dict[\"particle_{}\".format(str(i+1))], (pred_diff_param_dict[\"particle_{}\".format(str(i+1))].shape[0], 1)))\n",
    "            pred_diff_param_dict[\"particle_{}\".format(str(i+1))] = np.tile(pred_diff_param_dict[\"particle_{}\".format(str(i+1))], (param_diff_dict[\"particle_{}\".format(str(i+1))].shape[0], 1))\n",
    "            pred_diff_w_dict[\"particle_{}\".format(str(i+1))] = np.tile(pred_diff_w_dict[\"particle_{}\".format(str(i+1))], (pred_diff_w_dict[\"particle_{}\".format(str(i+1))].shape[0], 1))\n",
    "            c_param_w_dict[\"particle_{}\".format(str(i+1))] = param_diff_dict[\"particle_{}\".format(str(i+1))] * pred_diff_param_dict[\"particle_{}\".format(str(i+1))]\n",
    "            c_w_w_dict[\"particle_{}\".format(str(i+1))] = pred_diff_w_dict[\"particle_{}\".format(str(i+1))] * pred_diff_w_dict[\"particle_{}\".format(str(i+1))]\n",
    "        c_param_w = np.mean(list(c_param_w_dict.values()), axis = 0)\n",
    "        c_w_w = np.mean(list(c_w_w_dict.values()), axis = 0)\n",
    "\n",
    "        # write the updates back into the dictionary\n",
    "        for i in range(particles):\n",
    "            if noise:\n",
    "                param_dict[\"particle_{}\".format(str(i+1))] = param_dict[\"particle_{}\".format(str(i+1))] + np.dot(np.dot(c_param_w, np.linalg.pinv(c_w_w + gamma_batches[b])), y_batches[b] - y_pred_dict[\"particle_{}\".format(str(i+1))])\n",
    "            else:\n",
    "                param_dict[\"particle_{}\".format(str(i+1))] = param_dict[\"particle_{}\".format(str(i+1))] + np.dot(np.dot(c_param_w, np.linalg.pinv(c_w_w)), y_batches[b] - y_pred_dict[\"particle_{}\".format(str(i+1))])\n",
    "\n",
    "        # compute loss for the parameter means\n",
    "        param_mean = np.mean(list(param_dict.values()), axis = 0)\n",
    "        loss_evolution.append(mean_squared_error(y, np.sin(np.dot(A, param_mean))))\n",
    "\n",
    "        # zum Testen der einzelnen Partikel\n",
    "        for i in range(particles):\n",
    "            loss_evolution_single_dict[\"particle_{}\".format(i+1)].append(mean_squared_error(y, np.sin(np.dot(A, param_dict[\"particle_{}\".format(i+1)]))))"
   ]
  },
  {
   "cell_type": "code",
   "execution_count": 33,
   "metadata": {},
   "outputs": [
    {
     "data": {
      "image/png": "[encoded data removed]",
      "text/plain": [
       "<Figure size 432x288 with 1 Axes>"
      ]
     },
     "metadata": {
      "needs_background": "light"
     },
     "output_type": "display_data"
    }
   ],
   "source": [
    "plt.hlines(y = mean_squared_error(y, np.ones(y.shape[0])*np.mean(y)), xmin = 1, xmax = len(loss_evolution)+1, color = \"black\", label = \"error with mean(y)\")\n",
    "plt.plot(np.arange(len(loss_evolution))+1, loss_evolution)\n",
    "plt.grid()\n",
    "plt.legend()\n",
    "plt.xlabel(\"Iteration\")\n",
    "plt.ylabel(\"Loss\")\n",
    "plt.title(\"Loss für die Parameter aus den gemittelten Partikeln\")\n",
    "plt.show()"
   ]
  },
  {
   "cell_type": "code",
   "execution_count": 34,
   "metadata": {},
   "outputs": [
    {
     "data": {
      "image/png": "[encoded data removed]",
      "text/plain": [
       "<Figure size 432x288 with 1 Axes>"
      ]
     },
     "metadata": {
      "needs_background": "light"
     },
     "output_type": "display_data"
    }
   ],
   "source": [
    "# ohne den initialen Guess\n",
    "plt.hlines(y = mean_squared_error(y, np.ones(y.shape[0])*np.mean(y)), xmin = 2, xmax = len(loss_evolution)+1, color = \"black\", label = \"error with mean(y)\")\n",
    "plt.plot(np.arange(len(loss_evolution))[1:]+1, loss_evolution[1:])\n",
    "plt.grid()\n",
    "plt.legend()\n",
    "plt.xlabel(\"Iteration\")\n",
    "plt.ylabel(\"Loss\")\n",
    "plt.title(\"Loss für die Parameter aus den gemittelten Partikeln\")\n",
    "plt.show()"
   ]
  },
  {
   "cell_type": "code",
   "execution_count": 48,
   "metadata": {},
   "outputs": [
    {
     "data": {
      "image/png": "[encoded data removed]",
      "text/plain": [
       "<Figure size 432x288 with 1 Axes>"
      ]
     },
     "metadata": {
      "needs_background": "light"
     },
     "output_type": "display_data"
    }
   ],
   "source": [
    "# ohne den initialen Guess\n",
    "plt.hlines(y = mean_squared_error(y, np.ones(y.shape[0])*np.mean(y)), xmin = 2, xmax = len(loss_evolution)+1, color = \"black\", label = \"error with mean(y)\")\n",
    "plt.plot(np.arange(len(loss_evolution_single_dict[\"particle_1\"]))[1:]+1, loss_evolution_single_dict[\"particle_1\"][1:])\n",
    "plt.grid()\n",
    "plt.legend()\n",
    "plt.xlabel(\"Iteration\")\n",
    "plt.ylabel(\"Loss\")\n",
    "plt.title(\"Loss für ein Partikel\")\n",
    "plt.show()"
   ]
  },
  {
   "cell_type": "code",
   "execution_count": 36,
   "metadata": {},
   "outputs": [
    {
     "data": {
      "text/plain": [
       "array([-0.3670514 , -0.07877393,  0.14501587, -0.01568228, -0.07923146,\n",
       "       -0.41129459,  0.25664767, -0.1277638 , -0.26997389, -0.11653004,\n",
       "       -0.59182347,  0.03290876,  0.02962531, -0.47473956,  0.23209248,\n",
       "       -0.20115468, -0.28237978, -0.16462348, -0.32588982,  0.14008685,\n",
       "       -0.14246814, -0.08744523, -0.46961541, -0.34474776,  0.01255985,\n",
       "       -0.4520305 , -0.51462519, -0.43056746, -0.53788526,  0.09300706,\n",
       "       -0.15474917, -0.05512163, -0.39000697, -0.07402258, -0.35572209,\n",
       "        0.55666996,  0.45387524,  0.17590575, -0.03615113, -0.08360392,\n",
       "       -0.34850141, -0.1748781 , -0.02470744, -0.05179884, -0.24062041,\n",
       "        0.01837134, -0.31882903,  0.29283485, -0.09138492,  0.67185141,\n",
       "       -0.46934541, -0.39785126,  0.21646068,  0.23999983, -0.20740611,\n",
       "       -0.07768751, -0.14657363,  0.02418809,  0.29945212,  0.15491321,\n",
       "        0.02231805,  0.09032878, -0.06572687,  0.02645839, -0.19177379,\n",
       "        0.04366056, -0.14214487, -0.51841318,  0.22888623, -0.0927652 ,\n",
       "       -0.16500524,  0.28234559, -0.08862488,  0.57737912, -0.25654488,\n",
       "       -0.04076009, -0.08014918, -0.15171788,  0.1290192 , -0.03569337,\n",
       "        0.21090547, -0.11343439,  0.07846739,  0.29303672, -0.42164435,\n",
       "       -0.11551842, -0.1500049 , -0.127586  , -0.66738004, -0.16166402,\n",
       "        0.11841428, -0.30482657, -0.43327066, -0.28317307, -0.55672478,\n",
       "       -0.1003313 , -0.10796206, -0.4029581 ,  0.14778803, -0.26798854])"
      ]
     },
     "execution_count": 36,
     "metadata": {},
     "output_type": "execute_result"
    }
   ],
   "source": [
    "np.sin(np.dot(A, param_mean))"
   ]
  },
  {
   "cell_type": "code",
   "execution_count": 37,
   "metadata": {},
   "outputs": [
    {
     "data": {
      "text/plain": [
       "array([-0.19288411, -0.86328866,  0.90023766, -0.88022534, -0.46903451,\n",
       "        0.10435048,  0.31543729,  0.96366562, -0.2525267 , -0.97861517,\n",
       "        0.73169917, -0.25321707, -0.7256291 ,  0.59877094,  0.85033526,\n",
       "       -0.22546769,  0.80733883, -0.7129917 ,  0.97704856, -0.8000609 ,\n",
       "        0.61489522,  0.68328304, -0.67966682,  0.64347089,  0.99125747,\n",
       "       -0.32404837, -0.66500662,  0.32127323,  0.82732356,  0.9821182 ,\n",
       "       -0.53970247, -0.26064036, -0.99909676,  0.87786629,  0.67620044,\n",
       "        0.23908023, -0.73422458,  0.19178662,  0.36503335, -0.04757552,\n",
       "        0.11302864,  0.23438064, -0.56017968, -0.70056255,  0.31436674,\n",
       "        0.55875484,  0.97484765, -0.92092234, -0.92630662,  0.98677189,\n",
       "       -0.98479169,  0.74022779, -0.33124211,  0.73670426, -0.92391445,\n",
       "       -0.44982514, -0.36551672,  0.94616909, -0.26133971,  0.96878477,\n",
       "        0.95977447, -0.98168392,  0.72505974, -0.00382282,  0.94131077,\n",
       "       -0.9575288 ,  0.00793093,  0.91725125, -0.99503823, -0.56657191,\n",
       "       -0.99658318,  0.99515826, -0.9199482 , -0.14560298, -0.85957386,\n",
       "       -0.26584516,  0.97130095, -0.61365336,  0.80922235,  0.37560714,\n",
       "        0.41433574, -0.98877677, -0.99766159,  0.5624111 , -0.91076225,\n",
       "        0.97990042, -0.15634576, -0.27664582, -0.8686699 ,  0.59218926,\n",
       "       -0.99943491,  0.9112532 ,  0.04559737, -0.15417259, -0.82098027,\n",
       "       -0.4978271 , -0.98747675,  0.14314053,  0.79645202, -0.98345375])"
      ]
     },
     "execution_count": 37,
     "metadata": {},
     "output_type": "execute_result"
    }
   ],
   "source": [
    "y"
   ]
  },
  {
   "cell_type": "code",
   "execution_count": 38,
   "metadata": {},
   "outputs": [
    {
     "name": "stdout",
     "output_type": "stream",
     "text": [
      "Error mit Mittelwert als prediction: 0.5114195407413349\n",
      "Final model error: 0.5604649681418824\n"
     ]
    }
   ],
   "source": [
    "print(\"Error mit Mittelwert als prediction: {}\".format(mean_squared_error(y, np.ones(y.shape[0])*np.mean(y))))\n",
    "print(\"Final model error: {}\".format(loss_evolution[-1]))"
   ]
  }
 ],
 "metadata": {
  "kernelspec": {
   "display_name": "master_thesis",
   "language": "python",
   "name": "master_thesis"
  },
  "language_info": {
   "codemirror_mode": {
    "name": "ipython",
    "version": 3
   },
   "file_extension": ".py",
   "mimetype": "text/x-python",
   "name": "python",
   "nbconvert_exporter": "python",
   "pygments_lexer": "ipython3",
   "version": "3.7.7"
  }
 },
 "nbformat": 4,
 "nbformat_minor": 4
}
