{
 "cells": [
  {
   "cell_type": "code",
   "execution_count": null,
   "metadata": {},
   "outputs": [],
   "source": [
    "import sys\n",
    "sys.path.insert(1, \"../python/architecture\")\n",
    "sys.path.insert(2, \"../python/functions\")"
   ]
  },
  {
   "cell_type": "code",
   "execution_count": null,
   "metadata": {},
   "outputs": [],
   "source": [
    "from model_functions import nn_load\n",
    "from plotting_functions import nn_plot_acc, nn_plot_acc_many\n",
    "import reproducible\n",
    "import no_gpu"
   ]
  },
  {
   "cell_type": "code",
   "execution_count": null,
   "metadata": {},
   "outputs": [],
   "source": [
    "model = nn_load(\"../models/mnist/mnist_enkf_full_E20_B10000_P500_H2.h5\")\n",
    "nn_plot_acc(model,\n",
    "            mean_comparison = None,\n",
    "            start_epoch = 1,\n",
    "            tick_diff = 5,\n",
    "            marker = True,\n",
    "            save = None)#\"../img/mnist/mnist_enkf.png\")"
   ]
  },
  {
   "cell_type": "code",
   "execution_count": null,
   "metadata": {},
   "outputs": [],
   "source": [
    "model_batches_dict = {}\n",
    "batches = [1000, 2000, 5000, 10000, 30000, 60000]\n",
    "\n",
    "for b in batches:\n",
    "    model_batches_dict[\"batch_size: {}\".format(b)] = nn_load(\"../models/mnist/mnist_enkf_full_E20_B{}_P500_H2.h5\".format(b))"
   ]
  },
  {
   "cell_type": "code",
   "execution_count": null,
   "metadata": {},
   "outputs": [],
   "source": [
    "model_batches_list = list(model_batches_dict.values())\n",
    "label_batches_list = [\"B{}\".format(list(model_batches_dict.keys())[i].split(\": \")[1]) for i in range(len(model_batches_dict))]\n",
    "\n",
    "nn_plot_acc_many(model_batches_list,\n",
    "                 label_batches_list,\n",
    "                 train_test = \"train\",\n",
    "                 mean_comparison = None,\n",
    "                 start_epoch = 10,\n",
    "                 tick_diff = 5,\n",
    "                 save = \"../img/mnist/mnist_enkf_batches.png\")"
   ]
  },
  {
   "cell_type": "code",
   "execution_count": null,
   "metadata": {},
   "outputs": [],
   "source": [
    "model_particles_dict = {}\n",
    "particles = [100, 200, 500]\n",
    "\n",
    "for p in particles:\n",
    "    model_particles_dict[\"batch_size: {}\".format(p)] = nn_load(\"../models/mnist/mnist_enkf_full_E20_B10000_P{}_H2.h5\".format(p))"
   ]
  },
  {
   "cell_type": "code",
   "execution_count": null,
   "metadata": {},
   "outputs": [],
   "source": [
    "model_particles_list = list(model_particles_dict.values())\n",
    "label_particles_list = [\"P{}\".format(list(model_particles_dict.keys())[i].split(\": \")[1]) for i in range(len(model_particles_dict))]\n",
    "\n",
    "nn_plot_acc_many(model_particles_list,\n",
    "                 label_particles_list,\n",
    "                 train_test = \"train\",\n",
    "                 mean_comparison = None,\n",
    "                 start_epoch = 10,\n",
    "                 tick_diff = 5,\n",
    "                 save = \"../img/mnist/mnist_enkf_particles.png\")"
   ]
  }
 ],
 "metadata": {
  "kernelspec": {
   "display_name": "Python 3",
   "language": "python",
   "name": "python3"
  },
  "language_info": {
   "codemirror_mode": {
    "name": "ipython",
    "version": 3
   },
   "file_extension": ".py",
   "mimetype": "text/x-python",
   "name": "python",
   "nbconvert_exporter": "python",
   "pygments_lexer": "ipython3",
   "version": "3.7.7"
  }
 },
 "nbformat": 4,
 "nbformat_minor": 4
}
