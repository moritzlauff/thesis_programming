{
 "cells": [
  {
   "cell_type": "code",
   "execution_count": 1,
   "metadata": {},
   "outputs": [],
   "source": [
    "import warnings\n",
    "warnings.filterwarnings(\"ignore\")"
   ]
  },
  {
   "cell_type": "code",
   "execution_count": 2,
   "metadata": {},
   "outputs": [],
   "source": [
    "import sys\n",
    "sys.path.insert(1, \"../python/functions\")\n",
    "sys.path.insert(2, \"../python/architecture\")"
   ]
  },
  {
   "cell_type": "code",
   "execution_count": 3,
   "metadata": {},
   "outputs": [
    {
     "name": "stdout",
     "output_type": "stream",
     "text": [
      "WARNING:tensorflow:From ../python/architecture\\reproducible.py:14: The name tf.keras.backend.set_session is deprecated. Please use tf.compat.v1.keras.backend.set_session instead.\n",
      "\n"
     ]
    }
   ],
   "source": [
    "from data_prep_functions import wine_prep\n",
    "from model_functions import *\n",
    "from plotting_functions import *\n",
    "import no_gpu\n",
    "import reproducible\n",
    "from sklearn.metrics import mean_squared_error"
   ]
  },
  {
   "cell_type": "code",
   "execution_count": 4,
   "metadata": {
    "scrolled": false
   },
   "outputs": [],
   "source": [
    "import time"
   ]
  },
  {
   "cell_type": "code",
   "execution_count": 5,
   "metadata": {},
   "outputs": [],
   "source": [
    "X_train, X_test, y_train, y_test = wine_prep()"
   ]
  },
  {
   "cell_type": "code",
   "execution_count": 6,
   "metadata": {},
   "outputs": [],
   "source": [
    "layers = 4\n",
    "neurons = [32, 32, 16, 1]\n",
    "n_cols = X_train.shape[1]\n",
    "batch_size = 200\n",
    "epochs = 20\n",
    "optimizer = \"adam\""
   ]
  },
  {
   "cell_type": "code",
   "execution_count": 88,
   "metadata": {},
   "outputs": [
    {
     "name": "stdout",
     "output_type": "stream",
     "text": [
      "Epoch 1/20\n",
      "21/21 [==============================] - 0s 12ms/step - loss: 15.9139 - mse: 15.9139 - val_loss: 11.8172 - val_mse: 11.8172\n",
      "Epoch 2/20\n",
      "21/21 [==============================] - 0s 5ms/step - loss: 8.2022 - mse: 8.2022 - val_loss: 4.2940 - val_mse: 4.2940\n",
      "Epoch 3/20\n",
      "21/21 [==============================] - 0s 6ms/step - loss: 3.0623 - mse: 3.0623 - val_loss: 2.2135 - val_mse: 2.2135\n",
      "Epoch 4/20\n",
      "21/21 [==============================] - 0s 7ms/step - loss: 2.0158 - mse: 2.0158 - val_loss: 1.6136 - val_mse: 1.6136\n",
      "Epoch 5/20\n",
      "21/21 [==============================] - 0s 7ms/step - loss: 1.5648 - mse: 1.5648 - val_loss: 1.3201 - val_mse: 1.3201\n",
      "Epoch 6/20\n",
      "21/21 [==============================] - 0s 7ms/step - loss: 1.2730 - mse: 1.2730 - val_loss: 1.1145 - val_mse: 1.1145\n",
      "Epoch 7/20\n",
      "21/21 [==============================] - 0s 10ms/step - loss: 1.0813 - mse: 1.0813 - val_loss: 0.9738 - val_mse: 0.9738\n",
      "Epoch 8/20\n",
      "21/21 [==============================] - 0s 9ms/step - loss: 0.9523 - mse: 0.9523 - val_loss: 0.8774 - val_mse: 0.8774\n",
      "Epoch 9/20\n",
      "21/21 [==============================] - 0s 7ms/step - loss: 0.8667 - mse: 0.8667 - val_loss: 0.8029 - val_mse: 0.8029\n",
      "Epoch 10/20\n",
      "21/21 [==============================] - 0s 7ms/step - loss: 0.7961 - mse: 0.7961 - val_loss: 0.7470 - val_mse: 0.7470\n",
      "Epoch 11/20\n",
      "21/21 [==============================] - 0s 12ms/step - loss: 0.7437 - mse: 0.7437 - val_loss: 0.6968 - val_mse: 0.6968\n",
      "Epoch 12/20\n",
      "21/21 [==============================] - 0s 12ms/step - loss: 0.7004 - mse: 0.7004 - val_loss: 0.6598 - val_mse: 0.6598\n",
      "Epoch 13/20\n",
      "21/21 [==============================] - 0s 8ms/step - loss: 0.6614 - mse: 0.6614 - val_loss: 0.6273 - val_mse: 0.6273\n",
      "Epoch 14/20\n",
      "21/21 [==============================] - 0s 7ms/step - loss: 0.6310 - mse: 0.6310 - val_loss: 0.6018 - val_mse: 0.6018\n",
      "Epoch 15/20\n",
      "21/21 [==============================] - 0s 6ms/step - loss: 0.6062 - mse: 0.6062 - val_loss: 0.5834 - val_mse: 0.5834\n",
      "Epoch 16/20\n",
      "21/21 [==============================] - 0s 6ms/step - loss: 0.5850 - mse: 0.5850 - val_loss: 0.5737 - val_mse: 0.5737\n",
      "Epoch 17/20\n",
      "21/21 [==============================] - 0s 7ms/step - loss: 0.5714 - mse: 0.5714 - val_loss: 0.5606 - val_mse: 0.5606\n",
      "Epoch 18/20\n",
      "21/21 [==============================] - 0s 9ms/step - loss: 0.5530 - mse: 0.5530 - val_loss: 0.5521 - val_mse: 0.5521\n",
      "Epoch 19/20\n",
      "21/21 [==============================] - 0s 9ms/step - loss: 0.5461 - mse: 0.5461 - val_loss: 0.5455 - val_mse: 0.5455\n",
      "Epoch 20/20\n",
      "21/21 [==============================] - 0s 7ms/step - loss: 0.5320 - mse: 0.5320 - val_loss: 0.5415 - val_mse: 0.5415\n",
      "Overall calculation took 4.221756458282471 seconds.\n",
      "Model: \"sequential\"\n",
      "_________________________________________________________________\n",
      "Layer (type)                 Output Shape              Param #   \n",
      "=================================================================\n",
      "dense (Dense)                (None, 32)                384       \n",
      "_________________________________________________________________\n",
      "dense_1 (Dense)              (None, 32)                1056      \n",
      "_________________________________________________________________\n",
      "dense_2 (Dense)              (None, 16)                528       \n",
      "_________________________________________________________________\n",
      "dense_3 (Dense)              (None, 1)                 17        \n",
      "=================================================================\n",
      "Total params: 1,985\n",
      "Trainable params: 1,985\n",
      "Non-trainable params: 0\n",
      "_________________________________________________________________\n"
     ]
    },
    {
     "data": {
      "image/png": "[encoded data removed]",
      "text/plain": [
       "<Figure size 576x360 with 1 Axes>"
      ]
     },
     "metadata": {
      "needs_background": "light"
     },
     "output_type": "display_data"
    },
    {
     "data": {
      "image/png": "[encoded data removed]",
      "text/plain": [
       "<Figure size 576x360 with 1 Axes>"
      ]
     },
     "metadata": {
      "needs_background": "light"
     },
     "output_type": "display_data"
    }
   ],
   "source": [
    "model = nn_model_structure(layers = layers,\n",
    "                           neurons = neurons,\n",
    "                           n_cols = n_cols,\n",
    "                           classification = False)\n",
    "model = nn_model_compile(model,\n",
    "                         optimizer = optimizer)\n",
    "start_time = time.time()\n",
    "model = nn_model_fit(model,\n",
    "                     X_train,\n",
    "                     y_train,\n",
    "                     X_val = X_test,\n",
    "                     y_val = y_test,\n",
    "                     batch_size = batch_size,\n",
    "                     epochs = epochs)\n",
    "end_time = time.time()\n",
    "print(\"Overall calculation took {} seconds.\".format(end_time - start_time))\n",
    "model.summary()\n",
    "nn_plot_mse(model,\n",
    "            mse_mean = None,\n",
    "            start_epoch = 1,\n",
    "            savefig = True,\n",
    "            file = \"../img/wine/wine_{}_E{}_B{}.png\".format(optimizer, epochs, batch_size))\n",
    "nn_save(model,\n",
    "        \"../models/wine/wine_{}_E{}_B{}.h5\".format(optimizer, epochs, batch_size))\n",
    "#model = nn_load(\"../models/wine/wine_{}_E{}_B{}.h5\".format(optimizer, epochs, batch_size))\n",
    "nn_plot_mse(model,\n",
    "            mse_mean = None,\n",
    "            start_epoch = 1,\n",
    "            savefig = True,\n",
    "            file = \"../img/wine/wine_{}_E{}_B{}.png\".format(optimizer, epochs, batch_size))"
   ]
  },
  {
   "cell_type": "raw",
   "metadata": {},
   "source": [
    "model.history.history"
   ]
  },
  {
   "cell_type": "raw",
   "metadata": {},
   "source": [
    "model.evaluate(X_test, y_test)"
   ]
  },
  {
   "cell_type": "raw",
   "metadata": {},
   "source": [
    "y_true, y_pred = nn_mse_pred_true(model, X_test, y_test, print_comp = True)"
   ]
  },
  {
   "cell_type": "raw",
   "metadata": {},
   "source": [
    "import numpy as np\n",
    "y_pred_rounded = np.round(model.predict(X_test))\n",
    "\n",
    "mse_prediction = mean_squared_error(y_test, y_pred_rounded)\n",
    "mse_prediction"
   ]
  },
  {
   "cell_type": "code",
   "execution_count": 130,
   "metadata": {},
   "outputs": [],
   "source": [
    "def nn_plot_mse_many(model_list,\n",
    "                     label_list,\n",
    "                     train_test = \"train\",\n",
    "                     mse_mean = None,       # mean_squared_error(y_train, np.ones(shape = (len(y_train),))*np.mean(y_train))\n",
    "                     start_epoch = 1,\n",
    "                     title = \"\",\n",
    "                     savefig = False,\n",
    "                     file = \"../img/mse.png\"\n",
    "                    ):\n",
    "\n",
    "    \"\"\" Function to plot the evolution of the mean squared error of\n",
    "    the neural network.\n",
    "\n",
    "\n",
    "    Parameters:\n",
    "\n",
    "    model_list (list of tensorflow.python.keras.engine.sequential.Sequential): Some fitted models.\n",
    "    label_list (list of str): Labels for the plotted model MSEs in the legend of the plot.\n",
    "    train_test (str): Which MSEs to plot. Can be either \"train\", \"test\" or \"both\".\n",
    "    mse_mean (float or None): MSE when always predicting the mean of the target.\n",
    "    start_epoch (int): Epoch to start the plot with. Helpful for better visibility if the first MSEs are much higher than the later ones.\n",
    "    title (str): Title of the plot.\n",
    "    savefig (bool): Whether or not to save the plot.\n",
    "    file (str): Path and filename if savefig is True.\n",
    "\n",
    "\n",
    "    \"\"\"\n",
    "    \n",
    "    train_mses_dict = {}\n",
    "    test_mses_dict = {}\n",
    "    \n",
    "    for i, model in enumerate(model_list):\n",
    "        try:\n",
    "            model.history.history\n",
    "        except:\n",
    "            # if model is loaded\n",
    "            train_mse_list = list(model.history[\"mse\"])\n",
    "            test_mse_list = list(model.history[\"val_mse\"])\n",
    "            if len(model.history) == 4:\n",
    "                train_mse_list = np.concatenate([[0], train_mse_list])\n",
    "                test_mse_list = np.concatenate([[0], test_mse_list])\n",
    "        else:\n",
    "            # if model is not loaded but built within the current session\n",
    "            train_mse_list = model.history.history[\"mse\"]\n",
    "            test_mse_list = model.history.history[\"val_mse\"]\n",
    "            train_mse_list = np.concatenate([[0], train_mse_list])\n",
    "            test_mse_list = np.concatenate([[0], test_mse_list])\n",
    "        \n",
    "        train_mses_dict[\"model_{}\".format(str(i+1))] = train_mse_list\n",
    "        test_mses_dict[\"model_{}\".format(str(i+1))] = test_mse_list\n",
    "\n",
    "    stop_tick = int(np.ceil((len(train_mses_dict[\"model_1\"]) - 1) / 5) * 5)\n",
    "    num_round = int(np.ceil((len(train_mses_dict[\"model_1\"]) - 1) / 5) + 1)\n",
    "\n",
    "    xticks = np.linspace(start = 0,\n",
    "                         stop = stop_tick,\n",
    "                         num = num_round)\n",
    "    xticks = np.delete(xticks, np.where(xticks <= start_epoch))\n",
    "    xticks = np.append(xticks, [start_epoch])\n",
    "\n",
    "    plt.figure(figsize = (8,5))\n",
    "    for i in range(len(model_list)):\n",
    "        if train_test == \"train\":\n",
    "            plt.plot(np.arange(len(train_mses_dict[\"model_{}\".format(str(i+1))]))[start_epoch:] , train_mses_dict[\"model_{}\".format(str(i+1))][start_epoch:], label = label_list[i])\n",
    "        elif train_test == \"test\":    \n",
    "            plt.plot(np.arange(len(test_mses_dict[\"model_{}\".format(str(i+1))]))[start_epoch:] , test_mses_dict[\"model_{}\".format(str(i+1))][start_epoch:], label = label_list[i])\n",
    "        elif train_test == \"both\":\n",
    "            plt.plot(np.arange(len(train_mses_dict[\"model_{}\".format(str(i+1))]))[start_epoch:] , train_mses_dict[\"model_{}\".format(str(i+1))][start_epoch:], label = label_list[i])\n",
    "            plt.plot(np.arange(len(test_mses_dict[\"model_{}\".format(str(i+1))]))[start_epoch:] , test_mses_dict[\"model_{}\".format(str(i+1))][start_epoch:], label = label_list[i])\n",
    "    if mse_mean is not None:\n",
    "        plt.hlines(y = mse_mean,\n",
    "                   xmin = start_epoch,\n",
    "                   xmax = len(train_mses_dict[\"model_1\"])-1,\n",
    "                   color = \"black\",\n",
    "                   label = \"Mean as prediction\")\n",
    "    plt.legend(loc = \"upper right\")\n",
    "    plt.title(title)\n",
    "    plt.xlabel(\"Epoch\")\n",
    "    plt.ylabel(\"Mean Squared Error\")\n",
    "    plt.xticks(ticks = xticks)\n",
    "    plt.grid()\n",
    "    if savefig:\n",
    "        plt.savefig(file)\n",
    "    plt.show()"
   ]
  },
  {
   "cell_type": "code",
   "execution_count": 121,
   "metadata": {},
   "outputs": [],
   "source": [
    "model_1 = nn_load(\"../models/wine/wine_adagrad_E20_B200.h5\")\n",
    "model_2 = nn_load(\"../models/wine/wine_adam_E20_B200.h5\")"
   ]
  },
  {
   "cell_type": "code",
   "execution_count": 122,
   "metadata": {},
   "outputs": [],
   "source": [
    "model_list = [model_1,\n",
    "              model_2]\n",
    "label_list = [\"Adagrad\",\n",
    "              \"Adam\"]"
   ]
  },
  {
   "cell_type": "code",
   "execution_count": 134,
   "metadata": {},
   "outputs": [
    {
     "data": {
      "image/png": "[encoded data removed]",
      "text/plain": [
       "<Figure size 576x360 with 1 Axes>"
      ]
     },
     "metadata": {
      "needs_background": "light"
     },
     "output_type": "display_data"
    }
   ],
   "source": [
    "nn_plot_mse_many(model_list,\n",
    "                 label_list,\n",
    "                 train_test = \"train\",\n",
    "                 mse_mean = None,\n",
    "                 start_epoch = 1,\n",
    "                 savefig = False,\n",
    "                 file = \"../img/wine/wine_{}_E{}_B{}.png\".format(optimizer, epochs, batch_size))"
   ]
  },
  {
   "cell_type": "code",
   "execution_count": 84,
   "metadata": {},
   "outputs": [],
   "source": [
    "def nn_load(path_name):\n",
    "\n",
    "    \"\"\" Function to load a neural network model and its history.\n",
    "\n",
    "\n",
    "    Parameters:\n",
    "\n",
    "    path_name (str): Where to find the model. Is a .h5-file.\n",
    "\n",
    "\n",
    "\n",
    "    Returns:\n",
    "\n",
    "    model (tensorflow.python.keras.engine.sequential.Sequential): Some model.\n",
    "\n",
    "\n",
    "    \"\"\"\n",
    "\n",
    "    model = tensorflow.python.keras.models.load_model(path_name)\n",
    "\n",
    "    history_path = path_name.replace(\"models\",\n",
    "                                     \"objects\").\\\n",
    "                                replace(\".h5\",\n",
    "                                        \"_history.pckl\")\n",
    "\n",
    "    object_path = path_name.replace(\"models\",\n",
    "                                    \"objects\").\\\n",
    "                                replace(\"h5\",\n",
    "                                        \"pckl\")\n",
    "\n",
    "    if os.path.exists(history_path):\n",
    "        f = open(history_path, \"rb\")\n",
    "        model.history = pickle.load(f)\n",
    "        f.close()\n",
    "\n",
    "        model.epoch = list(np.arange(len(list(model.history.values())[0])))\n",
    "\n",
    "    if os.path.exists(object_path):\n",
    "        obj_dict = load_objects(object_path)\n",
    "        if list(obj_dict[\"results\"].keys())[0][-3:] == \"mse\":\n",
    "            train_hist = obj_dict[\"results\"][\"mean_model_train_mse\"]\n",
    "            test_hist = obj_dict[\"results\"][\"mean_model_test_mse\"]\n",
    "            hist_dict = {\"mse\": train_hist,\n",
    "                         \"val_mse\": test_hist}\n",
    "        else:\n",
    "            train_hist = obj_dict[\"results\"][\"mean_model_train_acc\"]\n",
    "            test_hist = obj_dict[\"results\"][\"mean_model_test_acc\"]\n",
    "            hist_dict = {\"accuracy\": train_hist,\n",
    "                         \"val_accuracy\": test_hist}\n",
    "        model.history = hist_dict\n",
    "\n",
    "        model.epoch = list(np.arange(len(list(model.history.values())[0])))\n",
    "\n",
    "    return model"
   ]
  },
  {
   "cell_type": "code",
   "execution_count": 118,
   "metadata": {},
   "outputs": [],
   "source": [
    "def nn_plot_epoch_mse1(model,\n",
    "                      mse_mean = None, # mean_squared_error(y_train, np.ones(shape = (len(y_train),))*np.mean(y_train))\n",
    "                      start_epoch = 1,\n",
    "                      title = \"\",\n",
    "                      savefig = False,\n",
    "                      img_file = \"../img/accuracy_per_epoch.png\"\n",
    "                      ):\n",
    "\n",
    "    \"\"\" Function to plot the evolution of the mean squared error of the\n",
    "    neural network per iteration.\n",
    "\n",
    "\n",
    "    Parameters:\n",
    "\n",
    "    model (tensorflow.python.keras.engine.sequential.Sequential): Some fitted model.\n",
    "    mse_mean (float or None): MSE when always predicting the mean of the target.\n",
    "    title (str): Title of the plot.\n",
    "    savefig (bool): Whether or not to save the plot.\n",
    "    file (str): Path and filename if savefig is True.\n",
    "\n",
    "\n",
    "    \"\"\"\n",
    "    \n",
    "    try:\n",
    "        model.history.history\n",
    "    except:\n",
    "        # if model is loaded\n",
    "        train_mse_list = list(model.history[\"mse\"])\n",
    "        test_mse_list = list(model.history[\"val_mse\"])\n",
    "        if len(model.history) == 4:\n",
    "            train_mse_list = np.concatenate([[0], train_mse_list])\n",
    "            test_mse_list = np.concatenate([[0], test_mse_list])\n",
    "    else:\n",
    "        # if model is not loaded but built within the current session\n",
    "        train_mse_list = model.history.history[\"mse\"]\n",
    "        test_mse_list = model.history.history[\"val_mse\"]\n",
    "        train_mse_list = np.concatenate([[0], train_mse_list])\n",
    "        test_mse_list = np.concatenate([[0], test_mse_list])\n",
    "\n",
    "    stop_tick = int(np.ceil((len(train_mse_list) - 1) / 5) * 5)\n",
    "    num_round = int(np.ceil((len(train_mse_list) - 1) / 5) + 1)\n",
    "\n",
    "    xticks = np.linspace(start = 0,\n",
    "                         stop = stop_tick,\n",
    "                         num = num_round)\n",
    "    xticks = np.delete(xticks, np.where(xticks <= start_epoch))\n",
    "    xticks = np.append(xticks, [start_epoch])\n",
    "\n",
    "    plt.figure(figsize = (8,5))\n",
    "    plt.plot(np.arange(len(train_mse_list))[start_epoch:] , train_mse_list[start_epoch:], label = \"Training\", marker = \"s\")\n",
    "    plt.plot(np.arange(len(test_mse_list))[start_epoch:], test_mse_list[start_epoch:], label = \"Testing\", marker = \"s\")\n",
    "    if mse_mean is not None:\n",
    "        plt.hlines(y = mse_mean,\n",
    "                   xmin = start_epoch,\n",
    "                   xmax = len(train_mse_list) - 1,\n",
    "                   color = \"black\",\n",
    "                   label = \"Random guessing\")\n",
    "    plt.legend(loc = \"upper right\")\n",
    "    plt.title(title)\n",
    "    plt.xlabel(\"Epoch\")\n",
    "    plt.ylabel(\"Mean Squared Error\")\n",
    "    plt.xticks(ticks = xticks)\n",
    "    plt.grid()\n",
    "    if savefig:\n",
    "        plt.savefig(img_file)\n",
    "    plt.show()"
   ]
  },
  {
   "cell_type": "code",
   "execution_count": 108,
   "metadata": {},
   "outputs": [],
   "source": [
    "model_1 = nn_load(\"../models/wine/enkf_wine_full_E20_B200_P100_H2.h5\")\n",
    "model_2 = nn_load(\"../models/wine/wine_adam_E20_B200.h5\")"
   ]
  },
  {
   "cell_type": "code",
   "execution_count": 65,
   "metadata": {},
   "outputs": [
    {
     "data": {
      "text/plain": [
       "array([ 0.        , 23.59680176, 12.5900898 ,  4.60226917,  2.616364  ,\n",
       "        2.03547454,  1.72127616,  1.50060594,  1.31787133,  1.16394401,\n",
       "        1.02440464,  0.9059552 ,  0.80812013,  0.72662622,  0.66903538,\n",
       "        0.62776303,  0.60336548,  0.58307451,  0.56829149,  0.56137383,\n",
       "        0.54759222])"
      ]
     },
     "execution_count": 65,
     "metadata": {},
     "output_type": "execute_result"
    }
   ],
   "source": [
    "np.concatenate([[0], train_mse_list])"
   ]
  },
  {
   "cell_type": "code",
   "execution_count": 78,
   "metadata": {},
   "outputs": [],
   "source": [
    "train_mse_list = list(model_2.history[\"mse\"])\n",
    "test_mse_list = list(model_2.history[\"val_mse\"])"
   ]
  },
  {
   "cell_type": "code",
   "execution_count": 79,
   "metadata": {},
   "outputs": [
    {
     "data": {
      "text/plain": [
       "[23.5968017578125,\n",
       " 12.590089797973633,\n",
       " 4.602269172668457,\n",
       " 2.616364002227783,\n",
       " 2.0354745388031006,\n",
       " 1.7212761640548706,\n",
       " 1.5006059408187866,\n",
       " 1.317871332168579,\n",
       " 1.1639440059661865,\n",
       " 1.0244046449661255,\n",
       " 0.9059551954269409,\n",
       " 0.8081201314926147,\n",
       " 0.7266262173652649,\n",
       " 0.6690353751182556,\n",
       " 0.627763032913208,\n",
       " 0.6033654808998108,\n",
       " 0.5830745100975037,\n",
       " 0.5682914853096008,\n",
       " 0.5613738298416138,\n",
       " 0.5475922226905823]"
      ]
     },
     "execution_count": 79,
     "metadata": {},
     "output_type": "execute_result"
    }
   ],
   "source": [
    "train_mse_list"
   ]
  },
  {
   "cell_type": "code",
   "execution_count": null,
   "metadata": {},
   "outputs": [],
   "source": []
  },
  {
   "cell_type": "code",
   "execution_count": 55,
   "metadata": {},
   "outputs": [
    {
     "data": {
      "text/plain": [
       "[23.5968017578125,\n",
       " 12.590089797973633,\n",
       " 4.602269172668457,\n",
       " 2.616364002227783,\n",
       " 2.0354745388031006,\n",
       " 1.7212761640548706,\n",
       " 1.5006059408187866,\n",
       " 1.317871332168579,\n",
       " 1.1639440059661865,\n",
       " 1.0244046449661255,\n",
       " 0.9059551954269409,\n",
       " 0.8081201314926147,\n",
       " 0.7266262173652649,\n",
       " 0.6690353751182556,\n",
       " 0.627763032913208,\n",
       " 0.6033654808998108,\n",
       " 0.5830745100975037,\n",
       " 0.5682914853096008,\n",
       " 0.5613738298416138,\n",
       " 0.5475922226905823]"
      ]
     },
     "execution_count": 55,
     "metadata": {},
     "output_type": "execute_result"
    }
   ],
   "source": [
    "list(model_2.history[\"mse\"])"
   ]
  },
  {
   "cell_type": "code",
   "execution_count": 119,
   "metadata": {},
   "outputs": [
    {
     "data": {
      "image/png": "[encoded data removed]",
      "text/plain": [
       "<Figure size 576x360 with 1 Axes>"
      ]
     },
     "metadata": {
      "needs_background": "light"
     },
     "output_type": "display_data"
    }
   ],
   "source": [
    "nn_plot_epoch_mse1(model,\n",
    "                   mse_mean = None, # mean_squared_error(y_train, np.ones(shape = (len(y_train),))*np.mean(y_train))\n",
    "                   start_epoch = 12,\n",
    "                   title = \"\",\n",
    "                   savefig = False,\n",
    "                   img_file = \"../img/accuracy_per_epoch.png\"\n",
    "                   )"
   ]
  }
 ],
 "metadata": {
  "kernelspec": {
   "display_name": "Python 3",
   "language": "python",
   "name": "python3"
  },
  "language_info": {
   "codemirror_mode": {
    "name": "ipython",
    "version": 3
   },
   "file_extension": ".py",
   "mimetype": "text/x-python",
   "name": "python",
   "nbconvert_exporter": "python",
   "pygments_lexer": "ipython3",
   "version": "3.7.7"
  }
 },
 "nbformat": 4,
 "nbformat_minor": 4
}
