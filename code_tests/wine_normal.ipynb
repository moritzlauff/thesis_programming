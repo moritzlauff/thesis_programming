{
 "cells": [
  {
   "cell_type": "code",
   "execution_count": 1,
   "metadata": {},
   "outputs": [],
   "source": [
    "import warnings\n",
    "warnings.filterwarnings(\"ignore\")"
   ]
  },
  {
   "cell_type": "code",
   "execution_count": 2,
   "metadata": {},
   "outputs": [],
   "source": [
    "import sys\n",
    "sys.path.insert(1, \"../python/functions\")\n",
    "sys.path.insert(2, \"../python/architecture\")"
   ]
  },
  {
   "cell_type": "code",
   "execution_count": 3,
   "metadata": {},
   "outputs": [
    {
     "name": "stdout",
     "output_type": "stream",
     "text": [
      "WARNING:tensorflow:From ../python/architecture\\reproducible.py:14: The name tf.keras.backend.set_session is deprecated. Please use tf.compat.v1.keras.backend.set_session instead.\n",
      "\n"
     ]
    }
   ],
   "source": [
    "from data_prep_functions import wine_prep\n",
    "from model_functions import *\n",
    "from plotting_functions import nn_plot_mse, nn_plot_mse_many\n",
    "import no_gpu\n",
    "import reproducible\n",
    "from sklearn.metrics import mean_squared_error"
   ]
  },
  {
   "cell_type": "code",
   "execution_count": 4,
   "metadata": {
    "scrolled": false
   },
   "outputs": [],
   "source": [
    "import time"
   ]
  },
  {
   "cell_type": "code",
   "execution_count": 5,
   "metadata": {},
   "outputs": [],
   "source": [
    "X_train, X_test, y_train, y_test = wine_prep()"
   ]
  },
  {
   "cell_type": "code",
   "execution_count": 6,
   "metadata": {},
   "outputs": [],
   "source": [
    "layers = 4\n",
    "neurons = [32, 32, 16, 1]\n",
    "n_cols = X_train.shape[1]\n",
    "batch_size = X_train.shape[0]      # X_train.shape[0]\n",
    "epochs = 30\n",
    "optimizer = \"sgd\""
   ]
  },
  {
   "cell_type": "code",
   "execution_count": 7,
   "metadata": {},
   "outputs": [
    {
     "name": "stdout",
     "output_type": "stream",
     "text": [
      "Epoch 1/30\n",
      "1/1 [==============================] - 0s 136ms/step - loss: 23.6868 - mse: 23.6868 - val_loss: 17.7512 - val_mse: 17.7512\n",
      "Epoch 2/30\n",
      "1/1 [==============================] - 0s 16ms/step - loss: 17.8216 - mse: 17.8216 - val_loss: 13.9138 - val_mse: 13.9138\n",
      "Epoch 3/30\n",
      "1/1 [==============================] - 0s 31ms/step - loss: 14.0044 - mse: 14.0044 - val_loss: 10.6003 - val_mse: 10.6003\n",
      "Epoch 4/30\n",
      "1/1 [==============================] - 0s 94ms/step - loss: 10.6933 - mse: 10.6933 - val_loss: 7.5193 - val_mse: 7.5193\n",
      "Epoch 5/30\n",
      "1/1 [==============================] - 0s 22ms/step - loss: 7.6118 - mse: 7.6118 - val_loss: 4.8879 - val_mse: 4.8879\n",
      "Epoch 6/30\n",
      "1/1 [==============================] - 0s 31ms/step - loss: 4.9841 - mse: 4.9841 - val_loss: 3.0441 - val_mse: 3.0441\n",
      "Epoch 7/30\n",
      "1/1 [==============================] - 0s 38ms/step - loss: 3.1358 - mse: 3.1358 - val_loss: 2.0647 - val_mse: 2.0647\n",
      "Epoch 8/30\n",
      "1/1 [==============================] - 0s 31ms/step - loss: 2.1451 - mse: 2.1451 - val_loss: 1.6722 - val_mse: 1.6722\n",
      "Epoch 9/30\n",
      "1/1 [==============================] - 0s 31ms/step - loss: 1.7411 - mse: 1.7411 - val_loss: 1.5224 - val_mse: 1.5224\n",
      "Epoch 10/30\n",
      "1/1 [==============================] - 0s 22ms/step - loss: 1.5847 - mse: 1.5847 - val_loss: 1.4407 - val_mse: 1.4407\n",
      "Epoch 11/30\n",
      "1/1 [==============================] - 0s 31ms/step - loss: 1.5001 - mse: 1.5001 - val_loss: 1.3769 - val_mse: 1.3769\n",
      "Epoch 12/30\n",
      "1/1 [==============================] - 0s 31ms/step - loss: 1.4354 - mse: 1.4354 - val_loss: 1.3206 - val_mse: 1.3206\n",
      "Epoch 13/30\n",
      "1/1 [==============================] - 0s 22ms/step - loss: 1.3791 - mse: 1.3791 - val_loss: 1.2699 - val_mse: 1.2699\n",
      "Epoch 14/30\n",
      "1/1 [==============================] - 0s 31ms/step - loss: 1.3289 - mse: 1.3289 - val_loss: 1.2240 - val_mse: 1.2240\n",
      "Epoch 15/30\n",
      "1/1 [==============================] - 0s 31ms/step - loss: 1.2836 - mse: 1.2836 - val_loss: 1.1826 - val_mse: 1.1826\n",
      "Epoch 16/30\n",
      "1/1 [==============================] - 0s 22ms/step - loss: 1.2428 - mse: 1.2428 - val_loss: 1.1450 - val_mse: 1.1450\n",
      "Epoch 17/30\n",
      "1/1 [==============================] - 0s 31ms/step - loss: 1.2057 - mse: 1.2057 - val_loss: 1.1108 - val_mse: 1.1108\n",
      "Epoch 18/30\n",
      "1/1 [==============================] - 0s 31ms/step - loss: 1.1721 - mse: 1.1721 - val_loss: 1.0798 - val_mse: 1.0798\n",
      "Epoch 19/30\n",
      "1/1 [==============================] - 0s 22ms/step - loss: 1.1417 - mse: 1.1417 - val_loss: 1.0515 - val_mse: 1.0515\n",
      "Epoch 20/30\n",
      "1/1 [==============================] - 0s 31ms/step - loss: 1.1138 - mse: 1.1138 - val_loss: 1.0257 - val_mse: 1.0257\n",
      "Epoch 21/30\n",
      "1/1 [==============================] - 0s 31ms/step - loss: 1.0884 - mse: 1.0884 - val_loss: 1.0021 - val_mse: 1.0021\n",
      "Epoch 22/30\n",
      "1/1 [==============================] - 0s 22ms/step - loss: 1.0650 - mse: 1.0650 - val_loss: 0.9805 - val_mse: 0.9805\n",
      "Epoch 23/30\n",
      "1/1 [==============================] - 0s 31ms/step - loss: 1.0436 - mse: 1.0436 - val_loss: 0.9605 - val_mse: 0.9605\n",
      "Epoch 24/30\n",
      "1/1 [==============================] - 0s 31ms/step - loss: 1.0237 - mse: 1.0237 - val_loss: 0.9421 - val_mse: 0.9421\n",
      "Epoch 25/30\n",
      "1/1 [==============================] - 0s 22ms/step - loss: 1.0054 - mse: 1.0054 - val_loss: 0.9251 - val_mse: 0.9251\n",
      "Epoch 26/30\n",
      "1/1 [==============================] - 0s 31ms/step - loss: 0.9885 - mse: 0.9885 - val_loss: 0.9095 - val_mse: 0.9095\n",
      "Epoch 27/30\n",
      "1/1 [==============================] - 0s 38ms/step - loss: 0.9728 - mse: 0.9728 - val_loss: 0.8950 - val_mse: 0.8950\n",
      "Epoch 28/30\n",
      "1/1 [==============================] - 0s 31ms/step - loss: 0.9583 - mse: 0.9583 - val_loss: 0.8815 - val_mse: 0.8815\n",
      "Epoch 29/30\n",
      "1/1 [==============================] - 0s 31ms/step - loss: 0.9447 - mse: 0.9447 - val_loss: 0.8689 - val_mse: 0.8689\n",
      "Epoch 30/30\n",
      "1/1 [==============================] - 0s 38ms/step - loss: 0.9321 - mse: 0.9321 - val_loss: 0.8571 - val_mse: 0.8571\n",
      "Overall calculation took 1.657534122467041 seconds.\n",
      "Model: \"sequential\"\n",
      "_________________________________________________________________\n",
      "Layer (type)                 Output Shape              Param #   \n",
      "=================================================================\n",
      "dense (Dense)                (None, 32)                384       \n",
      "_________________________________________________________________\n",
      "dense_1 (Dense)              (None, 32)                1056      \n",
      "_________________________________________________________________\n",
      "dense_2 (Dense)              (None, 16)                528       \n",
      "_________________________________________________________________\n",
      "dense_3 (Dense)              (None, 1)                 17        \n",
      "=================================================================\n",
      "Total params: 1,985\n",
      "Trainable params: 1,985\n",
      "Non-trainable params: 0\n",
      "_________________________________________________________________\n"
     ]
    },
    {
     "data": {
      "image/png": "[encoded data removed]",
      "text/plain": [
       "<Figure size 576x360 with 1 Axes>"
      ]
     },
     "metadata": {
      "needs_background": "light"
     },
     "output_type": "display_data"
    }
   ],
   "source": [
    "model = nn_model_structure(layers = layers,\n",
    "                           neurons = neurons,\n",
    "                           n_cols = n_cols,\n",
    "                           classification = False)\n",
    "model = nn_model_compile(model,\n",
    "                         optimizer = optimizer)\n",
    "start_time = time.time()\n",
    "model = nn_model_fit(model,\n",
    "                     X_train,\n",
    "                     y_train,\n",
    "                     X_val = X_test,\n",
    "                     y_val = y_test,\n",
    "                     batch_size = batch_size,\n",
    "                     epochs = epochs)\n",
    "end_time = time.time()\n",
    "print(\"Overall calculation took {} seconds.\".format(end_time - start_time))\n",
    "model.summary()\n",
    "nn_plot_mse(model,\n",
    "            mse_mean = None,\n",
    "            start_epoch = 1,\n",
    "            savefig = True,\n",
    "            file = \"../img/wine/wine_{}_E{}_B{}.png\".format(optimizer, epochs, batch_size))\n",
    "nn_save(model,\n",
    "        \"../models/wine/wine_{}_E{}_B{}.h5\".format(optimizer, epochs, batch_size))"
   ]
  },
  {
   "cell_type": "raw",
   "metadata": {},
   "source": [
    "import numpy as np\n",
    "y_pred_rounded = np.round(model.predict(X_test))\n",
    "\n",
    "mse_prediction = mean_squared_error(y_test, y_pred_rounded)\n",
    "mse_prediction"
   ]
  },
  {
   "cell_type": "raw",
   "metadata": {},
   "source": [
    "model_1 = nn_load(\"../models/wine/wine_sgd_E20_B200.h5\")"
   ]
  },
  {
   "cell_type": "raw",
   "metadata": {},
   "source": [
    "enkf_model = nn_load(\"../models/wine/enkf_wine_full_E20_B200_P200_H2.h5\")"
   ]
  },
  {
   "cell_type": "raw",
   "metadata": {},
   "source": [
    "nn_plot_mse(model_1,\n",
    "            mse_mean = None, # mean_squared_error(y_train, np.ones(shape = (len(y_train),))*np.mean(y_train))\n",
    "            start_epoch = 1,\n",
    "            title = \"\",\n",
    "            savefig = False,\n",
    "            file = \"../img/accuracy_per_epoch.png\"\n",
    "            ) "
   ]
  },
  {
   "cell_type": "raw",
   "metadata": {},
   "source": [
    "nn_plot_mse(enkf_model,\n",
    "            mse_mean = None, # mean_squared_error(y_train, np.ones(shape = (len(y_train),))*np.mean(y_train))\n",
    "            start_epoch = 1,\n",
    "            title = \"\",\n",
    "            savefig = False,\n",
    "            file = \"../img/accuracy_per_epoch.png\"\n",
    "            ) "
   ]
  },
  {
   "cell_type": "raw",
   "metadata": {},
   "source": [
    "model_list = [model,\n",
    "              model_1,\n",
    "              enkf_model]\n",
    "label_list = [\"Adam\",\n",
    "              \"SGD\",\n",
    "              \"EnKF\"]"
   ]
  },
  {
   "cell_type": "raw",
   "metadata": {
    "scrolled": true
   },
   "source": [
    "nn_plot_mse_many(model_list,\n",
    "                 label_list,\n",
    "                 train_test = \"train\",\n",
    "                 mse_mean = None,\n",
    "                 start_epoch = 1,\n",
    "                 savefig = False,\n",
    "                 file = \"../img/wine/wine_{}_E{}_B{}.png\".format(optimizer, epochs, batch_size))"
   ]
  }
 ],
 "metadata": {
  "kernelspec": {
   "display_name": "Python 3",
   "language": "python",
   "name": "python3"
  },
  "language_info": {
   "codemirror_mode": {
    "name": "ipython",
    "version": 3
   },
   "file_extension": ".py",
   "mimetype": "text/x-python",
   "name": "python",
   "nbconvert_exporter": "python",
   "pygments_lexer": "ipython3",
   "version": "3.7.7"
  }
 },
 "nbformat": 4,
 "nbformat_minor": 4
}
