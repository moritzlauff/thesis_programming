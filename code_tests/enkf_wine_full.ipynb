{
 "cells": [
  {
   "cell_type": "code",
   "execution_count": 1,
   "metadata": {},
   "outputs": [],
   "source": [
    "import warnings\n",
    "warnings.filterwarnings(\"ignore\")"
   ]
  },
  {
   "cell_type": "code",
   "execution_count": 2,
   "metadata": {},
   "outputs": [],
   "source": [
    "import sys\n",
    "sys.path.insert(1, \"../python/functions\")\n",
    "sys.path.insert(2, \"../python/architecture\")"
   ]
  },
  {
   "cell_type": "code",
   "execution_count": 3,
   "metadata": {},
   "outputs": [
    {
     "name": "stdout",
     "output_type": "stream",
     "text": [
      "WARNING:tensorflow:From ../python/architecture\\reproducible.py:14: The name tf.keras.backend.set_session is deprecated. Please use tf.compat.v1.keras.backend.set_session instead.\n",
      "\n"
     ]
    }
   ],
   "source": [
    "from data_prep_functions import wine_prep\n",
    "from plotting_functions import nn_plot_mse\n",
    "from enkf_functions import enkf_regressor\n",
    "from saving_functions import load_objects\n",
    "from model_functions import nn_load\n",
    "import reproducible\n",
    "import no_gpu\n",
    "from sklearn.metrics import mean_squared_error\n",
    "import numpy as np"
   ]
  },
  {
   "cell_type": "code",
   "execution_count": 4,
   "metadata": {},
   "outputs": [],
   "source": [
    "X_train, X_test, y_train, y_test = wine_prep()"
   ]
  },
  {
   "cell_type": "code",
   "execution_count": 5,
   "metadata": {},
   "outputs": [],
   "source": [
    "layers = 4\n",
    "neurons = [32, 32, 16, 1]"
   ]
  },
  {
   "cell_type": "code",
   "execution_count": 6,
   "metadata": {},
   "outputs": [],
   "source": [
    "import time"
   ]
  },
  {
   "cell_type": "code",
   "execution_count": 7,
   "metadata": {},
   "outputs": [],
   "source": [
    "setting_dict = {\"particles\": 1,\n",
    "                \"epochs\": 20,\n",
    "                \"batch_size\": 100,    # len(X_train)\n",
    "                \"h_0\": 2,\n",
    "                \"epsilon\": 0.5,\n",
    "                \"randomization\": False,\n",
    "                \"shuffle\": True,\n",
    "                \"early_stopping\": False,\n",
    "                \"early_stopping_diff\": 0.001\n",
    "               }"
   ]
  },
  {
   "cell_type": "code",
   "execution_count": 8,
   "metadata": {},
   "outputs": [],
   "source": [
    "particle_list = [100, 200, 300, 400, 500, 600, 700, 800, 900, 1000, 1500, 2000]\n",
    "particle_list = [2000]"
   ]
  },
  {
   "cell_type": "code",
   "execution_count": 9,
   "metadata": {},
   "outputs": [
    {
     "name": "stdout",
     "output_type": "stream",
     "text": [
      "Epoch 1. Training MSE: 0.816, Test MSE: 0.817.\n",
      "Epoch 2. Training MSE: 0.792, Test MSE: 0.792.\n",
      "Epoch 3. Training MSE: 0.787, Test MSE: 0.789.\n",
      "Epoch 4. Training MSE: 0.771, Test MSE: 0.773.\n",
      "Epoch 5. Training MSE: 0.762, Test MSE: 0.765.\n",
      "Epoch 6. Training MSE: 0.746, Test MSE: 0.752.\n",
      "Epoch 7. Training MSE: 0.72, Test MSE: 0.73.\n",
      "Epoch 8. Training MSE: 0.691, Test MSE: 0.704.\n",
      "Epoch 9. Training MSE: 0.651, Test MSE: 0.669.\n",
      "Epoch 10. Training MSE: 0.607, Test MSE: 0.632.\n",
      "Epoch 11. Training MSE: 0.589, Test MSE: 0.625.\n",
      "Epoch 12. Training MSE: 0.639, Test MSE: 0.678.\n",
      "Epoch 13. Training MSE: 0.681, Test MSE: 0.721.\n",
      "Epoch 14. Training MSE: 0.657, Test MSE: 0.699.\n",
      "Epoch 15. Training MSE: 0.587, Test MSE: 0.617.\n",
      "Epoch 16. Training MSE: 0.546, Test MSE: 0.57.\n",
      "Epoch 17. Training MSE: 0.564, Test MSE: 0.591.\n",
      "Epoch 18. Training MSE: 0.539, Test MSE: 0.573.\n",
      "Epoch 19. Training MSE: 0.51, Test MSE: 0.544.\n",
      "Epoch 20. Training MSE: 0.503, Test MSE: 0.556.\n",
      "Calculation time for 2000 particles: 656.3444084644318 minutes.\n"
     ]
    },
    {
     "data": {
      "image/png": "[encoded data removed]",
      "text/plain": [
       "<Figure size 576x360 with 1 Axes>"
      ]
     },
     "metadata": {
      "needs_background": "light"
     },
     "output_type": "display_data"
    }
   ],
   "source": [
    "for p in particle_list:\n",
    "    setting_dict[\"particles\"] = p\n",
    "    \n",
    "    import random\n",
    "    import os\n",
    "    import numpy as np\n",
    "    import tensorflow as tf\n",
    "\n",
    "    os.environ['PYTHONHASHSEED'] = '0'\n",
    "    np.random.seed(42)\n",
    "    random.seed(42)\n",
    "    session_conf = tf.compat.v1.ConfigProto(intra_op_parallelism_threads = 1, inter_op_parallelism_threads = 1)\n",
    "    tf.compat.v1.set_random_seed(42)\n",
    "    sess = tf.compat.v1.Session(graph = tf.compat.v1.get_default_graph(), config = session_conf)\n",
    "    tf.compat.v1.keras.backend.set_session(sess)\n",
    "\n",
    "    start_time = time.time()\n",
    "    mean_model = enkf_regressor(X_train,\n",
    "                                X_test,\n",
    "                                y_train,\n",
    "                                y_test,\n",
    "                                layers,\n",
    "                                neurons,\n",
    "                                setting_dict,\n",
    "                                save_all = True,\n",
    "                                file_var = \"../objects/wine/wine_enkf_full_E{}_B{}_P{}_H{}.pckl\".format(setting_dict[\"epochs\"], setting_dict[\"batch_size\"], setting_dict[\"particles\"], setting_dict[\"h_0\"]),\n",
    "                                file_model = \"../models/wine/wine_enkf_full_E{}_B{}_P{}_H{}.h5\".format(setting_dict[\"epochs\"], setting_dict[\"batch_size\"], setting_dict[\"particles\"], setting_dict[\"h_0\"]),\n",
    "                                verbose = 1)\n",
    "    end_time = time.time()\n",
    "    print(\"Calculation time for {} particles: {} minutes.\".format(p, (end_time - start_time) / 60))\n",
    "    nn_plot_mse(mean_model,\n",
    "                mse_mean = None,\n",
    "                start_epoch = 1,\n",
    "                savefig = True,\n",
    "                file = \"../img/wine/wine_enkf_full_E{}_B{}_P{}_H{}.png\".format(setting_dict[\"epochs\"], setting_dict[\"batch_size\"], setting_dict[\"particles\"], setting_dict[\"h_0\"]))"
   ]
  },
  {
   "cell_type": "code",
   "execution_count": 10,
   "metadata": {},
   "outputs": [],
   "source": [
    "obj_dict = load_objects(\"../objects/wine/wine_enkf_full_E{}_B{}_P{}_H{}.pckl\".format(setting_dict[\"epochs\"], setting_dict[\"batch_size\"], setting_dict[\"particles\"], setting_dict[\"h_0\"]))"
   ]
  },
  {
   "cell_type": "code",
   "execution_count": 11,
   "metadata": {},
   "outputs": [],
   "source": [
    "final_model = nn_load(\"../models/wine/wine_enkf_full_E{}_B{}_P{}_H{}.h5\".format(setting_dict[\"epochs\"], setting_dict[\"batch_size\"], setting_dict[\"particles\"], setting_dict[\"h_0\"]))"
   ]
  }
 ],
 "metadata": {
  "kernelspec": {
   "display_name": "Python 3",
   "language": "python",
   "name": "python3"
  },
  "language_info": {
   "codemirror_mode": {
    "name": "ipython",
    "version": 3
   },
   "file_extension": ".py",
   "mimetype": "text/x-python",
   "name": "python",
   "nbconvert_exporter": "python",
   "pygments_lexer": "ipython3",
   "version": "3.7.6"
  }
 },
 "nbformat": 4,
 "nbformat_minor": 4
}
