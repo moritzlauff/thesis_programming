{
 "cells": [
  {
   "cell_type": "code",
   "execution_count": 1,
   "metadata": {},
   "outputs": [
    {
     "name": "stdout",
     "output_type": "stream",
     "text": [
      "tf.Tensor([1.], shape=(1,), dtype=float32)\n",
      "tf.Tensor([1. 1.], shape=(2,), dtype=float32)\n"
     ]
    }
   ],
   "source": [
    "import tensorflow as tf\n",
    "\n",
    "loss_fn = tf.keras.losses.mean_squared_error\n",
    "print(loss_fn(tf.ones((1, 2,)), tf.Variable(tf.zeros((1, 2)))))\n",
    "\n",
    "y_pred = tf.Variable((2, 2), dtype = \"float32\")\n",
    "with tf.GradientTape() as tape:\n",
    "    #tape.watch(y_pred) # benötigt, wenn y_pred = tf.constant(...)\n",
    "    loss_value = loss_fn(tf.ones((1, 2,)), y_pred)\n",
    "    \n",
    "gradients = tape.gradient(loss_value, y_pred)\n",
    "print(gradients)\n",
    "# das passt. [1, 1] ist die Ableitung des MSE ausgewertet in y_pred_1 = 2 und y_pred_2 = 2"
   ]
  },
  {
   "cell_type": "code",
   "execution_count": 2,
   "metadata": {},
   "outputs": [
    {
     "data": {
      "text/plain": [
       "<tf.Tensor: shape=(1,), dtype=float32, numpy=array([1.], dtype=float32)>"
      ]
     },
     "execution_count": 2,
     "metadata": {},
     "output_type": "execute_result"
    }
   ],
   "source": [
    "loss_value"
   ]
  },
  {
   "cell_type": "code",
   "execution_count": 10,
   "metadata": {},
   "outputs": [
    {
     "name": "stdout",
     "output_type": "stream",
     "text": [
      "tf.Tensor([1. 1.], shape=(2,), dtype=float32)\n",
      "tf.Tensor([1. 1.], shape=(2,), dtype=float32)\n"
     ]
    }
   ],
   "source": [
    "import tensorflow as tf\n",
    "import numpy as np\n",
    "\n",
    "loss_fn = tf.keras.losses.mean_squared_error\n",
    "print(loss_fn(tf.ones((2, 2,)), tf.Variable(tf.zeros((2, 2)))))\n",
    "\n",
    "y = np.array([1, 1])\n",
    "y_pred = np.array([2, 2])\n",
    "\n",
    "y = tf.constant(y, dtype = \"float32\")\n",
    "y_pred = tf.Variable(y_pred, dtype = \"float32\")\n",
    "#y_pred = tf.Variable((2,2), dtype = \"float32\")\n",
    "with tf.GradientTape() as tape:\n",
    "    # tape.watch(y_pred) # benötigt, wenn y_pred = tf.constant(...)\n",
    "    loss_value = loss_fn(y, y_pred)\n",
    "    \n",
    "gradients = tape.gradient(loss_value, y_pred)\n",
    "print(gradients)\n",
    "# das passt. [1, 1] ist die Ableitung des MSE ausgewertet in y_pred_1 = 2 und y_pred_2 = 2"
   ]
  },
  {
   "cell_type": "code",
   "execution_count": 1,
   "metadata": {},
   "outputs": [
    {
     "name": "stdout",
     "output_type": "stream",
     "text": [
      "WARNING:tensorflow:From c:\\users\\morit\\anaconda3\\envs\\master_thesis\\lib\\site-packages\\tensorflow\\python\\ops\\resource_variable_ops.py:1666: calling BaseResourceVariable.__init__ (from tensorflow.python.ops.resource_variable_ops) with constraint is deprecated and will be removed in a future version.\n",
      "Instructions for updating:\n",
      "If using Keras pass *_constraint arguments to layers.\n",
      "Model: \"model\"\n",
      "_________________________________________________________________\n",
      "Layer (type)                 Output Shape              Param #   \n",
      "=================================================================\n",
      "input_1 (InputLayer)         [(None, 2)]               0         \n",
      "_________________________________________________________________\n",
      "dense (Dense)                (None, 64)                192       \n",
      "_________________________________________________________________\n",
      "dense_1 (Dense)              (None, 64)                4160      \n",
      "_________________________________________________________________\n",
      "dense_2 (Dense)              (None, 1)                 65        \n",
      "=================================================================\n",
      "Total params: 4,417\n",
      "Trainable params: 4,417\n",
      "Non-trainable params: 0\n",
      "_________________________________________________________________\n"
     ]
    }
   ],
   "source": [
    "import tensorflow as tf\n",
    "tf.compat.v1.disable_eager_execution() # macht keinen Unterschied\n",
    "import tensorflow.keras as keras\n",
    "import tensorflow.keras.layers as layers\n",
    "\n",
    "tf.random.set_seed(0)\n",
    "\n",
    "model_in = keras.Input(shape=(2,))\n",
    "model_d1 = layers.Dense(64, activation='relu')(model_in)\n",
    "model_d2 = layers.Dense(64, activation='relu')(model_d1)\n",
    "model_d3 = layers.Dense(1)(model_d2)\n",
    "model = keras.Model(inputs=[model_in], outputs=[model_d3])\n",
    "model.summary()\n",
    "\n",
    "v = tf.Variable([[0.1, 0.2]], name='v_var')"
   ]
  },
  {
   "cell_type": "code",
   "execution_count": 2,
   "metadata": {},
   "outputs": [
    {
     "name": "stdout",
     "output_type": "stream",
     "text": [
      "7\n",
      "Tensor(\"input_1:0\", shape=(None, 2), dtype=float32)\n",
      "None\n"
     ]
    }
   ],
   "source": [
    "with tf.GradientTape() as tape:\n",
    "    tape.watch(model.input)\n",
    "    model_vals = model(v)\n",
    "print(len(tape.watched_variables())) \n",
    "# 7      ( = (1 kernel + 1 bias) * (3 dense layers) + (1 v_var) )\n",
    "print(model.input)\n",
    "# Tensor(\"input_1:0\", shape=(None, 2), dtype=float32)\n",
    "model_grad = tape.gradient(model_vals, model.input)\n",
    "print(model_grad)\n",
    "# None"
   ]
  },
  {
   "cell_type": "code",
   "execution_count": 3,
   "metadata": {},
   "outputs": [
    {
     "name": "stdout",
     "output_type": "stream",
     "text": [
      "0\n"
     ]
    }
   ],
   "source": [
    "with tf.GradientTape(watch_accessed_variables=False) as tape:\n",
    "    tape.watch(model.input)\n",
    "    model_vals = model(v)\n",
    "print(len(tape.watched_variables())) \n",
    "# 0      (model.input isn't a variable so it is ignored)"
   ]
  },
  {
   "cell_type": "code",
   "execution_count": 4,
   "metadata": {},
   "outputs": [
    {
     "name": "stdout",
     "output_type": "stream",
     "text": [
      "1\n",
      "<tf.Variable 'v_var:0' shape=(1, 2) dtype=float32>\n",
      "Tensor(\"gradient_tape/model_2/dense/MatMul:0\", shape=(1, 2), dtype=float32)\n"
     ]
    }
   ],
   "source": [
    "with tf.GradientTape(watch_accessed_variables=False) as tape:\n",
    "    tape.watch(v)\n",
    "    model_vals = model(v)\n",
    "print(len(tape.watched_variables())) \n",
    "# 1\n",
    "print(v)\n",
    "# <tf.Variable 'v_var:0' shape=(1, 2) dtype=float32, numpy=array([[0.1, 0.2]], dtype=float32)>\n",
    "model_grad = tape.gradient(model_vals, v)\n",
    "print(model_grad)\n",
    "# tf.Tensor([[-0.04392226 -0.06807809]], shape=(1, 2), dtype=float32)"
   ]
  }
 ],
 "metadata": {
  "kernelspec": {
   "display_name": "Python 3",
   "language": "python",
   "name": "python3"
  },
  "language_info": {
   "codemirror_mode": {
    "name": "ipython",
    "version": 3
   },
   "file_extension": ".py",
   "mimetype": "text/x-python",
   "name": "python",
   "nbconvert_exporter": "python",
   "pygments_lexer": "ipython3",
   "version": "3.7.7"
  }
 },
 "nbformat": 4,
 "nbformat_minor": 4
}
