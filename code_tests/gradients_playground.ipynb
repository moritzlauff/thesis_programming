{
 "cells": [
  {
   "cell_type": "code",
   "execution_count": 1,
   "metadata": {},
   "outputs": [
    {
     "name": "stdout",
     "output_type": "stream",
     "text": [
      "tf.Tensor([1. 1.], shape=(2,), dtype=float32)\n",
      "tf.Tensor([2. 2.], shape=(2,), dtype=float32)\n"
     ]
    }
   ],
   "source": [
    "import tensorflow as tf\n",
    "\n",
    "loss_fn = tf.keras.losses.mean_squared_error\n",
    "print(loss_fn(tf.ones((2, 2,)), tf.Variable(tf.zeros((2, 2)))))\n",
    "\n",
    "y_pred = tf.Variable((2,2), dtype = \"float32\")\n",
    "with tf.GradientTape() as tape:\n",
    "    #tape.watch(y_pred) # benötigt, wenn y_pred = tf.constant(...)\n",
    "    loss_value = loss_fn(tf.ones((2, 2,)), y_pred)\n",
    "    \n",
    "gradients = tape.gradient(loss_value, y_pred)\n",
    "print(gradients)\n",
    "# das passt. [2, 2] ist die Ableitung des MSE ausgewertet in y_pred_1 = 2 und y_pred_2 = 2"
   ]
  }
 ],
 "metadata": {
  "kernelspec": {
   "display_name": "Python 3",
   "language": "python",
   "name": "python3"
  },
  "language_info": {
   "codemirror_mode": {
    "name": "ipython",
    "version": 3
   },
   "file_extension": ".py",
   "mimetype": "text/x-python",
   "name": "python",
   "nbconvert_exporter": "python",
   "pygments_lexer": "ipython3",
   "version": "3.7.7"
  }
 },
 "nbformat": 4,
 "nbformat_minor": 4
}
