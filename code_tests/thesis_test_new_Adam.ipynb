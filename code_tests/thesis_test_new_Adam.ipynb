{
 "cells": [
  {
   "cell_type": "code",
   "execution_count": 1,
   "metadata": {},
   "outputs": [],
   "source": [
    "import sys\n",
    "sys.path.insert(1, \"../python/functions\")\n",
    "sys.path.insert(2, \"../python/architecture\")"
   ]
  },
  {
   "cell_type": "code",
   "execution_count": 2,
   "metadata": {},
   "outputs": [
    {
     "name": "stdout",
     "output_type": "stream",
     "text": [
      "WARNING:tensorflow:From ../python/architecture\\reproducible.py:14: The name tf.keras.backend.set_session is deprecated. Please use tf.compat.v1.keras.backend.set_session instead.\n",
      "\n"
     ]
    }
   ],
   "source": [
    "from data_prep_functions import mnist_prep\n",
    "from model_functions import *\n",
    "from plotting_functions import *\n",
    "import no_gpu\n",
    "import reproducible\n",
    "from new_Adam import Adam_test"
   ]
  },
  {
   "cell_type": "code",
   "execution_count": 3,
   "metadata": {},
   "outputs": [
    {
     "name": "stdout",
     "output_type": "stream",
     "text": [
      "WARNING:tensorflow:From c:\\users\\morit\\anaconda3\\envs\\master_thesis\\lib\\site-packages\\tensorflow\\python\\ops\\resource_variable_ops.py:1666: calling BaseResourceVariable.__init__ (from tensorflow.python.ops.resource_variable_ops) with constraint is deprecated and will be removed in a future version.\n",
      "Instructions for updating:\n",
      "If using Keras pass *_constraint arguments to layers.\n"
     ]
    },
    {
     "data": {
      "text/plain": [
       "<new_Adam.Adam_test at 0x223bb6634c8>"
      ]
     },
     "execution_count": 3,
     "metadata": {},
     "output_type": "execute_result"
    }
   ],
   "source": [
    "Adam_test()"
   ]
  },
  {
   "cell_type": "code",
   "execution_count": 4,
   "metadata": {},
   "outputs": [
    {
     "data": {
      "text/plain": [
       "True"
      ]
     },
     "execution_count": 4,
     "metadata": {},
     "output_type": "execute_result"
    }
   ],
   "source": [
    "import tensorflow\n",
    "isinstance(Adam_test(), tensorflow.python.keras.optimizers.Optimizer)"
   ]
  },
  {
   "cell_type": "code",
   "execution_count": 5,
   "metadata": {},
   "outputs": [
    {
     "data": {
      "text/plain": [
       "False"
      ]
     },
     "execution_count": 5,
     "metadata": {},
     "output_type": "execute_result"
    }
   ],
   "source": [
    "import keras\n",
    "isinstance(Adam_test(), keras.optimizers.Optimizer)"
   ]
  },
  {
   "cell_type": "code",
   "execution_count": 6,
   "metadata": {},
   "outputs": [],
   "source": [
    "X_train, X_val, y_train, y_val = mnist_prep()"
   ]
  },
  {
   "cell_type": "code",
   "execution_count": 7,
   "metadata": {
    "scrolled": true
   },
   "outputs": [],
   "source": [
    "X_train_small = X_train[:1000, :]\n",
    "X_val_small = X_val[:500, :]\n",
    "y_train_small = y_train[:1000]\n",
    "y_val_small = y_val[:500]\n",
    "\n",
    "n_cols = X_train_small.shape[1]"
   ]
  },
  {
   "cell_type": "code",
   "execution_count": 8,
   "metadata": {},
   "outputs": [
    {
     "name": "stdout",
     "output_type": "stream",
     "text": [
      "Train on 1000 samples, validate on 500 samples\n",
      "Epoch 1/10\n",
      "1000/1000 [==============================] - 0s 46us/sample - loss: 2.0764 - accuracy: 0.3050 - val_loss: 1.7044 - val_accuracy: 0.4840\n",
      "Epoch 2/10\n",
      "1000/1000 [==============================] - 0s 24us/sample - loss: 1.3777 - accuracy: 0.5830 - val_loss: 1.1587 - val_accuracy: 0.6520\n",
      "Epoch 3/10\n",
      "1000/1000 [==============================] - 0s 24us/sample - loss: 0.8143 - accuracy: 0.7760 - val_loss: 0.7382 - val_accuracy: 0.7800\n",
      "Epoch 4/10\n",
      "1000/1000 [==============================] - 0s 26us/sample - loss: 0.4022 - accuracy: 0.8880 - val_loss: 0.5276 - val_accuracy: 0.8240\n",
      "Epoch 5/10\n",
      "1000/1000 [==============================] - 0s 24us/sample - loss: 0.2017 - accuracy: 0.9420 - val_loss: 0.4750 - val_accuracy: 0.8600\n",
      "Epoch 6/10\n",
      "1000/1000 [==============================] - 0s 23us/sample - loss: 0.1092 - accuracy: 0.9730 - val_loss: 0.4576 - val_accuracy: 0.8600\n",
      "Epoch 7/10\n",
      "1000/1000 [==============================] - 0s 24us/sample - loss: 0.0503 - accuracy: 0.9920 - val_loss: 0.4727 - val_accuracy: 0.8660\n",
      "Epoch 8/10\n",
      "1000/1000 [==============================] - 0s 23us/sample - loss: 0.0306 - accuracy: 0.9990 - val_loss: 0.4597 - val_accuracy: 0.8780\n",
      "Epoch 9/10\n",
      "1000/1000 [==============================] - 0s 24us/sample - loss: 0.0181 - accuracy: 1.0000 - val_loss: 0.4460 - val_accuracy: 0.8860\n",
      "Epoch 10/10\n",
      "1000/1000 [==============================] - 0s 22us/sample - loss: 0.0107 - accuracy: 1.0000 - val_loss: 0.4537 - val_accuracy: 0.8800\n",
      "Overall calculation took 0.5063252449035645 seconds.\n",
      "Model: \"sequential\"\n",
      "_________________________________________________________________\n",
      "Layer (type)                 Output Shape              Param #   \n",
      "=================================================================\n",
      "dense (Dense)                (None, 128)               100480    \n",
      "_________________________________________________________________\n",
      "dense_1 (Dense)              (None, 128)               16512     \n",
      "_________________________________________________________________\n",
      "dense_2 (Dense)              (None, 64)                8256      \n",
      "_________________________________________________________________\n",
      "dense_3 (Dense)              (None, 32)                2080      \n",
      "_________________________________________________________________\n",
      "dense_4 (Dense)              (None, 10)                330       \n",
      "=================================================================\n",
      "Total params: 127,658\n",
      "Trainable params: 127,658\n",
      "Non-trainable params: 0\n",
      "_________________________________________________________________\n"
     ]
    },
    {
     "data": {
      "image/png": "[encoded data removed]",
      "text/plain": [
       "<Figure size 432x288 with 1 Axes>"
      ]
     },
     "metadata": {
      "needs_background": "light"
     },
     "output_type": "display_data"
    }
   ],
   "source": [
    "import time\n",
    "model = nn_model_structure(layers = 5,\n",
    "                           neurons = [128, 128, 64, 32, 10],\n",
    "                           n_cols = n_cols)\n",
    "model = nn_model_compile(model)\n",
    "start_time = time.time()\n",
    "model = nn_model_fit(model,\n",
    "                     X_train = X_train_small,\n",
    "                     y_train = y_train_small,\n",
    "                     X_val = X_val_small,\n",
    "                     y_val = y_val_small,\n",
    "                     batch_size = 100,\n",
    "                     epochs = 10)\n",
    "end_time = time.time()\n",
    "print(\"Overall calculation took {} seconds.\".format(end_time - start_time))\n",
    "model.summary()\n",
    "nn_plot_acc(model)\n",
    "nn_save(model, \"../models/model_test_small_new_Adam.h5\")"
   ]
  }
 ],
 "metadata": {
  "kernelspec": {
   "display_name": "Python 3",
   "language": "python",
   "name": "python3"
  },
  "language_info": {
   "codemirror_mode": {
    "name": "ipython",
    "version": 3
   },
   "file_extension": ".py",
   "mimetype": "text/x-python",
   "name": "python",
   "nbconvert_exporter": "python",
   "pygments_lexer": "ipython3",
   "version": "3.7.6"
  }
 },
 "nbformat": 4,
 "nbformat_minor": 4
}
