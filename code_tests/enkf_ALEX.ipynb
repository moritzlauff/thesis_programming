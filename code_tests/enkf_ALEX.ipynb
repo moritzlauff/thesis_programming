{
 "cells": [
  {
   "cell_type": "code",
   "execution_count": 1,
   "metadata": {},
   "outputs": [],
   "source": [
    "import random\n",
    "import os\n",
    "import numpy as np\n",
    "import tensorflow as tf\n",
    "\n",
    "os.environ['PYTHONHASHSEED'] = '0'\n",
    "np.random.seed(42)\n",
    "random.seed(42)\n",
    "session_conf = tf.compat.v1.ConfigProto(intra_op_parallelism_threads = 1, inter_op_parallelism_threads = 1)\n",
    "tf.compat.v1.set_random_seed(42)\n",
    "sess = tf.compat.v1.Session(graph = tf.compat.v1.get_default_graph(), config = session_conf)\n",
    "tf.compat.v1.keras.backend.set_session(sess)"
   ]
  },
  {
   "cell_type": "code",
   "execution_count": 2,
   "metadata": {},
   "outputs": [],
   "source": [
    "import warnings\n",
    "warnings.filterwarnings(\"ignore\")"
   ]
  },
  {
   "cell_type": "code",
   "execution_count": 3,
   "metadata": {},
   "outputs": [],
   "source": [
    "import tensorflow\n",
    "from tensorflow.python.keras.layers import Dense\n",
    "from tensorflow.python.keras.models import Sequential\n",
    "import numpy as np\n",
    "\n",
    "class NNError(Exception):\n",
    "    pass\n",
    "\n",
    "def nn_model_structure(layers,\n",
    "                       neurons,\n",
    "                       n_cols,\n",
    "                       weight_initializer = tensorflow.python.keras.initializers.GlorotNormal(),\n",
    "                       bias_initializer = tensorflow.python.keras.initializers.GlorotNormal(),\n",
    "                       activation_first = \"relu\",\n",
    "                       classification = True\n",
    "                      ):\n",
    "\n",
    "    \"\"\" Function to define the structure of a neural network.\n",
    "\n",
    "\n",
    "    Parameters:\n",
    "\n",
    "    layers (int): Number of layers.\n",
    "    neurons (list): Number of neurons in each layer.\n",
    "    n_cols (int): Number of features of the input data (i.e. number of neurons of an input layer).\n",
    "    weight_initializer (tensorflow.python.ops.init_ops_v2): Initializer of the weights.\n",
    "    bias_initializer (tensorflow.python.ops.init_ops_v2): Initializer of the biases.\n",
    "    activation_first (str, or Activation object): Activation function to use in the hidden layers.\n",
    "    classification (bool): Whether it is a classification (True) or regression (False) problem.\n",
    "\n",
    "\n",
    "    Returns:\n",
    "\n",
    "    model (tensorflow.python.keras.engine.sequential.Sequential): Model with the specified structure.\n",
    "\n",
    "    \"\"\"\n",
    "\n",
    "    if len(neurons) != layers:\n",
    "        raise NNError(\"Wrong input shape: neurons must be of length of the value of layers.\")\n",
    "\n",
    "    tensorflow.python.keras.backend.clear_session()\n",
    "\n",
    "    model = Sequential()\n",
    "\n",
    "    for layer in range(layers):\n",
    "        # first layer\n",
    "        if layer == 0:\n",
    "            model.add(Dense(units = neurons[layer],\n",
    "                            activation = activation_first,\n",
    "                            input_shape = (n_cols, ),\n",
    "                            kernel_initializer = weight_initializer,\n",
    "                            bias_initializer = bias_initializer\n",
    "                           )\n",
    "                     )\n",
    "        elif layer == layers - 1:\n",
    "            # output layer\n",
    "            if classification:\n",
    "                if neurons[layer] == 2:\n",
    "                    model.add(Dense(units = neurons[layer],\n",
    "                                    activation = \"sigmoid\",\n",
    "                                    kernel_initializer = weight_initializer,\n",
    "                                    bias_initializer = bias_initializer\n",
    "                                   )\n",
    "                             )\n",
    "                else:\n",
    "                    model.add(Dense(units = neurons[layer],\n",
    "                                    activation = \"softmax\",\n",
    "                                    kernel_initializer = weight_initializer,\n",
    "                                    bias_initializer = bias_initializer\n",
    "                                   )\n",
    "                             )\n",
    "            else:\n",
    "                model.add(Dense(units = neurons[layer],\n",
    "                                kernel_initializer = weight_initializer,\n",
    "                                bias_initializer = bias_initializer\n",
    "                               )\n",
    "                         )\n",
    "        # hidden layers\n",
    "        else:\n",
    "            model.add(Dense(units = neurons[layer],\n",
    "                            activation = activation_first,\n",
    "                            kernel_initializer = weight_initializer,\n",
    "                            bias_initializer = bias_initializer\n",
    "                           )\n",
    "                     )\n",
    "\n",
    "    return model\n",
    "\n",
    "def nn_model_compile(model,\n",
    "                     optimizer = \"adam\"\n",
    "                    ):\n",
    "\n",
    "    \"\"\" Function to compile the neural network. Almost the same as the built-in keras.Model().compile().\n",
    "\n",
    "\n",
    "    Parameters:\n",
    "\n",
    "    model (tensorflow.python.keras.engine.sequential.Sequential): Some model.\n",
    "    optimizer (str or Optimizer object): The optimizer to use.\n",
    "    show_metrics (list of str): The displayed metrics information.\n",
    "\n",
    "\n",
    "    Returns:\n",
    "\n",
    "    model (tensorflow.python.keras.engine.sequential.Sequential): Compiled model.\n",
    "\n",
    "    \"\"\"\n",
    "\n",
    "    output_size = list(np.array(model.trainable_weights[len(model.trainable_weights)-1].shape))[0]\n",
    "\n",
    "    # regression\n",
    "    if output_size == 1:\n",
    "        model.compile(optimizer = optimizer,\n",
    "                      loss = \"mean_squared_error\",\n",
    "                      metrics = [\"mse\"]\n",
    "                     )\n",
    "\n",
    "    # binary classification\n",
    "    elif output_size == 2:\n",
    "        model.compile(optimizer = optimizer,\n",
    "                      loss = \"binary_crossentropy\",\n",
    "                      metrics = [\"accuracy\"]\n",
    "                     )\n",
    "\n",
    "    # multiclass classification\n",
    "    else:\n",
    "        model.compile(optimizer = optimizer,\n",
    "                      loss = \"categorical_crossentropy\",\n",
    "                      metrics = [\"accuracy\"]\n",
    "                     )\n",
    "\n",
    "    return model\n",
    "\n",
    "def nn_model_fit(model,\n",
    "                 X_train,\n",
    "                 y_train,\n",
    "                 X_val = None,\n",
    "                 y_val = None,\n",
    "                 batch_size = 32,\n",
    "                 epochs = 10,\n",
    "                 callbacks = None\n",
    "                ):\n",
    "\n",
    "    \"\"\" Function to fit the neural network. Almost the same as the built-in keras.Model().fit().\n",
    "\n",
    "\n",
    "    Parameters:\n",
    "\n",
    "    model (tensorflow.python.keras.engine.sequential.Sequential): Some model.\n",
    "    X_train (np.ndarray): Training data.\n",
    "    y_train (np.ndarray): Training target variable.\n",
    "    X_val (np.ndarray): Validation data during training.\n",
    "    y_val (np.ndarray): Validation target data during training.\n",
    "    batch_size (int): Some batch size.\n",
    "    epochs (int): Some number of epochs.\n",
    "    callbacks (list of callbacks objects): Some collection of callbacks.\n",
    "\n",
    "\n",
    "    Returns:\n",
    "\n",
    "    model (tensorflow.python.keras.engine.sequential.Sequential): Fitted model.\n",
    "\n",
    "    \"\"\"\n",
    "\n",
    "    model.fit(X_train,\n",
    "              y_train,\n",
    "              batch_size = batch_size,\n",
    "              epochs = epochs,\n",
    "              callbacks = callbacks,\n",
    "              validation_data = (X_val, y_val)\n",
    "             )\n",
    "\n",
    "    return model"
   ]
  },
  {
   "cell_type": "code",
   "execution_count": 4,
   "metadata": {},
   "outputs": [],
   "source": [
    "class BatchAccuracy(tensorflow.python.keras.callbacks.Callback):\n",
    "    def __init__(self, test_data):\n",
    "        self.test_data = test_data\n",
    "        self.acc = []\n",
    "\n",
    "    def on_batch_end(self, epoch, logs = {}):\n",
    "        X, y = self.test_data\n",
    "        self.acc.append(self.model.evaluate(X, y, verbose = 0)[1])"
   ]
  },
  {
   "cell_type": "code",
   "execution_count": 5,
   "metadata": {},
   "outputs": [],
   "source": [
    "import matplotlib.pyplot as plt\n",
    "\n",
    "def nn_plot_iter_acc(train_acc_list,\n",
    "                     test_acc_list,\n",
    "                     iteration_list,\n",
    "                     mean_comparison,\n",
    "                     num_ticks_per_epoch = 2,\n",
    "                     title = \"\",\n",
    "                     savefig = False,\n",
    "                     file = \"../img/accuracy_per_iteration.png\",\n",
    "                     works = False # weg, wenn die Accuracies besser werden\n",
    "                     ):\n",
    "\n",
    "    \"\"\" Function to plot the evolution of the accuracy of the neural network per iteration.\n",
    "\n",
    "\n",
    "    Parameters:\n",
    "\n",
    "    train_acc_list (list): Training accuracies.\n",
    "    test_acc_list (list): Test accuracies.\n",
    "    iteration_list (list): Epoch and Batch enumeration.\n",
    "    mean_comparison (float): Accuracy when always guessing at random.\n",
    "    title (str): Title of the plot.\n",
    "    savefig (bool): Whether or not to save the plot.\n",
    "    file (str): Path and filename if savefig is True.\n",
    "\n",
    "\n",
    "    \"\"\"\n",
    "\n",
    "    epoch_indices = np.array([i for i in range(len(iteration_list)) \\\n",
    "                                  if \"Batch: 1.\" in iteration_list[i]]) + 1\n",
    "    num_epochs = np.sum([\"Batch: 1.\" in iteration_list[i] for i in range(len(iteration_list))])\n",
    "\n",
    "    if works: # weg, wenn die Accuracies besser werden\n",
    "        ymin = 0\n",
    "        ymax = 1\n",
    "        yticks = np.array([0, 0.2, 0.4, 0.6, 0.8, 1])\n",
    "    else:\n",
    "        ymin = 0.07\n",
    "        ymax = 0.15\n",
    "        yticks = np.array([0, 0.1, 0.2])\n",
    "\n",
    "    xticks = np.linspace(start = 0,\n",
    "                         stop = len(iteration_list),\n",
    "                         num = num_epochs * num_ticks_per_epoch + 1)\n",
    "    xticks[0] = 1\n",
    "\n",
    "    plt.plot(np.arange(len(train_acc_list)) + 1, train_acc_list, label = \"Training\")\n",
    "    plt.plot(np.arange(len(test_acc_list)) + 1, test_acc_list, label = \"Testing\")\n",
    "    plt.vlines(x = epoch_indices,\n",
    "               ymin = ymin, # das muss noch auf 0 gesetzt werden, wenn die Accuracies besser werden\n",
    "               ymax = ymax, # das muss noch auf 1 gesetzt werden, wenn die Accuracies besser werden\n",
    "               color = \"red\",\n",
    "               linestyle = \"dotted\",\n",
    "               label = \"Epochs\"\n",
    "               )\n",
    "    plt.hlines(y = mean_comparison,\n",
    "               xmin = 1,\n",
    "               xmax = len(iteration_list),\n",
    "               color = \"black\",\n",
    "               label = \"Random guessing\")\n",
    "    plt.legend()\n",
    "    plt.title(title)\n",
    "    plt.xlabel(\"Iteration\")\n",
    "    plt.ylabel(\"Accuracy\")\n",
    "    plt.xticks(ticks = xticks)\n",
    "    plt.yticks(ticks = yticks)\n",
    "    plt.grid()\n",
    "    if savefig:\n",
    "        plt.savefig(file)\n",
    "    plt.show()"
   ]
  },
  {
   "cell_type": "code",
   "execution_count": 6,
   "metadata": {},
   "outputs": [],
   "source": [
    "import pandas as pd\n",
    "import tensorflow as tf\n",
    "from sklearn.preprocessing import StandardScaler\n",
    "\n",
    "def mnist_prep():\n",
    "\n",
    "    \"\"\" Function to prepare the MNIST dataset to use for modeling.\n",
    "\n",
    "\n",
    "    Parameters:\n",
    "\n",
    "    Returns:\n",
    "\n",
    "    X_train_scaled (np.ndarray): Train data X.\n",
    "    X_test_scaled (np.ndarray): Test data X.\n",
    "    y_train_onehot (pd.DataFrame): Train data y.\n",
    "    y_val_onehot (pd.DataFrame): Test data y.\n",
    "\n",
    "    \"\"\"\n",
    "    (X_train, y_train), (X_test, y_test) = tf.keras.datasets.mnist.load_data()\n",
    "    X_train = X_train.reshape(-1, 784).astype(\"float32\") / 255.0\n",
    "    X_test = X_test.reshape(-1, 784).astype(\"float32\") / 255.0\n",
    "    \n",
    "    scaler = StandardScaler()\n",
    "    scaler.fit(X_train)\n",
    "    X_train_scaled = scaler.transform(X_train)\n",
    "    X_test_scaled = scaler.transform(X_test)\n",
    "\n",
    "    y_train_onehot = pd.get_dummies(y_train)\n",
    "    y_test_onehot = pd.get_dummies(y_test)\n",
    "\n",
    "    return X_train_scaled, X_test_scaled, y_train_onehot, y_test_onehot"
   ]
  },
  {
   "cell_type": "code",
   "execution_count": 7,
   "metadata": {},
   "outputs": [],
   "source": [
    "X_train, X_test, y_train, y_test = mnist_prep()"
   ]
  },
  {
   "cell_type": "markdown",
   "metadata": {},
   "source": [
    "# EnKF"
   ]
  },
  {
   "cell_type": "code",
   "execution_count": 8,
   "metadata": {},
   "outputs": [],
   "source": [
    "batch_size = 600             # oder len(X_train)\n",
    "epochs = 20                  # oder 10, 50\n",
    "particles = 2000             # oder irgendeine natürliche Zahl >1\n",
    "early_stopping = False\n",
    "early_stopping_diff = 0.001\n",
    "batch_normal = False # evtl. noch einbauen, obwohl im Paper nicht gemacht (aber Achtung mit den Dimensionen unten!!!)\n",
    "shuffle = True\n",
    "randomization = True"
   ]
  },
  {
   "cell_type": "code",
   "execution_count": 9,
   "metadata": {},
   "outputs": [],
   "source": [
    "layers = 5\n",
    "neurons = [128, 128, 64, 32, 10]\n",
    "n_cols = X_train.shape[1]"
   ]
  },
  {
   "cell_type": "code",
   "execution_count": 10,
   "metadata": {},
   "outputs": [],
   "source": [
    "delta = 0.005\n",
    "h_0 = 2\n",
    "epsilon = 0.5"
   ]
  },
  {
   "cell_type": "code",
   "execution_count": 11,
   "metadata": {},
   "outputs": [],
   "source": [
    "n = len(X_train)\n",
    "num_batches = int(np.ceil(n / batch_size))\n",
    "batch_indices = np.cumsum([0] + list(np.ones(num_batches) * batch_size))\n",
    "batch_indices[-1] = n"
   ]
  },
  {
   "cell_type": "code",
   "execution_count": 12,
   "metadata": {},
   "outputs": [],
   "source": [
    "model_dict = {}\n",
    "weights_dict = {}\n",
    "y_pred_dict = {}\n",
    "jacobian_dict = {}\n",
    "weights_vector_dict = {}\n",
    "train_acc_dict = {}\n",
    "test_acc_dict = {}\n",
    "iteration_dict = {}\n",
    "\n",
    "# init_model already has weights and biases following the Glorot distribution\n",
    "# it can already be used to predict and evaluate, but it is very bad (<10% accuracy)\n",
    "# only used to determine shapes and shape_elements via its weights\n",
    "init_model = nn_model_structure(layers = layers,\n",
    "                                neurons = neurons,\n",
    "                                n_cols = n_cols)\n",
    "init_model = nn_model_compile(init_model,\n",
    "                              optimizer = \"sgd\")\n",
    "weights = init_model.get_weights()\n",
    "# shape contains the shapes of the weight matrices and bias vectors as a list of arrays\n",
    "shapes = [np.array(params.shape) for params in weights]\n",
    "# shape_elements contains the indices of the weights as a vector and tells where to cut\n",
    "shape_elements = np.cumsum([0] + [np.prod(shape) for shape in shapes])"
   ]
  },
  {
   "cell_type": "code",
   "execution_count": 13,
   "metadata": {},
   "outputs": [],
   "source": [
    "for i in range(particles):\n",
    "    # just an initial model with the correct structure regarding neurons, layers, activation functions, Glorot initialization\n",
    "    model = nn_model_structure(layers = layers,\n",
    "                               neurons = neurons,\n",
    "                               n_cols = n_cols)\n",
    "    model = nn_model_compile(model,\n",
    "                             optimizer = \"sgd\")\n",
    "    # for every particle write the model in a dictionary\n",
    "    model_dict[\"model_{}\".format(str(i+1))] = model\n",
    "    \n",
    "    # for every particles write the weights and biases in a dictionary\n",
    "    weights_dict[\"model_{}\".format(str(i+1))] = model_dict[\"model_{}\".format(str(i+1))]\\\n",
    "                                                    .get_weights()\n",
    "    \n",
    "    train_acc_dict[\"model_{}\".format(str(i+1))] = []\n",
    "    test_acc_dict[\"model_{}\".format(str(i+1))] = []\n",
    "    iteration_dict[\"model_{}\".format(str(i+1))] = []"
   ]
  },
  {
   "cell_type": "code",
   "execution_count": 14,
   "metadata": {},
   "outputs": [
    {
     "name": "stdout",
     "output_type": "stream",
     "text": [
      "1875/1875 [==============================] - 1s 670us/step - loss: 2.3164 - accuracy: 0.0992\n",
      "313/313 [==============================] - 0s 790us/step - loss: 2.3148 - accuracy: 0.1030\n"
     ]
    }
   ],
   "source": [
    "# mean_model as the model with the mean of the weights of all particle models\n",
    "mean_weights = list(np.mean(list(weights_dict.values()), axis = 0))\n",
    "mean_model = init_model\n",
    "mean_model.set_weights(mean_weights)\n",
    "\n",
    "mean_model_train_acc = np.array(mean_model.evaluate(X_train, y_train)[1])\n",
    "mean_model_test_acc = np.array(mean_model.evaluate(X_test, y_test)[1])"
   ]
  },
  {
   "cell_type": "code",
   "execution_count": 15,
   "metadata": {},
   "outputs": [],
   "source": [
    "import time\n",
    "start_time_all = time.time()"
   ]
  },
  {
   "cell_type": "code",
   "execution_count": 16,
   "metadata": {},
   "outputs": [],
   "source": [
    "# loop over all epochs\n",
    "for epoch in range(epochs):\n",
    "    # shuffle the data\n",
    "    if shuffle:\n",
    "        indices = y_train.sample(frac=1).index\n",
    "        X_batches = [X_train[indices][int(batch_indices[i]):int(batch_indices[i+1])] for i in range(len(batch_indices)-1)]\n",
    "        y_batches = [y_train.iloc[indices].reset_index(drop = True)[int(batch_indices[i]):int(batch_indices[i+1])] for i in range(len(batch_indices)-1)]   \n",
    "    # loop over all batches\n",
    "    for b in range(num_batches):    \n",
    "        for i in range(particles):\n",
    "            # set new weights for model\n",
    "            model_dict[\"model_{}\".format(str(i+1))].set_weights(weights_dict[\"model_{}\".format(str(i+1))])\n",
    "\n",
    "            # for every particle write the predictions on the training batches in a dictionary\n",
    "            y_pred_dict[\"model_{}\".format(str(i+1))] = model_dict[\"model_{}\".format(str(i+1))]\\\n",
    "                                                            .predict(X_batches[b])\n",
    "\n",
    "            # for every particle write the Jacobian in a dictionary\n",
    "            jacobian_dict[\"model_{}\".format(str(i+1))] = (-1) * np.multiply(np.array(y_batches[b]), \n",
    "                                                                            np.array(1 / (y_pred_dict[\"model_{}\".format(str(i+1))] + delta)))\n",
    "\n",
    "            # for every particle write the training accuracy of the current iteration in a dictionary\n",
    "            train_acc_dict[\"model_{}\".format(str(i+1))].append(model_dict[\"model_{}\".format(str(i+1))]\\\n",
    "                                                                      .evaluate(X_train, y_train, verbose = 0)[1])\n",
    "\n",
    "            # for every particle write the test accuracy of the current iteration in a dictionary\n",
    "            test_acc_dict[\"model_{}\".format(str(i+1))].append(model_dict[\"model_{}\".format(str(i+1))]\\\n",
    "                                                                      .evaluate(X_test, y_test, verbose = 0)[1])\n",
    "\n",
    "            # for every particle write the current iteration in a dictionary\n",
    "            iteration_dict[\"model_{}\".format(str(i+1))].append(\"Epoch: {}, Batch: {}.\".format(epoch+1, b+1))\n",
    "        \n",
    "        # compute the mean of the predictions\n",
    "        y_pred_mean = np.mean(list(y_pred_dict.values()), axis = 0)\n",
    "\n",
    "        # compute the matrix D elementwise\n",
    "        d = np.zeros(shape = (particles, particles))\n",
    "        for k in range(particles):\n",
    "            y_pred_centered = y_pred_dict[\"model_{}\".format(str(k+1))] - y_pred_mean\n",
    "            for j in range(particles):\n",
    "                d[k][j] = np.sum(np.multiply(y_pred_centered, jacobian_dict[\"model_{}\".format(str(j+1))]))\n",
    "\n",
    "        # compute the scalar h_t\n",
    "        h_t = h_0 / (np.sqrt(np.sum(d**2)) + epsilon)\n",
    "\n",
    "        # Reshape the weights and biases so that they are no longer matrices and vectores, but now one single vector\n",
    "        for i in range(particles):\n",
    "            weights_array = np.array([])\n",
    "            for j in range(len(weights_dict[\"model_{}\".format(str(i+1))])):\n",
    "                weights_array = np.append(weights_array, np.reshape(weights_dict[\"model_{}\".format(str(i+1))][j], (1, -1)).ravel())\n",
    "            weights_vector_dict[\"model_{}\".format(str(i+1))] = weights_array\n",
    "\n",
    "        # matrix with particle parameters as row vectors\n",
    "        weights_all_ptcls = np.array(list(weights_vector_dict.values()))\n",
    "\n",
    "        # compute the matrix with the updates for each particle\n",
    "        weights_all_ptcls = weights_all_ptcls - h_t * np.matmul(d, weights_all_ptcls)\n",
    "\n",
    "        for i in range(particles):\n",
    "            # write the updates back into the dictionary\n",
    "            weights_vector_dict[\"model_{}\".format(str(i+1))] = weights_all_ptcls[i]\n",
    "            # reshape the updates, so that they are of the original matrx and vector shape\n",
    "            for l in range(len(shape_elements)-1):\n",
    "                start = shape_elements[l]\n",
    "                end = shape_elements[l+1]\n",
    "                weights_dict[\"model_{}\".format(str(i+1))][l] = np.reshape(weights_vector_dict[\"model_{}\".format(str(i+1))][start:end], tuple(shapes[l]))\n",
    "            if randomization:\n",
    "                # add randomization/ noise to each particle\n",
    "                new_weights = []\n",
    "                # standard deviation for scaled Glorot distribution\n",
    "                for s in range(len(shapes)):\n",
    "                    if shapes[s].shape[0] == 2:\n",
    "                        fan_in = shapes[s][0]\n",
    "                        fan_out = shapes[s][1]\n",
    "                    if shapes[s].shape[0] == 1:\n",
    "                        fan_in = shapes[s-1][0]\n",
    "                        fan_out = shapes[s][0]\n",
    "                    stddev = np.sqrt(np.sqrt(h_t)) * np.sqrt(2 / (fan_in + fan_out))\n",
    "                    noise = np.random.normal(loc = 0.0,\n",
    "                                             scale = stddev,\n",
    "                                             size = tuple(shapes[s]))\n",
    "                    new_weights.append(weights_dict[\"model_{}\".format(str(i+1))][s] + noise)\n",
    "                weights_dict[\"model_{}\".format(str(i+1))] = new_weights\n",
    "\n",
    "    if randomization:\n",
    "        # randomize particles around their mean\n",
    "        weights_mean = list(np.mean(list(weights_dict.values()), axis = 0))\n",
    "        for i in range(particles):\n",
    "            new_weights = []\n",
    "            # standard deviation for Glorot distribution\n",
    "            for s in range(len(shapes)):\n",
    "                if shapes[s].shape[0] == 2:\n",
    "                    fan_in = shapes[s][0]\n",
    "                    fan_out = shapes[s][1]\n",
    "                if shapes[s].shape[0] == 1:\n",
    "                    fan_in = shapes[s-1][0]\n",
    "                    fan_out = shapes[s][0]\n",
    "                stddev = np.sqrt(2 / (fan_in + fan_out))\n",
    "                noise = np.random.normal(loc = 0.0,\n",
    "                                         scale = stddev,\n",
    "                                         size = tuple(shapes[s]))\n",
    "                new_weights.append(weights_mean[s] + noise)\n",
    "            weights_dict[\"model_{}\".format(str(i+1))] = new_weights\n",
    "\n",
    "    # update the mean_model\n",
    "    mean_weights = list(np.mean(list(weights_dict.values()), axis = 0))\n",
    "    mean_model.set_weights(mean_weights)\n",
    "    \n",
    "    mean_model_train_acc = np.append(mean_model_train_acc, np.array(mean_model.evaluate(X_train, y_train, verbose = 0)[1]))\n",
    "    mean_model_test_acc = np.append(mean_model_test_acc, np.array(mean_model.evaluate(X_test, y_test, verbose = 0)[1]))\n",
    "\n",
    "    # early stopping\n",
    "    if early_stopping:\n",
    "        if epoch == 0:\n",
    "            test_acc_old = 0\n",
    "        else:\n",
    "            test_acc_new = mean_model_test_acc[epoch]\n",
    "            if np.absolute(test_acc_new - test_acc_old) <= early_stopping_diff:\n",
    "                print(\"STOP: Early Stopping after epoch {} because improvement in test accuracy is only {}.\"\\\n",
    "                                                                     .format(epoch+1, test_acc_new - test_acc_old))\n",
    "                break\n",
    "            test_acc_old = test_acc_new"
   ]
  },
  {
   "cell_type": "code",
   "execution_count": 17,
   "metadata": {},
   "outputs": [
    {
     "name": "stdout",
     "output_type": "stream",
     "text": [
      "Calculation time: 11.32457709312439\n"
     ]
    }
   ],
   "source": [
    "end_time_all = time.time()\n",
    "print(\"Calculation time: {}\".format(end_time_all - start_time_all))"
   ]
  },
  {
   "cell_type": "code",
   "execution_count": 18,
   "metadata": {},
   "outputs": [
    {
     "data": {
      "text/plain": [
       "array([[0.04739351, 0.04810873, 0.09683854, ..., 0.12664261, 0.05760351,\n",
       "        0.05908848],\n",
       "       [0.05246773, 0.03135529, 0.13763687, ..., 0.13008025, 0.06595159,\n",
       "        0.08481704],\n",
       "       [0.06863016, 0.05772164, 0.06081   , ..., 0.13921937, 0.1281469 ,\n",
       "        0.08415485],\n",
       "       ...,\n",
       "       [0.07223228, 0.06820878, 0.08667799, ..., 0.15217033, 0.13210566,\n",
       "        0.05262593],\n",
       "       [0.05819223, 0.06706628, 0.13365565, ..., 0.08843465, 0.07231441,\n",
       "        0.11858459],\n",
       "       [0.07623256, 0.02524296, 0.08411267, ..., 0.21302198, 0.07210053,\n",
       "        0.11245888]], dtype=float32)"
      ]
     },
     "execution_count": 18,
     "metadata": {},
     "output_type": "execute_result"
    }
   ],
   "source": [
    "y_pred_dict[\"model_1\"]"
   ]
  },
  {
   "cell_type": "code",
   "execution_count": 19,
   "metadata": {},
   "outputs": [
    {
     "data": {
      "text/plain": [
       "array([[ -0.      ,  -0.      ,  -0.      , ...,  -0.      ,  -0.      ,\n",
       "         -0.      ],\n",
       "       [ -0.      ,  -0.      ,  -0.      , ...,  -0.      ,  -0.      ,\n",
       "        -11.133745],\n",
       "       [ -0.      ,  -0.      ,  -0.      , ...,  -0.      ,  -0.      ,\n",
       "         -0.      ],\n",
       "       ...,\n",
       "       [ -0.      ,  -0.      ,  -0.      , ...,  -0.      ,  -0.      ,\n",
       "         -0.      ],\n",
       "       [ -0.      ,  -0.      ,  -0.      , ...,  -0.      ,  -0.      ,\n",
       "         -8.091623],\n",
       "       [ -0.      ,  -0.      ,  -0.      , ...,  -0.      ,  -0.      ,\n",
       "         -0.      ]], dtype=float32)"
      ]
     },
     "execution_count": 19,
     "metadata": {},
     "output_type": "execute_result"
    }
   ],
   "source": [
    "jacobian_dict[\"model_1\"]"
   ]
  },
  {
   "cell_type": "code",
   "execution_count": 20,
   "metadata": {},
   "outputs": [
    {
     "name": "stdout",
     "output_type": "stream",
     "text": [
      "[0.09923334 0.08128333 0.08685   ]\n",
      "[0.103  0.082  0.0835]\n"
     ]
    }
   ],
   "source": [
    "print(mean_model_train_acc)\n",
    "print(mean_model_test_acc)"
   ]
  },
  {
   "cell_type": "code",
   "execution_count": 21,
   "metadata": {},
   "outputs": [
    {
     "data": {
      "text/plain": [
       "{'model_1': [0.11010000109672546, 0.10058332979679108],\n",
       " 'model_2': [0.07890000194311142, 0.08614999800920486],\n",
       " 'model_3': [0.08924999833106995, 0.1080000028014183]}"
      ]
     },
     "execution_count": 21,
     "metadata": {},
     "output_type": "execute_result"
    }
   ],
   "source": [
    "train_acc_dict"
   ]
  },
  {
   "cell_type": "code",
   "execution_count": 22,
   "metadata": {},
   "outputs": [
    {
     "data": {
      "text/plain": [
       "{'model_1': [0.11540000140666962, 0.10350000113248825],\n",
       " 'model_2': [0.07540000230073929, 0.08500000089406967],\n",
       " 'model_3': [0.08900000154972076, 0.1111999973654747]}"
      ]
     },
     "execution_count": 22,
     "metadata": {},
     "output_type": "execute_result"
    }
   ],
   "source": [
    "test_acc_dict"
   ]
  },
  {
   "cell_type": "code",
   "execution_count": 23,
   "metadata": {},
   "outputs": [
    {
     "data": {
      "image/png": "[encoded data removed]",
      "text/plain": [
       "<Figure size 432x288 with 1 Axes>"
      ]
     },
     "metadata": {
      "needs_background": "light"
     },
     "output_type": "display_data"
    }
   ],
   "source": [
    "nn_plot_iter_acc(train_acc_dict[\"model_1\"],\n",
    "                 test_acc_dict[\"model_1\"],\n",
    "                 iteration_dict[\"model_1\"],\n",
    "                 mean_comparison = 0.1)"
   ]
  },
  {
   "cell_type": "code",
   "execution_count": 24,
   "metadata": {},
   "outputs": [
    {
     "data": {
      "image/png": "[encoded data removed]",
      "text/plain": [
       "<Figure size 432x288 with 1 Axes>"
      ]
     },
     "metadata": {
      "needs_background": "light"
     },
     "output_type": "display_data"
    }
   ],
   "source": [
    "plt.plot(range(epochs+1), mean_model_train_acc, label=\"Training\")\n",
    "plt.plot(range(epochs+1), mean_model_test_acc, label=\"Test\")\n",
    "plt.legend()\n",
    "plt.show()"
   ]
  }
 ],
 "metadata": {
  "kernelspec": {
   "display_name": "Python 3",
   "language": "python",
   "name": "python3"
  },
  "language_info": {
   "codemirror_mode": {
    "name": "ipython",
    "version": 3
   },
   "file_extension": ".py",
   "mimetype": "text/x-python",
   "name": "python",
   "nbconvert_exporter": "python",
   "pygments_lexer": "ipython3",
   "version": "3.7.7"
  }
 },
 "nbformat": 4,
 "nbformat_minor": 4
}
