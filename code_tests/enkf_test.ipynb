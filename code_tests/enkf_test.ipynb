{
 "cells": [
  {
   "cell_type": "code",
   "execution_count": 1,
   "metadata": {},
   "outputs": [],
   "source": [
    "import warnings\n",
    "warnings.filterwarnings(\"ignore\")"
   ]
  },
  {
   "cell_type": "code",
   "execution_count": 2,
   "metadata": {},
   "outputs": [],
   "source": [
    "import sys\n",
    "sys.path.insert(1, \"../python/functions\")\n",
    "sys.path.insert(2, \"../python/architecture\")"
   ]
  },
  {
   "cell_type": "code",
   "execution_count": 3,
   "metadata": {},
   "outputs": [
    {
     "name": "stdout",
     "output_type": "stream",
     "text": [
      "WARNING:tensorflow:From ../python/architecture\\reproducible.py:14: The name tf.keras.backend.set_session is deprecated. Please use tf.compat.v1.keras.backend.set_session instead.\n",
      "\n"
     ]
    }
   ],
   "source": [
    "from data_prep_functions import mnist_prep\n",
    "from model_functions import *\n",
    "from plotting_functions import *\n",
    "import no_gpu\n",
    "import reproducible"
   ]
  },
  {
   "cell_type": "code",
   "execution_count": 4,
   "metadata": {
    "scrolled": false
   },
   "outputs": [],
   "source": [
    "import time"
   ]
  },
  {
   "cell_type": "code",
   "execution_count": 5,
   "metadata": {},
   "outputs": [],
   "source": [
    "X_train, X_val, y_train, y_val = mnist_prep()"
   ]
  },
  {
   "cell_type": "code",
   "execution_count": 6,
   "metadata": {},
   "outputs": [],
   "source": [
    "# use samller dataset for increased speed\n",
    "X_train_small = X_train[:1000, :]\n",
    "X_val_small = X_val[:500, :]\n",
    "y_train_small = y_train[:1000]\n",
    "y_val_small = y_val[:500]\n",
    "\n",
    "n_cols = X_train_small.shape[1]"
   ]
  },
  {
   "cell_type": "code",
   "execution_count": 7,
   "metadata": {},
   "outputs": [],
   "source": [
    "model = nn_model_structure(layers = 5,\n",
    "                           neurons = [128, 128, 64, 32, 10],\n",
    "                           n_cols = X_train_small.shape[1])\n",
    "model = nn_model_compile(model,\n",
    "                         optimizer = \"adam\")"
   ]
  },
  {
   "cell_type": "code",
   "execution_count": 8,
   "metadata": {},
   "outputs": [
    {
     "name": "stdout",
     "output_type": "stream",
     "text": [
      "Epoch 1/10\n",
      "10/10 [==============================] - 0s 14ms/step - loss: 2.1584 - accuracy: 0.2450 - val_loss: 1.9529 - val_accuracy: 0.4460\n",
      "Epoch 2/10\n",
      "10/10 [==============================] - 0s 3ms/step - loss: 1.5613 - accuracy: 0.5980 - val_loss: 1.4080 - val_accuracy: 0.6080\n",
      "Epoch 3/10\n",
      "10/10 [==============================] - 0s 4ms/step - loss: 0.9704 - accuracy: 0.7450 - val_loss: 0.9410 - val_accuracy: 0.7340\n",
      "Epoch 4/10\n",
      "10/10 [==============================] - 0s 3ms/step - loss: 0.5888 - accuracy: 0.8460 - val_loss: 0.7272 - val_accuracy: 0.7880\n",
      "Epoch 5/10\n",
      "10/10 [==============================] - 0s 3ms/step - loss: 0.4111 - accuracy: 0.8900 - val_loss: 0.6052 - val_accuracy: 0.8200\n",
      "Epoch 6/10\n",
      "10/10 [==============================] - 0s 3ms/step - loss: 0.2966 - accuracy: 0.9230 - val_loss: 0.5334 - val_accuracy: 0.8340\n",
      "Epoch 7/10\n",
      "10/10 [==============================] - 0s 3ms/step - loss: 0.2261 - accuracy: 0.9420 - val_loss: 0.5090 - val_accuracy: 0.8460\n",
      "Epoch 8/10\n",
      "10/10 [==============================] - 0s 3ms/step - loss: 0.1769 - accuracy: 0.9530 - val_loss: 0.4704 - val_accuracy: 0.8520\n",
      "Epoch 9/10\n",
      "10/10 [==============================] - 0s 3ms/step - loss: 0.1451 - accuracy: 0.9680 - val_loss: 0.4586 - val_accuracy: 0.8500\n",
      "Epoch 10/10\n",
      "10/10 [==============================] - 0s 3ms/step - loss: 0.1121 - accuracy: 0.9760 - val_loss: 0.4496 - val_accuracy: 0.8580\n",
      "Overall calculation took 0.76869797706604 seconds.\n",
      "Model: \"sequential\"\n",
      "_________________________________________________________________\n",
      "Layer (type)                 Output Shape              Param #   \n",
      "=================================================================\n",
      "dense (Dense)                (None, 128)               100480    \n",
      "_________________________________________________________________\n",
      "dense_1 (Dense)              (None, 128)               16512     \n",
      "_________________________________________________________________\n",
      "dense_2 (Dense)              (None, 64)                8256      \n",
      "_________________________________________________________________\n",
      "dense_3 (Dense)              (None, 32)                2080      \n",
      "_________________________________________________________________\n",
      "dense_4 (Dense)              (None, 10)                330       \n",
      "=================================================================\n",
      "Total params: 127,658\n",
      "Trainable params: 127,658\n",
      "Non-trainable params: 0\n",
      "_________________________________________________________________\n"
     ]
    },
    {
     "data": {
      "image/png": "[encoded data removed]",
      "text/plain": [
       "<Figure size 432x288 with 1 Axes>"
      ]
     },
     "metadata": {
      "needs_background": "light"
     },
     "output_type": "display_data"
    }
   ],
   "source": [
    "start_time = time.time()\n",
    "model = nn_model_fit(model,\n",
    "                     X_train = X_train_small,\n",
    "                     y_train = y_train_small,\n",
    "                     X_val = X_val_small,\n",
    "                     y_val = y_val_small,\n",
    "                     batch_size = 100,\n",
    "                     epochs = 10)\n",
    "end_time = time.time()\n",
    "print(\"Overall calculation took {} seconds.\".format(end_time - start_time))\n",
    "model.summary()\n",
    "nn_plot_acc(model)\n",
    "# nn_save(model, \"../models/model_test_small.h5\")"
   ]
  },
  {
   "cell_type": "code",
   "execution_count": 10,
   "metadata": {},
   "outputs": [
    {
     "name": "stdout",
     "output_type": "stream",
     "text": [
      "16/16 [==============================] - 0s 688us/step - loss: 0.4496 - accuracy: 0.8580\n",
      "0.8579999804496765\n",
      "(784, 128)\n",
      "[array([[-0.9825663 , -1.0448595 , -0.9829941 , ..., -1.081005  ,\n",
      "        -1.039437  , -1.0173888 ],\n",
      "       [-1.059742  , -1.0050594 , -0.9819378 , ..., -1.0406951 ,\n",
      "        -0.95030135, -0.9664014 ],\n",
      "       [-1.0499504 , -0.93690425, -1.0077294 , ..., -1.0569363 ,\n",
      "        -0.9651943 , -1.0480372 ],\n",
      "       ...,\n",
      "       [-0.9385758 , -1.009917  , -0.9512942 , ..., -1.0546863 ,\n",
      "        -0.93100244, -0.9971716 ],\n",
      "       [-1.0451013 , -0.95852774, -1.0559828 , ..., -0.98283786,\n",
      "        -1.0297642 , -0.90140915],\n",
      "       [-1.0990843 , -0.99812406, -0.9116216 , ..., -0.9515942 ,\n",
      "        -0.9846809 , -0.9902688 ]], dtype=float32)]\n",
      "(784, 128)\n",
      "16/16 [==============================] - 0s 626us/step - loss: 2.3433 - accuracy: 0.1340\n",
      "0.1340000033378601\n",
      "16/16 [==============================] - 0s 626us/step - loss: 0.4496 - accuracy: 0.8580\n",
      "0.8579999804496765\n"
     ]
    }
   ],
   "source": [
    "true_acc = model.evaluate(X_val_small, y_val_small)[1]\n",
    "print(true_acc)\n",
    "\n",
    "shape_0 = model.get_weights()[0].shape\n",
    "print(shape_0)\n",
    "\n",
    "old_first_weights = model.get_weights()[0]\n",
    "\n",
    "# first_weights = [np.random.normal(size = shape_0)]\n",
    "first_weights = [model.get_weights()[0]-1]\n",
    "print(first_weights)\n",
    "print(first_weights[0].shape)\n",
    "\n",
    "all_weights = first_weights + model.get_weights()[1:]\n",
    "# print(all_weights)\n",
    "\n",
    "model.set_weights(all_weights)\n",
    "\n",
    "fake_acc = model.evaluate(X_val_small, y_val_small)[1]\n",
    "print(fake_acc)\n",
    "\n",
    "old_weights = [old_first_weights] + model.get_weights()[1:]\n",
    "\n",
    "model.set_weights(old_weights)\n",
    "\n",
    "old_true_acc = model.evaluate(X_val_small, y_val_small)[1]\n",
    "print(old_true_acc)"
   ]
  },
  {
   "cell_type": "code",
   "execution_count": 11,
   "metadata": {},
   "outputs": [],
   "source": [
    "del model"
   ]
  },
  {
   "cell_type": "markdown",
   "metadata": {},
   "source": [
    "# EnKF"
   ]
  },
  {
   "cell_type": "code",
   "execution_count": 12,
   "metadata": {},
   "outputs": [],
   "source": [
    "X_train = X_train_small\n",
    "X_test = X_val_small\n",
    "y_train = y_train_small\n",
    "y_test = y_val_small"
   ]
  },
  {
   "cell_type": "code",
   "execution_count": 13,
   "metadata": {},
   "outputs": [],
   "source": [
    "batch_size = 500\n",
    "epochs = 1\n",
    "particles = 2\n",
    "early_stopping = 0.001\n",
    "batch_normal = False\n",
    "shuffle = True # noch einbauen!!!"
   ]
  },
  {
   "cell_type": "code",
   "execution_count": 14,
   "metadata": {},
   "outputs": [],
   "source": [
    "layers = 5\n",
    "neurons = [128, 128, 64, 32, 10]\n",
    "n_cols = X_train.shape[1]"
   ]
  },
  {
   "cell_type": "code",
   "execution_count": 15,
   "metadata": {},
   "outputs": [],
   "source": [
    "delta = 0.005\n",
    "h_0 = 300\n",
    "epsilon = 0.005"
   ]
  },
  {
   "cell_type": "code",
   "execution_count": 16,
   "metadata": {},
   "outputs": [],
   "source": [
    "n = len(X_train)\n",
    "num_batches = int(np.ceil(n / batch_size))\n",
    "batch_indices = np.cumsum([0] + list(np.ones(num_batches) * batch_size))\n",
    "batch_indices[-1] = n"
   ]
  },
  {
   "cell_type": "code",
   "execution_count": 17,
   "metadata": {},
   "outputs": [],
   "source": [
    "X_batches = [X_train[int(batch_indices[i]):int(batch_indices[i+1])] for i in range(len(batch_indices)-1)]\n",
    "y_batches = [y_train[int(batch_indices[i]):int(batch_indices[i+1])] for i in range(len(batch_indices)-1)]"
   ]
  },
  {
   "cell_type": "code",
   "execution_count": 17,
   "metadata": {},
   "outputs": [],
   "source": [
    "# start_time = time.time()"
   ]
  },
  {
   "cell_type": "code",
   "execution_count": 18,
   "metadata": {},
   "outputs": [],
   "source": [
    "model_dict = {}\n",
    "weights_dict = {}\n",
    "y_pred_dict = {}\n",
    "jacobian_dict = {}\n",
    "weights_vector_dict = {}\n",
    "\n",
    "# init_model already has weights and biases following the Glorot distribution\n",
    "# it can already be used to predict and evaluate, but it is very bad (<10% accuracy)\n",
    "init_model = nn_model_structure(layers = layers,\n",
    "                                neurons = neurons,\n",
    "                                n_cols = n_cols)\n",
    "init_model = nn_model_compile(init_model,\n",
    "                              optimizer = \"sgd\")\n",
    "weights = init_model.get_weights()\n",
    "# shape contains the shapes of the weight matrices and bias vectors as a list of arrays\n",
    "shapes = [np.array(params.shape) for params in weights]\n",
    "# shape_elements contains the indices of the weights as a vector and tells where to cut\n",
    "shape_elements = np.cumsum([0] + [np.prod(shape) for shape in shapes])"
   ]
  },
  {
   "cell_type": "code",
   "execution_count": 19,
   "metadata": {},
   "outputs": [
    {
     "name": "stdout",
     "output_type": "stream",
     "text": [
      "(784, 128)\n",
      "(128,)\n",
      "(128, 128)\n",
      "(128,)\n",
      "(128, 64)\n",
      "(64,)\n",
      "(64, 32)\n",
      "(32,)\n",
      "(32, 10)\n",
      "(10,)\n",
      "10\n"
     ]
    }
   ],
   "source": [
    "for p in init_model.get_weights():\n",
    "    print(p.shape)\n",
    "print(len(p))"
   ]
  },
  {
   "cell_type": "code",
   "execution_count": 20,
   "metadata": {},
   "outputs": [
    {
     "data": {
      "text/plain": [
       "array([[0.10160618, 0.08783221, 0.13828488, ..., 0.0517129 , 0.0964262 ,\n",
       "        0.10675424],\n",
       "       [0.08843368, 0.082394  , 0.14081806, ..., 0.06123935, 0.07609454,\n",
       "        0.12831067],\n",
       "       [0.09806038, 0.07677642, 0.12350909, ..., 0.06509114, 0.08106199,\n",
       "        0.11733598],\n",
       "       ...,\n",
       "       [0.09138219, 0.08101669, 0.12216112, ..., 0.0673466 , 0.07430341,\n",
       "        0.12863077],\n",
       "       [0.10634441, 0.07812874, 0.12643099, ..., 0.06322064, 0.08886763,\n",
       "        0.10894969],\n",
       "       [0.09543785, 0.07998399, 0.1285082 , ..., 0.06725163, 0.08683707,\n",
       "        0.11136663]], dtype=float32)"
      ]
     },
     "execution_count": 20,
     "metadata": {},
     "output_type": "execute_result"
    }
   ],
   "source": [
    "init_model.predict(X_test)"
   ]
  },
  {
   "cell_type": "code",
   "execution_count": 19,
   "metadata": {},
   "outputs": [
    {
     "name": "stdout",
     "output_type": "stream",
     "text": [
      "16/16 [==============================] - 0s 626us/step - loss: 2.3359 - accuracy: 0.0900\n"
     ]
    },
    {
     "data": {
      "text/plain": [
       "[2.3359150886535645, 0.09000000357627869]"
      ]
     },
     "execution_count": 19,
     "metadata": {},
     "output_type": "execute_result"
    }
   ],
   "source": [
    "init_model.evaluate(X_test, y_test)"
   ]
  },
  {
   "cell_type": "code",
   "execution_count": 22,
   "metadata": {},
   "outputs": [
    {
     "data": {
      "text/plain": [
       "array([[ 0.05316269,  0.01764145,  0.01522263, ...,  0.07493449,\n",
       "        -0.0201476 ,  0.09051652],\n",
       "       [-0.00516469,  0.07823637,  0.02811813, ..., -0.0174622 ,\n",
       "        -0.02144132, -0.02854406],\n",
       "       [-0.04033467,  0.00961152,  0.03930797, ..., -0.0174436 ,\n",
       "         0.03845177, -0.03893438],\n",
       "       ...,\n",
       "       [ 0.04866969,  0.05048861, -0.01158144, ..., -0.03740012,\n",
       "         0.01336047, -0.01347332],\n",
       "       [ 0.01840364, -0.02679037,  0.03217081, ..., -0.0442641 ,\n",
       "        -0.0488762 , -0.01088821],\n",
       "       [-0.07488225, -0.07203993, -0.02490162, ...,  0.01187966,\n",
       "         0.01317079,  0.01347652]], dtype=float32)"
      ]
     },
     "execution_count": 22,
     "metadata": {},
     "output_type": "execute_result"
    }
   ],
   "source": [
    "weights[0]"
   ]
  },
  {
   "cell_type": "code",
   "execution_count": 23,
   "metadata": {},
   "outputs": [
    {
     "data": {
      "text/plain": [
       "[array([784, 128]),\n",
       " array([128]),\n",
       " array([128, 128]),\n",
       " array([128]),\n",
       " array([128,  64]),\n",
       " array([64]),\n",
       " array([64, 32]),\n",
       " array([32]),\n",
       " array([32, 10]),\n",
       " array([10])]"
      ]
     },
     "execution_count": 23,
     "metadata": {},
     "output_type": "execute_result"
    }
   ],
   "source": [
    "shapes"
   ]
  },
  {
   "cell_type": "code",
   "execution_count": 24,
   "metadata": {},
   "outputs": [
    {
     "data": {
      "text/plain": [
       "array([     0, 100352, 100480, 116864, 116992, 125184, 125248, 127296,\n",
       "       127328, 127648, 127658], dtype=int32)"
      ]
     },
     "execution_count": 24,
     "metadata": {},
     "output_type": "execute_result"
    }
   ],
   "source": [
    "shape_elements"
   ]
  },
  {
   "cell_type": "code",
   "execution_count": 20,
   "metadata": {},
   "outputs": [],
   "source": [
    "for i in range(particles):\n",
    "    # just an initial model with the correct structure regarding neurons, layers, activation functions, Glorot initialization\n",
    "    model = nn_model_structure(layers = layers,\n",
    "                               neurons = neurons,\n",
    "                               n_cols = n_cols)\n",
    "    model = nn_model_compile(model,\n",
    "                             optimizer = \"sgd\")\n",
    "    # for every particle write the model in a dictionary\n",
    "    model_dict[\"model_{}\".format(str(i+1))] = model\n",
    "    \n",
    "    # for every particles write the weights and biases in a dictionary\n",
    "    weights_dict[\"model_{}\".format(str(i+1))] = model_dict[\"model_{}\".format(str(i+1))]\\\n",
    "                                                    .get_weights()"
   ]
  },
  {
   "cell_type": "code",
   "execution_count": 26,
   "metadata": {},
   "outputs": [
    {
     "data": {
      "text/plain": [
       "(784, 128)"
      ]
     },
     "execution_count": 26,
     "metadata": {},
     "output_type": "execute_result"
    }
   ],
   "source": [
    "weights_dict[\"model_1\"][0].shape"
   ]
  },
  {
   "cell_type": "markdown",
   "metadata": {},
   "source": [
    "bis hier hin passt weights_dict noch"
   ]
  },
  {
   "cell_type": "code",
   "execution_count": 21,
   "metadata": {},
   "outputs": [
    {
     "name": "stdout",
     "output_type": "stream",
     "text": [
      "16/16 [==============================] - 0s 626us/step - loss: 2.3586 - accuracy: 0.0960\n",
      "0.09600000083446503\n",
      "16/16 [==============================] - 0s 626us/step - loss: 2.3362 - accuracy: 0.0900\n",
      "0.09000000357627869\n"
     ]
    }
   ],
   "source": [
    "for i in range(particles):\n",
    "    print(model_dict[\"model_{}\".format(str(i+1))].evaluate(X_val_small, y_val_small)[1])"
   ]
  },
  {
   "cell_type": "markdown",
   "metadata": {},
   "source": [
    "Bis hier hin scheint alles gut zu sein. Verschiedene Modelle je Partikel mit den richtigen weights."
   ]
  },
  {
   "cell_type": "code",
   "execution_count": 28,
   "metadata": {},
   "outputs": [],
   "source": [
    "epoch = 1\n",
    "b = 0"
   ]
  },
  {
   "cell_type": "code",
   "execution_count": 31,
   "metadata": {},
   "outputs": [],
   "source": [
    "i=1"
   ]
  },
  {
   "cell_type": "code",
   "execution_count": 32,
   "metadata": {},
   "outputs": [],
   "source": [
    "y_pred_dict[\"model_{}\".format(str(i+1))] = model_dict[\"model_{}\".format(str(i+1))]\\\n",
    "                                                            .predict(X_batches[b])"
   ]
  },
  {
   "cell_type": "code",
   "execution_count": 33,
   "metadata": {},
   "outputs": [
    {
     "data": {
      "text/plain": [
       "{'model_1': array([[0.06636474, 0.08730603, 0.13116014, ..., 0.13296601, 0.08423506,\n",
       "         0.07309815],\n",
       "        [0.05952002, 0.08800955, 0.12935284, ..., 0.12457261, 0.08078581,\n",
       "         0.06223412],\n",
       "        [0.07510072, 0.08482299, 0.12103058, ..., 0.15330242, 0.0718178 ,\n",
       "         0.08833108],\n",
       "        ...,\n",
       "        [0.06878649, 0.09249178, 0.11722209, ..., 0.13235511, 0.07224651,\n",
       "         0.07031602],\n",
       "        [0.06945327, 0.08577596, 0.11895379, ..., 0.14121774, 0.06805298,\n",
       "         0.07750882],\n",
       "        [0.07393224, 0.08581229, 0.12076307, ..., 0.12180146, 0.07771387,\n",
       "         0.0737422 ]], dtype=float32),\n",
       " 'model_2': array([[0.08334758, 0.13120623, 0.13905257, ..., 0.079992  , 0.07086264,\n",
       "         0.07428858],\n",
       "        [0.07410111, 0.13960594, 0.12886728, ..., 0.08622922, 0.07137077,\n",
       "         0.07538734],\n",
       "        [0.088851  , 0.1244102 , 0.13330148, ..., 0.07756112, 0.07555285,\n",
       "         0.08117384],\n",
       "        ...,\n",
       "        [0.10412652, 0.11731075, 0.12585826, ..., 0.07637274, 0.06355006,\n",
       "         0.07878228],\n",
       "        [0.11364741, 0.10341156, 0.12841122, ..., 0.08676349, 0.06623875,\n",
       "         0.07546812],\n",
       "        [0.10773586, 0.11423621, 0.12466416, ..., 0.0784244 , 0.06758363,\n",
       "         0.08135799]], dtype=float32)}"
      ]
     },
     "execution_count": 33,
     "metadata": {},
     "output_type": "execute_result"
    }
   ],
   "source": [
    "y_pred_dict"
   ]
  },
  {
   "cell_type": "code",
   "execution_count": 36,
   "metadata": {},
   "outputs": [],
   "source": [
    "i=1"
   ]
  },
  {
   "cell_type": "code",
   "execution_count": 37,
   "metadata": {},
   "outputs": [],
   "source": [
    "jacobian_dict[\"model_{}\".format(str(i+1))] = (-1) * np.multiply(np.array(y_batches[b]), \n",
    "                                                                            np.array(1 / (y_pred_dict[\"model_{}\".format(str(i+1))] + delta)))"
   ]
  },
  {
   "cell_type": "code",
   "execution_count": 38,
   "metadata": {},
   "outputs": [
    {
     "data": {
      "text/plain": [
       "{'model_1': array([[ -0.       ,  -0.       ,  -0.       , ...,  -0.       ,\n",
       "          -0.       ,  -0.       ],\n",
       "        [-15.499064 ,  -0.       ,  -0.       , ...,  -0.       ,\n",
       "          -0.       ,  -0.       ],\n",
       "        [ -0.       ,  -0.       ,  -0.       , ...,  -0.       ,\n",
       "          -0.       ,  -0.       ],\n",
       "        ...,\n",
       "        [ -0.       ,  -0.       ,  -0.       , ...,  -7.2803993,\n",
       "          -0.       ,  -0.       ],\n",
       "        [ -0.       ,  -0.       ,  -0.       , ...,  -0.       ,\n",
       "          -0.       ,  -0.       ],\n",
       "        [ -0.       ,  -0.       ,  -0.       , ...,  -0.       ,\n",
       "         -12.08987  ,  -0.       ]], dtype=float32),\n",
       " 'model_2': array([[ -0.      ,  -0.      ,  -0.      , ...,  -0.      ,  -0.      ,\n",
       "          -0.      ],\n",
       "        [-12.642047,  -0.      ,  -0.      , ...,  -0.      ,  -0.      ,\n",
       "          -0.      ],\n",
       "        [ -0.      ,  -0.      ,  -0.      , ...,  -0.      ,  -0.      ,\n",
       "          -0.      ],\n",
       "        ...,\n",
       "        [ -0.      ,  -0.      ,  -0.      , ..., -12.289128,  -0.      ,\n",
       "          -0.      ],\n",
       "        [ -0.      ,  -0.      ,  -0.      , ...,  -0.      ,  -0.      ,\n",
       "          -0.      ],\n",
       "        [ -0.      ,  -0.      ,  -0.      , ...,  -0.      , -13.777211,\n",
       "          -0.      ]], dtype=float32)}"
      ]
     },
     "execution_count": 38,
     "metadata": {},
     "output_type": "execute_result"
    }
   ],
   "source": [
    "jacobian_dict"
   ]
  },
  {
   "cell_type": "code",
   "execution_count": 39,
   "metadata": {},
   "outputs": [
    {
     "data": {
      "text/plain": [
       "array([[0.07485616, 0.10925613, 0.13510635, ..., 0.106479  , 0.07754885,\n",
       "        0.07369336],\n",
       "       [0.06681056, 0.11380775, 0.12911007, ..., 0.10540092, 0.0760783 ,\n",
       "        0.06881073],\n",
       "       [0.08197586, 0.1046166 , 0.12716603, ..., 0.11543177, 0.07368533,\n",
       "        0.08475246],\n",
       "       ...,\n",
       "       [0.08645651, 0.10490127, 0.12154017, ..., 0.10436392, 0.06789829,\n",
       "        0.07454915],\n",
       "       [0.09155034, 0.09459376, 0.12368251, ..., 0.11399061, 0.06714587,\n",
       "        0.07648847],\n",
       "       [0.09083405, 0.10002425, 0.12271361, ..., 0.10011293, 0.07264875,\n",
       "        0.0775501 ]], dtype=float32)"
      ]
     },
     "execution_count": 39,
     "metadata": {},
     "output_type": "execute_result"
    }
   ],
   "source": [
    "y_pred_mean = np.mean(list(y_pred_dict.values()), axis = 0)\n",
    "y_pred_mean"
   ]
  },
  {
   "cell_type": "code",
   "execution_count": 40,
   "metadata": {},
   "outputs": [
    {
     "data": {
      "text/plain": [
       "array([[0., 0.],\n",
       "       [0., 0.]])"
      ]
     },
     "execution_count": 40,
     "metadata": {},
     "output_type": "execute_result"
    }
   ],
   "source": [
    "d = np.zeros(shape = (particles, particles))\n",
    "d"
   ]
  },
  {
   "cell_type": "code",
   "execution_count": 41,
   "metadata": {},
   "outputs": [],
   "source": [
    "k=0"
   ]
  },
  {
   "cell_type": "code",
   "execution_count": 42,
   "metadata": {},
   "outputs": [],
   "source": [
    "y_pred_centered = y_pred_dict[\"model_{}\".format(str(k+1))] - y_pred_mean"
   ]
  },
  {
   "cell_type": "code",
   "execution_count": 43,
   "metadata": {},
   "outputs": [
    {
     "data": {
      "text/plain": [
       "array([[-0.00849142, -0.0219501 , -0.00394621, ...,  0.02648701,\n",
       "         0.00668621, -0.00059522],\n",
       "       [-0.00729054, -0.02579819,  0.00024277, ...,  0.01917169,\n",
       "         0.00470752, -0.00657661],\n",
       "       [-0.00687514, -0.01979361, -0.00613546, ...,  0.03787065,\n",
       "        -0.00186753,  0.00357862],\n",
       "       ...,\n",
       "       [-0.01767001, -0.01240949, -0.00431809, ...,  0.02799119,\n",
       "         0.00434823, -0.00423313],\n",
       "       [-0.02209707, -0.0088178 , -0.00472871, ...,  0.02722713,\n",
       "         0.00090711,  0.00102035],\n",
       "       [-0.01690181, -0.01421197, -0.00195054, ...,  0.02168853,\n",
       "         0.00506512, -0.0038079 ]], dtype=float32)"
      ]
     },
     "execution_count": 43,
     "metadata": {},
     "output_type": "execute_result"
    }
   ],
   "source": [
    "y_pred_centered"
   ]
  },
  {
   "cell_type": "code",
   "execution_count": 44,
   "metadata": {},
   "outputs": [],
   "source": [
    "j=0"
   ]
  },
  {
   "cell_type": "code",
   "execution_count": 45,
   "metadata": {},
   "outputs": [],
   "source": [
    "d[k][j] = np.sum(np.multiply(y_pred_centered, jacobian_dict[\"model_{}\".format(str(j+1))]))"
   ]
  },
  {
   "cell_type": "code",
   "execution_count": 46,
   "metadata": {},
   "outputs": [
    {
     "data": {
      "text/plain": [
       "array([[23.00683975,  0.        ],\n",
       "       [ 0.        ,  0.        ]])"
      ]
     },
     "execution_count": 46,
     "metadata": {},
     "output_type": "execute_result"
    }
   ],
   "source": [
    "d"
   ]
  },
  {
   "cell_type": "code",
   "execution_count": 47,
   "metadata": {},
   "outputs": [],
   "source": [
    "for k in range(particles):\n",
    "    y_pred_centered = y_pred_dict[\"model_{}\".format(str(k+1))] - y_pred_mean\n",
    "    for j in range(particles):\n",
    "        d[k][j] = np.sum(np.multiply(y_pred_centered, jacobian_dict[\"model_{}\".format(str(j+1))]))"
   ]
  },
  {
   "cell_type": "code",
   "execution_count": 48,
   "metadata": {},
   "outputs": [
    {
     "data": {
      "text/plain": [
       "array([[ 23.00683975, -10.82749176],\n",
       "       [-23.00684357,  10.82748985]])"
      ]
     },
     "execution_count": 48,
     "metadata": {},
     "output_type": "execute_result"
    }
   ],
   "source": [
    "d"
   ]
  },
  {
   "cell_type": "code",
   "execution_count": 49,
   "metadata": {},
   "outputs": [
    {
     "data": {
      "text/plain": [
       "35.96468076371054"
      ]
     },
     "execution_count": 49,
     "metadata": {},
     "output_type": "execute_result"
    }
   ],
   "source": [
    "np.sqrt(np.sum(d**2)) + epsilon"
   ]
  },
  {
   "cell_type": "code",
   "execution_count": 50,
   "metadata": {},
   "outputs": [],
   "source": [
    "h_t = h_0 / (np.sqrt(np.sum(d**2)) + epsilon)"
   ]
  },
  {
   "cell_type": "code",
   "execution_count": 51,
   "metadata": {},
   "outputs": [
    {
     "data": {
      "text/plain": [
       "8.341517111496486"
      ]
     },
     "execution_count": 51,
     "metadata": {},
     "output_type": "execute_result"
    }
   ],
   "source": [
    "h_t"
   ]
  },
  {
   "cell_type": "code",
   "execution_count": 52,
   "metadata": {},
   "outputs": [],
   "source": [
    "j=0\n",
    "i=0"
   ]
  },
  {
   "cell_type": "code",
   "execution_count": 53,
   "metadata": {},
   "outputs": [
    {
     "data": {
      "text/plain": [
       "[array([[-0.02442957, -0.08253706,  0.06533472, ...,  0.1009049 ,\n",
       "         -0.02745313,  0.06049433],\n",
       "        [ 0.02250385,  0.00859564, -0.10634632, ..., -0.06338753,\n",
       "          0.10255604,  0.0347475 ],\n",
       "        [ 0.01036273, -0.0385828 , -0.05367718, ...,  0.03534405,\n",
       "         -0.0111302 , -0.04563821],\n",
       "        ...,\n",
       "        [-0.01988236,  0.06089912, -0.03189735, ...,  0.01594105,\n",
       "         -0.08252335, -0.05141233],\n",
       "        [ 0.0723844 ,  0.01871777,  0.01808749, ...,  0.03069874,\n",
       "         -0.04317818,  0.06011287],\n",
       "        [ 0.00741978, -0.00682715,  0.03992448, ...,  0.05702784,\n",
       "          0.01501952,  0.06621534]], dtype=float32),\n",
       " array([ 0.01506994,  0.06240517,  0.00970083, -0.14164431,  0.11062789,\n",
       "        -0.08846144,  0.06360345,  0.19189918, -0.0083973 ,  0.18345977,\n",
       "        -0.08549078, -0.06443703,  0.0354299 ,  0.11268251, -0.19702946,\n",
       "        -0.03617391, -0.15383221, -0.06472646,  0.0845689 , -0.06914531,\n",
       "        -0.07398204, -0.07987979, -0.08733968, -0.12108672,  0.10539345,\n",
       "         0.07375235,  0.09906904, -0.06818967, -0.09965686, -0.00859651,\n",
       "        -0.00138783, -0.12054553,  0.11057512,  0.06269944,  0.04778056,\n",
       "         0.04228026,  0.08294219,  0.04932271,  0.00593849, -0.07283453,\n",
       "        -0.08501289,  0.12644377, -0.0920745 , -0.01103569, -0.1872853 ,\n",
       "        -0.02904133, -0.03944192,  0.03246467, -0.01215747,  0.07553934,\n",
       "         0.06877479, -0.05837125,  0.02988948, -0.140813  ,  0.10750362,\n",
       "         0.11525853, -0.05446099,  0.03422267,  0.11996403, -0.05511134,\n",
       "        -0.02233822, -0.03487985,  0.0087286 ,  0.04591445, -0.12460417,\n",
       "        -0.01464547,  0.00887902, -0.10856717, -0.05651733,  0.00125444,\n",
       "         0.1385538 , -0.00643143,  0.18191504,  0.01753646, -0.04888651,\n",
       "         0.00934578, -0.03964638, -0.04244675,  0.00534078, -0.04598986,\n",
       "        -0.1980254 , -0.02951973, -0.07888438, -0.03449577,  0.18600409,\n",
       "        -0.11557081,  0.08825911, -0.14778084,  0.16914903,  0.03854264,\n",
       "        -0.07053564,  0.07429034,  0.14835982,  0.06546126,  0.14112777,\n",
       "         0.07327224, -0.15512684,  0.08822577,  0.13320881, -0.11476599,\n",
       "        -0.1587077 , -0.11916815,  0.03638238,  0.01845364, -0.16980323,\n",
       "         0.05363013,  0.00576264, -0.09464297,  0.02124342,  0.04496781,\n",
       "        -0.00303333,  0.11946861,  0.02637406,  0.01419323,  0.00571108,\n",
       "         0.1187822 , -0.01998644, -0.17797098, -0.0577505 ,  0.0238689 ,\n",
       "        -0.03045784,  0.1675256 , -0.11894729,  0.02810392, -0.02364098,\n",
       "         0.15262567,  0.16168243, -0.03457502], dtype=float32),\n",
       " array([[-0.10299385, -0.04766175,  0.01260396, ...,  0.11691935,\n",
       "         -0.1381292 , -0.15594563],\n",
       "        [-0.04679103,  0.02368566,  0.087319  , ..., -0.05746467,\n",
       "         -0.04610044, -0.01141042],\n",
       "        [ 0.10890602,  0.05864313, -0.06657774, ...,  0.03252072,\n",
       "          0.03447856,  0.09605391],\n",
       "        ...,\n",
       "        [ 0.03989521,  0.11109494,  0.01972838, ..., -0.03327065,\n",
       "          0.03546855, -0.00284476],\n",
       "        [-0.10305274,  0.0390627 , -0.04767536, ...,  0.05156057,\n",
       "          0.12114471,  0.10893092],\n",
       "        [-0.14707035,  0.00492852, -0.12193485, ..., -0.0340417 ,\n",
       "          0.03793207,  0.05461129]], dtype=float32),\n",
       " array([ 0.01921256, -0.04960607, -0.02766094, -0.0389818 , -0.02920578,\n",
       "         0.0196467 , -0.05021397,  0.14047301, -0.05335269, -0.06619399,\n",
       "        -0.08477934, -0.12622465, -0.04818808,  0.13533923, -0.05831404,\n",
       "        -0.0157451 ,  0.06686512, -0.01773614,  0.17416593, -0.04428875,\n",
       "         0.052895  ,  0.04806912, -0.16155316,  0.0733135 ,  0.1485143 ,\n",
       "         0.09658021,  0.02865896,  0.08527128, -0.12050924, -0.00070255,\n",
       "        -0.09082194, -0.05257577,  0.03866069,  0.02431091,  0.1383971 ,\n",
       "         0.0422531 ,  0.03191162,  0.01449347, -0.0890156 , -0.14168464,\n",
       "        -0.07659088, -0.00569064, -0.00382595,  0.04836978,  0.00193486,\n",
       "         0.04644705,  0.12283783, -0.03005594,  0.12955429,  0.11085765,\n",
       "         0.05270729,  0.05799878,  0.08947346,  0.05821946,  0.02469787,\n",
       "        -0.09101497, -0.12275811, -0.08658424, -0.09126943,  0.03580831,\n",
       "        -0.03808418, -0.02856002,  0.04703185,  0.17694797, -0.0417098 ,\n",
       "        -0.13124707, -0.07502667, -0.07679024, -0.12856023,  0.15795831,\n",
       "        -0.17285407,  0.06669651,  0.02056512,  0.02538235, -0.14411138,\n",
       "         0.03322632, -0.0237907 , -0.08317045, -0.18566616, -0.06343743,\n",
       "         0.04106212, -0.02439568, -0.09796622,  0.1053708 , -0.0366414 ,\n",
       "         0.06238922,  0.01833   , -0.06214879, -0.00415735,  0.13142152,\n",
       "        -0.05014201,  0.06898391,  0.00700575,  0.00528307, -0.09722594,\n",
       "        -0.12416499,  0.02098008,  0.05066134, -0.06114824, -0.08390038,\n",
       "         0.09642392,  0.01580695, -0.07007556, -0.01845666,  0.0263008 ,\n",
       "        -0.08499123, -0.07894886,  0.15586267,  0.06752881, -0.02086253,\n",
       "        -0.06982342, -0.00810724,  0.04335411, -0.06017316,  0.13023171,\n",
       "         0.06034664,  0.09931099,  0.08509988, -0.03099845, -0.06519645,\n",
       "         0.14735842,  0.09985599,  0.12981297,  0.08321503, -0.06512851,\n",
       "        -0.14810367, -0.11720792, -0.05351012], dtype=float32),\n",
       " array([[ 0.08519308,  0.11550263,  0.03937779, ..., -0.00257704,\n",
       "          0.01192928,  0.05998661],\n",
       "        [-0.11567562,  0.0769417 , -0.14835325, ..., -0.07312165,\n",
       "         -0.06414303, -0.1746258 ],\n",
       "        [ 0.22487149,  0.09184078, -0.03267482, ..., -0.04659842,\n",
       "          0.07593156, -0.05219424],\n",
       "        ...,\n",
       "        [-0.08163068,  0.01337655,  0.05591765, ...,  0.11538418,\n",
       "         -0.00696933,  0.00801662],\n",
       "        [-0.19383322, -0.17139728,  0.06869774, ...,  0.16720943,\n",
       "         -0.00544392, -0.13409606],\n",
       "        [-0.04565528,  0.10137714, -0.03534357, ...,  0.05532404,\n",
       "         -0.07231613,  0.02310661]], dtype=float32),\n",
       " array([-0.12633105,  0.01894283, -0.06836372,  0.05227692, -0.04092206,\n",
       "        -0.05906687,  0.13112696, -0.06927741,  0.01175393, -0.00350003,\n",
       "        -0.09509519, -0.06356902, -0.03791225, -0.15552232, -0.1038397 ,\n",
       "         0.05639677,  0.04974639, -0.01133355,  0.1164709 , -0.09448322,\n",
       "         0.06726704, -0.05437159,  0.04350828, -0.10986685, -0.14227745,\n",
       "        -0.04564352,  0.12371032,  0.03217074, -0.10378125,  0.00760872,\n",
       "        -0.0838582 ,  0.1183392 ,  0.12122207,  0.0401605 ,  0.02536533,\n",
       "        -0.0587692 ,  0.0281975 , -0.0277213 , -0.17642593,  0.18844232,\n",
       "        -0.2753734 , -0.08216463, -0.09411781, -0.16743135,  0.07658888,\n",
       "         0.23174459,  0.00383773,  0.17210442,  0.09023256, -0.23180078,\n",
       "        -0.02306993,  0.09383293,  0.26268739,  0.13060555, -0.0695955 ,\n",
       "        -0.11651963, -0.24890047,  0.00298341,  0.07088031,  0.01056066,\n",
       "        -0.09178429,  0.05263462,  0.1965675 , -0.17572896], dtype=float32),\n",
       " array([[ 0.03350969, -0.04367377, -0.1261687 , ..., -0.12888014,\n",
       "         -0.16892786,  0.16104577],\n",
       "        [ 0.16854382,  0.08123483,  0.08293898, ..., -0.09131265,\n",
       "          0.00558004,  0.01816102],\n",
       "        [-0.01241978,  0.12738834,  0.01792146, ...,  0.12613368,\n",
       "          0.14998914,  0.16133226],\n",
       "        ...,\n",
       "        [-0.13978791,  0.1150378 ,  0.02026905, ...,  0.07300396,\n",
       "          0.02028388, -0.01096914],\n",
       "        [-0.1275377 , -0.06168624, -0.08828615, ..., -0.2015027 ,\n",
       "          0.03672309,  0.03989327],\n",
       "        [-0.04216516,  0.0560875 , -0.03086802, ..., -0.05791602,\n",
       "         -0.05501138, -0.04121266]], dtype=float32),\n",
       " array([ 0.31101015,  0.22461459, -0.19646074, -0.04437554, -0.2586689 ,\n",
       "        -0.32149956,  0.01325053,  0.10244426,  0.19291206,  0.32375798,\n",
       "        -0.2024022 ,  0.3092195 ,  0.20269969,  0.19447036,  0.09859137,\n",
       "         0.05674234, -0.17100371, -0.10303489,  0.09814716, -0.01589701,\n",
       "        -0.15755625,  0.33127338, -0.10693571,  0.03555575, -0.11474866,\n",
       "        -0.3855011 ,  0.26760235, -0.02349328,  0.09859776, -0.06932225,\n",
       "        -0.03041615, -0.23246726], dtype=float32),\n",
       " array([[ 0.1610241 , -0.0909078 , -0.42594758,  0.01352685,  0.21033031,\n",
       "          0.20279741,  0.19453314, -0.0995727 , -0.10442328, -0.18876116],\n",
       "        [ 0.06054521, -0.26943788,  0.21058866, -0.42272964,  0.14035854,\n",
       "          0.02642259,  0.01389495,  0.15410915, -0.08818355,  0.0451774 ],\n",
       "        [ 0.2533637 , -0.33464608,  0.05234288,  0.1377324 ,  0.2781829 ,\n",
       "          0.02728692, -0.32941738,  0.3093913 , -0.09589735,  0.09184955],\n",
       "        [-0.00664873,  0.03245205, -0.34698027, -0.06587699,  0.33632872,\n",
       "          0.39997125, -0.27336818, -0.16429143,  0.13809115, -0.16176571],\n",
       "        [ 0.24027185,  0.01733615,  0.1769301 ,  0.18460308,  0.00112474,\n",
       "          0.14237168,  0.37123623,  0.35282707, -0.03746314, -0.08112505],\n",
       "        [-0.23476285, -0.14199646, -0.21526563,  0.03783565,  0.0222827 ,\n",
       "          0.15092252,  0.07161461, -0.11772946, -0.14303572, -0.3960898 ],\n",
       "        [-0.06668133,  0.2245009 , -0.45005417,  0.00709471, -0.2850146 ,\n",
       "          0.17574805,  0.0875892 ,  0.11358855,  0.44800127,  0.08277125],\n",
       "        [ 0.27889147, -0.23629957,  0.09173073,  0.36880925, -0.10397366,\n",
       "          0.03598297, -0.00181867,  0.4272608 , -0.19704372,  0.32352245],\n",
       "        [-0.00281571,  0.34359175,  0.10352003,  0.16612652, -0.34331653,\n",
       "          0.02578192,  0.05703928,  0.25581443, -0.3833139 , -0.10177924],\n",
       "        [ 0.19626021, -0.01602261, -0.24682008,  0.2130995 , -0.17822188,\n",
       "          0.24858117,  0.25206578,  0.00175738,  0.05377365,  0.20987323],\n",
       "        [-0.12118562,  0.14611532, -0.07547318,  0.12355848,  0.29252306,\n",
       "          0.17369165,  0.23595658,  0.0319319 , -0.14726073, -0.14779447],\n",
       "        [ 0.1357066 ,  0.07905253, -0.20142789, -0.08752237, -0.48984334,\n",
       "         -0.14964789,  0.20590644, -0.03794452, -0.08119713, -0.02968744],\n",
       "        [ 0.22269163, -0.04078855, -0.18903437,  0.1586395 , -0.0501243 ,\n",
       "         -0.01603206,  0.1868986 ,  0.14710723, -0.10826663,  0.13816728],\n",
       "        [-0.05590289,  0.09292737,  0.11552403, -0.29347494, -0.10014675,\n",
       "          0.26562503, -0.32737955, -0.38693205,  0.22949237, -0.3920272 ],\n",
       "        [-0.2778985 ,  0.04533654,  0.14193788,  0.2671685 ,  0.23407428,\n",
       "          0.21726593,  0.0688566 ,  0.2754441 , -0.19077198,  0.21659455],\n",
       "        [ 0.1182324 , -0.13321947, -0.26529002, -0.17432699, -0.03650486,\n",
       "          0.02533581, -0.0689826 ,  0.46842885, -0.03657934,  0.46450222],\n",
       "        [-0.17389901, -0.20881304,  0.27568763,  0.09113444,  0.11707378,\n",
       "          0.25238118, -0.25240058, -0.01284598, -0.11594202,  0.09901127],\n",
       "        [ 0.1812279 , -0.03348671,  0.3150061 , -0.30541438, -0.11765372,\n",
       "         -0.2860005 ,  0.14120638,  0.2133752 , -0.2597213 , -0.43023637],\n",
       "        [-0.2996941 ,  0.1193295 ,  0.11827403, -0.22854829, -0.28457868,\n",
       "          0.24374315,  0.24688335, -0.10498265,  0.057154  , -0.1990501 ],\n",
       "        [ 0.15498786, -0.10632659, -0.2556894 , -0.43917167, -0.28620803,\n",
       "         -0.00222349,  0.14862064, -0.14561205, -0.00938286,  0.08873286],\n",
       "        [-0.04198092, -0.24122958,  0.06565279,  0.2466173 ,  0.13662954,\n",
       "         -0.24769334,  0.33714032,  0.36814204, -0.10345595, -0.10148138],\n",
       "        [ 0.15739246, -0.00637115,  0.18297565,  0.33332548,  0.38452086,\n",
       "         -0.3060305 , -0.2629929 , -0.48278147,  0.07729456, -0.10279849],\n",
       "        [ 0.25202614, -0.28884467,  0.06245873, -0.10589336,  0.15945423,\n",
       "          0.03537471, -0.10320217,  0.1550824 ,  0.06276272,  0.14930739],\n",
       "        [ 0.0815208 ,  0.25923228,  0.014424  , -0.18391466, -0.22693779,\n",
       "         -0.02173835,  0.13621749,  0.06479739,  0.13468911, -0.44616666],\n",
       "        [ 0.3576061 ,  0.06007432, -0.3486701 ,  0.1559048 , -0.46997365,\n",
       "          0.32851893,  0.00990688, -0.04918044, -0.3873128 ,  0.01356901],\n",
       "        [ 0.41415438, -0.10887163,  0.20075798,  0.04617349,  0.0982824 ,\n",
       "          0.31907466,  0.09232429, -0.13696368, -0.17854173,  0.07744405],\n",
       "        [ 0.11777609, -0.21764961, -0.17704518,  0.24152179,  0.20923074,\n",
       "          0.21791112,  0.20239095,  0.337411  ,  0.2761607 , -0.40255946],\n",
       "        [ 0.0334379 , -0.32212016, -0.13957052, -0.4217509 , -0.31860507,\n",
       "         -0.12419916,  0.29543376,  0.23834822,  0.26327556, -0.13728167],\n",
       "        [ 0.13688941, -0.20410645,  0.25684607,  0.11460773,  0.02169668,\n",
       "          0.07071588, -0.02341217, -0.30342564, -0.32421476,  0.1794071 ],\n",
       "        [-0.12790065, -0.32551685, -0.0949216 , -0.18168351, -0.05070313,\n",
       "         -0.1151601 , -0.3652264 , -0.45179895,  0.05464547,  0.02436635],\n",
       "        [ 0.08574798, -0.31731844,  0.11248406, -0.169832  ,  0.05309566,\n",
       "         -0.06615535,  0.04581263,  0.35402587, -0.05443728,  0.17194399],\n",
       "        [ 0.34191746,  0.19792598, -0.02531751,  0.29882196, -0.0019542 ,\n",
       "         -0.08145075, -0.10098518,  0.02984203, -0.19659133,  0.3222299 ]],\n",
       "       dtype=float32),\n",
       " array([-0.453471  ,  0.09829473,  0.6961263 ,  0.05528444,  0.11493964,\n",
       "         0.43968236, -0.1645071 ,  0.5322625 , -0.0083983 ,  0.13255249],\n",
       "       dtype=float32)]"
      ]
     },
     "execution_count": 53,
     "metadata": {},
     "output_type": "execute_result"
    }
   ],
   "source": [
    "weights_dict[\"model_{}\".format(str(i+1))]"
   ]
  },
  {
   "cell_type": "code",
   "execution_count": 54,
   "metadata": {},
   "outputs": [],
   "source": [
    "w0 = weights_dict[\"model_{}\".format(str(i+1))][0]\n",
    "w1 = weights_dict[\"model_{}\".format(str(i+1))][1]"
   ]
  },
  {
   "cell_type": "code",
   "execution_count": 55,
   "metadata": {},
   "outputs": [
    {
     "data": {
      "text/plain": [
       "array([[-0.02442957, -0.08253706,  0.06533472, ...,  0.1009049 ,\n",
       "        -0.02745313,  0.06049433],\n",
       "       [ 0.02250385,  0.00859564, -0.10634632, ..., -0.06338753,\n",
       "         0.10255604,  0.0347475 ],\n",
       "       [ 0.01036273, -0.0385828 , -0.05367718, ...,  0.03534405,\n",
       "        -0.0111302 , -0.04563821],\n",
       "       ...,\n",
       "       [-0.01988236,  0.06089912, -0.03189735, ...,  0.01594105,\n",
       "        -0.08252335, -0.05141233],\n",
       "       [ 0.0723844 ,  0.01871777,  0.01808749, ...,  0.03069874,\n",
       "        -0.04317818,  0.06011287],\n",
       "       [ 0.00741978, -0.00682715,  0.03992448, ...,  0.05702784,\n",
       "         0.01501952,  0.06621534]], dtype=float32)"
      ]
     },
     "execution_count": 55,
     "metadata": {},
     "output_type": "execute_result"
    }
   ],
   "source": [
    "w0"
   ]
  },
  {
   "cell_type": "code",
   "execution_count": 56,
   "metadata": {},
   "outputs": [],
   "source": [
    "w0_new = np.reshape(w0, (1, -1)).ravel()\n",
    "w1_new = np.reshape(w1, (1, -1)).ravel()"
   ]
  },
  {
   "cell_type": "code",
   "execution_count": 57,
   "metadata": {},
   "outputs": [
    {
     "name": "stdout",
     "output_type": "stream",
     "text": [
      "(100352,)\n",
      "(128,)\n",
      "(100480,)\n"
     ]
    }
   ],
   "source": [
    "print(w0_new.shape)\n",
    "print(w1_new.shape)\n",
    "print(np.append(w0_new, w1_new).shape)"
   ]
  },
  {
   "cell_type": "code",
   "execution_count": 58,
   "metadata": {},
   "outputs": [
    {
     "data": {
      "text/plain": [
       "array([1., 2., 3.])"
      ]
     },
     "execution_count": 58,
     "metadata": {},
     "output_type": "execute_result"
    }
   ],
   "source": [
    "a = np.array([])\n",
    "a = np.append(a, np.array([1,2,3]))\n",
    "a"
   ]
  },
  {
   "cell_type": "code",
   "execution_count": 59,
   "metadata": {},
   "outputs": [
    {
     "data": {
      "text/plain": [
       "array([1., 2., 3.])"
      ]
     },
     "execution_count": 59,
     "metadata": {},
     "output_type": "execute_result"
    }
   ],
   "source": [
    "np.append(np.array([]), np.array([1,2,3]))"
   ]
  },
  {
   "cell_type": "code",
   "execution_count": 60,
   "metadata": {},
   "outputs": [],
   "source": [
    "for i in range(particles):\n",
    "            weights_array = np.array([])\n",
    "            for j in range(len(weights_dict[\"model_{}\".format(str(i+1))])):\n",
    "                weights_array = np.append(weights_array, np.reshape(weights_dict[\"model_{}\".format(str(i+1))][j], (1, -1)).ravel())\n",
    "            weights_vector_dict[\"model_{}\".format(str(i+1))] = weights_array"
   ]
  },
  {
   "cell_type": "code",
   "execution_count": 65,
   "metadata": {},
   "outputs": [
    {
     "data": {
      "text/plain": [
       "(127658,)"
      ]
     },
     "execution_count": 65,
     "metadata": {},
     "output_type": "execute_result"
    }
   ],
   "source": [
    "weights_vector_dict[\"model_1\"].shape"
   ]
  },
  {
   "cell_type": "code",
   "execution_count": 70,
   "metadata": {},
   "outputs": [],
   "source": [
    "weights_all_ptcls = np.array(list(weights_vector_dict.values()))"
   ]
  },
  {
   "cell_type": "code",
   "execution_count": 71,
   "metadata": {},
   "outputs": [
    {
     "data": {
      "text/plain": [
       "array([[-0.02442957, -0.08253706,  0.06533472, ...,  0.5322625 ,\n",
       "        -0.0083983 ,  0.13255249],\n",
       "       [ 0.02953712,  0.04797963, -0.01230592, ..., -0.23547073,\n",
       "        -0.45098421,  0.03597343]])"
      ]
     },
     "execution_count": 71,
     "metadata": {},
     "output_type": "execute_result"
    }
   ],
   "source": [
    "weights_all_ptcls"
   ]
  },
  {
   "cell_type": "code",
   "execution_count": 68,
   "metadata": {},
   "outputs": [
    {
     "data": {
      "text/plain": [
       "(2, 127658)"
      ]
     },
     "execution_count": 68,
     "metadata": {},
     "output_type": "execute_result"
    }
   ],
   "source": [
    "weights_all_ptcls.shape"
   ]
  },
  {
   "cell_type": "code",
   "execution_count": 72,
   "metadata": {},
   "outputs": [],
   "source": [
    "weights_all_ptcls = weights_all_ptcls - h_t * np.matmul(d, weights_all_ptcls)"
   ]
  },
  {
   "cell_type": "code",
   "execution_count": 73,
   "metadata": {},
   "outputs": [
    {
     "data": {
      "text/plain": [
       "array([[   7.33162221,   20.09072158,  -13.58462175, ..., -122.88244755,\n",
       "         -39.12852391,  -22.05681589],\n",
       "       [  -7.32651498,  -20.12528088,   13.63765243, ...,  123.17925252,\n",
       "          38.66913395,   22.22534661]])"
      ]
     },
     "execution_count": 73,
     "metadata": {},
     "output_type": "execute_result"
    }
   ],
   "source": [
    "weights_all_ptcls"
   ]
  },
  {
   "cell_type": "code",
   "execution_count": 79,
   "metadata": {},
   "outputs": [
    {
     "name": "stdout",
     "output_type": "stream",
     "text": [
      "0.40931648300458434\n",
      "-0.4018188478407012\n"
     ]
    }
   ],
   "source": [
    "print(weights_all_ptcls.mean(axis = 0).max())\n",
    "print(weights_all_ptcls.mean(axis = 0).min())"
   ]
  },
  {
   "cell_type": "code",
   "execution_count": 82,
   "metadata": {},
   "outputs": [
    {
     "data": {
      "image/png": "[encoded data removed]",
      "text/plain": [
       "<Figure size 432x288 with 1 Axes>"
      ]
     },
     "metadata": {
      "needs_background": "light"
     },
     "output_type": "display_data"
    }
   ],
   "source": [
    "import matplotlib.pyplot as plt\n",
    "plt.hist(weights_all_ptcls.mean(axis = 0), bins = 50)\n",
    "plt.show()"
   ]
  },
  {
   "cell_type": "code",
   "execution_count": 84,
   "metadata": {},
   "outputs": [
    {
     "name": "stdout",
     "output_type": "stream",
     "text": [
      "0.6961262822151184\n",
      "-0.48984333872795105\n"
     ]
    }
   ],
   "source": [
    "print(weights_vector_dict[\"model_1\"].max())\n",
    "print(weights_vector_dict[\"model_1\"].min())"
   ]
  },
  {
   "cell_type": "code",
   "execution_count": 85,
   "metadata": {},
   "outputs": [
    {
     "data": {
      "image/png": "[encoded data removed]",
      "text/plain": [
       "<Figure size 432x288 with 1 Axes>"
      ]
     },
     "metadata": {
      "needs_background": "light"
     },
     "output_type": "display_data"
    }
   ],
   "source": [
    "import matplotlib.pyplot as plt\n",
    "plt.hist(weights_vector_dict[\"model_1\"], bins = 50)\n",
    "plt.show()"
   ]
  },
  {
   "cell_type": "code",
   "execution_count": 93,
   "metadata": {},
   "outputs": [
    {
     "data": {
      "text/plain": [
       "array([  7.33162221,  20.09072158, -13.58462175, ...,  -6.604409  ,\n",
       "        -8.72771727,  -7.33215145])"
      ]
     },
     "execution_count": 93,
     "metadata": {},
     "output_type": "execute_result"
    }
   ],
   "source": [
    "i=0\n",
    "weights_vector_dict[\"model_{}\".format(str(i+1))] = weights_all_ptcls[i]\n",
    "weights_vector_dict[\"model_1\"][:100352]"
   ]
  },
  {
   "cell_type": "code",
   "execution_count": 91,
   "metadata": {},
   "outputs": [
    {
     "data": {
      "text/plain": [
       "array([[  7.33162221,  20.09072158, -13.58462175, ..., -15.12250012,\n",
       "          8.32023487, -13.72896417],\n",
       "       [ -2.6771153 ,  -2.2347065 ,  22.38997345, ...,  21.43133821,\n",
       "        -14.64224738, -10.32087901],\n",
       "       [ -4.73858178,   4.60069228,  13.9893684 , ...,  -8.60744913,\n",
       "          6.90630994,   9.57770415],\n",
       "       ...,\n",
       "       [  3.159359  ,  -5.99637657,   4.48883412, ..., -11.15835143,\n",
       "         22.20483472,  14.40680296],\n",
       "       [-16.26670388,   0.54758974,  -5.97941203, ..., -13.20791209,\n",
       "         17.1159155 ,  -6.680721  ],\n",
       "       [  6.25457305,  -0.1688412 ,  -8.34447096, ...,  -6.604409  ,\n",
       "         -8.72771727,  -7.33215145]])"
      ]
     },
     "execution_count": 91,
     "metadata": {},
     "output_type": "execute_result"
    }
   ],
   "source": [
    "l=0\n",
    "start = shape_elements[l]\n",
    "end = shape_elements[l+1]\n",
    "np.reshape(weights_vector_dict[\"model_1\"][start:end], tuple(shapes[l]))"
   ]
  },
  {
   "cell_type": "code",
   "execution_count": 94,
   "metadata": {},
   "outputs": [
    {
     "data": {
      "text/plain": [
       "(784, 128)"
      ]
     },
     "execution_count": 94,
     "metadata": {},
     "output_type": "execute_result"
    }
   ],
   "source": [
    "np.reshape(weights_vector_dict[\"model_1\"][start:end], tuple(shapes[l])).shape"
   ]
  },
  {
   "cell_type": "code",
   "execution_count": 96,
   "metadata": {},
   "outputs": [
    {
     "data": {
      "text/plain": [
       "(784, 128)"
      ]
     },
     "execution_count": 96,
     "metadata": {},
     "output_type": "execute_result"
    }
   ],
   "source": [
    "weights_dict[\"model_{}\".format(str(i+1))][l].shape"
   ]
  },
  {
   "cell_type": "code",
   "execution_count": 98,
   "metadata": {},
   "outputs": [
    {
     "data": {
      "text/plain": [
       "(784, 128)"
      ]
     },
     "execution_count": 98,
     "metadata": {},
     "output_type": "execute_result"
    }
   ],
   "source": [
    "weights_dict[\"model_{}\".format(str(i+1))][l] = np.reshape(weights_vector_dict[\"model_{}\".format(str(i+1))][start:end], tuple(shapes[l]))\n",
    "weights_dict[\"model_{}\".format(str(i+1))][l].shape"
   ]
  },
  {
   "cell_type": "code",
   "execution_count": 99,
   "metadata": {},
   "outputs": [],
   "source": [
    "for l in range(len(shape_elements)-1):\n",
    "                start = shape_elements[l]\n",
    "                end = shape_elements[l+1]\n",
    "                weights_dict[\"model_{}\".format(str(i+1))][l] = np.reshape(weights_vector_dict[\"model_{}\".format(str(i+1))][start:end], tuple(shapes[l]))\n",
    "            # set new weights for model"
   ]
  },
  {
   "cell_type": "code",
   "execution_count": 103,
   "metadata": {},
   "outputs": [
    {
     "data": {
      "text/plain": [
       "array([[  7.33162221,  20.09072158, -13.58462175, ..., -15.12250012,\n",
       "          8.32023487, -13.72896417],\n",
       "       [ -2.6771153 ,  -2.2347065 ,  22.38997345, ...,  21.43133821,\n",
       "        -14.64224738, -10.32087901],\n",
       "       [ -4.73858178,   4.60069228,  13.9893684 , ...,  -8.60744913,\n",
       "          6.90630994,   9.57770415],\n",
       "       ...,\n",
       "       [  3.159359  ,  -5.99637657,   4.48883412, ..., -11.15835143,\n",
       "         22.20483472,  14.40680296],\n",
       "       [-16.26670388,   0.54758974,  -5.97941203, ..., -13.20791209,\n",
       "         17.1159155 ,  -6.680721  ],\n",
       "       [  6.25457305,  -0.1688412 ,  -8.34447096, ...,  -6.604409  ,\n",
       "         -8.72771727,  -7.33215145]])"
      ]
     },
     "execution_count": 103,
     "metadata": {},
     "output_type": "execute_result"
    }
   ],
   "source": [
    "weights_dict[\"model_1\"][0]"
   ]
  },
  {
   "cell_type": "code",
   "execution_count": 104,
   "metadata": {},
   "outputs": [
    {
     "data": {
      "text/plain": [
       "[array([[  7.331622 ,  20.090721 , -13.584621 , ..., -15.1225   ,\n",
       "           8.320235 , -13.728964 ],\n",
       "        [ -2.6771152,  -2.2347064,  22.389973 , ...,  21.431337 ,\n",
       "         -14.642247 , -10.320879 ],\n",
       "        [ -4.7385817,   4.6006923,  13.989368 , ...,  -8.60745  ,\n",
       "           6.90631  ,   9.577704 ],\n",
       "        ...,\n",
       "        [  3.159359 ,  -5.9963765,   4.488834 , ..., -11.158352 ,\n",
       "          22.204834 ,  14.406803 ],\n",
       "        [-16.266705 ,   0.5475897,  -5.979412 , ..., -13.207912 ,\n",
       "          17.115915 ,  -6.680721 ],\n",
       "        [  6.254573 ,  -0.1688412,  -8.344471 , ...,  -6.604409 ,\n",
       "          -8.727717 ,  -7.3321514]], dtype=float32),\n",
       " array([ 12.182443  , -14.792589  ,   7.4663463 ,  16.64828   ,\n",
       "        -23.117077  ,  11.026551  ,  -1.6067096 , -34.662388  ,\n",
       "         -4.038332  , -26.442066  ,  10.963874  ,   9.387051  ,\n",
       "          6.191957  , -15.925985  ,  44.082577  ,  13.426349  ,\n",
       "         22.910797  ,  15.892112  , -14.399449  ,  11.282794  ,\n",
       "          7.0014377 ,   7.217967  ,  34.799404  ,  17.853653  ,\n",
       "        -26.967169  , -27.4223    , -17.975214  ,   9.117891  ,\n",
       "         33.586956  ,   9.693114  ,  -7.56931   ,  24.02151   ,\n",
       "         -8.873568  ,  -5.556657  , -21.64443   , -10.890986  ,\n",
       "        -29.619383  , -19.356514  ,  -6.994859  ,  25.447897  ,\n",
       "         13.862276  , -29.366714  ,  22.523201  ,  -4.496092  ,\n",
       "         31.241673  ,  -2.4307666 ,  23.660131  ,  -6.511671  ,\n",
       "        -11.085548  , -15.597782  , -16.203135  ,  17.760023  ,\n",
       "         -8.057088  ,  29.88909   , -34.34072   , -14.739319  ,\n",
       "          1.8880924 ,  -7.1371756 ,  -8.077787  ,   7.9068093 ,\n",
       "         -0.41563392,   9.393242  ,  -6.04008   ,   2.7339728 ,\n",
       "         19.097525  ,  20.89769   ,   3.3338652 ,   7.784567  ,\n",
       "         -6.728628  ,   4.8436036 , -12.923028  ,  13.051571  ,\n",
       "        -37.91532   , -10.414963  ,  12.003592  ,  -0.91946614,\n",
       "          4.487655  ,  10.480294  ,   8.888738  ,   6.6686587 ,\n",
       "         40.718746  ,   7.4007998 ,   2.898055  ,  11.054018  ,\n",
       "        -46.83896   ,  27.040718  ,  -5.1607943 ,  18.493124  ,\n",
       "        -18.68222   ,   0.81282914,  17.542717  , -17.478342  ,\n",
       "        -35.94733   , -16.826725  , -33.581223  , -13.487367  ,\n",
       "         14.535235  , -24.677073  , -10.290348  ,  17.406296  ,\n",
       "         26.943104  ,  35.012897  , -12.992187  , -11.159738  ,\n",
       "         41.06205   , -16.317125  ,  -0.45101503,  19.06094   ,\n",
       "        -12.761477  , -15.900975  ,   1.4764698 , -24.152355  ,\n",
       "         -3.7604146 ,  14.790529  ,   2.5407627 , -22.587418  ,\n",
       "         18.38238   ,  29.594152  ,  16.263021  ,  -7.741223  ,\n",
       "          9.073594  , -31.578188  ,   7.8115005 , -10.842631  ,\n",
       "          0.38954112, -45.727257  , -33.62866   ,   4.448826  ],\n",
       "       dtype=float32),\n",
       " array([[ 29.563387  ,   6.035969  ,   0.51845276, ..., -19.142397  ,\n",
       "          38.330147  ,  23.736465  ],\n",
       "        [ 10.902716  ,  -5.55141   , -15.719982  , ...,   0.14056312,\n",
       "          15.085536  ,  14.527473  ],\n",
       "        [-19.319744  , -23.712572  ,   3.6609075 , ...,  -2.1702492 ,\n",
       "          -7.841934  , -20.909857  ],\n",
       "        ...,\n",
       "        [-23.933979  ,  -9.177682  ,   6.75761   , ...,  12.500331  ,\n",
       "         -17.162544  ,  -3.3138223 ],\n",
       "        [ 27.965517  , -10.370757  ,  -5.24854   , ...,  -7.301151  ,\n",
       "         -27.512447  , -14.436198  ],\n",
       "        [ 26.027773  ,   2.7447236 ,  18.176302  , ...,  -0.72539026,\n",
       "         -12.980243  ,  -3.7691815 ]], dtype=float32),\n",
       " array([ -5.392923  ,   7.048236  ,  12.558314  ,   3.180071  ,\n",
       "          3.4869103 , -13.842613  ,  15.291865  , -31.228249  ,\n",
       "          1.3870598 ,  14.290251  ,  24.68582   ,  26.365099  ,\n",
       "         24.886326  , -22.146435  ,  13.398208  ,  13.050942  ,\n",
       "         -9.961805  ,   7.477756  , -19.305923  ,   2.5610971 ,\n",
       "        -12.785837  ,  -5.6141253 ,  33.126324  , -17.10366   ,\n",
       "        -14.391212  , -14.7818165 , -22.978046  ,  -6.647317  ,\n",
       "         20.038136  ,  -2.2408948 ,  15.629721  ,  -2.3670716 ,\n",
       "          0.09100074, -10.351339  , -26.74009   , -10.038354  ,\n",
       "         -2.0556507 ,   0.13919131,   7.6258693 ,  38.099014  ,\n",
       "         11.70703   ,   8.762301  ,  -4.3479433 ,  -1.266643  ,\n",
       "          7.5573645 ,  -6.5638742 , -11.632604  ,   1.8339722 ,\n",
       "        -14.186565  , -21.323053  ,  -4.2813344 ,  -8.352815  ,\n",
       "        -21.375288  , -10.040058  , -14.455854  ,  15.213821  ,\n",
       "         31.564852  ,  13.497999  ,  29.361588  , -14.641401  ,\n",
       "          4.743405  ,  21.057285  ,  -8.440831  , -51.894382  ,\n",
       "          7.626348  ,  17.670088  ,   7.2047224 ,  24.162098  ,\n",
       "         30.150597  , -27.286077  ,  17.041773  ,   0.9724949 ,\n",
       "         -4.427863  ,  -4.250147  ,  17.992111  , -21.572735  ,\n",
       "         -3.6194248 ,  27.259798  ,  41.0229    ,   0.4338909 ,\n",
       "        -12.085349  ,   0.9470369 ,  18.962173  , -24.107693  ,\n",
       "          4.923945  , -18.82715   ,  -2.3558428 ,  15.006022  ,\n",
       "         -1.4620669 , -26.092812  ,  18.002848  , -13.398499  ,\n",
       "        -13.197426  ,  -6.537297  ,  14.783745  ,  25.149195  ,\n",
       "         10.153521  , -27.24877   ,  19.178371  ,  22.697233  ,\n",
       "        -13.032751  , -17.305674  ,   2.452212  ,   6.171801  ,\n",
       "        -18.741287  ,  26.28922   ,  14.635825  , -38.65811   ,\n",
       "        -12.229144  ,   8.9395    ,   5.0417256 ,   9.3145895 ,\n",
       "         -0.7020737 ,  23.331701  , -22.68681   , -15.998345  ,\n",
       "        -22.015099  , -11.715496  ,  -0.7192049 ,  23.692032  ,\n",
       "        -30.146143  , -30.178059  , -12.82462   ,  -7.6416283 ,\n",
       "          8.39998   ,  31.960438  ,  18.877768  ,  -0.10798386],\n",
       "       dtype=float32),\n",
       " array([[-19.579617  , -22.266611  , -26.944122  , ...,  -6.5074396 ,\n",
       "           5.2909174 , -10.260006  ],\n",
       "        [  8.607086  ,  -9.79961   ,  38.324787  , ...,  12.146128  ,\n",
       "          27.263481  ,  45.035034  ],\n",
       "        [-59.42798   , -25.511194  ,  23.589308  , ...,  13.501043  ,\n",
       "         -20.938078  ,  25.739515  ],\n",
       "        ...,\n",
       "        [ 18.177269  ,   0.32664222, -25.141375  , ..., -17.152878  ,\n",
       "           7.9474354 , -11.749387  ],\n",
       "        [ 36.57167   ,  40.07431   ,  -8.953615  , ..., -33.800606  ,\n",
       "          -0.18669473,  32.428913  ],\n",
       "        [  2.5142324 , -21.53935   ,  18.685293  , ...,   2.8644638 ,\n",
       "          17.359173  , -16.691467  ]], dtype=float32),\n",
       " array([  2.8391428,   3.8198562,  29.062714 ,  -7.9412923,  10.700518 ,\n",
       "         30.133987 , -21.865978 ,  24.29226  , -13.279161 ,  17.094397 ,\n",
       "         25.621069 ,   7.461615 ,   6.310115 ,  33.613632 ,  22.977375 ,\n",
       "          2.3540678, -31.913923 ,   4.0637665, -14.057712 ,   2.8044243,\n",
       "        -23.338175 ,  21.350023 ,  -6.5886216,  25.238049 ,  36.72332  ,\n",
       "         -7.4009237, -30.634893 , -16.045038 ,  12.690259 ,   8.461309 ,\n",
       "         21.459686 ,  -3.8183079, -20.732874 ,  -7.0145345,  11.664188 ,\n",
       "         -7.5905766, -12.697341 ,   2.146369 ,  42.158207 , -30.066927 ,\n",
       "         66.53779  ,  12.81092  ,  16.352118 ,  51.74608  , -12.459332 ,\n",
       "        -41.115475 ,  -5.8265758, -26.131708 , -41.47694  ,  51.39315  ,\n",
       "         21.434643 , -16.756002 , -40.78809  , -13.884855 ,  11.431364 ,\n",
       "         29.435751 ,  45.91684  , -16.36635  , -37.27912  , -19.545725 ,\n",
       "         23.489447 , -27.580801 , -51.27477  ,  36.048187 ], dtype=float32),\n",
       " array([[  6.667849 ,  23.431858 ,   7.842825 , ...,   2.5023177,\n",
       "          19.82309  , -28.518675 ],\n",
       "        [-31.578833 , -13.5827055, -22.181643 , ...,  -2.8060865,\n",
       "          10.746398 ,   7.4544945],\n",
       "        [-14.586761 , -32.7705   , -10.296086 , ..., -10.822483 ,\n",
       "         -23.000883 , -18.663048 ],\n",
       "        ...,\n",
       "        [ 28.161024 , -36.48767  ,   9.337357 , ...,  -7.5397806,\n",
       "          17.822285 , -24.92977  ],\n",
       "        [ 43.813824 ,  -2.4398398,  16.77167  , ...,  43.581974 ,\n",
       "          -6.123297 ,  -7.8077927],\n",
       "        [ 22.967546 , -17.664598 , -12.493619 , ...,  -5.697435 ,\n",
       "          14.1996   ,  16.262182 ]], dtype=float32),\n",
       " array([-42.23974  , -21.992788 ,  48.332035 ,  -9.337559 ,  60.213192 ,\n",
       "         44.68918  ,   8.320289 ,  -1.5540845, -18.774818 , -63.91472  ,\n",
       "         39.057156 , -75.764305 , -46.232704 , -28.475277 , -24.059937 ,\n",
       "         20.173393 ,  31.18567  ,  17.8645   , -18.257992 , -11.590668 ,\n",
       "          9.547781 , -70.19138  ,  16.374609 ,  -2.3184478,  -5.165258 ,\n",
       "         82.22245  , -56.4931   ,  29.847794 , -43.32429  ,  38.389877 ,\n",
       "          1.9853629,  37.130527 ], dtype=float32),\n",
       " array([[-2.52121525e+01, -2.24370193e+01,  4.72081413e+01,\n",
       "         -3.38973427e+01, -1.59248981e+01, -7.32861710e+01,\n",
       "         -2.12168560e+01,  4.86533661e+01,  2.14238739e+00,\n",
       "          2.85503139e+01],\n",
       "        [-2.57986088e+01,  2.57360992e+01, -2.50478096e+01,\n",
       "          4.84563255e+01, -4.31804810e+01, -2.07313347e+00,\n",
       "          2.41607437e+01, -4.24681854e+01,  1.37800798e+01,\n",
       "         -2.74193726e+01],\n",
       "        [-1.98566818e+01,  6.39020538e+01,  2.31212254e+01,\n",
       "         -3.07072487e+01, -6.76269608e+01,  1.59835358e+01,\n",
       "          4.25990410e+01, -7.02573395e+01,  1.92828732e+01,\n",
       "          2.03843536e+01],\n",
       "        [ 5.85423660e+00, -1.36733418e+01,  6.94632034e+01,\n",
       "         -2.15672855e+01, -6.89307861e+01, -8.81842270e+01,\n",
       "          7.26463318e+01,  6.94234252e-01, -3.50608025e+01,\n",
       "          2.42606049e+01],\n",
       "        [-3.53646851e+01, -5.29478931e+00,  1.83135843e+00,\n",
       "         -2.95444069e+01,  1.12884626e+01, -4.81176805e+00,\n",
       "         -3.85603790e+01, -8.58511963e+01, -9.10820293e+00,\n",
       "         -5.68992043e+00],\n",
       "        [ 4.46013222e+01,  8.31475163e+00,  4.54855881e+01,\n",
       "         -1.03478441e+01,  7.07710505e+00, -2.59268112e+01,\n",
       "          1.99840260e+01,  5.30792274e+01,  3.14354763e+01,\n",
       "          8.43279953e+01],\n",
       "        [-1.98692017e+01, -2.47402725e+01,  8.62709732e+01,\n",
       "         -6.76351786e+00,  2.90010853e+01, -4.88574333e+01,\n",
       "         -2.74771938e+01, -1.39510288e+01, -5.20560074e+01,\n",
       "         -3.37200737e+01],\n",
       "        [-4.08144264e+01,  7.40714340e+01,  6.87738359e-02,\n",
       "         -6.38055878e+01,  4.36539841e+01, -1.42198572e+01,\n",
       "         -1.52956018e+01, -6.65240250e+01,  3.19855309e+01,\n",
       "         -3.21144333e+01],\n",
       "        [-2.62116776e+01, -5.82015877e+01,  1.90454655e+01,\n",
       "         -2.19331589e+01,  4.29618950e+01, -1.11958008e+01,\n",
       "         -2.97645226e+01, -9.06894531e+01,  8.25572052e+01,\n",
       "          1.34035254e+01],\n",
       "        [-4.22516060e+01, -3.23218994e+01,  2.89825745e+01,\n",
       "         -6.22918854e+01,  7.62297440e+01, -7.59688950e+01,\n",
       "         -2.70798378e+01, -3.85464907e-01, -2.02647572e+01,\n",
       "         -6.95627975e+01],\n",
       "        [ 1.90378609e+01, -3.63739586e+01,  3.30802650e+01,\n",
       "         -1.40889490e+00, -7.41914368e+01, -3.08970490e+01,\n",
       "         -8.00688400e+01, -2.12795467e+01,  6.19187260e+00,\n",
       "          1.33873062e+01],\n",
       "        [-3.97847557e+01, -1.68522606e+01,  4.41700134e+01,\n",
       "          3.29182510e+01,  8.45891647e+01,  1.98460922e+01,\n",
       "         -1.38378525e+01,  2.83967953e+01,  2.42277584e+01,\n",
       "          6.92201233e+00],\n",
       "        [-6.76527786e+01,  1.41514502e+01,  4.56945801e+01,\n",
       "         -1.02744694e+01,  8.45518780e+00,  1.56273060e+01,\n",
       "         -6.36279373e+01, -2.08515396e+01,  4.73231163e+01,\n",
       "         -4.83279762e+01],\n",
       "        [ 2.05485573e+01, -4.23625183e+01, -2.57408600e+01,\n",
       "          6.29104500e+01,  2.20322514e+00, -2.25468769e+01,\n",
       "          6.02108727e+01,  8.22522354e+01, -6.78443756e+01,\n",
       "          3.86192474e+01],\n",
       "        [ 6.97660599e+01, -4.23421822e+01, -3.76873817e+01,\n",
       "         -6.16334343e+01, -4.01323013e+01, -5.84308434e+01,\n",
       "         -1.91251888e+01, -5.64023285e+01,  2.63257980e+01,\n",
       "         -1.79585743e+01],\n",
       "        [-1.78240795e+01,  3.27728691e+01,  6.42299423e+01,\n",
       "          7.48371065e-01,  1.67089176e+01,  1.45795755e+01,\n",
       "          2.60562096e+01, -9.73778152e+01,  9.38068926e-01,\n",
       "         -7.74202118e+01],\n",
       "        [ 9.57977009e+00,  3.63230515e+01, -2.63675194e+01,\n",
       "          1.54739399e+01, -5.50828285e+01, -4.78104286e+01,\n",
       "          5.56183968e+01,  2.49695854e+01,  1.53664179e+01,\n",
       "         -2.36429272e+01],\n",
       "        [-4.61851730e+01, -1.13188524e+01, -7.55947876e+01,\n",
       "          2.87364349e+01,  4.59663925e+01,  4.64580879e+01,\n",
       "          1.04252443e+01, -4.09783058e+01,  5.16209831e+01,\n",
       "          7.43589630e+01],\n",
       "        [ 9.35959167e+01, -6.39828873e+01, -2.94418073e+00,\n",
       "          7.94541473e+01,  2.59760399e+01, -7.75428009e+01,\n",
       "         -4.31345520e+01,  8.62722778e+00,  1.05750818e+01,\n",
       "          3.36061211e+01],\n",
       "        [-4.81151199e+01,  2.59996052e+01,  7.95442734e+01,\n",
       "          5.13086777e+01,  3.89590950e+01, -1.72349072e+01,\n",
       "         -4.53871584e+00,  1.27197037e+01, -3.53336296e+01,\n",
       "         -3.70449219e+01],\n",
       "        [-7.22640944e+00,  2.86547718e+01,  3.39047933e+00,\n",
       "         -6.32580948e+01,  2.95734406e+00,  6.25124474e+01,\n",
       "         -8.90143738e+01, -9.77404633e+01, -1.03211284e+00,\n",
       "          3.96965714e+01],\n",
       "        [-4.62283669e+01,  8.79765320e+00, -3.63429413e+01,\n",
       "         -1.07376328e+02, -4.48509140e+01,  6.97361908e+01,\n",
       "          2.16474075e+01,  1.15746986e+02, -2.30345201e+00,\n",
       "          3.75117989e+01],\n",
       "        [-4.31565514e+01,  7.47069778e+01, -7.47833824e+00,\n",
       "          4.79432907e+01,  6.31526518e+00,  1.43350518e+00,\n",
       "          4.44621201e+01, -4.31477976e+00,  2.27267628e+01,\n",
       "         -2.22930202e+01],\n",
       "        [-2.26550159e+01, -4.96708565e+01, -1.82149754e+01,\n",
       "          5.21950150e+01,  5.86676483e+01, -2.14821415e+01,\n",
       "         -1.07889538e+01, -2.49996128e+01, -3.39438667e+01,\n",
       "          1.13091408e+02],\n",
       "        [-4.40154419e+01, -3.39740944e+01,  1.02398239e+02,\n",
       "         -3.29582100e+01,  7.61872482e+01, -6.57364426e+01,\n",
       "          2.04631157e+01, -6.12064934e+00,  6.38170586e+01,\n",
       "         -2.28091850e+01],\n",
       "        [-1.08901894e+02,  3.80524635e+01, -1.45514050e+01,\n",
       "         -1.81081578e-01, -2.65890026e+01, -3.18664074e+01,\n",
       "         -1.28303556e+01,  9.77948189e+00,  5.81547852e+01,\n",
       "         -6.34702015e+00],\n",
       "        [-4.22634506e+01,  4.10229149e+01,  5.83632164e+01,\n",
       "         -2.55745449e+01, -3.95785217e+01, -1.09320354e+01,\n",
       "         -7.12327194e+01, -4.96642532e+01, -5.41783066e+01,\n",
       "          6.40965347e+01],\n",
       "        [-3.54747734e+01,  9.73184738e+01,  2.86395798e+01,\n",
       "          1.03919968e+02,  5.66160736e+01,  4.77164917e+01,\n",
       "         -7.94172058e+01, -5.42679596e+01, -5.64422531e+01,\n",
       "         -6.77096176e+00],\n",
       "        [-1.46531878e+01,  3.04509926e+01, -4.89059067e+01,\n",
       "         -3.50787735e+01, -3.12951708e+00, -4.27577095e+01,\n",
       "         -4.46993932e-02,  2.34665279e+01,  4.16320190e+01,\n",
       "         -4.39098778e+01],\n",
       "        [ 5.40516891e+01,  4.82029228e+01,  3.05067682e+00,\n",
       "          6.11814461e+01,  1.14590311e+00,  1.34460239e+01,\n",
       "          5.70951767e+01,  1.02823997e+02, -3.21676521e+01,\n",
       "         -2.26158466e+01],\n",
       "        [-4.57113028e+00,  1.04010750e+02, -1.06712618e+01,\n",
       "          4.69309425e+01, -1.83440228e+01,  1.05206883e+00,\n",
       "         -3.01405945e+01, -8.67814026e+01,  1.96389523e+01,\n",
       "         -3.71299248e+01],\n",
       "        [-8.18665161e+01, -5.37410507e+01, -2.91746693e+01,\n",
       "         -1.76449413e+01, -4.16942673e+01,  3.81844940e+01,\n",
       "         -2.53733311e+01,  3.67404442e+01,  5.22175026e+01,\n",
       "         -5.92216568e+01]], dtype=float32),\n",
       " array([  98.48711  ,  -19.786133 , -134.61021  ,   -1.1862565,\n",
       "         -13.605242 , -118.16331  ,   16.432747 , -122.88245  ,\n",
       "         -39.128525 ,  -22.056816 ], dtype=float32)]"
      ]
     },
     "execution_count": 104,
     "metadata": {},
     "output_type": "execute_result"
    }
   ],
   "source": [
    "model_dict[\"model_{}\".format(str(i+1))].set_weights(weights_dict[\"model_{}\".format(str(i+1))])\n",
    "model_dict[\"model_1\"].get_weights()"
   ]
  },
  {
   "cell_type": "code",
   "execution_count": 22,
   "metadata": {},
   "outputs": [],
   "source": [
    "# loop over all epochs\n",
    "for epoch in range(epochs):\n",
    "    # loop over all batches\n",
    "    for b in range(len(X_batches)):\n",
    "        for i in range(particles):\n",
    "            # for every particle write the predictions on the training batches in a dictionary\n",
    "            y_pred_dict[\"model_{}\".format(str(i+1))] = model_dict[\"model_{}\".format(str(i+1))]\\\n",
    "                                                            .predict(X_batches[b])\n",
    "            \n",
    "            # for every particle write the Jacobian in a dictionary\n",
    "            jacobian_dict[\"model_{}\".format(str(i+1))] = (-1) * np.multiply(np.array(y_batches[b]), \n",
    "                                                                            np.array(1 / (y_pred_dict[\"model_{}\".format(str(i+1))] + delta)))\n",
    "   # bis hier hin alles gut     \n",
    "        # compute the mean of the predictions\n",
    "        y_pred_mean = np.mean(list(y_pred_dict.values()), axis = 0)\n",
    "   # bis hier ok\n",
    "        # compute the matrix D elementwise\n",
    "        d = np.zeros(shape = (particles, particles))\n",
    "        for k in range(particles):\n",
    "            y_pred_centered = y_pred_dict[\"model_{}\".format(str(k+1))] - y_pred_mean\n",
    "            for j in range(particles):\n",
    "                d[k][j] = np.sum(np.multiply(y_pred_centered, jacobian_dict[\"model_{}\".format(str(j+1))]))\n",
    "                                        # d sieht recht einfach aus, aber das wird wohl stimmen\n",
    "        # compute the scalar h_t\n",
    "        h_t = h_0 / (np.sqrt(np.sum(d**2)) + epsilon)\n",
    "   # bis hier wohl ok\n",
    "        # Reshape the weights and biases so that they are no longer matrices and vectores, but now one single vector\n",
    "        for i in range(particles):\n",
    "            weights_array = np.array([])\n",
    "            for j in range(len(weights_dict[\"model_{}\".format(str(i+1))])):\n",
    "                weights_array = np.append(weights_array, np.reshape(weights_dict[\"model_{}\".format(str(i+1))][j], (1, -1)).ravel())\n",
    "            weights_vector_dict[\"model_{}\".format(str(i+1))] = weights_array\n",
    "    # der Teil ist jetzt gedebugged    \n",
    "        # matrix with particle parameters as row vectors\n",
    "        weights_all_ptcls = np.array(list(weights_vector_dict.values()))\n",
    "\n",
    "        # compute the matrix with the updates for each particle\n",
    "        weights_all_ptcls = weights_all_ptcls - h_t * np.matmul(d, weights_all_ptcls)\n",
    "\n",
    "        for i in range(particles):\n",
    "            # write the updates back into the dictionary\n",
    "            weights_vector_dict[\"model_{}\".format(str(i+1))] = weights_all_ptcls[i]\n",
    "            # reshape the updates, so that they are of the original matrx and vector shape\n",
    "            for l in range(len(shape_elements)-1):\n",
    "                start = shape_elements[l]\n",
    "                end = shape_elements[l+1]\n",
    "                weights_dict[\"model_{}\".format(str(i+1))][l] = np.reshape(weights_vector_dict[\"model_{}\".format(str(i+1))][start:end], tuple(shapes[l]))\n",
    "            # set new weights for model\n",
    "            model_dict[\"model_{}\".format(str(i+1))].set_weights(weights_dict[\"model_{}\".format(str(i+1))])"
   ]
  },
  {
   "cell_type": "code",
   "execution_count": 23,
   "metadata": {},
   "outputs": [
    {
     "name": "stdout",
     "output_type": "stream",
     "text": [
      "16/16 [==============================] - 0s 626us/step - loss: 182770448368705294303232.0000 - accuracy: 0.1080\n",
      "0.1080000028014183\n",
      "16/16 [==============================] - 0s 563us/step - loss: 192127721429681049698304.0000 - accuracy: 0.0940\n",
      "0.09399999678134918\n"
     ]
    }
   ],
   "source": [
    "for i in range(particles):\n",
    "    print(model_dict[\"model_{}\".format(str(i+1))].evaluate(X_val_small, y_val_small)[1])"
   ]
  },
  {
   "cell_type": "code",
   "execution_count": 22,
   "metadata": {},
   "outputs": [],
   "source": [
    "# end_time = time.time()\n",
    "# print(\"Overall calculation took {} seconds.\".format(end_time - start_time))"
   ]
  }
 ],
 "metadata": {
  "kernelspec": {
   "display_name": "Python 3",
   "language": "python",
   "name": "python3"
  },
  "language_info": {
   "codemirror_mode": {
    "name": "ipython",
    "version": 3
   },
   "file_extension": ".py",
   "mimetype": "text/x-python",
   "name": "python",
   "nbconvert_exporter": "python",
   "pygments_lexer": "ipython3",
   "version": "3.7.6"
  }
 },
 "nbformat": 4,
 "nbformat_minor": 4
}
