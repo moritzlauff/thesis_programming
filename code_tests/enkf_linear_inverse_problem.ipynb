{
 "cells": [
  {
   "cell_type": "code",
   "execution_count": 1,
   "metadata": {},
   "outputs": [],
   "source": [
    "import sys\n",
    "sys.path.insert(1, \"../python/architecture\")\n",
    "sys.path.insert(2, \"../python/functions\")"
   ]
  },
  {
   "cell_type": "code",
   "execution_count": 2,
   "metadata": {},
   "outputs": [
    {
     "name": "stdout",
     "output_type": "stream",
     "text": [
      "WARNING:tensorflow:From ../python/architecture\\reproducible.py:14: The name tf.keras.backend.set_session is deprecated. Please use tf.compat.v1.keras.backend.set_session instead.\n",
      "\n"
     ]
    }
   ],
   "source": [
    "import numpy as np\n",
    "from inverse_problem_functions import y_noise\n",
    "from enkf_functions import enkf_inverse_problem\n",
    "from plotting_functions import plot_IP_loss_evolution# , plot_IP_loss_evolution_many, plot_IP_true_false, plot_IP_particle_loss, plot_IP_particle_std, plot_IP_iteration_std\n",
    "from sklearn.metrics import mean_squared_error"
   ]
  },
  {
   "cell_type": "code",
   "execution_count": 52,
   "metadata": {},
   "outputs": [],
   "source": [
    "def enkf_linear_inverse_problem(setting_dict,\n",
    "                                analysis_dict\n",
    "                                ):\n",
    "\n",
    "    \"\"\" Ensemble Kalman Filter algorithm applied to an inverse problem.\n",
    "\n",
    "\n",
    "    Parameters:\n",
    "\n",
    "    setting_dict (dict): Dictionary containing\n",
    "        model_func (function): Function to apply to x.\n",
    "        x (np.array): True parameters.\n",
    "        y (np.array): True target variable.\n",
    "        particles (int): Number of particles in the ensemble.\n",
    "        iterations (int): Number of iterations.\n",
    "        noise (bool): Whether or not to add noise to the target variable.\n",
    "        std (np.array): Standard deviation of the noise.\n",
    "        h_0 (int or float): Starting step size.\n",
    "        epsilon (float): Constant for numerical stability in the step size.\n",
    "        randomization (bool): Whether or not to add noise to the particles and randomize them around their mean.\n",
    "        loss (str): Which kind of loss to use. Can be either \"mse\" or \"rel_mse\"\n",
    "    analysis_dict (dict): Dictionary containing\n",
    "        disjoint_batch (bool): Whether or not to use disjoint batches. If False then each batch is sampled with replacement.\n",
    "        batch_particle_connection (dict): Dictionary containing\n",
    "            connect (bool): Whether or not to connect particles and batches.\n",
    "            shuffle (bool): Whether or not to shuffle the connection.\n",
    "            update_all (bool): Whether or not to update after all particles have seen some data.\n",
    "        tikhonov (dict): Dictionary containing\n",
    "            regularize (bool): Whether or not to use Tikhonov regularization.\n",
    "            lambda (None or float): Lambda parameter in Tikhonov regularization.\n",
    "            reg_mse_stop (bool): Whether or not to stop when MSE + Tikhonov regularization starts to rise again.\n",
    "        batch_evaluation (bool): Whether or not to compute the MSE after each batch. Only possible if no batch_particle_connection ist performed.\n",
    "\n",
    "\n",
    "    Returns:\n",
    "\n",
    "    final_params (np.ndarray): Final predicted parameter.\n",
    "    loss_evolution (list): Evolution of the loss value over each iteration.\n",
    "    loss_evolution_single_dict (dict): Evolutions of loss values of all particles.\n",
    "\n",
    "    \"\"\"\n",
    "\n",
    "    A = setting_dict[\"A\"]\n",
    "    x = setting_dict[\"x\"]\n",
    "    y = setting_dict[\"y\"]\n",
    "    particles = setting_dict[\"particles\"]\n",
    "    iterations = setting_dict[\"iterations\"]\n",
    "    batch_size = setting_dict[\"batch_size\"]\n",
    "    noise = setting_dict[\"noise\"]\n",
    "    std = setting_dict[\"std\"]\n",
    "    h_0 = setting_dict[\"h_0\"]\n",
    "    epsilon = setting_dict[\"epsilon\"]\n",
    "    randomization = setting_dict[\"randomization\"]\n",
    "    loss_type = setting_dict[\"loss\"]\n",
    "    \n",
    "    disjoint_batch = analysis_dict[\"disjoint_batch\"]\n",
    "    batch_particle_connection = analysis_dict[\"batch_particle_connection\"][\"connect\"]\n",
    "    batch_particle_shuffle = analysis_dict[\"batch_particle_connection\"][\"shuffle\"]\n",
    "    update_all = analysis_dict[\"batch_particle_connection\"][\"update_all\"]\n",
    "    tik_regularize = analysis_dict[\"tikhonov\"][\"regularize\"]\n",
    "    tik_lambda = analysis_dict[\"tikhonov\"][\"lambda\"]\n",
    "    reg_mse_stop = analysis_dict[\"tikhonov\"][\"reg_mse_stop\"]\n",
    "    reg_stop = False\n",
    "    batch_mse = analysis_dict[\"batch_evaluation\"]\n",
    "    \n",
    "    if tik_lambda is None:\n",
    "        tik_lambda = 0\n",
    "\n",
    "    if noise and any(std == None):\n",
    "        raise ValueError(\"If noise is True, then std can not be None.\")\n",
    "        \n",
    "    if noise:\n",
    "        gamma_HM12 = np.sqrt(np.linalg.inv(np.diag(std)))\n",
    "        \n",
    "    def model_func(mat, param):\n",
    "        if tik_regularize:\n",
    "            mat = np.vstack([mat, tik_lambda * np.identity(n = param.shape[0])])\n",
    "        return np.dot(mat, param)\n",
    "\n",
    "    def loss(y_true, y_pred, reg):\n",
    "        if tik_regularize:\n",
    "            y_true = np.hstack([y_true, np.zeros(shape = (y_pred.shape[0] - y_true.shape[0],))])\n",
    "        if not noise:\n",
    "            if loss_type == \"mse\":\n",
    "                if not tik_regularize:\n",
    "                    return mean_squared_error(y_true, y_pred)\n",
    "                else:\n",
    "                    return mean_squared_error(y_true, y_pred) + tik_lambda * np.sum(reg**2)\n",
    "            elif loss_type == \"rel_mse\":\n",
    "                if not tik_regularize:\n",
    "                    return mean_squared_error(y_true, y_pred) / np.mean(y_true)\n",
    "                else:\n",
    "                    return mean_squared_error(y_true, y_pred) / np.mean(y_true) + tik_lambda * np.sum(reg**2)\n",
    "        else:\n",
    "            if loss_type == \"mse\":\n",
    "                if not tik_regularize:\n",
    "                    return np.mean(np.dot(gamma_HM12, y_true - y_pred)**2)\n",
    "                else:\n",
    "                    return np.mean(np.dot(gamma_HM12, y_true - y_pred)**2) + tik_lambda * np.sum(reg**2)\n",
    "            elif loss_type == \"rel_mse\":\n",
    "                if not tik_regularize:\n",
    "                    return np.mean(np.dot(gamma_HM12, y_true - y_pred)**2) / np.mean(y_true)\n",
    "                else:\n",
    "                    return np.mean(np.dot(gamma_HM12, y_true - y_pred)**2) / np.mean(y_true) + tik_lambda * np.sum(reg**2)\n",
    "\n",
    "    def grad_loss(y_true, y_pred):\n",
    "        if tik_regularize:\n",
    "            y_true = np.hstack([y_true, np.zeros(shape = (y_pred.shape[0] - y_true.shape[0],))])\n",
    "        if not noise:\n",
    "            return (-2) / y_true.shape[0] * (y_true - y_pred)\n",
    "        else:\n",
    "            return (-2) / y_true.shape[0] * np.diag(gamma_HM12) * (y_true - y_pred)\n",
    "        \n",
    "    if batch_size is None:\n",
    "        batch_size = A.shape[0]\n",
    "        \n",
    "    if disjoint_batch:\n",
    "        n = A.shape[0]\n",
    "        num_batches = int(np.ceil(n / batch_size))\n",
    "        batch_indices = np.cumsum([0] + list(np.ones(num_batches) * batch_size))\n",
    "        batch_indices[-1] = n\n",
    "    else:\n",
    "        n = A.shape[0]\n",
    "        num_batches = int(np.ceil(n / batch_size))\n",
    "        last_batch_size = n % batch_size\n",
    "    \n",
    "    indices = np.arange(n)\n",
    "    if disjoint_batch:\n",
    "        A_batches = [A[indices][int(batch_indices[i]):int(batch_indices[i+1])] for i in range(len(batch_indices)-1)]\n",
    "        y_batches = [y[indices][int(batch_indices[i]):int(batch_indices[i+1])] for i in range(len(batch_indices)-1)]\n",
    "    else:\n",
    "        if last_batch_size != 0:\n",
    "            indices = [np.random.choice(A.shape[0], size = batch_size, replace = True) for i in range(num_batches-1)]\n",
    "            indices.append(np.random.choice(A.shape[0], size = last_batch_size, replace = True))\n",
    "        else:\n",
    "            indices = [np.random.choice(A.shape[0], size = batch_size, replace = True) for i in range(num_batches)]\n",
    "        A_batches = [A[indices[i]] for i in range(len(indices))]\n",
    "        y_batches = [y[indices[i]] for i in range(len(indices))]\n",
    "    \n",
    "    if batch_particle_connection:\n",
    "        batch_particle_dict = {}\n",
    "        batch_particle_indices = np.arange(particles) + 1\n",
    "        np.random.shuffle(batch_particle_indices)\n",
    "        if particles == num_batches:\n",
    "            for i in range(num_batches):\n",
    "                batch_particle_dict[\"batch_{}\".format(str(i+1))] = batch_particle_indices[i]\n",
    "        elif particles > num_batches:\n",
    "            base_batches = particles // num_batches\n",
    "            add_batches = particles % num_batches\n",
    "            for i in range(num_batches):\n",
    "                batch_particle_dict[\"batch_{}\".format(str(i+1))] = batch_particle_indices[:base_batches]\n",
    "                batch_particle_indices = batch_particle_indices[base_batches:]\n",
    "            for i in range(add_batches):\n",
    "                batch_particle_dict[\"batch_{}\".format(str(i+1))] = np.concatenate([batch_particle_dict[\"batch_{}\".format(str(i+1))], np.array([batch_particle_indices[i]])])\n",
    "        elif num_batches > particles:\n",
    "            num_reps = int(np.ceil(num_batches / particles))\n",
    "            particles_repeated = np.tile(batch_particle_indices, num_reps)\n",
    "            for i in range(num_batches):\n",
    "                batch_particle_dict[\"batch_{}\".format(str(i+1))] = particles_repeated[i]\n",
    "    else:\n",
    "        batch_particle_dict = None\n",
    "                \n",
    "    param_dict = {}\n",
    "    y_pred_dict = {}\n",
    "    jacobian_dict = {}\n",
    "    loss_dict = {}\n",
    "\n",
    "    for i in range(particles):\n",
    "        param_dict[\"particle_{}\".format(i+1)] = np.random.normal(loc = 0, scale = 1, size = x.shape)\n",
    "        y_pred_dict[\"particle_{}\".format(i+1)] = model_func(A, param_dict[\"particle_{}\".format(i+1)])\n",
    "        jacobian_dict[\"particle_{}\".format(i+1)] = grad_loss(y, y_pred_dict[\"particle_{}\".format(i+1)])\n",
    "        loss_dict[\"particle_{}\".format(i+1)] = loss(y, y_pred_dict[\"particle_{}\".format(i+1)], param_dict[\"particle_{}\".format(i+1)])\n",
    "\n",
    "    param_mean = np.mean(list(param_dict.values()), axis = 0)\n",
    "    final_params = param_mean\n",
    "\n",
    "    loss_evolution = []\n",
    "    loss_evolution.append(loss(y, np.dot(A, param_mean), param_dict[\"particle_{}\".format(i+1)]))\n",
    "    if tik_regularize and reg_mse_stop:\n",
    "        loss_evolution_reg = []\n",
    "        loss_evolution_reg.append(loss(y, model_func(A, param_mean), param_dict[\"particle_{}\".format(i+1)]))\n",
    "\n",
    "    loss_evolution_single_dict = {}\n",
    "    for i in range(particles):\n",
    "        loss_evolution_single_dict[\"particle_{}\".format(i+1)] = [loss(y, np.dot(A, param_dict[\"particle_{}\".format(i+1)]), param_dict[\"particle_{}\".format(i+1)])]\n",
    "\n",
    "    for iteration in range(iterations):\n",
    "        \n",
    "        if tik_regularize and reg_mse_stop:\n",
    "            if iteration >= 1:\n",
    "                if loss_evolution_reg[iteration] > loss_evolution_reg[iteration-1]:\n",
    "                    reg_stop = True\n",
    "                    print(\"Loss containing Tikhonov regularization starts to rise. Algorithm is stopped after epoch (iteration) {}.\".format(iteration))\n",
    "                    break\n",
    "                    \n",
    "        if batch_particle_connection and batch_particle_shuffle:\n",
    "            shuffled_indices = np.hstack(list(batch_particle_dict.values()))\n",
    "            np.random.shuffle(shuffled_indices)\n",
    "            batch_particle_values = list(batch_particle_dict.values())\n",
    "            for i in range(len(batch_particle_values)):\n",
    "                batch_particle_dict[\"batch_{}\".format(str(i+1))] = shuffled_indices[i*len(batch_particle_values[i]):(i+1)*len(batch_particle_values[i])]\n",
    "                \n",
    "        for b in range(num_batches):\n",
    "            batch_particles = []\n",
    "            y_pred_batch_dict = {}\n",
    "            jacobian_batch_dict = {}\n",
    "            # update the predictions, jacobian and loss for the new parameters\n",
    "            for i in range(particles):\n",
    "                if batch_particle_connection: \n",
    "                    if num_batches == particles or num_batches > particles:\n",
    "                        if batch_particle_dict[\"batch_{}\".format(str(b+1))] != i+1:\n",
    "                            continue\n",
    "                    else:\n",
    "                        if i+1 not in batch_particle_dict[\"batch_{}\".format(str(b+1))]:\n",
    "                            continue\n",
    "                if batch_particle_connection:\n",
    "                    batch_particles.append(i+1)\n",
    "                    \n",
    "                y_pred_dict[\"particle_{}\".format(i+1)] = model_func(A_batches[b], param_dict[\"particle_{}\".format(i+1)])\n",
    "                y_pred_batch_dict[\"particle_{}\".format(i+1)] = y_pred_dict[\"particle_{}\".format(i+1)]\n",
    "                jacobian_dict[\"particle_{}\".format(i+1)] = grad_loss(y_batches[b], y_pred_dict[\"particle_{}\".format(i+1)])\n",
    "                jacobian_batch_dict[\"particle_{}\".format(i+1)] = jacobian_dict[\"particle_{}\".format(i+1)]\n",
    "                loss_dict[\"particle_{}\".format(i+1)] = loss(y_batches[b], y_pred_dict[\"particle_{}\".format(i+1)], param_dict[\"particle_{}\".format(i+1)])\n",
    "\n",
    "            if not batch_particle_connection:\n",
    "                # compute the mean of the predictions\n",
    "                y_pred_mean = np.mean(list(y_pred_dict.values()), axis = 0)\n",
    "                \n",
    "                # compute the matrix D elementwise\n",
    "                d = np.zeros(shape = (particles, particles))\n",
    "                for k in range(particles):\n",
    "                    y_pred_centered = y_pred_dict[\"particle_{}\".format(str(k+1))] - y_pred_mean\n",
    "                    for j in range(particles):\n",
    "                        d[k][j] = np.dot(y_pred_centered, jacobian_dict[\"particle_{}\".format(str(j+1))])\n",
    "                d = np.transpose(d)\n",
    "\n",
    "                # compute the scalar h_t\n",
    "                h_t = h_0 / (np.sqrt(np.sum(d**2)) + epsilon)\n",
    "\n",
    "                # matrix with particle parameters as row vectors\n",
    "                params_all_ptcls = np.array(list(param_dict.values()))\n",
    "                \n",
    "                # compute the matrix with the updates for each particle\n",
    "                params_all_ptcls = params_all_ptcls - h_t * np.dot(d, params_all_ptcls)\n",
    "                \n",
    "                # write the updates back into the dictionary\n",
    "                for i in range(particles):\n",
    "                    param_dict[\"particle_{}\".format(str(i+1))] = params_all_ptcls[i]\n",
    "                    \n",
    "                if batch_mse:\n",
    "                    param_mean = np.mean(params_all_ptcls, axis = 0)\n",
    "                    loss_evolution.append(loss(y, np.dot(A, param_mean), 0))\n",
    "                        \n",
    "            elif batch_particle_connection and not update_all:  \n",
    "                # compute the mean of the predictions\n",
    "                y_pred_mean = np.mean(list(y_pred_batch_dict.values()), axis = 0)\n",
    "                \n",
    "                # compute the matrix D elementwise\n",
    "                d = np.zeros(shape = (len(y_pred_batch_dict), len(y_pred_batch_dict)))\n",
    "                for k in range(len(y_pred_batch_dict)):\n",
    "                    y_pred_centered = list(y_pred_batch_dict.values())[k] - y_pred_mean\n",
    "                    for j in range(len(y_pred_batch_dict)):\n",
    "                        d[k][j] = np.dot(y_pred_centered, list(jacobian_batch_dict.values())[j])\n",
    "                d = np.transpose(d)\n",
    "\n",
    "                # compute the scalar h_t\n",
    "                h_t = h_0 / (np.sqrt(np.sum(d**2)) + epsilon)\n",
    "\n",
    "                # matrix with particle parameters as row vectors\n",
    "                param_batch_dict = {}\n",
    "                for i in range(len(batch_particles)):\n",
    "                    param_batch_dict[\"particle_{}\".format(batch_particles[i])] = param_dict[\"particle_{}\".format(batch_particles[i])]\n",
    "                    params_all_ptcls = np.array(list(param_batch_dict.values()))\n",
    "                \n",
    "                # compute the matrix with the updates for each particle\n",
    "                params_all_ptcls = params_all_ptcls - h_t * np.dot(d, params_all_ptcls)\n",
    "                \n",
    "                # write the updates back into the dictionary\n",
    "                for i in range(len(batch_particles)):\n",
    "                    param_dict[\"particle_{}\".format(batch_particles[i])] = params_all_ptcls[i]\n",
    "                        \n",
    "        if batch_particle_connection and update_all:\n",
    "            # compute the mean of the predictions\n",
    "            y_pred_mean = np.mean(list(y_pred_dict.values()), axis = 0)\n",
    "\n",
    "            # compute the matrix D elementwise\n",
    "            d = np.zeros(shape = (particles, particles))\n",
    "            for k in range(particles):\n",
    "                y_pred_centered = y_pred_dict[\"particle_{}\".format(str(k+1))] - y_pred_mean\n",
    "                for j in range(particles):\n",
    "                    d[k][j] = np.dot(y_pred_centered, jacobian_dict[\"particle_{}\".format(str(j+1))])\n",
    "            d = np.transpose(d)\n",
    "\n",
    "            # compute the scalar h_t\n",
    "            h_t = h_0 / (np.sqrt(np.sum(d**2)) + epsilon)\n",
    "\n",
    "            # matrix with particle parameters as row vectors\n",
    "            params_all_ptcls = np.array(list(param_dict.values()))\n",
    "\n",
    "            # compute the matrix with the updates for each particle\n",
    "            params_all_ptcls = params_all_ptcls - h_t * np.dot(d, params_all_ptcls)\n",
    "            \n",
    "            # write the updates back into the dictionary\n",
    "            for i in range(particles):\n",
    "                param_dict[\"particle_{}\".format(str(i+1))] = params_all_ptcls[i]\n",
    "            \n",
    "        # compute loss for the parameter means\n",
    "        if not batch_particle_connection and batch_mse:\n",
    "            continue\n",
    "        param_mean = np.mean(params_all_ptcls, axis = 0)\n",
    "        loss_evolution.append(loss(y, np.dot(A, param_mean), 0))\n",
    "        if tik_regularize and reg_mse_stop:\n",
    "            loss_evolution_reg.append(loss(y, model_func(A, param_mean), param_mean))\n",
    "\n",
    "        for i in range(particles):\n",
    "            loss_evolution_single_dict[\"particle_{}\".format(i+1)].append(loss(y, np.dot(A, param_dict[\"particle_{}\".format(i+1)]), 0))    \n",
    "                    \n",
    "    if not reg_stop:\n",
    "        final_params = param_mean\n",
    "\n",
    "    return final_params, loss_evolution, loss_evolution_single_dict, batch_particle_dict"
   ]
  },
  {
   "cell_type": "markdown",
   "metadata": {},
   "source": [
    "# Lineares Modell"
   ]
  },
  {
   "cell_type": "markdown",
   "metadata": {},
   "source": [
    "## Modell:\n",
    "$Ax=y$ mit $A$ $m\\times n$-Matrix, $m$, $n$ beliebig ($A$ also insbesondere nicht zwingend quadratisch).\n",
    "\n",
    "$x$ wird gesucht."
   ]
  },
  {
   "cell_type": "code",
   "execution_count": 4,
   "metadata": {},
   "outputs": [],
   "source": [
    "A = np.random.uniform(size = (10000, 50))\n",
    "x = np.random.uniform(size = (A.shape[1], ))"
   ]
  },
  {
   "cell_type": "code",
   "execution_count": 5,
   "metadata": {},
   "outputs": [],
   "source": [
    "def model_func(x):\n",
    "    return np.dot(A, x)"
   ]
  },
  {
   "cell_type": "code",
   "execution_count": 6,
   "metadata": {},
   "outputs": [],
   "source": [
    "noise = False\n",
    "\n",
    "y, std = y_noise(model_func,\n",
    "                 x, \n",
    "                 noise)"
   ]
  },
  {
   "cell_type": "code",
   "execution_count": 55,
   "metadata": {},
   "outputs": [],
   "source": [
    "setting_dict = {\"A\": A,\n",
    "                \"x\": x,\n",
    "                \"y\": y,\n",
    "                \"particles\": 200,\n",
    "                \"iterations\": 2,\n",
    "                \"batch_size\" : 1000,     # A.shape[0]           \n",
    "                \"noise\": noise,\n",
    "                \"std\": std,\n",
    "                \"h_0\": 2,\n",
    "                \"epsilon\": 0.5,\n",
    "                \"randomization\": False,\n",
    "                \"loss\": \"mse\"\n",
    "                }\n",
    "analysis_dict = {\"disjoint_batch\": True,\n",
    "                 \"batch_particle_connection\": {\"connect\": False,\n",
    "                                               \"shuffle\": False,\n",
    "                                               \"update_all\": True},\n",
    "                 \"tikhonov\": {\"regularize\": False,\n",
    "                              \"lambda\": 15,\n",
    "                              \"reg_mse_stop\": False},\n",
    "                 \"batch_evaluation\": False}"
   ]
  },
  {
   "cell_type": "code",
   "execution_count": 56,
   "metadata": {},
   "outputs": [
    {
     "data": {
      "image/png": "[encoded data removed]",
      "text/plain": [
       "<Figure size 576x360 with 1 Axes>"
      ]
     },
     "metadata": {
      "needs_background": "light"
     },
     "output_type": "display_data"
    },
    {
     "name": "stdout",
     "output_type": "stream",
     "text": [
      "[0.01960911927992672, 0.012349075658130475, 0.007914108034845432, 0.005445297641358604, 0.0038932296296741668, 0.002921684439283863, 0.0022621969789764613, 0.0018308591496683897, 0.001510836303904517, 0.0012849617702358665]\n",
      "\n",
      "None\n"
     ]
    }
   ],
   "source": [
    "final_params, loss_evolution, loss_evolution_single_dict, batch_particle_dict = enkf_linear_inverse_problem(setting_dict,\n",
    "                                                                                                            analysis_dict)\n",
    "plot_IP_loss_evolution(loss_evolution,\n",
    "                       start_iteration = 1,\n",
    "                       xlabel = \"Epoch\",\n",
    "                       save = None)\n",
    "print(loss_evolution[-10:])\n",
    "print(\"\")\n",
    "print(batch_particle_dict)"
   ]
  },
  {
   "cell_type": "code",
   "execution_count": 51,
   "metadata": {},
   "outputs": [
    {
     "data": {
      "image/png": "[encoded data removed]",
      "text/plain": [
       "<Figure size 576x360 with 1 Axes>"
      ]
     },
     "metadata": {
      "needs_background": "light"
     },
     "output_type": "display_data"
    },
    {
     "data": {
      "text/plain": [
       "[0.025918261866953826,\n",
       " 0.016376567053304432,\n",
       " 0.010695341990468224,\n",
       " 0.007270366228958053,\n",
       " 0.005162693012660197,\n",
       " 0.003827541792136832,\n",
       " 0.002951594026890599,\n",
       " 0.0023549900137744247,\n",
       " 0.0019335089292038738,\n",
       " 0.0016255355106583672]"
      ]
     },
     "execution_count": 51,
     "metadata": {},
     "output_type": "execute_result"
    }
   ],
   "source": [
    "setting_dict = {\"model_func\": model_func,\n",
    "                \"x\": x,\n",
    "                \"y\": y,\n",
    "                \"particles\": 200,\n",
    "                \"iterations\": 20,\n",
    "                \"noise\": noise,\n",
    "                \"std\": std,\n",
    "                \"h_0\": 2,\n",
    "                \"epsilon\": 0.5,\n",
    "                \"randomization\": False\n",
    "                }\n",
    "final_params, loss_evolution, loss_evolution_single_dict = enkf_inverse_problem(setting_dict)\n",
    "plot_IP_loss_evolution(loss_evolution,\n",
    "                       start_iteration = 1,\n",
    "                       xlabel = \"Epoch\",\n",
    "                       save = None)\n",
    "loss_evolution[-10:]"
   ]
  },
  {
   "cell_type": "code",
   "execution_count": 59,
   "metadata": {},
   "outputs": [
    {
     "name": "stderr",
     "output_type": "stream",
     "text": [
      "c:\\users\\morit\\anaconda3\\envs\\master_thesis\\lib\\site-packages\\ipykernel_launcher.py:3: RuntimeWarning: divide by zero encountered in true_divide\n",
      "  This is separate from the ipykernel package so we can avoid doing imports until\n"
     ]
    },
    {
     "data": {
      "image/png": "[encoded data removed]",
      "text/plain": [
       "<Figure size 432x288 with 1 Axes>"
      ]
     },
     "metadata": {
      "needs_background": "light"
     },
     "output_type": "display_data"
    }
   ],
   "source": [
    "import matplotlib.pyplot as plt\n",
    "\n",
    "conv = setting_dict[\"particles\"] / np.arange(setting_dict[\"iterations\"]+1)**3.75\n",
    "\n",
    "plt.plot(np.arange(len(loss_evolution))[40:], loss_evolution[40:], label = \"loss\")\n",
    "plt.plot(np.arange(len(loss_evolution))[40:], conv[40:], label = \"convergence\")\n",
    "plt.legend()\n",
    "plt.show()"
   ]
  },
  {
   "cell_type": "markdown",
   "metadata": {},
   "source": [
    "## Modell:\n",
    "$Ax=y + \\eta$ mit $A$ $m\\times n$-Matrix, $m$, $n$ beliebig ($A$ also insbesondere nicht zwingend quadratisch), $\\eta\\sim\\mathscr{N}(0,\\Gamma)$.\n",
    "\n",
    "$x$ wird gesucht."
   ]
  },
  {
   "cell_type": "code",
   "execution_count": 11,
   "metadata": {},
   "outputs": [],
   "source": [
    "A = np.random.uniform(size = (10000, 50))\n",
    "x = np.random.uniform(size = (A.shape[1], ))"
   ]
  },
  {
   "cell_type": "code",
   "execution_count": 12,
   "metadata": {},
   "outputs": [],
   "source": [
    "def model_func(x):\n",
    "    return np.dot(A, x)"
   ]
  },
  {
   "cell_type": "code",
   "execution_count": 13,
   "metadata": {},
   "outputs": [],
   "source": [
    "noise = True\n",
    "\n",
    "y, std = y_noise(model_func,\n",
    "                 x, \n",
    "                 noise)"
   ]
  },
  {
   "cell_type": "code",
   "execution_count": 14,
   "metadata": {},
   "outputs": [],
   "source": [
    "setting_dict = {\"model_func\": model_func,\n",
    "                \"x\": x,\n",
    "                \"y\": y,\n",
    "                \"particles\": 200,\n",
    "                \"iterations\": 10,\n",
    "                \"noise\": noise,\n",
    "                \"std\": std,\n",
    "                \"h_0\": 2,\n",
    "                \"epsilon\": 0.5,\n",
    "                \"randomization\": False\n",
    "                }"
   ]
  },
  {
   "cell_type": "code",
   "execution_count": 15,
   "metadata": {},
   "outputs": [],
   "source": [
    "final_params, loss_evolution, loss_evolution_single_dict = enkf_inverse_problem(setting_dict)"
   ]
  },
  {
   "cell_type": "code",
   "execution_count": 17,
   "metadata": {},
   "outputs": [
    {
     "data": {
      "image/png": "[encoded data removed]",
      "text/plain": [
       "<Figure size 576x360 with 1 Axes>"
      ]
     },
     "metadata": {
      "needs_background": "light"
     },
     "output_type": "display_data"
    },
    {
     "data": {
      "text/plain": [
       "[968.329568644149,\n",
       " 288.6308761599043,\n",
       " 94.38224449850807,\n",
       " 39.319126499133915,\n",
       " 21.26541185638574,\n",
       " 12.61735252013598,\n",
       " 7.739751145073642,\n",
       " 4.8466280482254795,\n",
       " 3.1032673980958667,\n",
       " 2.0470083424443053]"
      ]
     },
     "execution_count": 17,
     "metadata": {},
     "output_type": "execute_result"
    }
   ],
   "source": [
    "plot_IP_loss_evolution(loss_evolution,\n",
    "                       start_iteration = 1,\n",
    "                       xlabel = \"Iteration\",\n",
    "                       save = None)\n",
    "loss_evolution[-10:]"
   ]
  }
 ],
 "metadata": {
  "kernelspec": {
   "display_name": "Python 3",
   "language": "python",
   "name": "python3"
  },
  "language_info": {
   "codemirror_mode": {
    "name": "ipython",
    "version": 3
   },
   "file_extension": ".py",
   "mimetype": "text/x-python",
   "name": "python",
   "nbconvert_exporter": "python",
   "pygments_lexer": "ipython3",
   "version": "3.7.7"
  }
 },
 "nbformat": 4,
 "nbformat_minor": 4
}
