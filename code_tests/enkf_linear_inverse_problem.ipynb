{
 "cells": [
  {
   "cell_type": "code",
   "execution_count": 1,
   "metadata": {},
   "outputs": [],
   "source": [
    "import sys\n",
    "sys.path.insert(1, \"../python/architecture\")\n",
    "sys.path.insert(2, \"../python/functions\")"
   ]
  },
  {
   "cell_type": "code",
   "execution_count": 87,
   "metadata": {},
   "outputs": [],
   "source": [
    "import numpy as np\n",
    "from inverse_problem_functions import y_noise\n",
    "from enkf_functions import enkf_inverse_problem\n",
    "from plotting_functions import plot_IP_loss_evolution# , plot_IP_loss_evolution_many, plot_IP_true_false, plot_IP_particle_loss, plot_IP_particle_std, plot_IP_iteration_std\n",
    "from sklearn.metrics import mean_squared_error"
   ]
  },
  {
   "cell_type": "code",
   "execution_count": 103,
   "metadata": {},
   "outputs": [],
   "source": [
    "def enkf_linear_inverse_problem(setting_dict,\n",
    "                                analysis_dict\n",
    "                                ):\n",
    "\n",
    "    \"\"\" Ensemble Kalman Filter algorithm applied to an inverse problem.\n",
    "\n",
    "\n",
    "    Parameters:\n",
    "\n",
    "    setting_dict (dict): Dictionary containing\n",
    "        model_func (function): Function to apply to x.\n",
    "        x (np.array): True parameters.\n",
    "        y (np.array): True target variable.\n",
    "        particles (int): Number of particles in the ensemble.\n",
    "        iterations (int): Number of iterations.\n",
    "        noise (bool): Whether or not to add noise to the target variable.\n",
    "        std (np.array): Standard deviation of the noise.\n",
    "        h_0 (int or float): Starting step size.\n",
    "        epsilon (float): Constant for numerical stability in the step size.\n",
    "        randomization (bool): Whether or not to add noise to the particles and randomize them around their mean.\n",
    "\n",
    "\n",
    "    Returns:\n",
    "\n",
    "    final_params (np.ndarray): Final predicted parameter.\n",
    "    loss_evolution (list): Evolution of the loss value over each iteration.\n",
    "    loss_evolution_single_dict (dict): Evolutions of loss values of all particles.\n",
    "\n",
    "    \"\"\"\n",
    "\n",
    "    A = setting_dict[\"A\"]\n",
    "    x = setting_dict[\"x\"]\n",
    "    y = setting_dict[\"y\"]\n",
    "    particles = setting_dict[\"particles\"]\n",
    "    iterations = setting_dict[\"iterations\"]\n",
    "    batch_size = setting_dict[\"batch_size\"]\n",
    "    noise = setting_dict[\"noise\"]\n",
    "    std = setting_dict[\"std\"]\n",
    "    h_0 = setting_dict[\"h_0\"]\n",
    "    epsilon = setting_dict[\"epsilon\"]\n",
    "    randomization = setting_dict[\"randomization\"]\n",
    "    \n",
    "    batch_particle_connection = analysis_dict[\"batch_particle_connection\"][\"connect\"]\n",
    "    update_all = analysis_dict[\"batch_particle_connection\"][\"update_all\"]\n",
    "\n",
    "    if noise and any(std == None):\n",
    "        raise ValueError(\"If noise is True, then std can not be None.\")\n",
    "\n",
    "    def loss(y_true, y_pred):\n",
    "        if not noise:\n",
    "            return mean_squared_error(y_true, y_pred)\n",
    "        else:\n",
    "            return np.mean(np.dot(np.sqrt(np.linalg.inv(np.diag(std))), y_true - y_pred)**2)\n",
    "\n",
    "    def grad_loss(y_true, y_pred):\n",
    "        if not noise:\n",
    "            return (-2) / y_true.shape[0] * (y_true - y_pred)\n",
    "        else:\n",
    "            return (-2) / y_true.shape[0] * np.diag(np.sqrt(np.linalg.inv(np.diag(std)))) * (y_true - y_pred)\n",
    "        \n",
    "    if batch_size is None:\n",
    "        batch_size = len(x)\n",
    "    n = len(x)\n",
    "    num_batches = int(np.ceil(n / batch_size))\n",
    "    batch_indices = np.cumsum([0] + list(np.ones(num_batches) * batch_size))\n",
    "    batch_indices[-1] = n\n",
    "    \n",
    "    indices = np.arange(n)\n",
    "    A_batches = [A[indices][int(batch_indices[i]):int(batch_indices[i+1])] for i in range(len(batch_indices)-1)]\n",
    "    y_batches = [y[indices][int(batch_indices[i]):int(batch_indices[i+1])] for i in range(len(batch_indices)-1)]\n",
    "    \n",
    "    if batch_particle_connection:\n",
    "        batch_particle_dict = {}\n",
    "        batch_particle_indices = np.arange(particles) + 1\n",
    "        np.random.shuffle(batch_particle_indices)\n",
    "        if particles == num_batches:\n",
    "            for i in range(num_batches):\n",
    "                batch_particle_dict[\"batch_{}\".format(str(i+1))] = batch_particle_indices[i]\n",
    "        elif particles > num_batches:\n",
    "            base_batches = particles // num_batches\n",
    "            add_batches = particles % num_batches\n",
    "            for i in range(num_batches):\n",
    "                batch_particle_dict[\"batch_{}\".format(str(i+1))] = batch_particle_indices[:base_batches]\n",
    "                batch_particle_indices = batch_particle_indices[base_batches:]\n",
    "            for i in range(add_batches):\n",
    "                batch_particle_dict[\"batch_{}\".format(str(i+1))] = np.concatenate([batch_particle_dict[\"batch_{}\".format(str(i+1))], np.array([batch_particle_indices[i]])])\n",
    "        elif num_batches > particles:\n",
    "            num_reps = int(np.ceil(num_batches / particles))\n",
    "            particles_repeated = np.tile(batch_particle_indices, num_reps)\n",
    "            for i in range(num_batches):\n",
    "                batch_particle_dict[\"batch_{}\".format(str(i+1))] = particles_repeated[i]\n",
    "\n",
    "    param_dict = {}\n",
    "    y_pred_dict = {}\n",
    "    jacobian_dict = {}\n",
    "    loss_dict = {}\n",
    "\n",
    "    for i in range(particles):\n",
    "        param_dict[\"particle_{}\".format(i+1)] = np.random.normal(loc = 0, scale = 1, size = x.shape)\n",
    "        y_pred_dict[\"particle_{}\".format(i+1)] = np.dot(A, param_dict[\"particle_{}\".format(i+1)])\n",
    "        jacobian_dict[\"particle_{}\".format(i+1)] = grad_loss(y, y_pred_dict[\"particle_{}\".format(i+1)])\n",
    "        loss_dict[\"particle_{}\".format(i+1)] = loss(y, y_pred_dict[\"particle_{}\".format(i+1)])\n",
    "\n",
    "    param_mean = np.mean(list(param_dict.values()), axis = 0)\n",
    "\n",
    "    loss_evolution = []\n",
    "    loss_evolution.append(loss(y, np.dot(A, param_mean)))\n",
    "\n",
    "    loss_evolution_single_dict = {}\n",
    "    for i in range(particles):\n",
    "        loss_evolution_single_dict[\"particle_{}\".format(i+1)] = [loss(y, np.dot(A, param_dict[\"particle_{}\".format(i+1)]))]\n",
    "\n",
    "    for iteration in range(iterations):\n",
    "        for b in range(num_batches):\n",
    "            batch_particles = []\n",
    "            # update the predictions, jacobian and loss for the new parameters\n",
    "            for i in range(particles):\n",
    "                if batch_particle_connection: \n",
    "                    if num_batches == particles or num_batches > particles:\n",
    "                        if batch_particle_dict[\"batch_{}\".format(str(b+1))] != i+1:\n",
    "                            continue\n",
    "                    else:\n",
    "                        if i+1 not in batch_particle_dict[\"batch_{}\".format(str(b+1))]:\n",
    "                            continue\n",
    "                if batch_particle_connection:\n",
    "                    batch_particles.append(i+1)\n",
    "                    \n",
    "                y_pred_dict[\"particle_{}\".format(i+1)] = np.dot(A_batches[b], param_dict[\"particle_{}\".format(i+1)])\n",
    "                jacobian_dict[\"particle_{}\".format(i+1)] = grad_loss(y_batches[b], y_pred_dict[\"particle_{}\".format(i+1)])\n",
    "                loss_dict[\"particle_{}\".format(i+1)] = loss(y_batches[b], y_pred_dict[\"particle_{}\".format(i+1)])\n",
    "\n",
    "            # compute the mean of the predictions\n",
    "            y_pred_mean = np.mean(list(y_pred_dict.values()), axis = 0)\n",
    "\n",
    "            # compute the matrix D elementwise\n",
    "            d = np.zeros(shape = (particles, particles))\n",
    "            for k in range(particles):\n",
    "                y_pred_centered = y_pred_dict[\"particle_{}\".format(str(k+1))] - y_pred_mean\n",
    "                for j in range(particles):\n",
    "                    d[k][j] = np.dot(y_pred_centered, jacobian_dict[\"particle_{}\".format(str(j+1))])\n",
    "            d = np.transpose(d)\n",
    "\n",
    "            # compute the scalar h_t\n",
    "            h_t = h_0 / (np.sqrt(np.sum(d**2)) + epsilon)\n",
    "\n",
    "            # matrix with particle parameters as row vectors\n",
    "            params_all_ptcls = np.array(list(param_dict.values()))\n",
    "\n",
    "            # compute the matrix with the updates for each particle\n",
    "            params_all_ptcls = params_all_ptcls - h_t * np.dot(d, params_all_ptcls)\n",
    "\n",
    "            # write the updates back into the dictionary\n",
    "            for i in range(particles):\n",
    "                if batch_particle_connection:\n",
    "                    if not update_all:\n",
    "                        if i not in batch_particles:\n",
    "                            continue\n",
    "                param_dict[\"particle_{}\".format(str(i+1))] = params_all_ptcls[i]\n",
    "\n",
    "                if randomization:\n",
    "                    # add randomization/ noise to each particle\n",
    "                    stddev = 0.1\n",
    "                    noise = np.random.normal(loc = 0.0,\n",
    "                                             scale = stddev,\n",
    "                                             size = param_dict[\"particle_{}\".format(str(i+1))].shape)\n",
    "                    new_param = param_dict[\"particle_{}\".format(str(i+1))] + noise\n",
    "                    param_dict[\"particle_{}\".format(str(i+1))] = new_param\n",
    "\n",
    "            if randomization:\n",
    "                # randomize particles around their mean\n",
    "                param_dict_mean = list(np.mean(list(param_dict.values()), axis = 0))\n",
    "                for i in range(particles):\n",
    "                    stddev = 0.1\n",
    "                    noise = np.random.normal(loc = 0.0,\n",
    "                                             scale = stddev,\n",
    "                                             size = param_dict[\"particle_{}\".format(str(i+1))].shape)\n",
    "                    new_params = param_dict_mean + noise\n",
    "                    param_dict[\"particle_{}\".format(str(i+1))] = new_params\n",
    "\n",
    "        # compute loss for the parameter means\n",
    "        param_mean = np.mean(params_all_ptcls, axis = 0)\n",
    "        loss_evolution.append(loss(y, np.dot(A, param_mean)))\n",
    "\n",
    "        for i in range(particles):\n",
    "            loss_evolution_single_dict[\"particle_{}\".format(i+1)].append(loss(y, np.dot(A, param_dict[\"particle_{}\".format(i+1)])))\n",
    "\n",
    "    final_params = param_mean\n",
    "\n",
    "    return final_params, loss_evolution, loss_evolution_single_dict"
   ]
  },
  {
   "cell_type": "markdown",
   "metadata": {},
   "source": [
    "# Lineares Modell"
   ]
  },
  {
   "cell_type": "markdown",
   "metadata": {},
   "source": [
    "## Modell:\n",
    "$Ax=y$ mit $A$ $m\\times n$-Matrix, $m$, $n$ beliebig ($A$ also insbesondere nicht zwingend quadratisch).\n",
    "\n",
    "$x$ wird gesucht."
   ]
  },
  {
   "cell_type": "code",
   "execution_count": 80,
   "metadata": {},
   "outputs": [],
   "source": [
    "A = np.random.uniform(size = (1000, 1000))\n",
    "x = np.random.uniform(size = (A.shape[1], ))"
   ]
  },
  {
   "cell_type": "code",
   "execution_count": 81,
   "metadata": {},
   "outputs": [],
   "source": [
    "def model_func(x):\n",
    "    return np.dot(A, x)"
   ]
  },
  {
   "cell_type": "code",
   "execution_count": 82,
   "metadata": {},
   "outputs": [],
   "source": [
    "noise = False\n",
    "\n",
    "y, std = y_noise(model_func,\n",
    "                 x, \n",
    "                 noise)"
   ]
  },
  {
   "cell_type": "code",
   "execution_count": 106,
   "metadata": {},
   "outputs": [],
   "source": [
    "setting_dict = {\"A\": A,\n",
    "                \"x\": x,\n",
    "                \"y\": y,\n",
    "                \"particles\": 100,\n",
    "                \"iterations\": 10,\n",
    "                \"batch_size\" : 50,            \n",
    "                \"noise\": noise,\n",
    "                \"std\": std,\n",
    "                \"h_0\": 2,\n",
    "                \"epsilon\": 0.5,\n",
    "                \"randomization\": False\n",
    "                }\n",
    "analysis_dict = {\"batch_particle_connection\": {\"connect\": True,\n",
    "                                               \"update_all\": False}}"
   ]
  },
  {
   "cell_type": "code",
   "execution_count": 107,
   "metadata": {},
   "outputs": [
    {
     "name": "stderr",
     "output_type": "stream",
     "text": [
      "c:\\users\\morit\\anaconda3\\envs\\master_thesis\\lib\\site-packages\\numpy\\core\\_asarray.py:136: VisibleDeprecationWarning: Creating an ndarray from ragged nested sequences (which is a list-or-tuple of lists-or-tuples-or ndarrays with different lengths or shapes) is deprecated. If you meant to do this, you must specify 'dtype=object' when creating the ndarray\n",
      "  return array(a, dtype, copy=False, order=order, subok=True)\n"
     ]
    },
    {
     "ename": "ValueError",
     "evalue": "operands could not be broadcast together with shapes (1000,) (50,) ",
     "output_type": "error",
     "traceback": [
      "\u001b[1;31m---------------------------------------------------------------------------\u001b[0m",
      "\u001b[1;31mValueError\u001b[0m                                Traceback (most recent call last)",
      "\u001b[1;32m<ipython-input-107-4c95542cb8c2>\u001b[0m in \u001b[0;36m<module>\u001b[1;34m\u001b[0m\n\u001b[0;32m      1\u001b[0m final_params, loss_evolution, loss_evolution_single_dict = enkf_linear_inverse_problem(setting_dict,\n\u001b[1;32m----> 2\u001b[1;33m                                                                                        analysis_dict)\n\u001b[0m\u001b[0;32m      3\u001b[0m plot_IP_loss_evolution(loss_evolution,\n\u001b[0;32m      4\u001b[0m                        \u001b[0mstart_iteration\u001b[0m \u001b[1;33m=\u001b[0m \u001b[1;36m1\u001b[0m\u001b[1;33m,\u001b[0m\u001b[1;33m\u001b[0m\u001b[1;33m\u001b[0m\u001b[0m\n\u001b[0;32m      5\u001b[0m                        save = None)\n",
      "\u001b[1;32m<ipython-input-103-a324015b930c>\u001b[0m in \u001b[0;36menkf_linear_inverse_problem\u001b[1;34m(setting_dict, analysis_dict)\u001b[0m\n\u001b[0;32m    131\u001b[0m \u001b[1;33m\u001b[0m\u001b[0m\n\u001b[0;32m    132\u001b[0m             \u001b[1;31m# compute the mean of the predictions\u001b[0m\u001b[1;33m\u001b[0m\u001b[1;33m\u001b[0m\u001b[1;33m\u001b[0m\u001b[0m\n\u001b[1;32m--> 133\u001b[1;33m             \u001b[0my_pred_mean\u001b[0m \u001b[1;33m=\u001b[0m \u001b[0mnp\u001b[0m\u001b[1;33m.\u001b[0m\u001b[0mmean\u001b[0m\u001b[1;33m(\u001b[0m\u001b[0mlist\u001b[0m\u001b[1;33m(\u001b[0m\u001b[0my_pred_dict\u001b[0m\u001b[1;33m.\u001b[0m\u001b[0mvalues\u001b[0m\u001b[1;33m(\u001b[0m\u001b[1;33m)\u001b[0m\u001b[1;33m)\u001b[0m\u001b[1;33m,\u001b[0m \u001b[0maxis\u001b[0m \u001b[1;33m=\u001b[0m \u001b[1;36m0\u001b[0m\u001b[1;33m)\u001b[0m\u001b[1;33m\u001b[0m\u001b[1;33m\u001b[0m\u001b[0m\n\u001b[0m\u001b[0;32m    134\u001b[0m \u001b[1;33m\u001b[0m\u001b[0m\n\u001b[0;32m    135\u001b[0m             \u001b[1;31m# compute the matrix D elementwise\u001b[0m\u001b[1;33m\u001b[0m\u001b[1;33m\u001b[0m\u001b[1;33m\u001b[0m\u001b[0m\n",
      "\u001b[1;32m<__array_function__ internals>\u001b[0m in \u001b[0;36mmean\u001b[1;34m(*args, **kwargs)\u001b[0m\n",
      "\u001b[1;32mc:\\users\\morit\\anaconda3\\envs\\master_thesis\\lib\\site-packages\\numpy\\core\\fromnumeric.py\u001b[0m in \u001b[0;36mmean\u001b[1;34m(a, axis, dtype, out, keepdims)\u001b[0m\n\u001b[0;32m   3371\u001b[0m \u001b[1;33m\u001b[0m\u001b[0m\n\u001b[0;32m   3372\u001b[0m     return _methods._mean(a, axis=axis, dtype=dtype,\n\u001b[1;32m-> 3373\u001b[1;33m                           out=out, **kwargs)\n\u001b[0m\u001b[0;32m   3374\u001b[0m \u001b[1;33m\u001b[0m\u001b[0m\n\u001b[0;32m   3375\u001b[0m \u001b[1;33m\u001b[0m\u001b[0m\n",
      "\u001b[1;32mc:\\users\\morit\\anaconda3\\envs\\master_thesis\\lib\\site-packages\\numpy\\core\\_methods.py\u001b[0m in \u001b[0;36m_mean\u001b[1;34m(a, axis, dtype, out, keepdims)\u001b[0m\n\u001b[0;32m    158\u001b[0m             \u001b[0mis_float16_result\u001b[0m \u001b[1;33m=\u001b[0m \u001b[1;32mTrue\u001b[0m\u001b[1;33m\u001b[0m\u001b[1;33m\u001b[0m\u001b[0m\n\u001b[0;32m    159\u001b[0m \u001b[1;33m\u001b[0m\u001b[0m\n\u001b[1;32m--> 160\u001b[1;33m     \u001b[0mret\u001b[0m \u001b[1;33m=\u001b[0m \u001b[0mumr_sum\u001b[0m\u001b[1;33m(\u001b[0m\u001b[0marr\u001b[0m\u001b[1;33m,\u001b[0m \u001b[0maxis\u001b[0m\u001b[1;33m,\u001b[0m \u001b[0mdtype\u001b[0m\u001b[1;33m,\u001b[0m \u001b[0mout\u001b[0m\u001b[1;33m,\u001b[0m \u001b[0mkeepdims\u001b[0m\u001b[1;33m)\u001b[0m\u001b[1;33m\u001b[0m\u001b[1;33m\u001b[0m\u001b[0m\n\u001b[0m\u001b[0;32m    161\u001b[0m     \u001b[1;32mif\u001b[0m \u001b[0misinstance\u001b[0m\u001b[1;33m(\u001b[0m\u001b[0mret\u001b[0m\u001b[1;33m,\u001b[0m \u001b[0mmu\u001b[0m\u001b[1;33m.\u001b[0m\u001b[0mndarray\u001b[0m\u001b[1;33m)\u001b[0m\u001b[1;33m:\u001b[0m\u001b[1;33m\u001b[0m\u001b[1;33m\u001b[0m\u001b[0m\n\u001b[0;32m    162\u001b[0m         ret = um.true_divide(\n",
      "\u001b[1;31mValueError\u001b[0m: operands could not be broadcast together with shapes (1000,) (50,) "
     ]
    }
   ],
   "source": [
    "final_params, loss_evolution, loss_evolution_single_dict = enkf_linear_inverse_problem(setting_dict,\n",
    "                                                                                       analysis_dict)\n",
    "plot_IP_loss_evolution(loss_evolution,\n",
    "                       start_iteration = 1,\n",
    "                       save = None)\n",
    "loss_evolution[-10:]"
   ]
  },
  {
   "cell_type": "code",
   "execution_count": 100,
   "metadata": {},
   "outputs": [
    {
     "data": {
      "image/png": "[encoded data removed]",
      "text/plain": [
       "<Figure size 576x360 with 1 Axes>"
      ]
     },
     "metadata": {
      "needs_background": "light"
     },
     "output_type": "display_data"
    },
    {
     "data": {
      "text/plain": [
       "[590.395237510239,\n",
       " 478.49565832033545,\n",
       " 396.2738433762962,\n",
       " 335.6416975749094,\n",
       " 290.6926260373185,\n",
       " 257.13850321101023,\n",
       " 231.88799128306147,\n",
       " 212.72472382788132,\n",
       " 198.06209653502498,\n",
       " 186.7604162465239]"
      ]
     },
     "execution_count": 100,
     "metadata": {},
     "output_type": "execute_result"
    }
   ],
   "source": [
    "setting_dict = {\"model_func\": model_func,\n",
    "                \"x\": x,\n",
    "                \"y\": y,\n",
    "                \"particles\": 100,\n",
    "                \"iterations\": 25,\n",
    "                \"noise\": noise,\n",
    "                \"std\": std,\n",
    "                \"h_0\": 2,\n",
    "                \"epsilon\": 0.5,\n",
    "                \"randomization\": False\n",
    "                }\n",
    "final_params_inv, loss_evolution_inv, loss_evolution_single_dict_inv = enkf_inverse_problem(setting_dict)\n",
    "plot_IP_loss_evolution(loss_evolution_inv,\n",
    "                       start_iteration = 1,\n",
    "                       save = None)\n",
    "loss_evolution_inv[-10:]"
   ]
  },
  {
   "cell_type": "markdown",
   "metadata": {},
   "source": [
    "## Modell:\n",
    "$Ax=y + \\eta$ mit $A$ $m\\times n$-Matrix, $m$, $n$ beliebig ($A$ also insbesondere nicht zwingend quadratisch), $\\eta\\sim\\mathscr{N}(0,\\Gamma)$.\n",
    "\n",
    "$x$ wird gesucht."
   ]
  },
  {
   "cell_type": "raw",
   "metadata": {},
   "source": [
    "A = np.random.uniform(size = (100, 100))\n",
    "x = np.random.uniform(size = (A.shape[1], ))"
   ]
  },
  {
   "cell_type": "raw",
   "metadata": {},
   "source": [
    "def model_func(x):\n",
    "    return np.dot(A, x)"
   ]
  },
  {
   "cell_type": "raw",
   "metadata": {},
   "source": [
    "noise = True\n",
    "\n",
    "y, std = y_noise(model_func,\n",
    "                 x, \n",
    "                 noise)"
   ]
  },
  {
   "cell_type": "raw",
   "metadata": {},
   "source": [
    "setting_dict = {\"model_func\": model_func,\n",
    "                \"x\": x,\n",
    "                \"y\": y,\n",
    "                \"particles\": 100,\n",
    "                \"iterations\": 25,\n",
    "                \"noise\": noise,\n",
    "                \"std\": std,\n",
    "                \"h_0\": 2,\n",
    "                \"epsilon\": 0.5,\n",
    "                \"randomization\": False\n",
    "                }"
   ]
  },
  {
   "cell_type": "raw",
   "metadata": {},
   "source": [
    "final_params, loss_evolution, loss_evolution_single_dict = enkf_inverse_problem(setting_dict)"
   ]
  },
  {
   "cell_type": "raw",
   "metadata": {},
   "source": [
    "plot_IP_loss_evolution(loss_evolution,\n",
    "                       start_iteration = 1,\n",
    "                       save = None)"
   ]
  }
 ],
 "metadata": {
  "kernelspec": {
   "display_name": "Python 3",
   "language": "python",
   "name": "python3"
  },
  "language_info": {
   "codemirror_mode": {
    "name": "ipython",
    "version": 3
   },
   "file_extension": ".py",
   "mimetype": "text/x-python",
   "name": "python",
   "nbconvert_exporter": "python",
   "pygments_lexer": "ipython3",
   "version": "3.7.7"
  }
 },
 "nbformat": 4,
 "nbformat_minor": 4
}
