{
 "cells": [
  {
   "cell_type": "code",
   "execution_count": 1,
   "metadata": {},
   "outputs": [],
   "source": [
    "import warnings\n",
    "warnings.filterwarnings(\"ignore\")"
   ]
  },
  {
   "cell_type": "code",
   "execution_count": 2,
   "metadata": {},
   "outputs": [],
   "source": [
    "import sys\n",
    "sys.path.insert(1, \"../python/functions\")\n",
    "sys.path.insert(2, \"../python/architecture\")"
   ]
  },
  {
   "cell_type": "code",
   "execution_count": 3,
   "metadata": {},
   "outputs": [
    {
     "name": "stdout",
     "output_type": "stream",
     "text": [
      "WARNING:tensorflow:From ../python/architecture\\reproducible.py:14: The name tf.keras.backend.set_session is deprecated. Please use tf.compat.v1.keras.backend.set_session instead.\n",
      "\n"
     ]
    }
   ],
   "source": [
    "from data_prep_functions import wine_prep\n",
    "from plotting_functions import nn_plot_epoch_mse\n",
    "from enkf_functions import enkf_regressor_extension\n",
    "from saving_functions import load_objects\n",
    "from model_functions import nn_load\n",
    "import reproducible\n",
    "import no_gpu\n",
    "from sklearn.metrics import mean_squared_error\n",
    "import numpy as np"
   ]
  },
  {
   "cell_type": "code",
   "execution_count": 4,
   "metadata": {},
   "outputs": [],
   "source": [
    "X_train, X_test, y_train, y_test = wine_prep()"
   ]
  },
  {
   "cell_type": "code",
   "execution_count": 5,
   "metadata": {},
   "outputs": [],
   "source": [
    "# old settings -> the corresponding model shall be extended\n",
    "setting_dict = {\"particles\": 1,\n",
    "                \"epochs\": 100,\n",
    "                \"batch_size\": 200,    # len(X_train)\n",
    "                \"h_0\": 2,\n",
    "                \"epsilon\": 0.5,\n",
    "                \"randomization\": False,\n",
    "                \"shuffle\": True,\n",
    "                \"early_stopping\": False,\n",
    "                \"early_stopping_diff\": 0.001\n",
    "               }\n",
    "\n",
    "additional_epochs = 20"
   ]
  },
  {
   "cell_type": "code",
   "execution_count": 6,
   "metadata": {},
   "outputs": [],
   "source": [
    "particle_list = [100, 200, 300, 400, 500, 600, 700, 800, 900, 1000, 1500, 2000]\n",
    "particle_list = [2000]"
   ]
  },
  {
   "cell_type": "code",
   "execution_count": 7,
   "metadata": {},
   "outputs": [],
   "source": [
    "import time"
   ]
  },
  {
   "cell_type": "code",
   "execution_count": 8,
   "metadata": {},
   "outputs": [
    {
     "name": "stdout",
     "output_type": "stream",
     "text": [
      "Epoch 101. Training MSE: 0.209, Test MSE: 0.506.\n",
      "Epoch 102. Training MSE: 0.21, Test MSE: 0.505.\n",
      "Epoch 103. Training MSE: 0.209, Test MSE: 0.507.\n",
      "Epoch 104. Training MSE: 0.208, Test MSE: 0.507.\n",
      "Epoch 105. Training MSE: 0.207, Test MSE: 0.508.\n",
      "Epoch 106. Training MSE: 0.206, Test MSE: 0.509.\n",
      "Epoch 107. Training MSE: 0.206, Test MSE: 0.51.\n",
      "Epoch 108. Training MSE: 0.205, Test MSE: 0.512.\n",
      "Epoch 109. Training MSE: 0.204, Test MSE: 0.513.\n",
      "Epoch 110. Training MSE: 0.204, Test MSE: 0.513.\n",
      "Epoch 111. Training MSE: 0.204, Test MSE: 0.512.\n",
      "Epoch 112. Training MSE: 0.202, Test MSE: 0.515.\n",
      "Epoch 113. Training MSE: 0.201, Test MSE: 0.518.\n",
      "Epoch 114. Training MSE: 0.2, Test MSE: 0.519.\n",
      "Epoch 115. Training MSE: 0.2, Test MSE: 0.518.\n",
      "Epoch 116. Training MSE: 0.199, Test MSE: 0.52.\n",
      "Epoch 117. Training MSE: 0.199, Test MSE: 0.52.\n",
      "Epoch 118. Training MSE: 0.198, Test MSE: 0.522.\n",
      "Epoch 119. Training MSE: 0.198, Test MSE: 0.52.\n",
      "Epoch 120. Training MSE: 0.197, Test MSE: 0.522.\n",
      "Calculation time for 2000 particles: 349.60571823517483 minutes.\n"
     ]
    },
    {
     "data": {
      "image/png": "[encoded data removed]",
      "text/plain": [
       "<Figure size 576x360 with 1 Axes>"
      ]
     },
     "metadata": {
      "needs_background": "light"
     },
     "output_type": "display_data"
    }
   ],
   "source": [
    "for p in particle_list:\n",
    "    setting_dict[\"particles\"] = p\n",
    "    \n",
    "    import random\n",
    "    import os\n",
    "    import numpy as np\n",
    "    import tensorflow as tf\n",
    "\n",
    "    os.environ['PYTHONHASHSEED'] = '0'\n",
    "    np.random.seed(42)\n",
    "    random.seed(42)\n",
    "    session_conf = tf.compat.v1.ConfigProto(intra_op_parallelism_threads = 1, inter_op_parallelism_threads = 1)\n",
    "    tf.compat.v1.set_random_seed(42)\n",
    "    sess = tf.compat.v1.Session(graph = tf.compat.v1.get_default_graph(), config = session_conf)\n",
    "    tf.compat.v1.keras.backend.set_session(sess)\n",
    "\n",
    "    start_time = time.time()\n",
    "    mean_model, mean_model_train_mse, mean_model_test_mse = enkf_regressor_extension(extend_model = \"../models/wine/enkf_wine_full_E{}_B{}_P{}_H{}.h5\".format(setting_dict[\"epochs\"], setting_dict[\"batch_size\"], p, setting_dict[\"h_0\"]),\n",
    "                                                                                     additional_epochs = additional_epochs,\n",
    "                                                                                     save_all = True,\n",
    "                                                                                     verbose = 1)\n",
    "    end_time = time.time()\n",
    "    print(\"Calculation time for {} particles: {} minutes.\".format(p, (end_time - start_time) / 60))\n",
    "    nn_plot_epoch_mse(mean_model_train_mse,\n",
    "                      mean_model_test_mse,\n",
    "                      mse_mean = None,\n",
    "                      savefig = True,\n",
    "                      file = \"../img/wine/enkf_wine_full_E{}_B{}_P{}_H{}.png\".format(setting_dict[\"epochs\"]+additional_epochs, setting_dict[\"batch_size\"], p, setting_dict[\"h_0\"]))"
   ]
  }
 ],
 "metadata": {
  "kernelspec": {
   "display_name": "Python 3",
   "language": "python",
   "name": "python3"
  },
  "language_info": {
   "codemirror_mode": {
    "name": "ipython",
    "version": 3
   },
   "file_extension": ".py",
   "mimetype": "text/x-python",
   "name": "python",
   "nbconvert_exporter": "python",
   "pygments_lexer": "ipython3",
   "version": "3.7.6"
  }
 },
 "nbformat": 4,
 "nbformat_minor": 4
}
