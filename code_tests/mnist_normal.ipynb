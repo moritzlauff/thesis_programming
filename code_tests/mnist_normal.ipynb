{
 "cells": [
  {
   "cell_type": "code",
   "execution_count": 1,
   "metadata": {},
   "outputs": [],
   "source": [
    "import warnings\n",
    "warnings.filterwarnings(\"ignore\")"
   ]
  },
  {
   "cell_type": "code",
   "execution_count": 2,
   "metadata": {},
   "outputs": [],
   "source": [
    "import sys\n",
    "sys.path.insert(1, \"../python/functions\")\n",
    "sys.path.insert(2, \"../python/architecture\")"
   ]
  },
  {
   "cell_type": "code",
   "execution_count": 3,
   "metadata": {},
   "outputs": [
    {
     "name": "stdout",
     "output_type": "stream",
     "text": [
      "WARNING:tensorflow:From ../python/architecture\\reproducible.py:14: The name tf.keras.backend.set_session is deprecated. Please use tf.compat.v1.keras.backend.set_session instead.\n",
      "\n"
     ]
    }
   ],
   "source": [
    "from data_prep_functions import mnist_prep\n",
    "from model_functions import *\n",
    "from plotting_functions import nn_plot_acc, nn_plot_acc_many\n",
    "import no_gpu\n",
    "import reproducible"
   ]
  },
  {
   "cell_type": "code",
   "execution_count": 4,
   "metadata": {
    "scrolled": false
   },
   "outputs": [],
   "source": [
    "import time"
   ]
  },
  {
   "cell_type": "code",
   "execution_count": 5,
   "metadata": {},
   "outputs": [],
   "source": [
    "X_train, X_test, y_train, y_test = mnist_prep()"
   ]
  },
  {
   "cell_type": "raw",
   "metadata": {},
   "source": [
    "# use samller dataset for increased speed\n",
    "X_train = X_train[:1000, :]\n",
    "X_test = X_test[:500, :]\n",
    "y_train = y_train[:1000]\n",
    "y_test = y_test[:500]"
   ]
  },
  {
   "cell_type": "code",
   "execution_count": 6,
   "metadata": {},
   "outputs": [],
   "source": [
    "layers = 5\n",
    "neurons = [128, 128, 64, 32, 10]\n",
    "n_cols = X_train.shape[1]\n",
    "batch_size = 1000       # X_train.shape[0]\n",
    "epochs = 20\n",
    "optimizer = \"sgd\""
   ]
  },
  {
   "cell_type": "code",
   "execution_count": 7,
   "metadata": {},
   "outputs": [
    {
     "name": "stdout",
     "output_type": "stream",
     "text": [
      "Epoch 1/20\n",
      "60/60 [==============================] - 1s 14ms/step - loss: 2.2443 - accuracy: 0.2426 - val_loss: 2.0759 - val_accuracy: 0.4035\n",
      "Epoch 2/20\n",
      "60/60 [==============================] - 1s 12ms/step - loss: 1.8885 - accuracy: 0.5077 - val_loss: 1.6735 - val_accuracy: 0.5965\n",
      "Epoch 3/20\n",
      "60/60 [==============================] - 1s 13ms/step - loss: 1.4667 - accuracy: 0.6330 - val_loss: 1.2454 - val_accuracy: 0.6910\n",
      "Epoch 4/20\n",
      "60/60 [==============================] - 1s 13ms/step - loss: 1.0923 - accuracy: 0.7233 - val_loss: 0.9249 - val_accuracy: 0.7719\n",
      "Epoch 5/20\n",
      "60/60 [==============================] - 1s 11ms/step - loss: 0.8345 - accuracy: 0.7903 - val_loss: 0.7245 - val_accuracy: 0.8201\n",
      "Epoch 6/20\n",
      "60/60 [==============================] - 1s 13ms/step - loss: 0.6717 - accuracy: 0.8283 - val_loss: 0.6000 - val_accuracy: 0.8497\n",
      "Epoch 7/20\n",
      "60/60 [==============================] - 1s 11ms/step - loss: 0.5676 - accuracy: 0.8506 - val_loss: 0.5209 - val_accuracy: 0.8651\n",
      "Epoch 8/20\n",
      "60/60 [==============================] - 1s 11ms/step - loss: 0.4981 - accuracy: 0.8661 - val_loss: 0.4666 - val_accuracy: 0.8782\n",
      "Epoch 9/20\n",
      "60/60 [==============================] - 1s 11ms/step - loss: 0.4490 - accuracy: 0.8774 - val_loss: 0.4287 - val_accuracy: 0.8870\n",
      "Epoch 10/20\n",
      "60/60 [==============================] - 1s 12ms/step - loss: 0.4121 - accuracy: 0.8861 - val_loss: 0.3991 - val_accuracy: 0.8926\n",
      "Epoch 11/20\n",
      "60/60 [==============================] - 1s 12ms/step - loss: 0.3832 - accuracy: 0.8934 - val_loss: 0.3763 - val_accuracy: 0.8969\n",
      "Epoch 12/20\n",
      "60/60 [==============================] - 1s 12ms/step - loss: 0.3595 - accuracy: 0.8995 - val_loss: 0.3574 - val_accuracy: 0.9008\n",
      "Epoch 13/20\n",
      "60/60 [==============================] - 1s 13ms/step - loss: 0.3396 - accuracy: 0.9042 - val_loss: 0.3413 - val_accuracy: 0.9054\n",
      "Epoch 14/20\n",
      "60/60 [==============================] - 1s 12ms/step - loss: 0.3227 - accuracy: 0.9084 - val_loss: 0.3271 - val_accuracy: 0.9083\n",
      "Epoch 15/20\n",
      "60/60 [==============================] - 1s 12ms/step - loss: 0.3080 - accuracy: 0.9115 - val_loss: 0.3153 - val_accuracy: 0.9116\n",
      "Epoch 16/20\n",
      "60/60 [==============================] - 1s 13ms/step - loss: 0.2950 - accuracy: 0.9148 - val_loss: 0.3047 - val_accuracy: 0.9134\n",
      "Epoch 17/20\n",
      "60/60 [==============================] - 1s 12ms/step - loss: 0.2834 - accuracy: 0.9180 - val_loss: 0.2948 - val_accuracy: 0.9160\n",
      "Epoch 18/20\n",
      "60/60 [==============================] - 1s 12ms/step - loss: 0.2731 - accuracy: 0.9207 - val_loss: 0.2864 - val_accuracy: 0.9182\n",
      "Epoch 19/20\n",
      "60/60 [==============================] - 1s 13ms/step - loss: 0.2637 - accuracy: 0.9236 - val_loss: 0.2782 - val_accuracy: 0.9207\n",
      "Epoch 20/20\n",
      "60/60 [==============================] - 1s 12ms/step - loss: 0.2550 - accuracy: 0.9260 - val_loss: 0.2713 - val_accuracy: 0.9220\n",
      "Overall calculation took 15.371111154556274 seconds.\n",
      "Model: \"sequential\"\n",
      "_________________________________________________________________\n",
      "Layer (type)                 Output Shape              Param #   \n",
      "=================================================================\n",
      "dense (Dense)                (None, 128)               100480    \n",
      "_________________________________________________________________\n",
      "dense_1 (Dense)              (None, 128)               16512     \n",
      "_________________________________________________________________\n",
      "dense_2 (Dense)              (None, 64)                8256      \n",
      "_________________________________________________________________\n",
      "dense_3 (Dense)              (None, 32)                2080      \n",
      "_________________________________________________________________\n",
      "dense_4 (Dense)              (None, 10)                330       \n",
      "=================================================================\n",
      "Total params: 127,658\n",
      "Trainable params: 127,658\n",
      "Non-trainable params: 0\n",
      "_________________________________________________________________\n"
     ]
    },
    {
     "data": {
      "image/png": "[encoded data removed]",
      "text/plain": [
       "<Figure size 576x360 with 1 Axes>"
      ]
     },
     "metadata": {
      "needs_background": "light"
     },
     "output_type": "display_data"
    }
   ],
   "source": [
    "model = nn_model_structure(layers = layers,\n",
    "                           neurons = neurons,\n",
    "                           n_cols = n_cols)\n",
    "model = nn_model_compile(model,\n",
    "                         optimizer = optimizer)\n",
    "start_time = time.time()\n",
    "model = nn_model_fit(model,\n",
    "                     X_train = X_train,\n",
    "                     y_train = y_train,\n",
    "                     X_val = X_test,\n",
    "                     y_val = y_test,\n",
    "                     batch_size = batch_size,\n",
    "                     epochs = epochs)\n",
    "end_time = time.time()\n",
    "print(\"Overall calculation took {} seconds.\".format(end_time - start_time))\n",
    "model.summary()\n",
    "nn_plot_acc(model,\n",
    "            mean_comparison = None,\n",
    "            start_epoch = 1,\n",
    "            save = None)#\"../img/mnist/mnist_{}_E{}_B{}.png\".format(optimizer, epochs, batch_size))\n",
    "#nn_save(model,\n",
    "#        \"../models/mnist/mnist_{}_E{}_B{}.h5\".format(optimizer, epochs, batch_size))"
   ]
  },
  {
   "cell_type": "raw",
   "metadata": {},
   "source": [
    "model_1 = nn_load(\"../models/mnist/mnist_sgd_E10_B1000.h5\")"
   ]
  },
  {
   "cell_type": "raw",
   "metadata": {},
   "source": [
    "enkf_model = nn_load(\"../models/mnist/enkf_mnist_full_E10_B1000_P500_H2.h5\")"
   ]
  },
  {
   "cell_type": "raw",
   "metadata": {},
   "source": [
    "nn_plot_acc(model_1,\n",
    "            mean_comparison = None, \n",
    "            start_epoch = 1,\n",
    "            title = \"\",\n",
    "            save = None)#\"../img/accuracy_per_epoch.png\"\n",
    "            ) "
   ]
  },
  {
   "cell_type": "raw",
   "metadata": {},
   "source": [
    "nn_plot_acc(enkf_model,\n",
    "            mean_comparison = None,\n",
    "            start_epoch = 1,\n",
    "            title = \"\",\n",
    "            save = None)#\"../img/accuracy_per_epoch.png\"\n",
    "            ) "
   ]
  },
  {
   "cell_type": "raw",
   "metadata": {},
   "source": [
    "model_list = [model,\n",
    "              model_1,\n",
    "              enkf_model]\n",
    "label_list = [\"Adam\",\n",
    "              \"SGD\",\n",
    "              \"EnKF\"]"
   ]
  },
  {
   "cell_type": "raw",
   "metadata": {},
   "source": [
    "nn_plot_acc_many(model_list,\n",
    "                 label_list,\n",
    "                 train_test = \"train\",\n",
    "                 mean_comparison = None,\n",
    "                 start_epoch = 1,\n",
    "                 save = None)#\"../img/mnist/mnist_{}_E{}_B{}.png\".format(optimizer, epochs, batch_size))"
   ]
  },
  {
   "cell_type": "raw",
   "metadata": {},
   "source": [
    "y_true, y_pred = nn_class_pred_true(model, X_test, y_test)\n",
    "cm = nn_conf_mat(y_true, y_pred)"
   ]
  }
 ],
 "metadata": {
  "kernelspec": {
   "display_name": "Python 3",
   "language": "python",
   "name": "python3"
  },
  "language_info": {
   "codemirror_mode": {
    "name": "ipython",
    "version": 3
   },
   "file_extension": ".py",
   "mimetype": "text/x-python",
   "name": "python",
   "nbconvert_exporter": "python",
   "pygments_lexer": "ipython3",
   "version": "3.7.7"
  }
 },
 "nbformat": 4,
 "nbformat_minor": 4
}
