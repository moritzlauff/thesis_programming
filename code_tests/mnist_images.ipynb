{
 "cells": [
  {
   "cell_type": "code",
   "execution_count": 1,
   "metadata": {},
   "outputs": [],
   "source": [
    "from tensorflow.keras.datasets import mnist\n",
    "(X_train, Y_train), (X_test, Y_test) = mnist.load_data()"
   ]
  },
  {
   "cell_type": "code",
   "execution_count": 2,
   "metadata": {},
   "outputs": [],
   "source": [
    "import matplotlib.pyplot as plt"
   ]
  },
  {
   "cell_type": "code",
   "execution_count": 3,
   "metadata": {},
   "outputs": [
    {
     "data": {
      "image/png": "[encoded data removed]",
      "text/plain": [
       "<Figure size 432x432 with 4 Axes>"
      ]
     },
     "metadata": {},
     "output_type": "display_data"
    }
   ],
   "source": [
    "plt.figure(figsize=(6,6))\n",
    "plt.subplot(221)\n",
    "plt.imshow(X_train[0], cmap='gray')\n",
    "plt.xticks(ticks = [])\n",
    "plt.yticks(ticks = [])\n",
    "plt.subplot(222)\n",
    "plt.imshow(X_train[7], cmap='gray')\n",
    "plt.xticks(ticks = [])\n",
    "plt.yticks(ticks = [])\n",
    "plt.subplot(223)\n",
    "plt.imshow(X_train[2], cmap='gray')\n",
    "plt.xticks(ticks = [])\n",
    "plt.yticks(ticks = [])\n",
    "plt.subplot(224)\n",
    "plt.imshow(X_train[17], cmap='gray')\n",
    "plt.xticks(ticks = [])\n",
    "plt.yticks(ticks = [])\n",
    "plt.savefig(\"../img/mnist_2x2.png\")\n",
    "plt.show()"
   ]
  }
 ],
 "metadata": {
  "kernelspec": {
   "display_name": "Python 3",
   "language": "python",
   "name": "python3"
  },
  "language_info": {
   "codemirror_mode": {
    "name": "ipython",
    "version": 3
   },
   "file_extension": ".py",
   "mimetype": "text/x-python",
   "name": "python",
   "nbconvert_exporter": "python",
   "pygments_lexer": "ipython3",
   "version": "3.7.7"
  }
 },
 "nbformat": 4,
 "nbformat_minor": 4
}
