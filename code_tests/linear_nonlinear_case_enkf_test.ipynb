{
 "cells": [
  {
   "cell_type": "code",
   "execution_count": 1,
   "metadata": {},
   "outputs": [],
   "source": [
    "import numpy as np\n",
    "import matplotlib.pyplot as plt"
   ]
  },
  {
   "cell_type": "code",
   "execution_count": 2,
   "metadata": {},
   "outputs": [],
   "source": [
    "np.random.seed(42)"
   ]
  },
  {
   "cell_type": "markdown",
   "metadata": {},
   "source": [
    "## Modell:\n",
    "$A\\cdot\\sin(x)=y$ mit $A$ $m\\times n$-Matrix, $m$, $n$ beliebig ($A$ also insbesondere nicht zwingend quadratisch)\n",
    "\n",
    "$x$ wird gesucht."
   ]
  },
  {
   "cell_type": "raw",
   "metadata": {},
   "source": [
    "A = np.random.randint(1, 11, size = (100, 100))\n",
    "x = np.random.randint(1, 6, size = (100, ))"
   ]
  },
  {
   "cell_type": "code",
   "execution_count": 3,
   "metadata": {},
   "outputs": [],
   "source": [
    "A = np.random.random(size = (100, 100))\n",
    "x = np.random.random(size = (100, ))"
   ]
  },
  {
   "cell_type": "code",
   "execution_count": 4,
   "metadata": {},
   "outputs": [],
   "source": [
    "y = np.dot(A, np.sin(x))"
   ]
  },
  {
   "cell_type": "markdown",
   "metadata": {},
   "source": [
    "$A$ ist invertierbar:"
   ]
  },
  {
   "cell_type": "code",
   "execution_count": 5,
   "metadata": {},
   "outputs": [
    {
     "name": "stdout",
     "output_type": "stream",
     "text": [
      "[[ 0.58611217  0.22754722  0.22079958 ... -0.35934623  0.66178901\n",
      "   0.19085717]\n",
      " [-0.86053578  0.35823913 -0.05086583 ... -0.28753986  0.01246512\n",
      "  -1.48921599]\n",
      " [ 0.26764428 -0.13717687 -0.92694754 ...  0.09591585 -1.22390556\n",
      "   2.1684163 ]\n",
      " ...\n",
      " [ 0.66359634 -0.39434052  0.53305901 ...  0.12365094  0.66198343\n",
      "   0.04954313]\n",
      " [-0.06110287  0.01871632 -0.28590078 ...  0.03731371 -0.48258655\n",
      "   0.91014539]\n",
      " [-1.43651032  0.47662975 -0.21419412 ... -0.01676364  0.36827009\n",
      "  -2.7539353 ]]\n"
     ]
    }
   ],
   "source": [
    "if A.shape[0] == A.shape[1]:\n",
    "    print(np.linalg.inv(A))"
   ]
  },
  {
   "cell_type": "markdown",
   "metadata": {},
   "source": [
    "Verlustfunktion: mittlerer quadratischer Fehler $\\frac{1}{n}\\Vert y - \\hat{y}\\Vert^2$"
   ]
  },
  {
   "cell_type": "code",
   "execution_count": 6,
   "metadata": {},
   "outputs": [],
   "source": [
    "from sklearn.metrics import mean_squared_error"
   ]
  },
  {
   "cell_type": "markdown",
   "metadata": {},
   "source": [
    "Ableitung der Verlustfunktion nach den predictions $\\hat{y}$ ist für ein $\\hat{y}_i$: \n",
    "\n",
    "$-\\frac{2}{n}(y_i-\\hat{y}_i)$"
   ]
  },
  {
   "cell_type": "code",
   "execution_count": 7,
   "metadata": {},
   "outputs": [],
   "source": [
    "def grad_loss(y_true, y_pred):\n",
    "    return (-2) / y_true.shape[0] * (y_true - y_pred)"
   ]
  },
  {
   "cell_type": "markdown",
   "metadata": {},
   "source": [
    "Loss, wenn der Mittelwert aller $y_i$ stets als prediction verwendet wird:"
   ]
  },
  {
   "cell_type": "code",
   "execution_count": 8,
   "metadata": {},
   "outputs": [
    {
     "data": {
      "text/plain": [
       "1.8382635092906796"
      ]
     },
     "execution_count": 8,
     "metadata": {},
     "output_type": "execute_result"
    }
   ],
   "source": [
    "mean_squared_error(y, np.ones(y.shape[0])*np.mean(y))"
   ]
  },
  {
   "cell_type": "markdown",
   "metadata": {},
   "source": [
    "## EnKF-Algorithmus, wie ich ihn auch sonst implementiert habe"
   ]
  },
  {
   "cell_type": "code",
   "execution_count": 9,
   "metadata": {},
   "outputs": [],
   "source": [
    "iterations = 100\n",
    "particles = 100\n",
    "randomization = True"
   ]
  },
  {
   "cell_type": "code",
   "execution_count": 10,
   "metadata": {},
   "outputs": [],
   "source": [
    "h_0 = 2\n",
    "epsilon = 0.5"
   ]
  },
  {
   "cell_type": "code",
   "execution_count": 11,
   "metadata": {},
   "outputs": [],
   "source": [
    "# Dictionary, in das die Partikel (Vektoren, Schätzungen für x) geschrieben werden\n",
    "param_dict = {}\n",
    "# Dictionary, in das für alle Partikel die predictions für y geschrieben werden\n",
    "y_pred_dict = {}\n",
    "# Dictionary, in das für alle Partikel die Ableitungen der Verlustfunktion nach den predictions geschrieben werden\n",
    "jacobian_dict = {}\n",
    "# Dictionary, das für alle Partikel die Werte der Verlustfunktion enthält\n",
    "loss_dict = {}"
   ]
  },
  {
   "cell_type": "markdown",
   "metadata": {},
   "source": [
    "Initialisierung durch eine Normalverteilung und erste Auswertung:"
   ]
  },
  {
   "cell_type": "code",
   "execution_count": 12,
   "metadata": {},
   "outputs": [],
   "source": [
    "for i in range(particles):\n",
    "    param_dict[\"particle_{}\".format(i+1)] = np.random.normal(loc = 0, scale = 1, size = x.shape)\n",
    "    y_pred_dict[\"particle_{}\".format(i+1)] = np.dot(A, np.sin(param_dict[\"particle_{}\".format(i+1)]))\n",
    "    jacobian_dict[\"particle_{}\".format(i+1)] = grad_loss(y, y_pred_dict[\"particle_{}\".format(i+1)])\n",
    "    loss_dict[\"particle_{}\".format(i+1)] = mean_squared_error(y, y_pred_dict[\"particle_{}\".format(i+1)])"
   ]
  },
  {
   "cell_type": "markdown",
   "metadata": {},
   "source": [
    "Mittelwerte aller Parameter der Partikel für die endgültige Schätzung von x:"
   ]
  },
  {
   "cell_type": "code",
   "execution_count": 13,
   "metadata": {},
   "outputs": [],
   "source": [
    "param_mean = np.mean(list(param_dict.values()), axis = 0)"
   ]
  },
  {
   "cell_type": "markdown",
   "metadata": {},
   "source": [
    "Loss für die gemittelten Parameter fortlaufend notieren:"
   ]
  },
  {
   "cell_type": "code",
   "execution_count": 14,
   "metadata": {},
   "outputs": [],
   "source": [
    "loss_evolution = []\n",
    "loss_evolution.append(mean_squared_error(y, np.dot(A, np.sin(param_mean))))"
   ]
  },
  {
   "cell_type": "code",
   "execution_count": 15,
   "metadata": {},
   "outputs": [],
   "source": [
    "# zum Testen der einzelnen Partikel\n",
    "loss_evolution_single_dict = {}\n",
    "for i in range(particles):\n",
    "    loss_evolution_single_dict[\"particle_{}\".format(i+1)] = [mean_squared_error(y, np.dot(A, np.sin(param_dict[\"particle_{}\".format(i+1)])))]"
   ]
  },
  {
   "cell_type": "markdown",
   "metadata": {},
   "source": [
    "### EnKF"
   ]
  },
  {
   "cell_type": "code",
   "execution_count": 16,
   "metadata": {},
   "outputs": [],
   "source": [
    "for iteration in range(iterations):\n",
    "    \n",
    "    # update the predictions, jacobian and loss for the new parameters\n",
    "    for i in range(particles):\n",
    "        y_pred_dict[\"particle_{}\".format(i+1)] = np.dot(A, np.sin(param_dict[\"particle_{}\".format(i+1)]))\n",
    "        jacobian_dict[\"particle_{}\".format(i+1)] = grad_loss(y, y_pred_dict[\"particle_{}\".format(i+1)])\n",
    "        loss_dict[\"particle_{}\".format(i+1)] = mean_squared_error(y, y_pred_dict[\"particle_{}\".format(i+1)])\n",
    "    \n",
    "    # compute the mean of the predictions\n",
    "    y_pred_mean = np.mean(list(y_pred_dict.values()), axis = 0)\n",
    "    \n",
    "    # compute the matrix D elementwise\n",
    "    d = np.zeros(shape = (particles, particles))\n",
    "    for k in range(particles):\n",
    "        y_pred_centered = y_pred_dict[\"particle_{}\".format(str(k+1))] - y_pred_mean\n",
    "        for j in range(particles):\n",
    "            d[k][j] = np.dot(y_pred_centered, jacobian_dict[\"particle_{}\".format(str(j+1))])\n",
    "           \n",
    "    # compute the scalar h_t\n",
    "    h_t = h_0 / (np.sqrt(np.sum(d**2)) + epsilon)\n",
    "        \n",
    "    # matrix with particle parameters as row vectors\n",
    "    params_all_ptcls = np.array(list(param_dict.values()))\n",
    "    \n",
    "    # compute the matrix with the updates for each particle\n",
    "    params_all_ptcls = params_all_ptcls - h_t * np.dot(d, params_all_ptcls)\n",
    "    \n",
    "    # write the updates back into the dictionary\n",
    "    for i in range(particles):\n",
    "        param_dict[\"particle_{}\".format(str(i+1))] = params_all_ptcls[i]\n",
    "        if randomization:\n",
    "            # add randomization/ noise to each particle\n",
    "            stddev = 0.1\n",
    "            noise = np.random.normal(loc = 0.0,\n",
    "                                     scale = stddev,\n",
    "                                     size = param_dict[\"particle_{}\".format(str(i+1))].shape)\n",
    "            new_param = param_dict[\"particle_{}\".format(str(i+1))] + noise\n",
    "            param_dict[\"particle_{}\".format(str(i+1))] = new_param\n",
    "    if randomization:\n",
    "        # randomize particles around their mean\n",
    "        param_dict_mean = list(np.mean(list(param_dict.values()), axis = 0))\n",
    "        for i in range(particles):\n",
    "            stddev = 0.1\n",
    "            noise = np.random.normal(loc = 0.0,\n",
    "                                     scale = stddev,\n",
    "                                     size = param_dict[\"particle_{}\".format(str(i+1))].shape)\n",
    "            new_params = param_dict_mean + noise\n",
    "            param_dict[\"particle_{}\".format(str(i+1))] = new_params\n",
    "    \n",
    "    # compute loss for the parameter means\n",
    "    param_mean = np.mean(params_all_ptcls, axis = 0)\n",
    "    loss_evolution.append(mean_squared_error(y, np.dot(A, np.sin(param_mean))))\n",
    "    \n",
    "    # zum Testen der einzelnen Partikel\n",
    "    for i in range(particles):\n",
    "        loss_evolution_single_dict[\"particle_{}\".format(i+1)].append(mean_squared_error(y, np.dot(A, np.sin(param_dict[\"particle_{}\".format(i+1)]))))"
   ]
  },
  {
   "cell_type": "markdown",
   "metadata": {},
   "source": [
    "Mit Randomization: Loss schwankt ungleichmäßig.\n",
    "\n",
    "Ohne Randomization: Loss bleibt gleich ?!"
   ]
  },
  {
   "cell_type": "code",
   "execution_count": 17,
   "metadata": {},
   "outputs": [
    {
     "data": {
      "image/png": "[encoded data removed]",
      "text/plain": [
       "<Figure size 432x288 with 1 Axes>"
      ]
     },
     "metadata": {
      "needs_background": "light"
     },
     "output_type": "display_data"
    }
   ],
   "source": [
    "plt.plot(np.arange(len(loss_evolution))+1, loss_evolution)\n",
    "plt.grid()\n",
    "plt.xlabel(\"Iteration\")\n",
    "plt.ylabel(\"Loss\")\n",
    "plt.title(\"Loss für die Parameter aus den gemittelten Partikeln\")\n",
    "plt.show()"
   ]
  },
  {
   "cell_type": "code",
   "execution_count": 18,
   "metadata": {},
   "outputs": [
    {
     "data": {
      "image/png": "[encoded data removed]",
      "text/plain": [
       "<Figure size 432x288 with 1 Axes>"
      ]
     },
     "metadata": {
      "needs_background": "light"
     },
     "output_type": "display_data"
    }
   ],
   "source": [
    "plt.plot(np.arange(len(loss_evolution_single_dict[\"particle_1\"]))+1, loss_evolution_single_dict[\"particle_1\"])\n",
    "plt.grid()\n",
    "plt.xlabel(\"Iteration\")\n",
    "plt.ylabel(\"Loss\")\n",
    "plt.title(\"Loss für ein Partikel\")\n",
    "plt.show()"
   ]
  },
  {
   "cell_type": "markdown",
   "metadata": {},
   "source": [
    "## EnKF wie für inverse Probleme"
   ]
  },
  {
   "cell_type": "code",
   "execution_count": 198,
   "metadata": {},
   "outputs": [],
   "source": [
    "noise = False\n",
    "y = np.dot(A, np.sin(x))\n",
    "stddev_noise = np.ones(shape = y.shape)\n",
    "if noise:\n",
    "    noises = np.random.normal(loc = 0, scale = stddev_noise, size = y.shape)\n",
    "    y = y + noises\n",
    "    gamma = np.diag(stddev_noise**2)"
   ]
  },
  {
   "cell_type": "code",
   "execution_count": 199,
   "metadata": {},
   "outputs": [],
   "source": [
    "batch = True\n",
    "if batch:\n",
    "    epochs = 10\n",
    "    batch_size = int(np.floor(y.shape[0] / 10))         \n",
    "else:\n",
    "    epochs = 100\n",
    "    batch_size = y.shape[0]"
   ]
  },
  {
   "cell_type": "code",
   "execution_count": 200,
   "metadata": {},
   "outputs": [],
   "source": [
    "particles = 1000\n",
    "epochs = 20\n",
    "batch_size = 10"
   ]
  },
  {
   "cell_type": "code",
   "execution_count": 201,
   "metadata": {},
   "outputs": [],
   "source": [
    "n = y.shape[0]\n",
    "num_batches = int(np.ceil(n / batch_size))\n",
    "batch_indices = np.cumsum([0] + list(np.ones(num_batches) * batch_size))\n",
    "batch_indices[-1] = n"
   ]
  },
  {
   "cell_type": "code",
   "execution_count": 202,
   "metadata": {},
   "outputs": [],
   "source": [
    "# Dictionary, in das die Partikel (Vektoren, Schätzungen für x) geschrieben werden\n",
    "param_dict = {}\n",
    "# Dictionary, in das für alle Partikel die predictions für y geschrieben werden\n",
    "y_pred_dict = {}\n",
    "# Dictionary, das für alle Partikel die Werte der Verlustfunktion enthält\n",
    "loss_dict = {}"
   ]
  },
  {
   "cell_type": "code",
   "execution_count": 203,
   "metadata": {},
   "outputs": [],
   "source": [
    "for i in range(particles):\n",
    "    param_dict[\"particle_{}\".format(i+1)] = np.random.normal(loc = 0, scale = 1, size = x.shape)\n",
    "    y_pred_dict[\"particle_{}\".format(i+1)] = np.dot(A, np.sin(param_dict[\"particle_{}\".format(i+1)]))\n",
    "    loss_dict[\"particle_{}\".format(i+1)] = mean_squared_error(y, y_pred_dict[\"particle_{}\".format(i+1)])"
   ]
  },
  {
   "cell_type": "code",
   "execution_count": 204,
   "metadata": {},
   "outputs": [],
   "source": [
    "param_mean = np.mean(list(param_dict.values()), axis = 0)"
   ]
  },
  {
   "cell_type": "code",
   "execution_count": 205,
   "metadata": {},
   "outputs": [],
   "source": [
    "loss_evolution = []\n",
    "loss_evolution.append(mean_squared_error(y, np.dot(A, np.sin(param_mean))))"
   ]
  },
  {
   "cell_type": "code",
   "execution_count": 206,
   "metadata": {},
   "outputs": [],
   "source": [
    "# zum Testen der einzelnen Partikel\n",
    "loss_evolution_single_dict = {}\n",
    "for i in range(particles):\n",
    "    loss_evolution_single_dict[\"particle_{}\".format(i+1)] = [mean_squared_error(y, np.dot(A, np.sin(param_dict[\"particle_{}\".format(i+1)])))]"
   ]
  },
  {
   "cell_type": "code",
   "execution_count": 207,
   "metadata": {},
   "outputs": [],
   "source": [
    "for epoch in range(epochs):\n",
    "\n",
    "    A_batches = [A[int(batch_indices[i]):int(batch_indices[i+1])] for i in range(num_batches)]\n",
    "    y_batches = [y[int(batch_indices[i]):int(batch_indices[i+1])] for i in range(num_batches)]\n",
    "    if noise:\n",
    "        gamma_batches = [gamma[int(batch_indices[i]):int(batch_indices[i+1]),int(batch_indices[i]):int(batch_indices[i+1])] for i in range(num_batches)]\n",
    "    \n",
    "    for b in range(num_batches):\n",
    "\n",
    "        # update the predictions and the loss for the new parameters\n",
    "        for i in range(particles):\n",
    "            y_pred_dict[\"particle_{}\".format(i+1)] = np.dot(A_batches[b], np.sin(param_dict[\"particle_{}\".format(i+1)]))\n",
    "            loss_dict[\"particle_{}\".format(i+1)] = mean_squared_error(y_batches[b], y_pred_dict[\"particle_{}\".format(i+1)])\n",
    "\n",
    "        # compute the mean of the predictions\n",
    "        y_pred_mean = np.mean(list(y_pred_dict.values()), axis = 0)\n",
    "\n",
    "        # compute the matrices C\n",
    "        param_diff_dict = {}\n",
    "        pred_diff_param_dict = {}\n",
    "        pred_diff_w_dict = {}\n",
    "        c_param_w_dict = {}\n",
    "        c_w_w_dict = {}\n",
    "\n",
    "        for i in range(particles):\n",
    "            param_diff_dict[\"particle_{}\".format(str(i+1))] = param_dict[\"particle_{}\".format(str(i+1))] - param_mean\n",
    "            pred_diff_param_dict[\"particle_{}\".format(str(i+1))] = y_pred_dict[\"particle_{}\".format(str(i+1))] - y_pred_mean\n",
    "            pred_diff_w_dict[\"particle_{}\".format(str(i+1))] = y_pred_dict[\"particle_{}\".format(str(i+1))] - y_pred_mean\n",
    "        for i in range(particles):\n",
    "            param_diff_dict[\"particle_{}\".format(str(i+1))] = np.transpose(np.tile(param_diff_dict[\"particle_{}\".format(str(i+1))], (pred_diff_param_dict[\"particle_{}\".format(str(i+1))].shape[0], 1)))\n",
    "            pred_diff_param_dict[\"particle_{}\".format(str(i+1))] = np.tile(pred_diff_param_dict[\"particle_{}\".format(str(i+1))], (param_diff_dict[\"particle_{}\".format(str(i+1))].shape[0], 1))\n",
    "            pred_diff_w_dict[\"particle_{}\".format(str(i+1))] = np.tile(pred_diff_w_dict[\"particle_{}\".format(str(i+1))], (pred_diff_w_dict[\"particle_{}\".format(str(i+1))].shape[0], 1))\n",
    "            c_param_w_dict[\"particle_{}\".format(str(i+1))] = param_diff_dict[\"particle_{}\".format(str(i+1))] * pred_diff_param_dict[\"particle_{}\".format(str(i+1))]\n",
    "            c_w_w_dict[\"particle_{}\".format(str(i+1))] = pred_diff_w_dict[\"particle_{}\".format(str(i+1))] * pred_diff_w_dict[\"particle_{}\".format(str(i+1))]\n",
    "        c_param_w = np.mean(list(c_param_w_dict.values()), axis = 0)\n",
    "        c_w_w = np.mean(list(c_w_w_dict.values()), axis = 0)\n",
    "\n",
    "        # write the updates back into the dictionary\n",
    "        for i in range(particles):\n",
    "            if noise:\n",
    "                param_dict[\"particle_{}\".format(str(i+1))] = param_dict[\"particle_{}\".format(str(i+1))] + np.dot(np.dot(c_param_w, np.linalg.pinv(c_w_w + gamma_batches[b])), y_batches[b] - y_pred_dict[\"particle_{}\".format(str(i+1))])\n",
    "            else:\n",
    "                param_dict[\"particle_{}\".format(str(i+1))] = param_dict[\"particle_{}\".format(str(i+1))] + np.dot(np.dot(c_param_w, np.linalg.pinv(c_w_w)), y_batches[b] - y_pred_dict[\"particle_{}\".format(str(i+1))])\n",
    "\n",
    "        # compute loss for the parameter means\n",
    "        param_mean = np.mean(list(param_dict.values()), axis = 0)\n",
    "        loss_evolution.append(mean_squared_error(y, np.dot(A, np.sin(param_mean))))\n",
    "\n",
    "        # zum Testen der einzelnen Partikel\n",
    "        for i in range(particles):\n",
    "            loss_evolution_single_dict[\"particle_{}\".format(i+1)].append(mean_squared_error(y, np.dot(A, np.sin(param_dict[\"particle_{}\".format(i+1)]))))"
   ]
  },
  {
   "cell_type": "code",
   "execution_count": 208,
   "metadata": {},
   "outputs": [
    {
     "data": {
      "image/png": "[encoded data removed]",
      "text/plain": [
       "<Figure size 432x288 with 1 Axes>"
      ]
     },
     "metadata": {
      "needs_background": "light"
     },
     "output_type": "display_data"
    }
   ],
   "source": [
    "plt.hlines(y = mean_squared_error(y, np.ones(y.shape[0])*np.mean(y)), xmin = 1, xmax = len(loss_evolution)+1, color = \"black\", label = \"error with mean(y)\")\n",
    "plt.plot(np.arange(len(loss_evolution))+1, loss_evolution)\n",
    "plt.grid()\n",
    "plt.legend()\n",
    "plt.xlabel(\"Iteration\")\n",
    "plt.ylabel(\"Loss\")\n",
    "plt.title(\"Loss für die Parameter aus den gemittelten Partikeln\")\n",
    "plt.show()"
   ]
  },
  {
   "cell_type": "code",
   "execution_count": 209,
   "metadata": {},
   "outputs": [
    {
     "data": {
      "image/png": "[encoded data removed]",
      "text/plain": [
       "<Figure size 432x288 with 1 Axes>"
      ]
     },
     "metadata": {
      "needs_background": "light"
     },
     "output_type": "display_data"
    }
   ],
   "source": [
    "# ohne den initialen Guess\n",
    "plt.hlines(y = mean_squared_error(y, np.ones(y.shape[0])*np.mean(y)), xmin = 2, xmax = len(loss_evolution)+1, color = \"black\", label = \"error with mean(y)\")\n",
    "plt.plot(np.arange(len(loss_evolution))[1:]+1, loss_evolution[1:])\n",
    "plt.grid()\n",
    "plt.legend()\n",
    "plt.xlabel(\"Iteration\")\n",
    "plt.ylabel(\"Loss\")\n",
    "plt.title(\"Loss für die Parameter aus den gemittelten Partikeln\")\n",
    "plt.show()"
   ]
  },
  {
   "cell_type": "code",
   "execution_count": 210,
   "metadata": {},
   "outputs": [
    {
     "data": {
      "image/png": "[encoded data removed]",
      "text/plain": [
       "<Figure size 432x288 with 1 Axes>"
      ]
     },
     "metadata": {
      "needs_background": "light"
     },
     "output_type": "display_data"
    }
   ],
   "source": [
    "# ohne den initialen Guess\n",
    "plt.hlines(y = mean_squared_error(y, np.ones(y.shape[0])*np.mean(y)), xmin = 2, xmax = len(loss_evolution)+1, color = \"black\", label = \"error with mean(y)\")\n",
    "plt.plot(np.arange(len(loss_evolution_single_dict[\"particle_1\"]))[1:]+1, loss_evolution_single_dict[\"particle_1\"][1:])\n",
    "plt.grid()\n",
    "plt.legend()\n",
    "plt.xlabel(\"Iteration\")\n",
    "plt.ylabel(\"Loss\")\n",
    "plt.title(\"Loss für ein Partikel\")\n",
    "plt.show()"
   ]
  },
  {
   "cell_type": "code",
   "execution_count": 211,
   "metadata": {},
   "outputs": [
    {
     "data": {
      "text/plain": [
       "array([24.5994905 , 26.29638392, 28.22075048, 25.97695162, 27.03211959,\n",
       "       27.81283381, 23.47704257, 28.13853534, 24.38427491, 25.47414502,\n",
       "       28.73731908, 29.57952884, 24.87489802, 27.83106459, 27.6357852 ,\n",
       "       26.65339254, 27.36148533, 24.85821971, 28.52550408, 25.88689586,\n",
       "       26.8216781 , 28.16099261, 26.08826842, 25.86668904, 27.13364336,\n",
       "       27.25933593, 24.95530214, 26.58987999, 26.85911258, 29.27249292,\n",
       "       25.53972645, 26.70436123, 24.54742424, 27.0224223 , 28.83983597,\n",
       "       25.82911507, 24.69289583, 26.83613308, 27.63990706, 24.65615908,\n",
       "       26.52134718, 26.46453287, 25.64964333, 25.31980746, 26.51273599,\n",
       "       27.38974591, 28.74890899, 24.80638783, 25.40756676, 28.73661376,\n",
       "       25.2705629 , 27.40504258, 26.20065351, 27.56478534, 25.95903765,\n",
       "       26.72042752, 25.89210279, 28.02219023, 26.68320047, 27.41601562,\n",
       "       26.57798198, 23.82157786, 27.40494651, 26.83964968, 27.25670333,\n",
       "       26.19213375, 26.08916844, 26.9481553 , 26.932812  , 26.15761824,\n",
       "       25.61828755, 27.81290846, 25.33631365, 26.28164137, 23.78424895,\n",
       "       27.25579625, 27.00048169, 25.25842685, 23.61011131, 26.90041794,\n",
       "       27.7311626 , 25.28890574, 25.3969477 , 26.75087326, 25.98005783,\n",
       "       28.12081528, 23.48313378, 24.51889958, 25.74744505, 27.37492674,\n",
       "       26.06935654, 28.92703373, 26.81905195, 27.99083123, 25.63004923,\n",
       "       25.24348235, 25.52854811, 26.19957613, 28.73218448, 26.06449576])"
      ]
     },
     "execution_count": 211,
     "metadata": {},
     "output_type": "execute_result"
    }
   ],
   "source": [
    "np.dot(A, np.sin(param_mean))"
   ]
  },
  {
   "cell_type": "code",
   "execution_count": 212,
   "metadata": {},
   "outputs": [
    {
     "data": {
      "text/plain": [
       "array([22.88352754, 22.12449329, 24.02806775, 22.12689643, 22.65910868,\n",
       "       25.67840114, 19.78810564, 24.70478571, 20.48440945, 21.34591231,\n",
       "       25.10658433, 26.1740027 , 22.27105294, 25.35017368, 23.95557332,\n",
       "       22.79232607, 23.84765927, 22.27152225, 24.67129512, 22.26636163,\n",
       "       23.55444323, 23.8573644 , 22.38047398, 23.68117761, 24.55555825,\n",
       "       22.82574383, 20.80978045, 23.37155181, 23.94089535, 24.62438132,\n",
       "       22.48885615, 22.76498133, 21.57431582, 23.94844507, 25.29435255,\n",
       "       23.165074  , 20.86422703, 23.14715763, 23.45920582, 20.27321644,\n",
       "       23.14400469, 23.16303838, 22.3881781 , 22.38123009, 23.21004727,\n",
       "       23.57100682, 24.33027944, 21.96268777, 21.22283784, 24.36549923,\n",
       "       21.45615549, 23.79390882, 22.71782302, 23.91218695, 22.05677576,\n",
       "       22.59341811, 22.57434259, 24.24943966, 22.82729318, 24.18567295,\n",
       "       24.08183533, 21.35859538, 23.80120102, 23.01729763, 24.07373004,\n",
       "       21.84858145, 23.00308402, 24.1994118 , 21.70121527, 22.64045381,\n",
       "       21.67458885, 24.60421818, 21.25846876, 22.79430363, 21.20596791,\n",
       "       22.84401299, 24.29347468, 20.83087143, 19.38022821, 23.19722792,\n",
       "       23.41032473, 21.78197578, 21.63661682, 23.55078941, 21.97751563,\n",
       "       24.35215404, 20.30928448, 20.44027373, 22.10392255, 23.7492901 ,\n",
       "       21.76159707, 24.93089809, 23.2098842 , 22.87569386, 22.19472193,\n",
       "       22.54570179, 21.66750521, 23.14819733, 25.06816263, 21.83418087])"
      ]
     },
     "execution_count": 212,
     "metadata": {},
     "output_type": "execute_result"
    }
   ],
   "source": [
    "y"
   ]
  },
  {
   "cell_type": "code",
   "execution_count": 213,
   "metadata": {},
   "outputs": [
    {
     "name": "stdout",
     "output_type": "stream",
     "text": [
      "Error mit Mittelwert als prediction: 1.8382635092906796\n",
      "Final model error: 13.258727281070021\n"
     ]
    }
   ],
   "source": [
    "print(\"Error mit Mittelwert als prediction: {}\".format(mean_squared_error(y, np.ones(y.shape[0])*np.mean(y))))\n",
    "print(\"Final model error: {}\".format(loss_evolution[-1]))"
   ]
  }
 ],
 "metadata": {
  "kernelspec": {
   "display_name": "master_thesis",
   "language": "python",
   "name": "master_thesis"
  },
  "language_info": {
   "codemirror_mode": {
    "name": "ipython",
    "version": 3
   },
   "file_extension": ".py",
   "mimetype": "text/x-python",
   "name": "python",
   "nbconvert_exporter": "python",
   "pygments_lexer": "ipython3",
   "version": "3.7.7"
  }
 },
 "nbformat": 4,
 "nbformat_minor": 4
}
