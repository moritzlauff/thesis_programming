{
 "cells": [
  {
   "cell_type": "code",
   "execution_count": 1,
   "metadata": {},
   "outputs": [],
   "source": [
    "import numpy as np\n",
    "import matplotlib.pyplot as plt"
   ]
  },
  {
   "cell_type": "code",
   "execution_count": 2,
   "metadata": {},
   "outputs": [],
   "source": [
    "np.random.seed(42)"
   ]
  },
  {
   "cell_type": "markdown",
   "metadata": {},
   "source": [
    "## Modell:\n",
    "$Ax=y$ mit $A$ $m\\times n$-Matrix, $m$, $n$ beliebig ($A$ also insbesondere nicht zwingend quadratisch)\n",
    "\n",
    "$x$ wird gesucht."
   ]
  },
  {
   "cell_type": "raw",
   "metadata": {},
   "source": [
    "A = np.random.randint(1, 11, size = (100, 100))\n",
    "x = np.random.randint(1, 6, size = (100, ))"
   ]
  },
  {
   "cell_type": "code",
   "execution_count": 3,
   "metadata": {},
   "outputs": [],
   "source": [
    "A = np.random.random(size = (100, 100))\n",
    "x = np.random.random(size = (100, ))"
   ]
  },
  {
   "cell_type": "code",
   "execution_count": 4,
   "metadata": {},
   "outputs": [],
   "source": [
    "y = np.dot(A, x)"
   ]
  },
  {
   "cell_type": "markdown",
   "metadata": {},
   "source": [
    "$A$ ist invertierbar:"
   ]
  },
  {
   "cell_type": "code",
   "execution_count": 5,
   "metadata": {},
   "outputs": [
    {
     "name": "stdout",
     "output_type": "stream",
     "text": [
      "[[ 0.58611217  0.22754722  0.22079958 ... -0.35934623  0.66178901\n",
      "   0.19085717]\n",
      " [-0.86053578  0.35823913 -0.05086583 ... -0.28753986  0.01246512\n",
      "  -1.48921599]\n",
      " [ 0.26764428 -0.13717687 -0.92694754 ...  0.09591585 -1.22390556\n",
      "   2.1684163 ]\n",
      " ...\n",
      " [ 0.66359634 -0.39434052  0.53305901 ...  0.12365094  0.66198343\n",
      "   0.04954313]\n",
      " [-0.06110287  0.01871632 -0.28590078 ...  0.03731371 -0.48258655\n",
      "   0.91014539]\n",
      " [-1.43651032  0.47662975 -0.21419412 ... -0.01676364  0.36827009\n",
      "  -2.7539353 ]]\n"
     ]
    }
   ],
   "source": [
    "if A.shape[0] == A.shape[1]:\n",
    "    print(np.linalg.inv(A))"
   ]
  },
  {
   "cell_type": "markdown",
   "metadata": {},
   "source": [
    "Verlustfunktion: mittlerer quadratischer Fehler $\\frac{1}{n}\\Vert y - \\hat{y}\\Vert^2$"
   ]
  },
  {
   "cell_type": "code",
   "execution_count": 6,
   "metadata": {},
   "outputs": [],
   "source": [
    "from sklearn.metrics import mean_squared_error"
   ]
  },
  {
   "cell_type": "markdown",
   "metadata": {},
   "source": [
    "Ableitung der Verlustfunktion nach den predictions $\\hat{y}$ ist für ein $\\hat{y}_i$: \n",
    "\n",
    "$-\\frac{2}{n}(y_i-\\hat{y}_i)$"
   ]
  },
  {
   "cell_type": "code",
   "execution_count": 7,
   "metadata": {},
   "outputs": [],
   "source": [
    "def grad_loss(y_true, y_pred):\n",
    "    return (-2) / y_true.shape[0] * (y_true - y_pred)"
   ]
  },
  {
   "cell_type": "markdown",
   "metadata": {},
   "source": [
    "Loss, wenn der Mittelwert aller $y_i$ stets als prediction verwendet wird:"
   ]
  },
  {
   "cell_type": "code",
   "execution_count": 8,
   "metadata": {},
   "outputs": [
    {
     "data": {
      "text/plain": [
       "2.2212952243689785"
      ]
     },
     "execution_count": 8,
     "metadata": {},
     "output_type": "execute_result"
    }
   ],
   "source": [
    "mean_squared_error(y, np.ones(y.shape[0])*np.mean(y))"
   ]
  },
  {
   "cell_type": "markdown",
   "metadata": {},
   "source": [
    "## EnKF-Algorithmus, wie ich ihn auch sonst implementiert habe"
   ]
  },
  {
   "cell_type": "code",
   "execution_count": 9,
   "metadata": {},
   "outputs": [],
   "source": [
    "iterations = 100\n",
    "particles = 1000\n",
    "randomization = False"
   ]
  },
  {
   "cell_type": "code",
   "execution_count": 10,
   "metadata": {},
   "outputs": [],
   "source": [
    "h_0 = 2\n",
    "epsilon = 0.5"
   ]
  },
  {
   "cell_type": "code",
   "execution_count": 11,
   "metadata": {},
   "outputs": [],
   "source": [
    "# Dictionary, in das die Partikel (Vektoren, Schätzungen für x) geschrieben werden\n",
    "param_dict = {}\n",
    "# Dictionary, in das für alle Partikel die predictions für y geschrieben werden\n",
    "y_pred_dict = {}\n",
    "# Dictionary, in das für alle Partikel die Ableitungen der Verlustfunktion nach den predictions geschrieben werden\n",
    "jacobian_dict = {}\n",
    "# Dictionary, das für alle Partikel die Werte der Verlustfunktion enthält\n",
    "loss_dict = {}"
   ]
  },
  {
   "cell_type": "markdown",
   "metadata": {},
   "source": [
    "Initialisierung durch eine Normalverteilung und erste Auswertung:"
   ]
  },
  {
   "cell_type": "code",
   "execution_count": 12,
   "metadata": {},
   "outputs": [],
   "source": [
    "for i in range(particles):\n",
    "    param_dict[\"particle_{}\".format(i+1)] = np.random.normal(loc = 0, scale = 1, size = x.shape)\n",
    "    y_pred_dict[\"particle_{}\".format(i+1)] = np.dot(A, param_dict[\"particle_{}\".format(i+1)])\n",
    "    jacobian_dict[\"particle_{}\".format(i+1)] = grad_loss(y, y_pred_dict[\"particle_{}\".format(i+1)])\n",
    "    loss_dict[\"particle_{}\".format(i+1)] = mean_squared_error(y, y_pred_dict[\"particle_{}\".format(i+1)])"
   ]
  },
  {
   "cell_type": "markdown",
   "metadata": {},
   "source": [
    "Mittelwerte aller Parameter der Partikel für die endgültige Schätzung von x:"
   ]
  },
  {
   "cell_type": "code",
   "execution_count": 13,
   "metadata": {},
   "outputs": [],
   "source": [
    "param_mean = np.mean(list(param_dict.values()), axis = 0)"
   ]
  },
  {
   "cell_type": "markdown",
   "metadata": {},
   "source": [
    "Loss für die gemittelten Parameter fortlaufend notieren:"
   ]
  },
  {
   "cell_type": "code",
   "execution_count": 14,
   "metadata": {},
   "outputs": [],
   "source": [
    "loss_evolution = []\n",
    "loss_evolution.append(mean_squared_error(y, np.dot(A, param_mean)))"
   ]
  },
  {
   "cell_type": "code",
   "execution_count": 15,
   "metadata": {},
   "outputs": [],
   "source": [
    "# zum Testen der einzelnen Partikel\n",
    "loss_evolution_single_dict = {}\n",
    "for i in range(particles):\n",
    "    loss_evolution_single_dict[\"particle_{}\".format(i+1)] = [mean_squared_error(y, np.dot(A, param_dict[\"particle_{}\".format(i+1)]))]"
   ]
  },
  {
   "cell_type": "markdown",
   "metadata": {},
   "source": [
    "### EnKF"
   ]
  },
  {
   "cell_type": "code",
   "execution_count": 16,
   "metadata": {},
   "outputs": [],
   "source": [
    "for iteration in range(iterations):\n",
    "    \n",
    "    # update the predictions, jacobian and loss for the new parameters\n",
    "    for i in range(particles):\n",
    "        y_pred_dict[\"particle_{}\".format(i+1)] = np.dot(A, param_dict[\"particle_{}\".format(i+1)])\n",
    "        jacobian_dict[\"particle_{}\".format(i+1)] = grad_loss(y, y_pred_dict[\"particle_{}\".format(i+1)])\n",
    "        loss_dict[\"particle_{}\".format(i+1)] = mean_squared_error(y, y_pred_dict[\"particle_{}\".format(i+1)])\n",
    "    \n",
    "    # compute the mean of the predictions\n",
    "    y_pred_mean = np.mean(list(y_pred_dict.values()), axis = 0)\n",
    "    \n",
    "    # compute the matrix D elementwise\n",
    "    d = np.zeros(shape = (particles, particles))\n",
    "    for k in range(particles):\n",
    "        y_pred_centered = y_pred_dict[\"particle_{}\".format(str(k+1))] - y_pred_mean\n",
    "        for j in range(particles):\n",
    "            d[k][j] = np.dot(y_pred_centered, jacobian_dict[\"particle_{}\".format(str(j+1))])\n",
    "    d = np.transpose(d)\n",
    "           \n",
    "    # compute the scalar h_t\n",
    "    h_t = h_0 / (np.sqrt(np.sum(d**2)) + epsilon)\n",
    "        \n",
    "    # matrix with particle parameters as row vectors\n",
    "    params_all_ptcls = np.array(list(param_dict.values()))\n",
    "    \n",
    "    # compute the matrix with the updates for each particle\n",
    "    params_all_ptcls = params_all_ptcls - h_t * np.dot(d, params_all_ptcls)\n",
    "    \n",
    "    # write the updates back into the dictionary\n",
    "    for i in range(particles):\n",
    "        param_dict[\"particle_{}\".format(str(i+1))] = params_all_ptcls[i]\n",
    "        if randomization:\n",
    "            # add randomization/ noise to each particle\n",
    "            stddev = 0.1\n",
    "            noise = np.random.normal(loc = 0.0,\n",
    "                                     scale = stddev,\n",
    "                                     size = param_dict[\"particle_{}\".format(str(i+1))].shape)\n",
    "            new_param = param_dict[\"particle_{}\".format(str(i+1))] + noise\n",
    "            param_dict[\"particle_{}\".format(str(i+1))] = new_param\n",
    "    if randomization:\n",
    "        # randomize particles around their mean\n",
    "        param_dict_mean = list(np.mean(list(param_dict.values()), axis = 0))\n",
    "        for i in range(particles):\n",
    "            stddev = 0.1\n",
    "            noise = np.random.normal(loc = 0.0,\n",
    "                                     scale = stddev,\n",
    "                                     size = param_dict[\"particle_{}\".format(str(i+1))].shape)\n",
    "            new_params = param_dict_mean + noise\n",
    "            param_dict[\"particle_{}\".format(str(i+1))] = new_params\n",
    "    \n",
    "    # compute loss for the parameter means\n",
    "    param_mean = np.mean(params_all_ptcls, axis = 0)\n",
    "    loss_evolution.append(mean_squared_error(y, np.dot(A, param_mean)))\n",
    "    \n",
    "    # zum Testen der einzelnen Partikel\n",
    "    for i in range(particles):\n",
    "        loss_evolution_single_dict[\"particle_{}\".format(i+1)].append(mean_squared_error(y, np.dot(A, param_dict[\"particle_{}\".format(i+1)])))"
   ]
  },
  {
   "cell_type": "code",
   "execution_count": 23,
   "metadata": {},
   "outputs": [
    {
     "data": {
      "text/plain": [
       "[4.053576079833942e-05,\n",
       " 3.98813779318327e-05,\n",
       " 3.9247426563748346e-05,\n",
       " 3.863297540667322e-05,\n",
       " 3.803714841800622e-05,\n",
       " 3.7459120672338965e-05,\n",
       " 3.689811502270486e-05,\n",
       " 3.635339848698722e-05,\n",
       " 3.582427915747253e-05,\n",
       " 3.5310103674559246e-05]"
      ]
     },
     "execution_count": 23,
     "metadata": {},
     "output_type": "execute_result"
    }
   ],
   "source": [
    "loss_evolution[-10:]"
   ]
  },
  {
   "cell_type": "code",
   "execution_count": 17,
   "metadata": {},
   "outputs": [
    {
     "data": {
      "image/png": "[encoded data removed]",
      "text/plain": [
       "<Figure size 432x288 with 1 Axes>"
      ]
     },
     "metadata": {
      "needs_background": "light"
     },
     "output_type": "display_data"
    }
   ],
   "source": [
    "plt.plot(np.arange(len(loss_evolution))+1, loss_evolution)\n",
    "plt.grid()\n",
    "plt.xlabel(\"Iteration\")\n",
    "plt.ylabel(\"Loss\")\n",
    "plt.title(\"Loss für die Parameter aus den gemittelten Partikeln\")\n",
    "plt.show()"
   ]
  },
  {
   "cell_type": "code",
   "execution_count": 21,
   "metadata": {},
   "outputs": [
    {
     "data": {
      "image/png": "[encoded data removed]",
      "text/plain": [
       "<Figure size 432x288 with 1 Axes>"
      ]
     },
     "metadata": {
      "needs_background": "light"
     },
     "output_type": "display_data"
    }
   ],
   "source": [
    "# ab der 5. Iteration\n",
    "plt.hlines(y = mean_squared_error(y, np.ones(y.shape[0])*np.mean(y)), xmin = 2, xmax = len(loss_evolution)+1, color = \"black\", label = \"error with mean(y)\")\n",
    "plt.plot(np.arange(len(loss_evolution))[5:]+1, loss_evolution[5:])\n",
    "plt.grid()\n",
    "plt.legend()\n",
    "plt.xlabel(\"Iteration\")\n",
    "plt.ylabel(\"Loss\")\n",
    "plt.title(\"Loss für die Parameter aus den gemittelten Partikeln\")\n",
    "plt.show()"
   ]
  },
  {
   "cell_type": "code",
   "execution_count": 18,
   "metadata": {},
   "outputs": [
    {
     "data": {
      "image/png": "[encoded data removed]",
      "text/plain": [
       "<Figure size 432x288 with 1 Axes>"
      ]
     },
     "metadata": {
      "needs_background": "light"
     },
     "output_type": "display_data"
    }
   ],
   "source": [
    "plt.plot(np.arange(len(loss_evolution_single_dict[\"particle_1\"]))+1, loss_evolution_single_dict[\"particle_1\"])\n",
    "plt.grid()\n",
    "plt.xlabel(\"Iteration\")\n",
    "plt.ylabel(\"Loss\")\n",
    "plt.title(\"Loss für ein Partikel\")\n",
    "plt.show()"
   ]
  },
  {
   "cell_type": "markdown",
   "metadata": {},
   "source": [
    "## EnKF wie für inverse Probleme"
   ]
  },
  {
   "cell_type": "markdown",
   "metadata": {},
   "source": [
    "#### Ergebnisse:\n",
    "- Im besten Fall konvergiert der Loss gegen den Loss, wenn der Mittelwert von $y$ als prediction verwendet wird. \n",
    "    \n",
    "    **Korrektur**: mit mehr Partikeln wird es besser als der Loss für den Mittelwert!\n",
    "- Noise:\n",
    "    - Mit $\\Gamma$ im Update: sehr schlechte Ergebnisse (Loss explodiert für Noise aus $\\mathscr{N}(0, 0.1)$).\n",
    "    - Ohne $\\Gamma$ im Update: wieder Konvergenz gegen den Loss des Mittelwerts.\n",
    "- Batch-Size: \n",
    "    - Verhalten bleibt\n",
    "    - Code schneller"
   ]
  },
  {
   "cell_type": "code",
   "execution_count": 25,
   "metadata": {},
   "outputs": [],
   "source": [
    "noise = False\n",
    "y = np.dot(A, x)\n",
    "stddev_noise = np.ones(shape = y.shape)\n",
    "if noise:\n",
    "    noises = np.random.normal(loc = 0, scale = stddev_noise, size = y.shape)\n",
    "    y = y + noises\n",
    "    gamma = np.diag(stddev_noise**2)"
   ]
  },
  {
   "cell_type": "code",
   "execution_count": 26,
   "metadata": {},
   "outputs": [],
   "source": [
    "batch = True\n",
    "if batch:\n",
    "    epochs = 10\n",
    "    batch_size = int(np.floor(y.shape[0] / 10))         \n",
    "else:\n",
    "    epochs = 100\n",
    "    batch_size = y.shape[0]"
   ]
  },
  {
   "cell_type": "code",
   "execution_count": 27,
   "metadata": {},
   "outputs": [],
   "source": [
    "particles = 2000\n",
    "epochs = 100\n",
    "batch_size = 10"
   ]
  },
  {
   "cell_type": "code",
   "execution_count": 28,
   "metadata": {},
   "outputs": [],
   "source": [
    "n = y.shape[0]\n",
    "num_batches = int(np.ceil(n / batch_size))\n",
    "batch_indices = np.cumsum([0] + list(np.ones(num_batches) * batch_size))\n",
    "batch_indices[-1] = n"
   ]
  },
  {
   "cell_type": "code",
   "execution_count": 29,
   "metadata": {},
   "outputs": [],
   "source": [
    "# Dictionary, in das die Partikel (Vektoren, Schätzungen für x) geschrieben werden\n",
    "param_dict = {}\n",
    "# Dictionary, in das für alle Partikel die predictions für y geschrieben werden\n",
    "y_pred_dict = {}\n",
    "# Dictionary, das für alle Partikel die Werte der Verlustfunktion enthält\n",
    "loss_dict = {}"
   ]
  },
  {
   "cell_type": "code",
   "execution_count": 30,
   "metadata": {},
   "outputs": [],
   "source": [
    "for i in range(particles):\n",
    "    param_dict[\"particle_{}\".format(i+1)] = np.random.normal(loc = 0, scale = 1, size = x.shape)\n",
    "    y_pred_dict[\"particle_{}\".format(i+1)] = np.dot(A, param_dict[\"particle_{}\".format(i+1)])\n",
    "    loss_dict[\"particle_{}\".format(i+1)] = mean_squared_error(y, y_pred_dict[\"particle_{}\".format(i+1)])"
   ]
  },
  {
   "cell_type": "code",
   "execution_count": 31,
   "metadata": {},
   "outputs": [],
   "source": [
    "param_mean = np.mean(list(param_dict.values()), axis = 0)"
   ]
  },
  {
   "cell_type": "code",
   "execution_count": 32,
   "metadata": {},
   "outputs": [],
   "source": [
    "loss_evolution = []\n",
    "loss_evolution.append(mean_squared_error(y, np.dot(A, param_mean)))"
   ]
  },
  {
   "cell_type": "code",
   "execution_count": 33,
   "metadata": {},
   "outputs": [],
   "source": [
    "# zum Testen der einzelnen Partikel\n",
    "loss_evolution_single_dict = {}\n",
    "for i in range(particles):\n",
    "    loss_evolution_single_dict[\"particle_{}\".format(i+1)] = [mean_squared_error(y, np.dot(A, param_dict[\"particle_{}\".format(i+1)]))]"
   ]
  },
  {
   "cell_type": "code",
   "execution_count": 34,
   "metadata": {},
   "outputs": [],
   "source": [
    "for epoch in range(epochs):\n",
    "\n",
    "    A_batches = [A[int(batch_indices[i]):int(batch_indices[i+1])] for i in range(num_batches)]\n",
    "    y_batches = [y[int(batch_indices[i]):int(batch_indices[i+1])] for i in range(num_batches)]\n",
    "    if noise:\n",
    "        gamma_batches = [gamma[int(batch_indices[i]):int(batch_indices[i+1]),int(batch_indices[i]):int(batch_indices[i+1])] for i in range(num_batches)]\n",
    "    \n",
    "    for b in range(num_batches):\n",
    "\n",
    "        # update the predictions and the loss for the new parameters\n",
    "        for i in range(particles):\n",
    "            y_pred_dict[\"particle_{}\".format(i+1)] = np.dot(A_batches[b], param_dict[\"particle_{}\".format(i+1)])\n",
    "            loss_dict[\"particle_{}\".format(i+1)] = mean_squared_error(y_batches[b], y_pred_dict[\"particle_{}\".format(i+1)])\n",
    "\n",
    "        # compute the mean of the predictions\n",
    "        y_pred_mean = np.mean(list(y_pred_dict.values()), axis = 0)\n",
    "\n",
    "        # compute the matrices C\n",
    "        param_diff_dict = {}\n",
    "        pred_diff_param_dict = {}\n",
    "        pred_diff_w_dict = {}\n",
    "        c_param_w_dict = {}\n",
    "        c_w_w_dict = {}\n",
    "\n",
    "        for i in range(particles):\n",
    "            param_diff_dict[\"particle_{}\".format(str(i+1))] = param_dict[\"particle_{}\".format(str(i+1))] - param_mean\n",
    "            pred_diff_param_dict[\"particle_{}\".format(str(i+1))] = y_pred_dict[\"particle_{}\".format(str(i+1))] - y_pred_mean\n",
    "            pred_diff_w_dict[\"particle_{}\".format(str(i+1))] = y_pred_dict[\"particle_{}\".format(str(i+1))] - y_pred_mean\n",
    "        for i in range(particles):\n",
    "            param_diff_dict[\"particle_{}\".format(str(i+1))] = np.transpose(np.tile(param_diff_dict[\"particle_{}\".format(str(i+1))], (pred_diff_param_dict[\"particle_{}\".format(str(i+1))].shape[0], 1)))\n",
    "            pred_diff_param_dict[\"particle_{}\".format(str(i+1))] = np.tile(pred_diff_param_dict[\"particle_{}\".format(str(i+1))], (param_diff_dict[\"particle_{}\".format(str(i+1))].shape[0], 1))\n",
    "            pred_diff_w_dict[\"particle_{}\".format(str(i+1))] = np.tile(pred_diff_w_dict[\"particle_{}\".format(str(i+1))], (pred_diff_w_dict[\"particle_{}\".format(str(i+1))].shape[0], 1))\n",
    "            c_param_w_dict[\"particle_{}\".format(str(i+1))] = param_diff_dict[\"particle_{}\".format(str(i+1))] * pred_diff_param_dict[\"particle_{}\".format(str(i+1))]\n",
    "            c_w_w_dict[\"particle_{}\".format(str(i+1))] = pred_diff_w_dict[\"particle_{}\".format(str(i+1))] * pred_diff_w_dict[\"particle_{}\".format(str(i+1))]\n",
    "        c_param_w = np.mean(list(c_param_w_dict.values()), axis = 0)\n",
    "        c_w_w = np.mean(list(c_w_w_dict.values()), axis = 0)\n",
    "\n",
    "        # write the updates back into the dictionary\n",
    "        for i in range(particles):\n",
    "            if noise:\n",
    "                param_dict[\"particle_{}\".format(str(i+1))] = param_dict[\"particle_{}\".format(str(i+1))] + np.dot(np.dot(c_param_w, np.linalg.pinv(c_w_w + gamma_batches[b])), y_batches[b] - y_pred_dict[\"particle_{}\".format(str(i+1))])\n",
    "            else:\n",
    "                param_dict[\"particle_{}\".format(str(i+1))] = param_dict[\"particle_{}\".format(str(i+1))] + np.dot(np.dot(c_param_w, np.linalg.pinv(c_w_w)), y_batches[b] - y_pred_dict[\"particle_{}\".format(str(i+1))])\n",
    "\n",
    "        # compute loss for the parameter means\n",
    "        param_mean = np.mean(list(param_dict.values()), axis = 0)\n",
    "        loss_evolution.append(mean_squared_error(y, np.dot(A, param_mean)))\n",
    "\n",
    "        # zum Testen der einzelnen Partikel\n",
    "        for i in range(particles):\n",
    "            loss_evolution_single_dict[\"particle_{}\".format(i+1)].append(mean_squared_error(y, np.dot(A, param_dict[\"particle_{}\".format(i+1)])))"
   ]
  },
  {
   "cell_type": "code",
   "execution_count": 35,
   "metadata": {},
   "outputs": [
    {
     "data": {
      "image/png": "[encoded data removed]",
      "text/plain": [
       "<Figure size 432x288 with 1 Axes>"
      ]
     },
     "metadata": {
      "needs_background": "light"
     },
     "output_type": "display_data"
    }
   ],
   "source": [
    "plt.hlines(y = mean_squared_error(y, np.ones(y.shape[0])*np.mean(y)), xmin = 1, xmax = len(loss_evolution)+1, color = \"black\", label = \"error with mean(y)\")\n",
    "plt.plot(np.arange(len(loss_evolution))+1, loss_evolution)\n",
    "plt.grid()\n",
    "plt.legend()\n",
    "plt.xlabel(\"Iteration\")\n",
    "plt.ylabel(\"Loss\")\n",
    "plt.title(\"Loss für die Parameter aus den gemittelten Partikeln\")\n",
    "plt.show()"
   ]
  },
  {
   "cell_type": "code",
   "execution_count": 36,
   "metadata": {},
   "outputs": [
    {
     "data": {
      "image/png": "[encoded data removed]",
      "text/plain": [
       "<Figure size 432x288 with 1 Axes>"
      ]
     },
     "metadata": {
      "needs_background": "light"
     },
     "output_type": "display_data"
    }
   ],
   "source": [
    "# ohne den initialen Guess\n",
    "plt.hlines(y = mean_squared_error(y, np.ones(y.shape[0])*np.mean(y)), xmin = 2, xmax = len(loss_evolution)+1, color = \"black\", label = \"error with mean(y)\")\n",
    "plt.plot(np.arange(len(loss_evolution))[1:]+1, loss_evolution[1:])\n",
    "plt.grid()\n",
    "plt.legend()\n",
    "plt.xlabel(\"Iteration\")\n",
    "plt.ylabel(\"Loss\")\n",
    "plt.title(\"Loss für die Parameter aus den gemittelten Partikeln\")\n",
    "plt.show()"
   ]
  },
  {
   "cell_type": "code",
   "execution_count": 37,
   "metadata": {},
   "outputs": [
    {
     "data": {
      "image/png": "[encoded data removed]",
      "text/plain": [
       "<Figure size 432x288 with 1 Axes>"
      ]
     },
     "metadata": {
      "needs_background": "light"
     },
     "output_type": "display_data"
    }
   ],
   "source": [
    "# ab der 20. Iteration (bei Batch-Size = 10 also nach Abschluss der 2. Epoche)\n",
    "plt.hlines(y = mean_squared_error(y, np.ones(y.shape[0])*np.mean(y)), xmin = 2, xmax = len(loss_evolution)+1, color = \"black\", label = \"error with mean(y)\")\n",
    "plt.plot(np.arange(len(loss_evolution))[20:]+1, loss_evolution[20:])\n",
    "plt.grid()\n",
    "plt.legend()\n",
    "plt.xlabel(\"Iteration\")\n",
    "plt.ylabel(\"Loss\")\n",
    "plt.title(\"Loss für die Parameter aus den gemittelten Partikeln\")\n",
    "plt.show()"
   ]
  },
  {
   "cell_type": "code",
   "execution_count": 38,
   "metadata": {},
   "outputs": [
    {
     "data": {
      "image/png": "[encoded data removed]",
      "text/plain": [
       "<Figure size 432x288 with 1 Axes>"
      ]
     },
     "metadata": {
      "needs_background": "light"
     },
     "output_type": "display_data"
    }
   ],
   "source": [
    "# ohne den initialen Guess\n",
    "plt.hlines(y = mean_squared_error(y, np.ones(y.shape[0])*np.mean(y)), xmin = 2, xmax = len(loss_evolution)+1, color = \"black\", label = \"error with mean(y)\")\n",
    "plt.plot(np.arange(len(loss_evolution_single_dict[\"particle_1\"]))[1:]+1, loss_evolution_single_dict[\"particle_1\"][1:])\n",
    "plt.grid()\n",
    "plt.legend()\n",
    "plt.xlabel(\"Iteration\")\n",
    "plt.ylabel(\"Loss\")\n",
    "plt.title(\"Loss für ein Partikel\")\n",
    "plt.show()"
   ]
  },
  {
   "cell_type": "code",
   "execution_count": 39,
   "metadata": {},
   "outputs": [
    {
     "data": {
      "text/plain": [
       "array([23.14957807, 25.64008082, 25.14308701, 24.42720516, 24.18133391,\n",
       "       27.61541194, 20.61661579, 24.50960842, 22.4635719 , 23.38053944,\n",
       "       27.56896808, 29.3076552 , 24.37540356, 26.26880283, 25.80720239,\n",
       "       24.47737816, 24.83358531, 24.04504604, 26.17687915, 23.28464681,\n",
       "       24.66942655, 26.48006052, 24.02556301, 24.38452835, 24.79219297,\n",
       "       25.67858538, 23.61025146, 25.54218979, 24.73258443, 27.75233547,\n",
       "       23.74516969, 23.71414895, 23.54509787, 25.13515576, 26.72050131,\n",
       "       24.1293111 , 24.44803474, 24.93255333, 25.21168756, 23.15243661,\n",
       "       25.43292855, 23.87947833, 23.27733054, 25.37671505, 24.41123136,\n",
       "       25.34226335, 26.5883092 , 23.33462513, 24.10327277, 26.59225713,\n",
       "       23.89409993, 25.82783374, 26.24575914, 25.44187777, 23.865882  ,\n",
       "       24.01269028, 24.0758197 , 26.61868306, 24.87778485, 24.16846898,\n",
       "       24.88989012, 23.31281508, 25.35986033, 24.09703883, 26.159383  ,\n",
       "       24.17958289, 24.97668832, 25.07849944, 25.24585083, 24.7940165 ,\n",
       "       23.95963553, 25.90018404, 23.26313155, 24.21739689, 22.34994257,\n",
       "       25.13722843, 24.94402117, 23.78523104, 22.37997442, 24.34920096,\n",
       "       25.7089745 , 23.59540744, 23.49916574, 25.30857393, 23.80461632,\n",
       "       25.51990696, 22.83437369, 22.86694151, 23.48238004, 24.99268894,\n",
       "       23.94784989, 26.57320557, 25.63046601, 25.86285813, 24.28184683,\n",
       "       23.21361461, 23.43059125, 23.65687859, 27.34913186, 23.7846167 ])"
      ]
     },
     "execution_count": 39,
     "metadata": {},
     "output_type": "execute_result"
    }
   ],
   "source": [
    "np.dot(A, param_mean)"
   ]
  },
  {
   "cell_type": "code",
   "execution_count": 40,
   "metadata": {},
   "outputs": [
    {
     "data": {
      "text/plain": [
       "array([24.93864062, 24.09099148, 26.25305628, 24.05640439, 24.64454397,\n",
       "       28.16979309, 21.67023114, 26.97393195, 22.24643928, 23.35476629,\n",
       "       27.45352245, 28.53033815, 24.320793  , 27.63236822, 26.14936327,\n",
       "       24.90531817, 26.07236955, 24.33898551, 26.91819902, 24.20534451,\n",
       "       25.79499432, 25.88499083, 24.38543291, 25.83176522, 26.83586517,\n",
       "       24.80273558, 22.71865125, 25.45981492, 26.10706738, 26.89293316,\n",
       "       24.56265758, 24.8690558 , 23.51943907, 26.20412968, 27.53174095,\n",
       "       25.37415973, 22.81567239, 25.32572346, 25.50640985, 22.03874206,\n",
       "       25.24601192, 25.36932264, 24.53813854, 24.3565557 , 25.45253073,\n",
       "       25.72562487, 26.47877767, 23.9623008 , 23.17563746, 26.54070402,\n",
       "       23.38731952, 25.96615031, 24.79512153, 25.96092475, 23.95455273,\n",
       "       24.66617169, 24.75855335, 26.37392893, 24.86833134, 26.45302213,\n",
       "       26.41893908, 23.37025624, 25.94386236, 25.1289184 , 26.35923403,\n",
       "       23.85443521, 25.14067224, 26.29386487, 23.66160306, 24.5304016 ,\n",
       "       23.64463424, 26.80198196, 23.1590969 , 24.98661881, 23.02558375,\n",
       "       24.8636607 , 26.46338183, 22.65182789, 21.04832132, 25.51779302,\n",
       "       25.55995406, 23.71190682, 23.49354429, 25.73004012, 23.98761496,\n",
       "       26.5027029 , 22.14813839, 22.27145052, 24.08023021, 25.76651424,\n",
       "       23.59556455, 27.1280171 , 25.17835442, 24.97795125, 24.16961544,\n",
       "       24.61164969, 23.72037138, 25.27637512, 27.35292886, 23.74411011])"
      ]
     },
     "execution_count": 40,
     "metadata": {},
     "output_type": "execute_result"
    }
   ],
   "source": [
    "y"
   ]
  },
  {
   "cell_type": "code",
   "execution_count": 41,
   "metadata": {},
   "outputs": [
    {
     "name": "stdout",
     "output_type": "stream",
     "text": [
      "Error mit Mittelwert als prediction: 2.2212952243689785\n",
      "Final model error: 0.8429788500763332\n"
     ]
    }
   ],
   "source": [
    "print(\"Error mit Mittelwert als prediction: {}\".format(mean_squared_error(y, np.ones(y.shape[0])*np.mean(y))))\n",
    "print(\"Final model error: {}\".format(loss_evolution[-1]))"
   ]
  }
 ],
 "metadata": {
  "kernelspec": {
   "display_name": "master_thesis",
   "language": "python",
   "name": "master_thesis"
  },
  "language_info": {
   "codemirror_mode": {
    "name": "ipython",
    "version": 3
   },
   "file_extension": ".py",
   "mimetype": "text/x-python",
   "name": "python",
   "nbconvert_exporter": "python",
   "pygments_lexer": "ipython3",
   "version": "3.7.7"
  }
 },
 "nbformat": 4,
 "nbformat_minor": 4
}
