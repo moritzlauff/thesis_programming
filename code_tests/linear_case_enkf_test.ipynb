{
 "cells": [
  {
   "cell_type": "code",
   "execution_count": 1,
   "metadata": {},
   "outputs": [],
   "source": [
    "import numpy as np\n",
    "import matplotlib.pyplot as plt"
   ]
  },
  {
   "cell_type": "code",
   "execution_count": 2,
   "metadata": {},
   "outputs": [],
   "source": [
    "np.random.seed(42)"
   ]
  },
  {
   "cell_type": "markdown",
   "metadata": {},
   "source": [
    "### Modell:\n",
    "$Ax=y$"
   ]
  },
  {
   "cell_type": "raw",
   "metadata": {},
   "source": [
    "A = np.random.randint(1, 11, size = (100, 100))\n",
    "x = np.random.randint(1, 6, size = (100, ))"
   ]
  },
  {
   "cell_type": "code",
   "execution_count": 3,
   "metadata": {},
   "outputs": [],
   "source": [
    "A = np.random.random(size = (100, 100))\n",
    "x = np.random.random(size = (100, ))"
   ]
  },
  {
   "cell_type": "code",
   "execution_count": 4,
   "metadata": {},
   "outputs": [],
   "source": [
    "y = np.dot(A, x)"
   ]
  },
  {
   "cell_type": "markdown",
   "metadata": {},
   "source": [
    "$A$ ist invertierbar:"
   ]
  },
  {
   "cell_type": "code",
   "execution_count": 5,
   "metadata": {},
   "outputs": [
    {
     "data": {
      "text/plain": [
       "array([[ 0.58611217,  0.22754722,  0.22079958, ..., -0.35934623,\n",
       "         0.66178901,  0.19085717],\n",
       "       [-0.86053578,  0.35823913, -0.05086583, ..., -0.28753986,\n",
       "         0.01246512, -1.48921599],\n",
       "       [ 0.26764428, -0.13717687, -0.92694754, ...,  0.09591585,\n",
       "        -1.22390556,  2.1684163 ],\n",
       "       ...,\n",
       "       [ 0.66359634, -0.39434052,  0.53305901, ...,  0.12365094,\n",
       "         0.66198343,  0.04954313],\n",
       "       [-0.06110287,  0.01871632, -0.28590078, ...,  0.03731371,\n",
       "        -0.48258655,  0.91014539],\n",
       "       [-1.43651032,  0.47662975, -0.21419412, ..., -0.01676364,\n",
       "         0.36827009, -2.7539353 ]])"
      ]
     },
     "execution_count": 5,
     "metadata": {},
     "output_type": "execute_result"
    }
   ],
   "source": [
    "np.linalg.inv(A)"
   ]
  },
  {
   "cell_type": "markdown",
   "metadata": {},
   "source": [
    "Verlustfunktion: quadratischer Fehler $\\Vert y - \\hat{y}\\Vert^2$"
   ]
  },
  {
   "cell_type": "code",
   "execution_count": 6,
   "metadata": {},
   "outputs": [],
   "source": [
    "def squared_error(y_true, y_pred):\n",
    "    return np.sum((y_true - y_pred)**2)"
   ]
  },
  {
   "cell_type": "markdown",
   "metadata": {},
   "source": [
    "Ableitung der Verlustfunktion nach den predictions $\\hat{y}$ ist für ein $\\hat{y}_i$: \n",
    "\n",
    "$-2(y_i-\\hat{y}_i)$"
   ]
  },
  {
   "cell_type": "code",
   "execution_count": 7,
   "metadata": {},
   "outputs": [],
   "source": [
    "def grad_loss(y_true, y_pred):\n",
    "    return (-2) * (y_true - y_pred)"
   ]
  },
  {
   "cell_type": "markdown",
   "metadata": {},
   "source": [
    "Loss, wenn der Mittelwert aller $y_i$ stets als prediction verwendet wird:"
   ]
  },
  {
   "cell_type": "code",
   "execution_count": 8,
   "metadata": {},
   "outputs": [
    {
     "data": {
      "text/plain": [
       "222.12952243689784"
      ]
     },
     "execution_count": 8,
     "metadata": {},
     "output_type": "execute_result"
    }
   ],
   "source": [
    "squared_error(y, np.mean(y))"
   ]
  },
  {
   "cell_type": "markdown",
   "metadata": {},
   "source": [
    "### EnKF-Algorithmus, wie ich ihn auch sonst implementiert habe"
   ]
  },
  {
   "cell_type": "code",
   "execution_count": 9,
   "metadata": {},
   "outputs": [],
   "source": [
    "iterations = 100\n",
    "particles = 100\n",
    "randomization = False"
   ]
  },
  {
   "cell_type": "code",
   "execution_count": 10,
   "metadata": {},
   "outputs": [],
   "source": [
    "h_0 = 2\n",
    "epsilon = 0.5"
   ]
  },
  {
   "cell_type": "code",
   "execution_count": 11,
   "metadata": {},
   "outputs": [],
   "source": [
    "# Dictionary, in das die Partikel (Vektoren, Schätzungen für x) geschrieben werden\n",
    "param_dict = {}\n",
    "# Dictionary, in das für alle Partikel die predictions für y geschrieben werden\n",
    "y_pred_dict = {}\n",
    "# Dictionary, in das für alle Partikel die Ableitungen der Verlustfunktion nach den predictions geschrieben werden\n",
    "jacobian_dict = {}\n",
    "# Dictionary, das für alle Partikel die Werte der Verlustfunktion enthält\n",
    "loss_dict = {}"
   ]
  },
  {
   "cell_type": "markdown",
   "metadata": {},
   "source": [
    "Initialisierung durch eine Normalverteilung und erste Auswertung:"
   ]
  },
  {
   "cell_type": "code",
   "execution_count": 12,
   "metadata": {},
   "outputs": [],
   "source": [
    "for i in range(particles):\n",
    "    param_dict[\"particle_{}\".format(i+1)] = np.random.normal(loc = 0, scale = 1, size = x.shape)\n",
    "    y_pred_dict[\"particle_{}\".format(i+1)] = np.dot(A, param_dict[\"particle_{}\".format(i+1)])\n",
    "    jacobian_dict[\"particle_{}\".format(i+1)] = grad_loss(y, y_pred_dict[\"particle_{}\".format(i+1)])\n",
    "    loss_dict[\"particle_{}\".format(i+1)] = squared_error(y, y_pred_dict[\"particle_{}\".format(i+1)])"
   ]
  },
  {
   "cell_type": "markdown",
   "metadata": {},
   "source": [
    "Mittelwerte aller Parameter der Partikel für die endgültige Schätzung von x:"
   ]
  },
  {
   "cell_type": "code",
   "execution_count": 13,
   "metadata": {},
   "outputs": [],
   "source": [
    "param_mean = np.mean(list(param_dict.values()), axis = 0)"
   ]
  },
  {
   "cell_type": "markdown",
   "metadata": {},
   "source": [
    "Loss für die gemittelten Parameter fortlaufend notieren:"
   ]
  },
  {
   "cell_type": "code",
   "execution_count": 14,
   "metadata": {},
   "outputs": [],
   "source": [
    "loss_evolution = []\n",
    "loss_evolution.append(squared_error(y, np.dot(A, param_mean)))"
   ]
  },
  {
   "cell_type": "code",
   "execution_count": 15,
   "metadata": {},
   "outputs": [],
   "source": [
    "# zum Testen der einzelnen Partikel\n",
    "loss_evolution_single_dict = {}\n",
    "for i in range(particles):\n",
    "    loss_evolution_single_dict[\"particle_{}\".format(i+1)] = [squared_error(y, np.dot(A, param_dict[\"particle_{}\".format(i+1)]))]"
   ]
  },
  {
   "cell_type": "markdown",
   "metadata": {},
   "source": [
    "### EnKF"
   ]
  },
  {
   "cell_type": "code",
   "execution_count": 16,
   "metadata": {},
   "outputs": [],
   "source": [
    "for iteration in range(iterations):\n",
    "    \n",
    "    # update the predictions, jacobian and loss for the new parameters\n",
    "    for i in range(particles):\n",
    "        y_pred_dict[\"particle_{}\".format(i+1)] = np.dot(A, param_dict[\"particle_{}\".format(i+1)])\n",
    "        jacobian_dict[\"particle_{}\".format(i+1)] = grad_loss(y, y_pred_dict[\"particle_{}\".format(i+1)])\n",
    "        loss_dict[\"particle_{}\".format(i+1)] = squared_error(y, y_pred_dict[\"particle_{}\".format(i+1)])\n",
    "    \n",
    "    # compute the mean of the predictions\n",
    "    y_pred_mean = np.mean(list(y_pred_dict.values()), axis = 0)\n",
    "    \n",
    "    # compute the matrix D elementwise\n",
    "    d = np.zeros(shape = (particles, particles))\n",
    "    for k in range(particles):\n",
    "        y_pred_centered = y_pred_dict[\"particle_{}\".format(str(k+1))] - y_pred_mean\n",
    "        for j in range(particles):\n",
    "            d[k][j] = np.dot(y_pred_centered, jacobian_dict[\"particle_{}\".format(str(j+1))])\n",
    "           \n",
    "    # compute the scalar h_t\n",
    "    h_t = h_0 / (np.sqrt(np.sum(d**2)) + epsilon)\n",
    "        \n",
    "    # matrix with particle parameters as row vectors\n",
    "    params_all_ptcls = np.array(list(param_dict.values()))\n",
    "    \n",
    "    # compute the matrix with the updates for each particle\n",
    "    params_all_ptcls = params_all_ptcls - h_t * np.dot(d, params_all_ptcls)\n",
    "    \n",
    "    # write the updates back into the dictionary\n",
    "    for i in range(particles):\n",
    "        param_dict[\"particle_{}\".format(str(i+1))] = params_all_ptcls[i]\n",
    "    \n",
    "    # compute loss for the parameter means\n",
    "    param_mean = np.mean(params_all_ptcls, axis = 0)\n",
    "    loss_evolution.append(squared_error(y, np.dot(A, param_mean)))\n",
    "    \n",
    "    # zum Testen der einzelnen Partikel\n",
    "    for i in range(particles):\n",
    "        loss_evolution_single_dict[\"particle_{}\".format(i+1)].append(squared_error(y, np.dot(A, param_dict[\"particle_{}\".format(i+1)])))"
   ]
  },
  {
   "cell_type": "code",
   "execution_count": 17,
   "metadata": {},
   "outputs": [
    {
     "data": {
      "image/png": "[encoded data removed]",
      "text/plain": [
       "<Figure size 432x288 with 1 Axes>"
      ]
     },
     "metadata": {
      "needs_background": "light"
     },
     "output_type": "display_data"
    }
   ],
   "source": [
    "plt.plot(np.arange(len(loss_evolution))+1, loss_evolution)\n",
    "plt.grid()\n",
    "plt.show()"
   ]
  },
  {
   "cell_type": "code",
   "execution_count": 18,
   "metadata": {},
   "outputs": [
    {
     "data": {
      "image/png": "[encoded data removed]",
      "text/plain": [
       "<Figure size 432x288 with 1 Axes>"
      ]
     },
     "metadata": {
      "needs_background": "light"
     },
     "output_type": "display_data"
    }
   ],
   "source": [
    "plt.plot(np.arange(len(loss_evolution_single_dict[\"particle_1\"]))+1, loss_evolution_single_dict[\"particle_1\"])\n",
    "plt.grid()\n",
    "plt.show()"
   ]
  },
  {
   "cell_type": "markdown",
   "metadata": {},
   "source": [
    "### EnKF wie für inverse Probleme"
   ]
  },
  {
   "cell_type": "code",
   "execution_count": 106,
   "metadata": {},
   "outputs": [],
   "source": [
    "batch = True\n",
    "if batch:\n",
    "    epochs = 10\n",
    "    batch_size = 10         \n",
    "else:\n",
    "    epochs = 100\n",
    "    batch_size = y.shape[0]"
   ]
  },
  {
   "cell_type": "code",
   "execution_count": 107,
   "metadata": {},
   "outputs": [],
   "source": [
    "n = y.shape[0]\n",
    "num_batches = int(np.ceil(n / batch_size))\n",
    "batch_indices = np.cumsum([0] + list(np.ones(num_batches) * batch_size))\n",
    "batch_indices[-1] = n"
   ]
  },
  {
   "cell_type": "code",
   "execution_count": 108,
   "metadata": {},
   "outputs": [],
   "source": [
    "# Dictionary, in das die Partikel (Vektoren, Schätzungen für x) geschrieben werden\n",
    "param_dict = {}\n",
    "# Dictionary, in das für alle Partikel die predictions für y geschrieben werden\n",
    "y_pred_dict = {}\n",
    "# Dictionary, das für alle Partikel die Werte der Verlustfunktion enthält\n",
    "loss_dict = {}"
   ]
  },
  {
   "cell_type": "code",
   "execution_count": 109,
   "metadata": {},
   "outputs": [],
   "source": [
    "for i in range(particles):\n",
    "    param_dict[\"particle_{}\".format(i+1)] = np.random.normal(loc = 0, scale = 1, size = x.shape)\n",
    "    y_pred_dict[\"particle_{}\".format(i+1)] = np.dot(A, param_dict[\"particle_{}\".format(i+1)])\n",
    "    loss_dict[\"particle_{}\".format(i+1)] = squared_error(y, y_pred_dict[\"particle_{}\".format(i+1)])"
   ]
  },
  {
   "cell_type": "code",
   "execution_count": 110,
   "metadata": {},
   "outputs": [],
   "source": [
    "param_mean = np.mean(list(param_dict.values()), axis = 0)"
   ]
  },
  {
   "cell_type": "code",
   "execution_count": 111,
   "metadata": {},
   "outputs": [],
   "source": [
    "loss_evolution = []\n",
    "loss_evolution.append(squared_error(y, np.dot(A, param_mean)))"
   ]
  },
  {
   "cell_type": "code",
   "execution_count": 112,
   "metadata": {},
   "outputs": [],
   "source": [
    "# zum Testen der einzelnen Partikel\n",
    "loss_evolution_single_dict = {}\n",
    "for i in range(particles):\n",
    "    loss_evolution_single_dict[\"particle_{}\".format(i+1)] = [squared_error(y, np.dot(A, param_dict[\"particle_{}\".format(i+1)]))]"
   ]
  },
  {
   "cell_type": "code",
   "execution_count": 113,
   "metadata": {},
   "outputs": [],
   "source": [
    "for epoch in range(epochs):\n",
    "\n",
    "    A_batches = [A[int(batch_indices[i]):int(batch_indices[i+1])] for i in range(num_batches)]\n",
    "    y_batches = [y[int(batch_indices[i]):int(batch_indices[i+1])] for i in range(num_batches)]\n",
    "\n",
    "    for b in range(num_batches):\n",
    "\n",
    "        # update the predictions and the loss for the new parameters\n",
    "        for i in range(particles):\n",
    "            y_pred_dict[\"particle_{}\".format(i+1)] = np.dot(A_batches[b], param_dict[\"particle_{}\".format(i+1)])\n",
    "            loss_dict[\"particle_{}\".format(i+1)] = squared_error(y_batches[b], y_pred_dict[\"particle_{}\".format(i+1)])\n",
    "\n",
    "        # compute the mean of the predictions\n",
    "        y_pred_mean = np.mean(list(y_pred_dict.values()), axis = 0)\n",
    "\n",
    "        # compute the matrices C\n",
    "        param_diff_dict = {}\n",
    "        pred_diff_param_dict = {}\n",
    "        pred_diff_w_dict = {}\n",
    "        c_param_w_dict = {}\n",
    "        c_w_w_dict = {}\n",
    "\n",
    "        for i in range(particles):\n",
    "            param_diff_dict[\"particle_{}\".format(str(i+1))] = param_dict[\"particle_{}\".format(str(i+1))] - param_mean\n",
    "            pred_diff_param_dict[\"particle_{}\".format(str(i+1))] = y_pred_dict[\"particle_{}\".format(str(i+1))] - y_pred_mean\n",
    "            pred_diff_w_dict[\"particle_{}\".format(str(i+1))] = y_pred_dict[\"particle_{}\".format(str(i+1))] - y_pred_mean\n",
    "        for i in range(particles):\n",
    "            param_diff_dict[\"particle_{}\".format(str(i+1))] = np.transpose(np.tile(param_diff_dict[\"particle_{}\".format(str(i+1))], (pred_diff_param_dict[\"particle_{}\".format(str(i+1))].shape[0], 1)))\n",
    "            pred_diff_param_dict[\"particle_{}\".format(str(i+1))] = np.tile(pred_diff_param_dict[\"particle_{}\".format(str(i+1))], (param_diff_dict[\"particle_{}\".format(str(i+1))].shape[0], 1))\n",
    "            pred_diff_w_dict[\"particle_{}\".format(str(i+1))] = np.tile(pred_diff_w_dict[\"particle_{}\".format(str(i+1))], (pred_diff_w_dict[\"particle_{}\".format(str(i+1))].shape[0], 1))\n",
    "            c_param_w_dict[\"particle_{}\".format(str(i+1))] = param_diff_dict[\"particle_{}\".format(str(i+1))] * pred_diff_param_dict[\"particle_{}\".format(str(i+1))]\n",
    "            c_w_w_dict[\"particle_{}\".format(str(i+1))] = pred_diff_w_dict[\"particle_{}\".format(str(i+1))] * pred_diff_w_dict[\"particle_{}\".format(str(i+1))]\n",
    "        c_param_w = np.mean(list(c_param_w_dict.values()), axis = 0)\n",
    "        c_w_w = np.mean(list(c_w_w_dict.values()), axis = 0)\n",
    "\n",
    "        # write the updates back into the dictionary\n",
    "        for i in range(particles):\n",
    "            param_dict[\"particle_{}\".format(str(i+1))] = param_dict[\"particle_{}\".format(str(i+1))] + np.dot(np.dot(c_param_w, np.linalg.pinv(c_w_w)), y_batches[b] - y_pred_dict[\"particle_{}\".format(str(i+1))])\n",
    "\n",
    "        # compute loss for the parameter means\n",
    "        param_mean = np.mean(list(param_dict.values()), axis = 0)\n",
    "        loss_evolution.append(squared_error(y_batches[b], np.dot(A_batches[b], param_mean)))\n",
    "\n",
    "        # zum Testen der einzelnen Partikel\n",
    "        for i in range(particles):\n",
    "            loss_evolution_single_dict[\"particle_{}\".format(i+1)].append(squared_error(y_batches[b], np.dot(A_batches[b], param_dict[\"particle_{}\".format(i+1)])))"
   ]
  },
  {
   "cell_type": "code",
   "execution_count": 114,
   "metadata": {},
   "outputs": [
    {
     "data": {
      "text/plain": [
       "[64212.33772197224,\n",
       " 321.63622985759963,\n",
       " 254.42884598443578,\n",
       " 201.01898025474657,\n",
       " 156.81322235875095,\n",
       " 125.63598132404908,\n",
       " 107.14988684553268,\n",
       " 86.41939739271294,\n",
       " 99.19293148931092,\n",
       " 68.6768755054145,\n",
       " 70.79004207372726,\n",
       " 96.6428433595954,\n",
       " 76.89011648052939,\n",
       " 86.12760527719749,\n",
       " 73.55758024555618,\n",
       " 67.613258410136,\n",
       " 69.61457811455153,\n",
       " 46.72868010305609,\n",
       " 58.718629751158595,\n",
       " 39.532388062453755,\n",
       " 51.0912159391666,\n",
       " 72.87161647621062,\n",
       " 54.22141624605737,\n",
       " 66.87018930283324,\n",
       " 57.533789390604085,\n",
       " 55.58532254009367,\n",
       " 61.309926043403436,\n",
       " 36.47920582276181,\n",
       " 46.16512086702523,\n",
       " 30.44928250130018,\n",
       " 45.03401978884525,\n",
       " 62.02114186330313,\n",
       " 44.946228655982644,\n",
       " 58.20015618038129,\n",
       " 50.51957430297202,\n",
       " 50.466316404108206,\n",
       " 57.5522604281378,\n",
       " 31.845011127489464,\n",
       " 39.974461087880826,\n",
       " 26.086887220054866,\n",
       " 42.19730031111059,\n",
       " 55.459363485747794,\n",
       " 39.96470848749131,\n",
       " 53.17746332592495,\n",
       " 46.64023953497153,\n",
       " 47.673877916479455,\n",
       " 55.32722990063543,\n",
       " 29.23480324465848,\n",
       " 36.279239869902646,\n",
       " 23.529455375808855,\n",
       " 40.56293749409519,\n",
       " 50.95611760268163,\n",
       " 36.929128504057026,\n",
       " 49.9007723974892,\n",
       " 44.242288545602456,\n",
       " 45.934093847920835,\n",
       " 53.812833301585236,\n",
       " 27.578381030412906,\n",
       " 33.8269243118127,\n",
       " 21.8419467562396,\n",
       " 39.49536466788625,\n",
       " 47.634874633220825,\n",
       " 34.94461764848466,\n",
       " 47.61159851035261,\n",
       " 42.66620162702594,\n",
       " 44.754766147837195,\n",
       " 52.69381330042128,\n",
       " 26.445967527163283,\n",
       " 32.085950767427235,\n",
       " 20.636727282974523,\n",
       " 38.73699401978295,\n",
       " 45.0688298286764,\n",
       " 33.59272828605033,\n",
       " 45.94079470598712,\n",
       " 41.59402057520941,\n",
       " 43.90692080572491,\n",
       " 51.822259063468685,\n",
       " 25.631823378348532,\n",
       " 30.791240816593962,\n",
       " 19.72558220686126,\n",
       " 38.165308329455854,\n",
       " 43.02083236807285,\n",
       " 32.650970750023184,\n",
       " 44.684850252635286,\n",
       " 40.852738326025914,\n",
       " 43.27025648332878,\n",
       " 51.11872881984327,\n",
       " 25.025193481350023,\n",
       " 29.79545092793547,\n",
       " 19.006645745026425,\n",
       " 37.71510504172992,\n",
       " 41.346724594190064,\n",
       " 31.990035879745392,\n",
       " 43.721516903112835,\n",
       " 40.33992485720553,\n",
       " 42.775841359690766,\n",
       " 50.53620721405149,\n",
       " 24.561206429767083,\n",
       " 29.009995236617385,\n",
       " 18.42021095023384,\n",
       " 37.34864620953755]"
      ]
     },
     "execution_count": 114,
     "metadata": {},
     "output_type": "execute_result"
    }
   ],
   "source": [
    "loss_evolution"
   ]
  },
  {
   "cell_type": "code",
   "execution_count": 115,
   "metadata": {},
   "outputs": [
    {
     "data": {
      "image/png": "[encoded data removed]",
      "text/plain": [
       "<Figure size 432x288 with 1 Axes>"
      ]
     },
     "metadata": {
      "needs_background": "light"
     },
     "output_type": "display_data"
    }
   ],
   "source": [
    "plt.plot(np.arange(len(loss_evolution))+1, loss_evolution)\n",
    "plt.grid()\n",
    "plt.show()"
   ]
  },
  {
   "cell_type": "markdown",
   "metadata": {},
   "source": [
    "Oszillationen kommen von den Batches. Für jede Batch ist es aber wieder monoton fallend."
   ]
  },
  {
   "cell_type": "code",
   "execution_count": 119,
   "metadata": {},
   "outputs": [
    {
     "data": {
      "image/png": "[encoded data removed]",
      "text/plain": [
       "<Figure size 432x288 with 1 Axes>"
      ]
     },
     "metadata": {
      "needs_background": "light"
     },
     "output_type": "display_data"
    }
   ],
   "source": [
    "plt.plot(np.arange(len(loss_evolution))[1:]+1, loss_evolution[1:])\n",
    "plt.grid()\n",
    "plt.show()"
   ]
  },
  {
   "cell_type": "code",
   "execution_count": 116,
   "metadata": {},
   "outputs": [
    {
     "data": {
      "image/png": "[encoded data removed]",
      "text/plain": [
       "<Figure size 432x288 with 1 Axes>"
      ]
     },
     "metadata": {
      "needs_background": "light"
     },
     "output_type": "display_data"
    }
   ],
   "source": [
    "plt.plot(np.arange(len(loss_evolution_single_dict[\"particle_1\"]))+1, loss_evolution_single_dict[\"particle_1\"])\n",
    "plt.grid()\n",
    "plt.show()"
   ]
  },
  {
   "cell_type": "code",
   "execution_count": 117,
   "metadata": {},
   "outputs": [
    {
     "data": {
      "text/plain": [
       "array([21.61813117, 22.83580607, 27.00802802, 25.32922913, 23.59893435,\n",
       "       26.76731174, 18.96087729, 23.46166472, 20.35649951, 22.99963967,\n",
       "       25.50045148, 29.06222676, 24.42801242, 24.86699429, 24.34454738,\n",
       "       21.66143362, 25.07727777, 25.20886549, 27.99626748, 22.41683762,\n",
       "       22.59546615, 23.41408594, 22.83698875, 24.63733444, 23.3671652 ,\n",
       "       22.23796411, 24.7804153 , 25.67805055, 26.38985836, 27.82700646,\n",
       "       22.81488239, 23.30288078, 22.77492528, 23.08970501, 24.22665503,\n",
       "       26.94112037, 24.36139371, 26.68487321, 24.74667577, 19.5038816 ,\n",
       "       27.43154449, 24.09522541, 24.57450583, 22.86052085, 25.65025808,\n",
       "       25.20641497, 25.52921314, 19.94264673, 19.61835943, 28.54893648,\n",
       "       24.40749238, 21.14828471, 25.70374383, 24.61202698, 23.33139215,\n",
       "       24.89342963, 25.60294442, 29.09058518, 24.57565163, 22.60565384,\n",
       "       26.84430461, 24.60078162, 24.54622935, 25.74990856, 23.51687126,\n",
       "       22.42211271, 26.50653222, 25.28123349, 23.040166  , 21.86992666,\n",
       "       23.66750559, 23.97514417, 21.12772146, 24.85544548, 21.09461454,\n",
       "       26.00292729, 24.05884243, 22.31638563, 22.55749264, 23.62654568,\n",
       "       22.94049125, 24.28977789, 24.1305775 , 24.59286384, 23.15557666,\n",
       "       24.40688924, 22.46365397, 22.23321971, 22.09621946, 26.32282831,\n",
       "       27.59236601, 24.33478581, 25.39182899, 25.72531767, 23.61588421,\n",
       "       21.89562069, 22.34523396, 23.54696788, 26.82623363, 24.09803561])"
      ]
     },
     "execution_count": 117,
     "metadata": {},
     "output_type": "execute_result"
    }
   ],
   "source": [
    "np.dot(A, param_mean)"
   ]
  },
  {
   "cell_type": "code",
   "execution_count": 118,
   "metadata": {},
   "outputs": [
    {
     "data": {
      "text/plain": [
       "array([24.93864062, 24.09099148, 26.25305628, 24.05640439, 24.64454397,\n",
       "       28.16979309, 21.67023114, 26.97393195, 22.24643928, 23.35476629,\n",
       "       27.45352245, 28.53033815, 24.320793  , 27.63236822, 26.14936327,\n",
       "       24.90531817, 26.07236955, 24.33898551, 26.91819902, 24.20534451,\n",
       "       25.79499432, 25.88499083, 24.38543291, 25.83176522, 26.83586517,\n",
       "       24.80273558, 22.71865125, 25.45981492, 26.10706738, 26.89293316,\n",
       "       24.56265758, 24.8690558 , 23.51943907, 26.20412968, 27.53174095,\n",
       "       25.37415973, 22.81567239, 25.32572346, 25.50640985, 22.03874206,\n",
       "       25.24601192, 25.36932264, 24.53813854, 24.3565557 , 25.45253073,\n",
       "       25.72562487, 26.47877767, 23.9623008 , 23.17563746, 26.54070402,\n",
       "       23.38731952, 25.96615031, 24.79512153, 25.96092475, 23.95455273,\n",
       "       24.66617169, 24.75855335, 26.37392893, 24.86833134, 26.45302213,\n",
       "       26.41893908, 23.37025624, 25.94386236, 25.1289184 , 26.35923403,\n",
       "       23.85443521, 25.14067224, 26.29386487, 23.66160306, 24.5304016 ,\n",
       "       23.64463424, 26.80198196, 23.1590969 , 24.98661881, 23.02558375,\n",
       "       24.8636607 , 26.46338183, 22.65182789, 21.04832132, 25.51779302,\n",
       "       25.55995406, 23.71190682, 23.49354429, 25.73004012, 23.98761496,\n",
       "       26.5027029 , 22.14813839, 22.27145052, 24.08023021, 25.76651424,\n",
       "       23.59556455, 27.1280171 , 25.17835442, 24.97795125, 24.16961544,\n",
       "       24.61164969, 23.72037138, 25.27637512, 27.35292886, 23.74411011])"
      ]
     },
     "execution_count": 118,
     "metadata": {},
     "output_type": "execute_result"
    }
   ],
   "source": [
    "y"
   ]
  }
 ],
 "metadata": {
  "kernelspec": {
   "display_name": "master_thesis",
   "language": "python",
   "name": "master_thesis"
  },
  "language_info": {
   "codemirror_mode": {
    "name": "ipython",
    "version": 3
   },
   "file_extension": ".py",
   "mimetype": "text/x-python",
   "name": "python",
   "nbconvert_exporter": "python",
   "pygments_lexer": "ipython3",
   "version": "3.7.7"
  }
 },
 "nbformat": 4,
 "nbformat_minor": 4
}
