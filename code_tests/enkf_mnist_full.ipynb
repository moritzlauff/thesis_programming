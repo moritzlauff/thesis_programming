{
 "cells": [
  {
   "cell_type": "code",
   "execution_count": 1,
   "metadata": {},
   "outputs": [],
   "source": [
    "import warnings\n",
    "warnings.filterwarnings(\"ignore\")"
   ]
  },
  {
   "cell_type": "code",
   "execution_count": 2,
   "metadata": {},
   "outputs": [],
   "source": [
    "import sys\n",
    "sys.path.insert(1, \"../python/functions\")\n",
    "sys.path.insert(2, \"../python/architecture\")"
   ]
  },
  {
   "cell_type": "code",
   "execution_count": 3,
   "metadata": {},
   "outputs": [
    {
     "name": "stdout",
     "output_type": "stream",
     "text": [
      "WARNING:tensorflow:From ../python/architecture\\reproducible.py:14: The name tf.keras.backend.set_session is deprecated. Please use tf.compat.v1.keras.backend.set_session instead.\n",
      "\n"
     ]
    }
   ],
   "source": [
    "from data_prep_functions import mnist_prep\n",
    "from plotting_functions import nn_plot_acc\n",
    "from enkf_functions import enkf_classifier\n",
    "from saving_functions import load_objects\n",
    "from model_functions import nn_load\n",
    "import reproducible\n",
    "import no_gpu"
   ]
  },
  {
   "cell_type": "code",
   "execution_count": 4,
   "metadata": {},
   "outputs": [],
   "source": [
    "X_train, X_test, y_train, y_test = mnist_prep()"
   ]
  },
  {
   "cell_type": "code",
   "execution_count": 5,
   "metadata": {},
   "outputs": [],
   "source": [
    "layers = 5\n",
    "neurons = [128, 128, 64, 32, 10]"
   ]
  },
  {
   "cell_type": "code",
   "execution_count": 6,
   "metadata": {},
   "outputs": [],
   "source": [
    "setting_dict = {\"particles\": 1,\n",
    "                \"epochs\": 20,\n",
    "                \"batch_size\": 1000,    # X_train.shape[0]\n",
    "                \"h_0\": 2,\n",
    "                \"delta\": 0.005,\n",
    "                \"epsilon\": 0.5,\n",
    "                \"shuffle\": True,\n",
    "                \"early_stopping\": None\n",
    "               }"
   ]
  },
  {
   "cell_type": "code",
   "execution_count": 7,
   "metadata": {},
   "outputs": [],
   "source": [
    "particle_list = [100, 200, 500]"
   ]
  },
  {
   "cell_type": "code",
   "execution_count": 8,
   "metadata": {},
   "outputs": [],
   "source": [
    "import time"
   ]
  },
  {
   "cell_type": "code",
   "execution_count": 9,
   "metadata": {},
   "outputs": [
    {
     "name": "stdout",
     "output_type": "stream",
     "text": [
      "Epoch 1. Training Accuracy: 0.423, Test Accuracy: 0.438.\n",
      "Epoch 2. Training Accuracy: 0.455, Test Accuracy: 0.472.\n",
      "Epoch 3. Training Accuracy: 0.465, Test Accuracy: 0.482.\n",
      "Epoch 4. Training Accuracy: 0.47, Test Accuracy: 0.487.\n",
      "Epoch 5. Training Accuracy: 0.473, Test Accuracy: 0.491.\n",
      "Epoch 6. Training Accuracy: 0.475, Test Accuracy: 0.495.\n",
      "Epoch 7. Training Accuracy: 0.478, Test Accuracy: 0.498.\n",
      "Epoch 8. Training Accuracy: 0.48, Test Accuracy: 0.5.\n",
      "Epoch 9. Training Accuracy: 0.481, Test Accuracy: 0.502.\n",
      "Epoch 10. Training Accuracy: 0.482, Test Accuracy: 0.502.\n",
      "Epoch 11. Training Accuracy: 0.483, Test Accuracy: 0.504.\n",
      "Epoch 12. Training Accuracy: 0.484, Test Accuracy: 0.504.\n",
      "Epoch 13. Training Accuracy: 0.484, Test Accuracy: 0.504.\n",
      "Epoch 14. Training Accuracy: 0.484, Test Accuracy: 0.503.\n",
      "Epoch 15. Training Accuracy: 0.485, Test Accuracy: 0.504.\n",
      "Epoch 16. Training Accuracy: 0.486, Test Accuracy: 0.505.\n",
      "Epoch 17. Training Accuracy: 0.486, Test Accuracy: 0.505.\n",
      "Epoch 18. Training Accuracy: 0.487, Test Accuracy: 0.506.\n",
      "Epoch 19. Training Accuracy: 0.487, Test Accuracy: 0.506.\n",
      "Epoch 20. Training Accuracy: 0.488, Test Accuracy: 0.506.\n",
      "Calculation time for 100 particles: 87.1990341146787 minutes.\n"
     ]
    },
    {
     "data": {
      "image/png": "[encoded data removed]",
      "text/plain": [
       "<Figure size 576x360 with 1 Axes>"
      ]
     },
     "metadata": {
      "needs_background": "light"
     },
     "output_type": "display_data"
    },
    {
     "name": "stdout",
     "output_type": "stream",
     "text": [
      "Epoch 1. Training Accuracy: 0.503, Test Accuracy: 0.506.\n",
      "Epoch 2. Training Accuracy: 0.563, Test Accuracy: 0.563.\n",
      "Epoch 3. Training Accuracy: 0.575, Test Accuracy: 0.575.\n",
      "Epoch 4. Training Accuracy: 0.581, Test Accuracy: 0.581.\n",
      "Epoch 5. Training Accuracy: 0.585, Test Accuracy: 0.585.\n",
      "Epoch 6. Training Accuracy: 0.588, Test Accuracy: 0.589.\n",
      "Epoch 7. Training Accuracy: 0.59, Test Accuracy: 0.59.\n",
      "Epoch 8. Training Accuracy: 0.592, Test Accuracy: 0.592.\n",
      "Epoch 9. Training Accuracy: 0.595, Test Accuracy: 0.596.\n",
      "Epoch 10. Training Accuracy: 0.596, Test Accuracy: 0.597.\n",
      "Epoch 11. Training Accuracy: 0.598, Test Accuracy: 0.598.\n",
      "Epoch 12. Training Accuracy: 0.599, Test Accuracy: 0.601.\n",
      "Epoch 13. Training Accuracy: 0.601, Test Accuracy: 0.601.\n",
      "Epoch 14. Training Accuracy: 0.602, Test Accuracy: 0.603.\n",
      "Epoch 15. Training Accuracy: 0.602, Test Accuracy: 0.603.\n",
      "Epoch 16. Training Accuracy: 0.604, Test Accuracy: 0.604.\n",
      "Epoch 17. Training Accuracy: 0.605, Test Accuracy: 0.606.\n",
      "Epoch 18. Training Accuracy: 0.606, Test Accuracy: 0.607.\n",
      "Epoch 19. Training Accuracy: 0.607, Test Accuracy: 0.608.\n",
      "Epoch 20. Training Accuracy: 0.607, Test Accuracy: 0.608.\n",
      "Calculation time for 200 particles: 220.05075017611185 minutes.\n"
     ]
    },
    {
     "data": {
      "image/png": "[encoded data removed]",
      "text/plain": [
       "<Figure size 576x360 with 1 Axes>"
      ]
     },
     "metadata": {
      "needs_background": "light"
     },
     "output_type": "display_data"
    },
    {
     "name": "stdout",
     "output_type": "stream",
     "text": [
      "Epoch 1. Training Accuracy: 0.471, Test Accuracy: 0.48.\n",
      "Epoch 2. Training Accuracy: 0.619, Test Accuracy: 0.626.\n",
      "Epoch 3. Training Accuracy: 0.659, Test Accuracy: 0.664.\n",
      "Epoch 4. Training Accuracy: 0.683, Test Accuracy: 0.691.\n",
      "Epoch 5. Training Accuracy: 0.696, Test Accuracy: 0.705.\n",
      "Epoch 6. Training Accuracy: 0.705, Test Accuracy: 0.713.\n",
      "Epoch 7. Training Accuracy: 0.71, Test Accuracy: 0.718.\n",
      "Epoch 8. Training Accuracy: 0.714, Test Accuracy: 0.722.\n",
      "Epoch 9. Training Accuracy: 0.717, Test Accuracy: 0.725.\n",
      "Epoch 10. Training Accuracy: 0.721, Test Accuracy: 0.727.\n",
      "Epoch 11. Training Accuracy: 0.724, Test Accuracy: 0.73.\n",
      "Epoch 12. Training Accuracy: 0.726, Test Accuracy: 0.732.\n",
      "Epoch 13. Training Accuracy: 0.728, Test Accuracy: 0.733.\n",
      "Epoch 14. Training Accuracy: 0.73, Test Accuracy: 0.735.\n",
      "Epoch 15. Training Accuracy: 0.731, Test Accuracy: 0.736.\n",
      "Epoch 16. Training Accuracy: 0.733, Test Accuracy: 0.736.\n",
      "Epoch 17. Training Accuracy: 0.734, Test Accuracy: 0.738.\n",
      "Epoch 18. Training Accuracy: 0.735, Test Accuracy: 0.739.\n",
      "Epoch 19. Training Accuracy: 0.737, Test Accuracy: 0.741.\n",
      "Epoch 20. Training Accuracy: 0.738, Test Accuracy: 0.742.\n",
      "Calculation time for 500 particles: 1228.3681109984716 minutes.\n"
     ]
    },
    {
     "data": {
      "image/png": "[encoded data removed]",
      "text/plain": [
       "<Figure size 576x360 with 1 Axes>"
      ]
     },
     "metadata": {
      "needs_background": "light"
     },
     "output_type": "display_data"
    }
   ],
   "source": [
    "for p in particle_list:\n",
    "    setting_dict[\"particles\"] = p\n",
    "    \n",
    "    import random\n",
    "    import os\n",
    "    import numpy as np\n",
    "    import tensorflow as tf\n",
    "\n",
    "    os.environ['PYTHONHASHSEED'] = '0'\n",
    "    np.random.seed(42)\n",
    "    random.seed(42)\n",
    "    session_conf = tf.compat.v1.ConfigProto(intra_op_parallelism_threads = 1, inter_op_parallelism_threads = 1)\n",
    "    tf.compat.v1.set_random_seed(42)\n",
    "    sess = tf.compat.v1.Session(graph = tf.compat.v1.get_default_graph(), config = session_conf)\n",
    "    tf.compat.v1.keras.backend.set_session(sess)\n",
    "    \n",
    "    start_time = time.time()\n",
    "    mean_model = enkf_classifier(X_train,\n",
    "                                 X_test,\n",
    "                                 y_train,\n",
    "                                 y_test,\n",
    "                                 layers,\n",
    "                                 neurons,\n",
    "                                 setting_dict,\n",
    "                                 save_all = True,\n",
    "                                 file_var = \"../objects/mnist/mnist_enkf_full_E{}_B{}_P{}_H{}.pckl\".format(setting_dict[\"epochs\"], setting_dict[\"batch_size\"], setting_dict[\"particles\"], setting_dict[\"h_0\"]),\n",
    "                                 file_model = \"../models/mnist/mnist_enkf_full_E{}_B{}_P{}_H{}.h5\".format(setting_dict[\"epochs\"], setting_dict[\"batch_size\"], setting_dict[\"particles\"], setting_dict[\"h_0\"]),\n",
    "                                 verbose = 1)\n",
    "    end_time = time.time()\n",
    "    print(\"Calculation time for {} particles: {} minutes.\".format(p, (end_time - start_time) / 60))\n",
    "    \n",
    "    nn_plot_acc(mean_model,\n",
    "                mean_comparison = None,\n",
    "                start_epoch = 1,\n",
    "                save = None)#\"../img/mnist/mnist_enkf_full_E{}_B{}_P{}_H{}.png\".format(setting_dict[\"epochs\"], setting_dict[\"batch_size\"], setting_dict[\"particles\"], setting_dict[\"h_0\"]))"
   ]
  },
  {
   "cell_type": "code",
   "execution_count": 10,
   "metadata": {},
   "outputs": [],
   "source": [
    "obj_dict = load_objects(\"../objects/mnist/mnist_enkf_full_E{}_B{}_P{}_H{}.pckl\".format(setting_dict[\"epochs\"], setting_dict[\"batch_size\"], setting_dict[\"particles\"], setting_dict[\"h_0\"]))"
   ]
  },
  {
   "cell_type": "code",
   "execution_count": 11,
   "metadata": {},
   "outputs": [],
   "source": [
    "final_model = nn_load(\"../models/mnist/mnist_enkf_full_E{}_B{}_P{}_H{}.h5\".format(setting_dict[\"epochs\"], setting_dict[\"batch_size\"], setting_dict[\"particles\"], setting_dict[\"h_0\"]))"
   ]
  }
 ],
 "metadata": {
  "kernelspec": {
   "display_name": "Python 3",
   "language": "python",
   "name": "python3"
  },
  "language_info": {
   "codemirror_mode": {
    "name": "ipython",
    "version": 3
   },
   "file_extension": ".py",
   "mimetype": "text/x-python",
   "name": "python",
   "nbconvert_exporter": "python",
   "pygments_lexer": "ipython3",
   "version": "3.7.7"
  }
 },
 "nbformat": 4,
 "nbformat_minor": 4
}
