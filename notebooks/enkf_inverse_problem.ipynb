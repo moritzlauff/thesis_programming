{
 "cells": [
  {
   "cell_type": "code",
   "execution_count": null,
   "metadata": {},
   "outputs": [],
   "source": [
    "import warnings\n",
    "warnings.filterwarnings(\"ignore\")"
   ]
  },
  {
   "cell_type": "code",
   "execution_count": null,
   "metadata": {},
   "outputs": [],
   "source": [
    "import sys\n",
    "sys.path.insert(1, \"../python/architecture\")\n",
    "sys.path.insert(2, \"../python/functions\")"
   ]
  },
  {
   "cell_type": "code",
   "execution_count": null,
   "metadata": {},
   "outputs": [],
   "source": [
    "import numpy as np\n",
    "from inverse_problem_functions import y_noise\n",
    "from enkf_functions import enkf_inverse_problem\n",
    "from plotting_functions import plot_IP_loss_evolution, plot_IP_loss_evolution_many, plot_IP_true_false, plot_IP_particle_loss, plot_IP_particle_std, plot_IP_iteration_std"
   ]
  },
  {
   "cell_type": "markdown",
   "metadata": {},
   "source": [
    "# Linear Model"
   ]
  },
  {
   "cell_type": "markdown",
   "metadata": {},
   "source": [
    "## Model:\n",
    "$Ax + \\eta=y$ with $A\\in\\mathbb{R}^{m\\times n}$, $\\eta\\sim\\mathscr{N}(0,\\Gamma)$."
   ]
  },
  {
   "cell_type": "code",
   "execution_count": null,
   "metadata": {},
   "outputs": [],
   "source": [
    "np.random.seed(42)\n",
    "A = np.random.uniform(size = (1000, 100))\n",
    "x = np.random.uniform(size = (A.shape[1], ))"
   ]
  },
  {
   "cell_type": "code",
   "execution_count": null,
   "metadata": {},
   "outputs": [],
   "source": [
    "def model_func(x):\n",
    "    return A @ x"
   ]
  },
  {
   "cell_type": "code",
   "execution_count": null,
   "metadata": {},
   "outputs": [],
   "source": [
    "noise = True\n",
    "\n",
    "y, std = y_noise(model_func,\n",
    "                 x, \n",
    "                 noise)"
   ]
  },
  {
   "cell_type": "code",
   "execution_count": null,
   "metadata": {},
   "outputs": [],
   "source": [
    "setting_dict = {\"model_func\": model_func,\n",
    "                \"x\": x,\n",
    "                \"y\": y,\n",
    "                \"particles\": 50,\n",
    "                \"iterations\": 20,\n",
    "                \"noise\": noise,\n",
    "                \"std\": std,\n",
    "                \"h_0\": 2,\n",
    "                \"epsilon\": 0.5,\n",
    "                }"
   ]
  },
  {
   "cell_type": "code",
   "execution_count": null,
   "metadata": {},
   "outputs": [],
   "source": [
    "return_dict = enkf_inverse_problem(setting_dict)\n",
    "\n",
    "final_params = return_dict[\"final_params\"]\n",
    "loss_evolution = return_dict[\"loss_evolution\"]\n",
    "loss_evolution_single_dict = return_dict[\"loss_evolution_single_dict\"]"
   ]
  },
  {
   "cell_type": "code",
   "execution_count": null,
   "metadata": {},
   "outputs": [],
   "source": [
    "plot_IP_loss_evolution(return_dict,\n",
    "                       start_iteration = 1,\n",
    "                       reg_line = False,\n",
    "                       xlabel = \"Iteration\",\n",
    "                       save = None)"
   ]
  },
  {
   "cell_type": "code",
   "execution_count": null,
   "metadata": {},
   "outputs": [],
   "source": [
    "plot_IP_true_false(setting_dict,\n",
    "                   return_dict,\n",
    "                   num_points = 100,\n",
    "                   x_axis = False,\n",
    "                   save = None)"
   ]
  },
  {
   "cell_type": "code",
   "execution_count": null,
   "metadata": {},
   "outputs": [],
   "source": [
    "plot_IP_particle_loss(return_dict,\n",
    "                      rel_limit_exceed = 0.005,\n",
    "                      save = None)"
   ]
  },
  {
   "cell_type": "code",
   "execution_count": null,
   "metadata": {},
   "outputs": [],
   "source": [
    "parameter = \"particles\"\n",
    "parameter_list = [20, 40, 60, 80]\n",
    "\n",
    "plot_IP_loss_evolution_many(setting_dict,\n",
    "                            parameter,\n",
    "                            parameter_list,\n",
    "                            start_iteration = 1,\n",
    "                            end_iteration = setting_dict[\"iterations\"],\n",
    "                            log = True,\n",
    "                            xlabel = \"Iteration\",\n",
    "                            analysis_dict = None,\n",
    "                            linear = True,\n",
    "                            save = None)"
   ]
  },
  {
   "cell_type": "code",
   "execution_count": null,
   "metadata": {},
   "outputs": [],
   "source": [
    "particle_list = [10, 20, 30, 40, 50, 60, 70, 80]\n",
    "\n",
    "plot_IP_particle_std(setting_dict,\n",
    "                     particle_list,\n",
    "                     save = None)"
   ]
  },
  {
   "cell_type": "code",
   "execution_count": null,
   "metadata": {},
   "outputs": [],
   "source": [
    "iteration_list = [5, 10, 15, 20, 25]\n",
    "\n",
    "plot_IP_iteration_std(setting_dict,\n",
    "                      iteration_list,\n",
    "                      xlabel = \"Iteration\",\n",
    "                      save = None)"
   ]
  },
  {
   "cell_type": "markdown",
   "metadata": {},
   "source": [
    "# Nonlinear Model"
   ]
  },
  {
   "cell_type": "markdown",
   "metadata": {},
   "source": [
    "## Model:\n",
    "$\\sin(x)=y + \\eta$ with $\\eta\\sim\\mathscr{N}(0,\\Gamma)$."
   ]
  },
  {
   "cell_type": "code",
   "execution_count": null,
   "metadata": {},
   "outputs": [],
   "source": [
    "x = np.random.uniform(low = 0,\n",
    "                      high = 7,\n",
    "                      size = (100, ))"
   ]
  },
  {
   "cell_type": "code",
   "execution_count": null,
   "metadata": {},
   "outputs": [],
   "source": [
    "def model_func(x):\n",
    "    return np.sin(x)"
   ]
  },
  {
   "cell_type": "code",
   "execution_count": null,
   "metadata": {},
   "outputs": [],
   "source": [
    "noise = True\n",
    "\n",
    "y, std = y_noise(model_func,\n",
    "                 x, \n",
    "                 noise)"
   ]
  },
  {
   "cell_type": "code",
   "execution_count": null,
   "metadata": {},
   "outputs": [],
   "source": [
    "setting_dict = {\"model_func\": model_func,\n",
    "                \"x\": x,\n",
    "                \"y\": y,\n",
    "                \"particles\": 50,\n",
    "                \"iterations\": 20,\n",
    "                \"noise\": noise,\n",
    "                \"std\": std,\n",
    "                \"h_0\": 2,\n",
    "                \"epsilon\": 0.5,\n",
    "                }"
   ]
  },
  {
   "cell_type": "code",
   "execution_count": null,
   "metadata": {},
   "outputs": [],
   "source": [
    "return_dict = enkf_inverse_problem(setting_dict)\n",
    "\n",
    "final_params = return_dict[\"final_params\"]\n",
    "loss_evolution = return_dict[\"loss_evolution\"]\n",
    "loss_evolution_single_dict = return_dict[\"loss_evolution_single_dict\"]"
   ]
  },
  {
   "cell_type": "code",
   "execution_count": null,
   "metadata": {},
   "outputs": [],
   "source": [
    "plot_IP_loss_evolution(return_dict,\n",
    "                       start_iteration = 1,\n",
    "                       reg_line = False,\n",
    "                       xlabel = \"Iteration\",\n",
    "                       save = None)"
   ]
  },
  {
   "cell_type": "code",
   "execution_count": null,
   "metadata": {},
   "outputs": [],
   "source": [
    "plot_IP_true_false(setting_dict,\n",
    "                   return_dict,\n",
    "                   num_points = None,\n",
    "                   x_axis = True,\n",
    "                   save = None)"
   ]
  },
  {
   "cell_type": "code",
   "execution_count": null,
   "metadata": {},
   "outputs": [],
   "source": [
    "plot_IP_particle_loss(return_dict,\n",
    "                      rel_limit_exceed = 0.01,\n",
    "                      save = None)"
   ]
  },
  {
   "cell_type": "code",
   "execution_count": null,
   "metadata": {},
   "outputs": [],
   "source": [
    "parameter = \"particles\"\n",
    "parameter_list = [20, 40, 60, 80]\n",
    "\n",
    "plot_IP_loss_evolution_many(setting_dict,\n",
    "                            parameter,\n",
    "                            parameter_list,\n",
    "                            start_iteration = 1,\n",
    "                            end_iteration = setting_dict[\"iterations\"],\n",
    "                            log = True,\n",
    "                            xlabel = \"Iteration\",\n",
    "                            analysis_dict = None,\n",
    "                            linear = True,\n",
    "                            save = None)"
   ]
  },
  {
   "cell_type": "code",
   "execution_count": null,
   "metadata": {},
   "outputs": [],
   "source": [
    "particle_list = [10, 20, 30, 40, 50, 60, 70, 80]\n",
    "\n",
    "plot_IP_particle_std(setting_dict,\n",
    "                     particle_list,\n",
    "                     save = None)"
   ]
  },
  {
   "cell_type": "code",
   "execution_count": null,
   "metadata": {},
   "outputs": [],
   "source": [
    "iteration_list = [5, 10, 15, 20, 25]\n",
    "\n",
    "plot_IP_iteration_std(setting_dict,\n",
    "                      iteration_list,\n",
    "                      xlabel = \"Iteration\",\n",
    "                      save = None)"
   ]
  }
 ],
 "metadata": {
  "kernelspec": {
   "display_name": "Python 3",
   "language": "python",
   "name": "python3"
  },
  "language_info": {
   "codemirror_mode": {
    "name": "ipython",
    "version": 3
   },
   "file_extension": ".py",
   "mimetype": "text/x-python",
   "name": "python",
   "nbconvert_exporter": "python",
   "pygments_lexer": "ipython3",
   "version": "3.7.6"
  }
 },
 "nbformat": 4,
 "nbformat_minor": 4
}
