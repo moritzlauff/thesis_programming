{
 "cells": [
  {
   "cell_type": "code",
   "execution_count": 1,
   "metadata": {},
   "outputs": [],
   "source": [
    "import warnings\n",
    "warnings.filterwarnings(\"ignore\")"
   ]
  },
  {
   "cell_type": "code",
   "execution_count": 2,
   "metadata": {},
   "outputs": [],
   "source": [
    "import sys\n",
    "sys.path.insert(1, \"../python/functions\")\n",
    "sys.path.insert(2, \"../python/architecture\")"
   ]
  },
  {
   "cell_type": "code",
   "execution_count": 3,
   "metadata": {},
   "outputs": [
    {
     "name": "stdout",
     "output_type": "stream",
     "text": [
      "WARNING:tensorflow:From ../python/architecture\\reproducible.py:14: The name tf.keras.backend.set_session is deprecated. Please use tf.compat.v1.keras.backend.set_session instead.\n",
      "\n"
     ]
    }
   ],
   "source": [
    "from data_prep_functions import wine_prep\n",
    "from model_functions import nn_model_structure,nn_model_compile, nn_model_fit \n",
    "from plotting_functions import nn_plot_mse\n",
    "import reproducible"
   ]
  },
  {
   "cell_type": "code",
   "execution_count": 4,
   "metadata": {
    "scrolled": false
   },
   "outputs": [],
   "source": [
    "import time"
   ]
  },
  {
   "cell_type": "code",
   "execution_count": 5,
   "metadata": {},
   "outputs": [],
   "source": [
    "X_train, X_test, y_train, y_test = wine_prep()"
   ]
  },
  {
   "cell_type": "code",
   "execution_count": 6,
   "metadata": {},
   "outputs": [],
   "source": [
    "layers = 4\n",
    "neurons = [32, 32, 16, 1]\n",
    "n_cols = X_train.shape[1]\n",
    "batch_size = 100   \n",
    "epochs = 20\n",
    "optimizer = \"sgd\""
   ]
  },
  {
   "cell_type": "code",
   "execution_count": 7,
   "metadata": {},
   "outputs": [
    {
     "name": "stdout",
     "output_type": "stream",
     "text": [
      "Epoch 1/20\n",
      "42/42 [==============================] - 0s 3ms/step - loss: 2.9168 - mse: 2.9168 - val_loss: 0.7805 - val_mse: 0.7805\n",
      "Epoch 2/20\n",
      "42/42 [==============================] - 0s 1ms/step - loss: 0.7485 - mse: 0.7485 - val_loss: 0.6329 - val_mse: 0.6329\n",
      "Epoch 3/20\n",
      "42/42 [==============================] - 0s 977us/step - loss: 0.6461 - mse: 0.6461 - val_loss: 0.5903 - val_mse: 0.5903\n",
      "Epoch 4/20\n",
      "42/42 [==============================] - 0s 953us/step - loss: 0.5949 - mse: 0.5949 - val_loss: 0.5627 - val_mse: 0.5627\n",
      "Epoch 5/20\n",
      "42/42 [==============================] - 0s 953us/step - loss: 0.5670 - mse: 0.5670 - val_loss: 0.5561 - val_mse: 0.5561\n",
      "Epoch 6/20\n",
      "42/42 [==============================] - 0s 977us/step - loss: 0.5494 - mse: 0.5494 - val_loss: 0.5452 - val_mse: 0.5452\n",
      "Epoch 7/20\n",
      "42/42 [==============================] - 0s 977us/step - loss: 0.5344 - mse: 0.5344 - val_loss: 0.5438 - val_mse: 0.5438\n",
      "Epoch 8/20\n",
      "42/42 [==============================] - 0s 1ms/step - loss: 0.5252 - mse: 0.5252 - val_loss: 0.5365 - val_mse: 0.5365\n",
      "Epoch 9/20\n",
      "42/42 [==============================] - 0s 977us/step - loss: 0.5192 - mse: 0.5192 - val_loss: 0.5384 - val_mse: 0.5384\n",
      "Epoch 10/20\n",
      "42/42 [==============================] - 0s 1ms/step - loss: 0.5158 - mse: 0.5158 - val_loss: 0.5342 - val_mse: 0.5342\n",
      "Epoch 11/20\n",
      "42/42 [==============================] - 0s 1ms/step - loss: 0.5103 - mse: 0.5103 - val_loss: 0.5316 - val_mse: 0.5316\n",
      "Epoch 12/20\n",
      "42/42 [==============================] - 0s 977us/step - loss: 0.5054 - mse: 0.5054 - val_loss: 0.5349 - val_mse: 0.5349\n",
      "Epoch 13/20\n",
      "42/42 [==============================] - 0s 977us/step - loss: 0.5013 - mse: 0.5013 - val_loss: 0.5296 - val_mse: 0.5296\n",
      "Epoch 14/20\n",
      "42/42 [==============================] - 0s 977us/step - loss: 0.4974 - mse: 0.4974 - val_loss: 0.5315 - val_mse: 0.5315\n",
      "Epoch 15/20\n",
      "42/42 [==============================] - 0s 1ms/step - loss: 0.4975 - mse: 0.4975 - val_loss: 0.5265 - val_mse: 0.5265\n",
      "Epoch 16/20\n",
      "42/42 [==============================] - 0s 977us/step - loss: 0.4974 - mse: 0.4974 - val_loss: 0.5258 - val_mse: 0.5258\n",
      "Epoch 17/20\n",
      "42/42 [==============================] - 0s 953us/step - loss: 0.4915 - mse: 0.4915 - val_loss: 0.5269 - val_mse: 0.5269\n",
      "Epoch 18/20\n",
      "42/42 [==============================] - 0s 977us/step - loss: 0.4918 - mse: 0.4918 - val_loss: 0.5330 - val_mse: 0.5330\n",
      "Epoch 19/20\n",
      "42/42 [==============================] - 0s 1ms/step - loss: 0.4884 - mse: 0.4884 - val_loss: 0.5240 - val_mse: 0.5240\n",
      "Epoch 20/20\n",
      "42/42 [==============================] - 0s 977us/step - loss: 0.4877 - mse: 0.4877 - val_loss: 0.5270 - val_mse: 0.5270\n",
      "Model: \"sequential\"\n",
      "_________________________________________________________________\n",
      "Layer (type)                 Output Shape              Param #   \n",
      "=================================================================\n",
      "dense (Dense)                (None, 32)                384       \n",
      "_________________________________________________________________\n",
      "dense_1 (Dense)              (None, 32)                1056      \n",
      "_________________________________________________________________\n",
      "dense_2 (Dense)              (None, 16)                528       \n",
      "_________________________________________________________________\n",
      "dense_3 (Dense)              (None, 1)                 17        \n",
      "=================================================================\n",
      "Total params: 1,985\n",
      "Trainable params: 1,985\n",
      "Non-trainable params: 0\n",
      "_________________________________________________________________\n"
     ]
    },
    {
     "data": {
      "image/png": "[encoded data removed]",
      "text/plain": [
       "<Figure size 576x360 with 1 Axes>"
      ]
     },
     "metadata": {
      "needs_background": "light"
     },
     "output_type": "display_data"
    }
   ],
   "source": [
    "model = nn_model_structure(layers = layers,\n",
    "                           neurons = neurons,\n",
    "                           n_cols = n_cols,\n",
    "                           classification = False)\n",
    "model = nn_model_compile(model,\n",
    "                         optimizer = optimizer)\n",
    "model = nn_model_fit(model,\n",
    "                     X_train,\n",
    "                     y_train,\n",
    "                     X_val = X_test,\n",
    "                     y_val = y_test,\n",
    "                     batch_size = batch_size,\n",
    "                     epochs = epochs)\n",
    "model.summary()\n",
    "nn_plot_mse(model,\n",
    "            mse_mean = None,\n",
    "            start_epoch = 1,\n",
    "            save = None)"
   ]
  }
 ],
 "metadata": {
  "kernelspec": {
   "display_name": "Python 3",
   "language": "python",
   "name": "python3"
  },
  "language_info": {
   "codemirror_mode": {
    "name": "ipython",
    "version": 3
   },
   "file_extension": ".py",
   "mimetype": "text/x-python",
   "name": "python",
   "nbconvert_exporter": "python",
   "pygments_lexer": "ipython3",
   "version": "3.7.6"
  }
 },
 "nbformat": 4,
 "nbformat_minor": 4
}
