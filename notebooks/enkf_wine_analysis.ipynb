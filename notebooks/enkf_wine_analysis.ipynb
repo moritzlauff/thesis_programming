{
 "cells": [
  {
   "cell_type": "code",
   "execution_count": 1,
   "metadata": {},
   "outputs": [],
   "source": [
    "import warnings\n",
    "warnings.filterwarnings(\"ignore\")"
   ]
  },
  {
   "cell_type": "code",
   "execution_count": 2,
   "metadata": {},
   "outputs": [],
   "source": [
    "import sys\n",
    "sys.path.insert(1, \"../python/functions\")\n",
    "sys.path.insert(2, \"../python/architecture\")"
   ]
  },
  {
   "cell_type": "code",
   "execution_count": 3,
   "metadata": {},
   "outputs": [
    {
     "name": "stdout",
     "output_type": "stream",
     "text": [
      "WARNING:tensorflow:From ../python/architecture\\reproducible.py:14: The name tf.keras.backend.set_session is deprecated. Please use tf.compat.v1.keras.backend.set_session instead.\n",
      "\n"
     ]
    }
   ],
   "source": [
    "import numpy as np\n",
    "from data_prep_functions import wine_prep\n",
    "from plotting_functions import nn_plot_mse\n",
    "from enkf_functions import enkf_regressor_analysis\n",
    "import reproducible"
   ]
  },
  {
   "cell_type": "code",
   "execution_count": 4,
   "metadata": {},
   "outputs": [],
   "source": [
    "X_train, X_test, y_train, y_test = wine_prep()"
   ]
  },
  {
   "cell_type": "code",
   "execution_count": 5,
   "metadata": {},
   "outputs": [],
   "source": [
    "layers = 4\n",
    "neurons = [32, 32, 16, 1]"
   ]
  },
  {
   "cell_type": "markdown",
   "metadata": {},
   "source": [
    "# Regularization"
   ]
  },
  {
   "cell_type": "code",
   "execution_count": 6,
   "metadata": {},
   "outputs": [],
   "source": [
    "setting_dict = {\"particles\": 100,\n",
    "                \"epochs\": 20,\n",
    "                \"batch_size\": len(X_train), \n",
    "                \"h_0\": 2,\n",
    "                \"epsilon\": 0.5,\n",
    "                \"shuffle\": True,\n",
    "                \"early_stopping\": None\n",
    "               }"
   ]
  },
  {
   "cell_type": "code",
   "execution_count": 7,
   "metadata": {},
   "outputs": [],
   "source": [
    "analysis_dict = {\"disjoint_batch\": True,\n",
    "                 \"batch_particle_connection\": {\"connect\": False,\n",
    "                                               \"shuffle\": \"particle\"},\n",
    "                 \"tikhonov\": {\"regularize\": True,\n",
    "                              \"lambda\": 1}\n",
    "                }"
   ]
  },
  {
   "cell_type": "code",
   "execution_count": 8,
   "metadata": {},
   "outputs": [
    {
     "name": "stdout",
     "output_type": "stream",
     "text": [
      "Epoch 1. Training MSE: 17.026, Test MSE: 17.035.\n",
      "Epoch 2. Training MSE: 8.826, Test MSE: 8.832.\n",
      "Epoch 3. Training MSE: 5.243, Test MSE: 5.248.\n",
      "Epoch 4. Training MSE: 3.622, Test MSE: 3.625.\n",
      "Epoch 5. Training MSE: 2.765, Test MSE: 2.765.\n",
      "Epoch 6. Training MSE: 2.131, Test MSE: 2.126.\n",
      "Epoch 7. Training MSE: 1.644, Test MSE: 1.634.\n",
      "Epoch 8. Training MSE: 1.324, Test MSE: 1.313.\n",
      "Epoch 9. Training MSE: 1.102, Test MSE: 1.092.\n",
      "Epoch 10. Training MSE: 0.965, Test MSE: 0.956.\n",
      "Epoch 11. Training MSE: 0.874, Test MSE: 0.869.\n",
      "Epoch 12. Training MSE: 0.805, Test MSE: 0.804.\n",
      "Epoch 13. Training MSE: 0.753, Test MSE: 0.757.\n",
      "Epoch 14. Training MSE: 0.719, Test MSE: 0.729.\n",
      "Epoch 15. Training MSE: 0.696, Test MSE: 0.713.\n",
      "Epoch 16. Training MSE: 0.678, Test MSE: 0.7.\n",
      "Epoch 17. Training MSE: 0.661, Test MSE: 0.689.\n",
      "Epoch 18. Training MSE: 0.646, Test MSE: 0.679.\n",
      "Epoch 19. Training MSE: 0.634, Test MSE: 0.67.\n",
      "Epoch 20. Training MSE: 0.623, Test MSE: 0.66.\n"
     ]
    }
   ],
   "source": [
    "np.random.seed(42)\n",
    "reg_model = enkf_regressor_analysis(X_train,\n",
    "                                    X_test,\n",
    "                                    y_train,\n",
    "                                    y_test,\n",
    "                                    layers,\n",
    "                                    neurons,\n",
    "                                    setting_dict,\n",
    "                                    analysis_dict,\n",
    "                                    save_all = False,\n",
    "                                    file_var = None,\n",
    "                                    file_model = None,\n",
    "                                    verbose = 1)"
   ]
  },
  {
   "cell_type": "code",
   "execution_count": 9,
   "metadata": {},
   "outputs": [
    {
     "data": {
      "image/png": "[encoded data removed]",
      "text/plain": [
       "<Figure size 576x360 with 1 Axes>"
      ]
     },
     "metadata": {
      "needs_background": "light"
     },
     "output_type": "display_data"
    }
   ],
   "source": [
    "nn_plot_mse(reg_model,\n",
    "            mse_mean = None,\n",
    "            start_epoch = 1,\n",
    "            save = None)"
   ]
  },
  {
   "cell_type": "markdown",
   "metadata": {},
   "source": [
    "# Batch-Particle-Coupling"
   ]
  },
  {
   "cell_type": "code",
   "execution_count": 10,
   "metadata": {},
   "outputs": [],
   "source": [
    "setting_dict = {\"particles\": 181,\n",
    "                \"epochs\": 20,\n",
    "                \"batch_size\": 23,   \n",
    "                \"h_0\": 2,\n",
    "                \"epsilon\": 0.5,\n",
    "                \"shuffle\": True,\n",
    "                \"early_stopping\": None\n",
    "               }"
   ]
  },
  {
   "cell_type": "code",
   "execution_count": 11,
   "metadata": {},
   "outputs": [],
   "source": [
    "analysis_dict = {\"disjoint_batch\": True,\n",
    "                 \"batch_particle_connection\": {\"connect\": True,\n",
    "                                               \"shuffle\": \"particle\"}, \n",
    "                 \"tikhonov\": {\"regularize\": False,\n",
    "                              \"lambda\": 1}\n",
    "                }"
   ]
  },
  {
   "cell_type": "code",
   "execution_count": 12,
   "metadata": {},
   "outputs": [
    {
     "name": "stdout",
     "output_type": "stream",
     "text": [
      "Epoch 1. Training MSE: 17.696, Test MSE: 17.706.\n",
      "Epoch 2. Training MSE: 9.214, Test MSE: 9.221.\n",
      "Epoch 3. Training MSE: 5.652, Test MSE: 5.658.\n",
      "Epoch 4. Training MSE: 3.813, Test MSE: 3.817.\n",
      "Epoch 5. Training MSE: 3.121, Test MSE: 3.123.\n",
      "Epoch 6. Training MSE: 2.816, Test MSE: 2.817.\n",
      "Epoch 7. Training MSE: 2.497, Test MSE: 2.495.\n",
      "Epoch 8. Training MSE: 2.409, Test MSE: 2.403.\n",
      "Epoch 9. Training MSE: 2.121, Test MSE: 2.111.\n",
      "Epoch 10. Training MSE: 1.975, Test MSE: 1.961.\n",
      "Epoch 11. Training MSE: 1.826, Test MSE: 1.81.\n",
      "Epoch 12. Training MSE: 1.731, Test MSE: 1.714.\n",
      "Epoch 13. Training MSE: 1.666, Test MSE: 1.647.\n",
      "Epoch 14. Training MSE: 1.618, Test MSE: 1.598.\n",
      "Epoch 15. Training MSE: 1.541, Test MSE: 1.52.\n",
      "Epoch 16. Training MSE: 1.474, Test MSE: 1.453.\n",
      "Epoch 17. Training MSE: 1.414, Test MSE: 1.393.\n",
      "Epoch 18. Training MSE: 1.385, Test MSE: 1.362.\n",
      "Epoch 19. Training MSE: 1.365, Test MSE: 1.341.\n",
      "Epoch 20. Training MSE: 1.329, Test MSE: 1.304.\n"
     ]
    }
   ],
   "source": [
    "np.random.seed(42)\n",
    "bpc_model = enkf_regressor_analysis(X_train,\n",
    "                                    X_test,\n",
    "                                    y_train,\n",
    "                                    y_test,\n",
    "                                    layers,\n",
    "                                    neurons,\n",
    "                                    setting_dict,\n",
    "                                    analysis_dict,\n",
    "                                    save_all = False,\n",
    "                                    file_var = None,\n",
    "                                    file_model = None,\n",
    "                                    verbose = 1)"
   ]
  },
  {
   "cell_type": "code",
   "execution_count": 13,
   "metadata": {},
   "outputs": [
    {
     "data": {
      "image/png": "[encoded data removed]",
      "text/plain": [
       "<Figure size 576x360 with 1 Axes>"
      ]
     },
     "metadata": {
      "needs_background": "light"
     },
     "output_type": "display_data"
    }
   ],
   "source": [
    "nn_plot_mse(bpc_model,\n",
    "            mse_mean = None,\n",
    "            start_epoch = 1,\n",
    "            save = None)"
   ]
  }
 ],
 "metadata": {
  "kernelspec": {
   "display_name": "Python 3",
   "language": "python",
   "name": "python3"
  },
  "language_info": {
   "codemirror_mode": {
    "name": "ipython",
    "version": 3
   },
   "file_extension": ".py",
   "mimetype": "text/x-python",
   "name": "python",
   "nbconvert_exporter": "python",
   "pygments_lexer": "ipython3",
   "version": "3.7.6"
  }
 },
 "nbformat": 4,
 "nbformat_minor": 4
}
