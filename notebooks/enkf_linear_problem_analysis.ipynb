{
 "cells": [
  {
   "cell_type": "code",
   "execution_count": null,
   "metadata": {},
   "outputs": [],
   "source": [
    "import warnings\n",
    "warnings.filterwarnings(\"ignore\")"
   ]
  },
  {
   "cell_type": "code",
   "execution_count": null,
   "metadata": {},
   "outputs": [],
   "source": [
    "import sys\n",
    "sys.path.insert(1, \"../python/architecture\")\n",
    "sys.path.insert(2, \"../python/functions\")"
   ]
  },
  {
   "cell_type": "code",
   "execution_count": null,
   "metadata": {},
   "outputs": [],
   "source": [
    "import numpy as np\n",
    "from enkf_functions import enkf_linear_problem_analysis\n",
    "from inverse_problem_functions import y_noise\n",
    "from plotting_functions import plot_IP_loss_evolution, plot_IP_final_cosine_sim, plot_IP_convergence"
   ]
  },
  {
   "cell_type": "markdown",
   "metadata": {},
   "source": [
    "# Linear Model"
   ]
  },
  {
   "cell_type": "markdown",
   "metadata": {},
   "source": [
    "## Model:\n",
    "$Ax=y$ with $A\\in\\mathbb{R}^{m\\times n}$."
   ]
  },
  {
   "cell_type": "code",
   "execution_count": null,
   "metadata": {},
   "outputs": [],
   "source": [
    "np.random.seed(42)\n",
    "A = np.random.uniform(size = (1000, 100), low = 0, high = 1)\n",
    "x = np.random.uniform(size = (A.shape[1], ))"
   ]
  },
  {
   "cell_type": "code",
   "execution_count": null,
   "metadata": {},
   "outputs": [],
   "source": [
    "def model_func(x):\n",
    "    return A @ x"
   ]
  },
  {
   "cell_type": "code",
   "execution_count": null,
   "metadata": {},
   "outputs": [],
   "source": [
    "noise = False\n",
    "\n",
    "y, std = y_noise(model_func,\n",
    "                 x, \n",
    "                 noise)"
   ]
  },
  {
   "cell_type": "code",
   "execution_count": null,
   "metadata": {},
   "outputs": [],
   "source": [
    "setting_dict = {\"A\": A,\n",
    "                \"model_func\": model_func,\n",
    "                \"x\": x,\n",
    "                \"y\": y,\n",
    "                \"particles\": 50,\n",
    "                \"epochs\": 200,\n",
    "                \"batch_size\" : 200,\n",
    "                \"stepsize\": 0.0002,\n",
    "                \"noise\": noise,\n",
    "                \"std\": std\n",
    "                }\n",
    "analysis_dict = {\"disjoint_batch\": True,\n",
    "                 \"batch_particle_connection\": {\"connect\": False,\n",
    "                                               \"shuffle\": \"particle\"},\n",
    "                 \"tikhonov\": {\"regularize\": True,\n",
    "                              \"lambda\": 1},\n",
    "                 \"variance_inflation\": {\"inflation\": True,\n",
    "                                        \"alpha\": 1}\n",
    "                }"
   ]
  },
  {
   "cell_type": "code",
   "execution_count": null,
   "metadata": {},
   "outputs": [],
   "source": [
    "np.random.seed(42)\n",
    "return_dict = enkf_linear_problem_analysis(setting_dict,\n",
    "                                           analysis_dict)"
   ]
  },
  {
   "cell_type": "code",
   "execution_count": null,
   "metadata": {},
   "outputs": [],
   "source": [
    "plot_IP_loss_evolution(return_dict,\n",
    "                       start_iteration = 20,\n",
    "                       reg_line = True,\n",
    "                       tick_diff = 20,\n",
    "                       marker = True,\n",
    "                       at_tick = True,\n",
    "                       xlabel = \"Iteration\",\n",
    "                       save = None)"
   ]
  },
  {
   "cell_type": "code",
   "execution_count": null,
   "metadata": {},
   "outputs": [],
   "source": [
    "plot_IP_convergence(return_dict,\n",
    "                    log = \"semi_log\",\n",
    "                    xlabel = \"Epoch\",\n",
    "                    save = None)"
   ]
  },
  {
   "cell_type": "code",
   "execution_count": null,
   "metadata": {},
   "outputs": [],
   "source": [
    "plot_IP_final_cosine_sim(return_dict,\n",
    "                         bins = 50,\n",
    "                         opt_comparison = True,\n",
    "                         save = None)"
   ]
  }
 ],
 "metadata": {
  "kernelspec": {
   "display_name": "Python 3",
   "language": "python",
   "name": "python3"
  },
  "language_info": {
   "codemirror_mode": {
    "name": "ipython",
    "version": 3
   },
   "file_extension": ".py",
   "mimetype": "text/x-python",
   "name": "python",
   "nbconvert_exporter": "python",
   "pygments_lexer": "ipython3",
   "version": "3.7.6"
  }
 },
 "nbformat": 4,
 "nbformat_minor": 4
}
